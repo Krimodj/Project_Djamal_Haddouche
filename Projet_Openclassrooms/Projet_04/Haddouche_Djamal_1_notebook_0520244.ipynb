{
 "cells": [
  {
   "cell_type": "markdown",
   "id": "e7316a32",
   "metadata": {},
   "source": [
    "<div style=\" background-color: RGB(0,114,200);\" >\n",
    "<h1 style=\"margin: auto; padding: 20px 0; color:#fff; text-align: center\">PROJET 4 DATA ANALYST</h1>\n",
    "<h2 style=\"margin: auto; padding: 20px 0; color:#fff; text-align: center\">Réalisez une étude de santé publique avec R ou Python\n",
    "</h2>\n",
    "</div>"
   ]
  },
  {
   "cell_type": "markdown",
   "id": "6e00fa8a",
   "metadata": {},
   "source": [
    "# OBJECTIF DE CE NOTEBOOK\n",
    "\n",
    "Bienvenue dans l'outil plébiscité par les analystes de données Jupyter.\n",
    "\n",
    "Il s'agit d'un outil permettant de mixer et d'alterner codes, textes et graphique.\n",
    "\n",
    "Cet outil est formidable pour plusieurs raisons:\n",
    "\n",
    "+ il permet de tester des lignes de codes au fur et à mesure de votre rédaction, de constater immédiatement le résultat d'un instruction, de la corriger si nécessaire.\n",
    "+ De rédiger du texte pour expliquer l'approche suivie ou les résultats d'une analyse et de le mettre en forme grâce à du code html ou plus simple avec **Markdown**\n",
    "+ d'agrémenter de graphiques\n",
    "\n",
    "Pour vous aider dans vos premiers pas à l'usage de Jupyter et de Python, nous avons rédigé ce notebook en vous indiquant les instructions à suivre.\n",
    "\n",
    "Il vous suffit pour cela de saisir le code Python répondant à l'instruction donnée.\n",
    "\n",
    "Vous verrez de temps à autre le code Python répondant à une instruction donnée mais cela est fait pour vous aider à comprendre la nature du travail qui vous est demandée.\n",
    "\n",
    "Et garder à l'esprit, qu'il n'y a pas de solution unique pour résoudre un problème et qu'il y a autant de résolutions de problèmes que de développeurs ;)...\n",
    "\n"
   ]
  },
  {
   "cell_type": "markdown",
   "id": "c33bcf57",
   "metadata": {},
   "source": [
    "Note jeremy \n",
    "Est ce qu'il faut faire le calcul de la sous nutrition sur les pays qu'on a ? \n",
    "Est ce qu'il faut faire des graphiques ?\n",
    "Rajouter le soja\n",
    "La liste des céréales est difficile a trouver ..."
   ]
  },
  {
   "cell_type": "markdown",
   "id": "9dad8326",
   "metadata": {},
   "source": [
    "<div style=\"background-color: RGB(0,150,250);\" >\n",
    "<h2 style=\"margin: auto; padding: 20px; color:#fff; \">Etape 1 - Importation des librairies et chargement des fichiers</h2>\n",
    "</div>"
   ]
  },
  {
   "cell_type": "markdown",
   "id": "4ee69457",
   "metadata": {},
   "source": [
    "<div style=\"border: 1px solid RGB(0,150,250);\" >\n",
    "<h3 style=\"margin: auto; padding: 20px; color: RGB(0,150,250); \">1.1 - Importation des librairies</h3>\n",
    "</div>"
   ]
  },
  {
   "cell_type": "code",
   "execution_count": 258,
   "id": "ffe62b56",
   "metadata": {},
   "outputs": [],
   "source": [
    "#Importation de la librairie Pandas\n",
    "import pandas as pd\n"
   ]
  },
  {
   "cell_type": "markdown",
   "id": "8bd8e7ed",
   "metadata": {},
   "source": [
    "<div style=\"border: 1px solid RGB(0,150,250);\" >\n",
    "<h3 style=\"margin: auto; padding: 20px; color: RGB(0,150,250); \">1.2 - Chargement des fichiers Excel</h3>\n",
    "</div>"
   ]
  },
  {
   "cell_type": "code",
   "execution_count": 259,
   "id": "914a73d7-7076-4718-afb7-93714a9d74c2",
   "metadata": {
    "scrolled": true
   },
   "outputs": [],
   "source": [
    "#Importation du fichier population.csv\n",
    "population = pd.read_csv('population.csv')\n",
    "\n",
    "\n",
    "\n",
    "#Importation du fichier dispo_alimentaire.csv\n",
    "dispo_alimentaire = pd.read_csv('dispo_alimentaire.csv')\n",
    "\n",
    "\n",
    "\n",
    "\n",
    "#Importation du fichier aide_alimentaire.csv\n",
    "aide_alimentaire = pd.read_csv('aide_alimentaire.csv')\n",
    "\n",
    "\n",
    "\n",
    "\n",
    "#Importation du fichier sous_nutrition.csv\n",
    "sous_nutrition=pd.read_csv('sous_nutrition.csv')\n",
    "\n",
    "\n"
   ]
  },
  {
   "cell_type": "markdown",
   "id": "1249847a",
   "metadata": {},
   "source": [
    "<div style=\"background-color: RGB(0,150,250);\" >\n",
    "<h2 style=\"margin: auto; padding: 20px; color:#fff; \">Etape 2 - Analyse exploratoire des fichiers</h2>\n",
    "</div>"
   ]
  },
  {
   "cell_type": "markdown",
   "id": "235e6e91",
   "metadata": {},
   "source": [
    "<div style=\"border: 1px solid RGB(0,150,250);\" >\n",
    "<h3 style=\"margin: auto; padding: 20px; color: RGB(0,150,250); \">2.1 - Analyse exploratoire du fichier population</h3>\n",
    "</div>"
   ]
  },
  {
   "cell_type": "code",
   "execution_count": 260,
   "id": "37c3b0fc-1dd5-479f-8102-40581b52a8dc",
   "metadata": {},
   "outputs": [
    {
     "name": "stdout",
     "output_type": "stream",
     "text": [
      "le tableau comporte 1416 ligne(s)\n",
      "le tableau comporte 3 colonne(s)\n",
      "L'index est hors de portée.\n"
     ]
    }
   ],
   "source": [
    "#Afficher les dimensions du dataset\n",
    "print(\"le tableau comporte {} ligne(s)\".format(population.shape[0]))\n",
    "print(\"le tableau comporte {} colonne(s)\".format(population.shape[1]))\n",
    "\n",
    "t = (1, 2, 3)\n",
    "index = 3\n",
    "\n",
    "if index < len(t):\n",
    "    print(t[index])\n",
    "else:\n",
    "    print(\"L'index est hors de portée.\")"
   ]
  },
  {
   "cell_type": "code",
   "execution_count": 261,
   "id": "fbbdfd5c",
   "metadata": {},
   "outputs": [
    {
     "name": "stdout",
     "output_type": "stream",
     "text": [
      "3\n",
      "<class 'pandas.core.frame.DataFrame'>\n",
      "RangeIndex: 1416 entries, 0 to 1415\n",
      "Data columns (total 3 columns):\n",
      " #   Column  Non-Null Count  Dtype  \n",
      "---  ------  --------------  -----  \n",
      " 0   Zone    1416 non-null   object \n",
      " 1   Année   1416 non-null   int64  \n",
      " 2   Valeur  1416 non-null   float64\n",
      "dtypes: float64(1), int64(1), object(1)\n",
      "memory usage: 33.3+ KB\n",
      "Zone      1416\n",
      "Année     1416\n",
      "Valeur    1416\n",
      "dtype: int64\n"
     ]
    }
   ],
   "source": [
    "#Consulter le nombre de colonnes\n",
    "\n",
    "nombre_de_colonnes=3\n",
    "print(nombre_de_colonnes)\n",
    "\n",
    "\n",
    "#La nature des données dans chacune des colonnes\n",
    "\n",
    "\n",
    "population.info()\n",
    "\n",
    "\n",
    "\n",
    "#Le nombre de valeurs présentes dans chacune des colonnes\n",
    "\n",
    "\n",
    "nombre_de_valeurs = population.count()\n",
    "print(nombre_de_valeurs)\n",
    "\n"
   ]
  },
  {
   "cell_type": "code",
   "execution_count": 262,
   "id": "3e50d9e6",
   "metadata": {},
   "outputs": [
    {
     "data": {
      "text/html": [
       "<div>\n",
       "<style scoped>\n",
       "    .dataframe tbody tr th:only-of-type {\n",
       "        vertical-align: middle;\n",
       "    }\n",
       "\n",
       "    .dataframe tbody tr th {\n",
       "        vertical-align: top;\n",
       "    }\n",
       "\n",
       "    .dataframe thead th {\n",
       "        text-align: right;\n",
       "    }\n",
       "</style>\n",
       "<table border=\"1\" class=\"dataframe\">\n",
       "  <thead>\n",
       "    <tr style=\"text-align: right;\">\n",
       "      <th></th>\n",
       "      <th>Zone</th>\n",
       "      <th>Année</th>\n",
       "      <th>Valeur</th>\n",
       "    </tr>\n",
       "  </thead>\n",
       "  <tbody>\n",
       "    <tr>\n",
       "      <th>0</th>\n",
       "      <td>Afghanistan</td>\n",
       "      <td>2013</td>\n",
       "      <td>32269.589</td>\n",
       "    </tr>\n",
       "    <tr>\n",
       "      <th>1</th>\n",
       "      <td>Afghanistan</td>\n",
       "      <td>2014</td>\n",
       "      <td>33370.794</td>\n",
       "    </tr>\n",
       "    <tr>\n",
       "      <th>2</th>\n",
       "      <td>Afghanistan</td>\n",
       "      <td>2015</td>\n",
       "      <td>34413.603</td>\n",
       "    </tr>\n",
       "    <tr>\n",
       "      <th>3</th>\n",
       "      <td>Afghanistan</td>\n",
       "      <td>2016</td>\n",
       "      <td>35383.032</td>\n",
       "    </tr>\n",
       "    <tr>\n",
       "      <th>4</th>\n",
       "      <td>Afghanistan</td>\n",
       "      <td>2017</td>\n",
       "      <td>36296.113</td>\n",
       "    </tr>\n",
       "  </tbody>\n",
       "</table>\n",
       "</div>"
      ],
      "text/plain": [
       "          Zone  Année     Valeur\n",
       "0  Afghanistan   2013  32269.589\n",
       "1  Afghanistan   2014  33370.794\n",
       "2  Afghanistan   2015  34413.603\n",
       "3  Afghanistan   2016  35383.032\n",
       "4  Afghanistan   2017  36296.113"
      ]
     },
     "execution_count": 262,
     "metadata": {},
     "output_type": "execute_result"
    }
   ],
   "source": [
    "#Affichage les 5 premières lignes de la table\n",
    "population.head(5)"
   ]
  },
  {
   "cell_type": "code",
   "execution_count": 263,
   "id": "ab1a4af4",
   "metadata": {},
   "outputs": [],
   "source": [
    "#Nous allons harmoniser les unités. Pour cela, nous avons décidé de multiplier la population par 1000\n",
    "#Multiplication de la colonne valeur par 1000\n",
    "population['Valeur'] = population['Valeur'] * 1000\n"
   ]
  },
  {
   "cell_type": "code",
   "execution_count": 264,
   "id": "38836b61",
   "metadata": {},
   "outputs": [],
   "source": [
    "#changement du nom de la colonne Valeur par Population\n",
    "population.rename(columns={'Valeur': 'Population'}, inplace=True)\n"
   ]
  },
  {
   "cell_type": "code",
   "execution_count": 265,
   "id": "ff707561",
   "metadata": {},
   "outputs": [
    {
     "data": {
      "text/html": [
       "<div>\n",
       "<style scoped>\n",
       "    .dataframe tbody tr th:only-of-type {\n",
       "        vertical-align: middle;\n",
       "    }\n",
       "\n",
       "    .dataframe tbody tr th {\n",
       "        vertical-align: top;\n",
       "    }\n",
       "\n",
       "    .dataframe thead th {\n",
       "        text-align: right;\n",
       "    }\n",
       "</style>\n",
       "<table border=\"1\" class=\"dataframe\">\n",
       "  <thead>\n",
       "    <tr style=\"text-align: right;\">\n",
       "      <th></th>\n",
       "      <th>Zone</th>\n",
       "      <th>Année</th>\n",
       "      <th>Population</th>\n",
       "    </tr>\n",
       "  </thead>\n",
       "  <tbody>\n",
       "    <tr>\n",
       "      <th>0</th>\n",
       "      <td>Afghanistan</td>\n",
       "      <td>2013</td>\n",
       "      <td>32269589.0</td>\n",
       "    </tr>\n",
       "    <tr>\n",
       "      <th>1</th>\n",
       "      <td>Afghanistan</td>\n",
       "      <td>2014</td>\n",
       "      <td>33370794.0</td>\n",
       "    </tr>\n",
       "    <tr>\n",
       "      <th>2</th>\n",
       "      <td>Afghanistan</td>\n",
       "      <td>2015</td>\n",
       "      <td>34413603.0</td>\n",
       "    </tr>\n",
       "    <tr>\n",
       "      <th>3</th>\n",
       "      <td>Afghanistan</td>\n",
       "      <td>2016</td>\n",
       "      <td>35383032.0</td>\n",
       "    </tr>\n",
       "    <tr>\n",
       "      <th>4</th>\n",
       "      <td>Afghanistan</td>\n",
       "      <td>2017</td>\n",
       "      <td>36296113.0</td>\n",
       "    </tr>\n",
       "  </tbody>\n",
       "</table>\n",
       "</div>"
      ],
      "text/plain": [
       "          Zone  Année  Population\n",
       "0  Afghanistan   2013  32269589.0\n",
       "1  Afghanistan   2014  33370794.0\n",
       "2  Afghanistan   2015  34413603.0\n",
       "3  Afghanistan   2016  35383032.0\n",
       "4  Afghanistan   2017  36296113.0"
      ]
     },
     "execution_count": 265,
     "metadata": {},
     "output_type": "execute_result"
    }
   ],
   "source": [
    "#Affichage les 5 premières lignes de la table pour voir les modifications\n",
    "population.head(5)"
   ]
  },
  {
   "cell_type": "markdown",
   "id": "4224b896",
   "metadata": {},
   "source": [
    "<div style=\"border: 1px solid RGB(0,150,250);\" >\n",
    "<h3 style=\"margin: auto; padding: 20px; color: RGB(0,150,250); \">2.2 - Analyse exploratoire du fichier disponibilité alimentaire</h3>\n",
    "</div>"
   ]
  },
  {
   "cell_type": "code",
   "execution_count": 266,
   "id": "38f5b838",
   "metadata": {},
   "outputs": [
    {
     "name": "stdout",
     "output_type": "stream",
     "text": [
      "Le tableau comporte 15605 ligne(s) \n",
      "Le tableau comporte 18 colonne(s)\n"
     ]
    }
   ],
   "source": [
    "#Afficher les dimensions du dataset\n",
    "print(\"Le tableau comporte {} ligne(s) \".format(dispo_alimentaire.shape[0]))\n",
    "print(\"Le tableau comporte {} colonne(s)\".format(dispo_alimentaire.shape[1]))\n"
   ]
  },
  {
   "cell_type": "code",
   "execution_count": 267,
   "id": "99735a22",
   "metadata": {},
   "outputs": [
    {
     "name": "stdout",
     "output_type": "stream",
     "text": [
      "Nombre de colonnes : 18\n"
     ]
    }
   ],
   "source": [
    "#Consulter le nombre de colonnes\n",
    "nb_colonnes = len(dispo_alimentaire.columns)\n",
    "print(f\"Nombre de colonnes : {nb_colonnes}\")\n"
   ]
  },
  {
   "cell_type": "code",
   "execution_count": 268,
   "id": "0058032d",
   "metadata": {},
   "outputs": [
    {
     "data": {
      "text/html": [
       "<div>\n",
       "<style scoped>\n",
       "    .dataframe tbody tr th:only-of-type {\n",
       "        vertical-align: middle;\n",
       "    }\n",
       "\n",
       "    .dataframe tbody tr th {\n",
       "        vertical-align: top;\n",
       "    }\n",
       "\n",
       "    .dataframe thead th {\n",
       "        text-align: right;\n",
       "    }\n",
       "</style>\n",
       "<table border=\"1\" class=\"dataframe\">\n",
       "  <thead>\n",
       "    <tr style=\"text-align: right;\">\n",
       "      <th></th>\n",
       "      <th>Zone</th>\n",
       "      <th>Produit</th>\n",
       "      <th>Origine</th>\n",
       "      <th>Aliments pour animaux</th>\n",
       "      <th>Autres Utilisations</th>\n",
       "      <th>Disponibilité alimentaire (Kcal/personne/jour)</th>\n",
       "      <th>Disponibilité alimentaire en quantité (kg/personne/an)</th>\n",
       "      <th>Disponibilité de matière grasse en quantité (g/personne/jour)</th>\n",
       "      <th>Disponibilité de protéines en quantité (g/personne/jour)</th>\n",
       "      <th>Disponibilité intérieure</th>\n",
       "      <th>Exportations - Quantité</th>\n",
       "      <th>Importations - Quantité</th>\n",
       "      <th>Nourriture</th>\n",
       "      <th>Pertes</th>\n",
       "      <th>Production</th>\n",
       "      <th>Semences</th>\n",
       "      <th>Traitement</th>\n",
       "      <th>Variation de stock</th>\n",
       "    </tr>\n",
       "  </thead>\n",
       "  <tbody>\n",
       "    <tr>\n",
       "      <th>0</th>\n",
       "      <td>Afghanistan</td>\n",
       "      <td>Abats Comestible</td>\n",
       "      <td>animale</td>\n",
       "      <td>NaN</td>\n",
       "      <td>NaN</td>\n",
       "      <td>5.0</td>\n",
       "      <td>1.72</td>\n",
       "      <td>0.20</td>\n",
       "      <td>0.77</td>\n",
       "      <td>53.0</td>\n",
       "      <td>NaN</td>\n",
       "      <td>NaN</td>\n",
       "      <td>53.0</td>\n",
       "      <td>NaN</td>\n",
       "      <td>53.0</td>\n",
       "      <td>NaN</td>\n",
       "      <td>NaN</td>\n",
       "      <td>NaN</td>\n",
       "    </tr>\n",
       "    <tr>\n",
       "      <th>1</th>\n",
       "      <td>Afghanistan</td>\n",
       "      <td>Agrumes, Autres</td>\n",
       "      <td>vegetale</td>\n",
       "      <td>NaN</td>\n",
       "      <td>NaN</td>\n",
       "      <td>1.0</td>\n",
       "      <td>1.29</td>\n",
       "      <td>0.01</td>\n",
       "      <td>0.02</td>\n",
       "      <td>41.0</td>\n",
       "      <td>2.0</td>\n",
       "      <td>40.0</td>\n",
       "      <td>39.0</td>\n",
       "      <td>2.0</td>\n",
       "      <td>3.0</td>\n",
       "      <td>NaN</td>\n",
       "      <td>NaN</td>\n",
       "      <td>NaN</td>\n",
       "    </tr>\n",
       "    <tr>\n",
       "      <th>2</th>\n",
       "      <td>Afghanistan</td>\n",
       "      <td>Aliments pour enfants</td>\n",
       "      <td>vegetale</td>\n",
       "      <td>NaN</td>\n",
       "      <td>NaN</td>\n",
       "      <td>1.0</td>\n",
       "      <td>0.06</td>\n",
       "      <td>0.01</td>\n",
       "      <td>0.03</td>\n",
       "      <td>2.0</td>\n",
       "      <td>NaN</td>\n",
       "      <td>2.0</td>\n",
       "      <td>2.0</td>\n",
       "      <td>NaN</td>\n",
       "      <td>NaN</td>\n",
       "      <td>NaN</td>\n",
       "      <td>NaN</td>\n",
       "      <td>NaN</td>\n",
       "    </tr>\n",
       "    <tr>\n",
       "      <th>3</th>\n",
       "      <td>Afghanistan</td>\n",
       "      <td>Ananas</td>\n",
       "      <td>vegetale</td>\n",
       "      <td>NaN</td>\n",
       "      <td>NaN</td>\n",
       "      <td>0.0</td>\n",
       "      <td>0.00</td>\n",
       "      <td>NaN</td>\n",
       "      <td>NaN</td>\n",
       "      <td>0.0</td>\n",
       "      <td>NaN</td>\n",
       "      <td>0.0</td>\n",
       "      <td>0.0</td>\n",
       "      <td>NaN</td>\n",
       "      <td>NaN</td>\n",
       "      <td>NaN</td>\n",
       "      <td>NaN</td>\n",
       "      <td>NaN</td>\n",
       "    </tr>\n",
       "    <tr>\n",
       "      <th>4</th>\n",
       "      <td>Afghanistan</td>\n",
       "      <td>Bananes</td>\n",
       "      <td>vegetale</td>\n",
       "      <td>NaN</td>\n",
       "      <td>NaN</td>\n",
       "      <td>4.0</td>\n",
       "      <td>2.70</td>\n",
       "      <td>0.02</td>\n",
       "      <td>0.05</td>\n",
       "      <td>82.0</td>\n",
       "      <td>NaN</td>\n",
       "      <td>82.0</td>\n",
       "      <td>82.0</td>\n",
       "      <td>NaN</td>\n",
       "      <td>NaN</td>\n",
       "      <td>NaN</td>\n",
       "      <td>NaN</td>\n",
       "      <td>NaN</td>\n",
       "    </tr>\n",
       "  </tbody>\n",
       "</table>\n",
       "</div>"
      ],
      "text/plain": [
       "          Zone                Produit   Origine  Aliments pour animaux  \\\n",
       "0  Afghanistan       Abats Comestible   animale                    NaN   \n",
       "1  Afghanistan        Agrumes, Autres  vegetale                    NaN   \n",
       "2  Afghanistan  Aliments pour enfants  vegetale                    NaN   \n",
       "3  Afghanistan                 Ananas  vegetale                    NaN   \n",
       "4  Afghanistan                Bananes  vegetale                    NaN   \n",
       "\n",
       "   Autres Utilisations  Disponibilité alimentaire (Kcal/personne/jour)  \\\n",
       "0                  NaN                                             5.0   \n",
       "1                  NaN                                             1.0   \n",
       "2                  NaN                                             1.0   \n",
       "3                  NaN                                             0.0   \n",
       "4                  NaN                                             4.0   \n",
       "\n",
       "   Disponibilité alimentaire en quantité (kg/personne/an)  \\\n",
       "0                                               1.72        \n",
       "1                                               1.29        \n",
       "2                                               0.06        \n",
       "3                                               0.00        \n",
       "4                                               2.70        \n",
       "\n",
       "   Disponibilité de matière grasse en quantité (g/personne/jour)  \\\n",
       "0                                               0.20               \n",
       "1                                               0.01               \n",
       "2                                               0.01               \n",
       "3                                                NaN               \n",
       "4                                               0.02               \n",
       "\n",
       "   Disponibilité de protéines en quantité (g/personne/jour)  \\\n",
       "0                                               0.77          \n",
       "1                                               0.02          \n",
       "2                                               0.03          \n",
       "3                                                NaN          \n",
       "4                                               0.05          \n",
       "\n",
       "   Disponibilité intérieure  Exportations - Quantité  Importations - Quantité  \\\n",
       "0                      53.0                      NaN                      NaN   \n",
       "1                      41.0                      2.0                     40.0   \n",
       "2                       2.0                      NaN                      2.0   \n",
       "3                       0.0                      NaN                      0.0   \n",
       "4                      82.0                      NaN                     82.0   \n",
       "\n",
       "   Nourriture  Pertes  Production  Semences  Traitement  Variation de stock  \n",
       "0        53.0     NaN        53.0       NaN         NaN                 NaN  \n",
       "1        39.0     2.0         3.0       NaN         NaN                 NaN  \n",
       "2         2.0     NaN         NaN       NaN         NaN                 NaN  \n",
       "3         0.0     NaN         NaN       NaN         NaN                 NaN  \n",
       "4        82.0     NaN         NaN       NaN         NaN                 NaN  "
      ]
     },
     "execution_count": 268,
     "metadata": {},
     "output_type": "execute_result"
    }
   ],
   "source": [
    "#Affichage les 5 premières lignes de la table\n",
    "dispo_alimentaire.head(5)\n"
   ]
  },
  {
   "cell_type": "code",
   "execution_count": 269,
   "id": "f3832569",
   "metadata": {},
   "outputs": [
    {
     "data": {
      "text/html": [
       "<div>\n",
       "<style scoped>\n",
       "    .dataframe tbody tr th:only-of-type {\n",
       "        vertical-align: middle;\n",
       "    }\n",
       "\n",
       "    .dataframe tbody tr th {\n",
       "        vertical-align: top;\n",
       "    }\n",
       "\n",
       "    .dataframe thead th {\n",
       "        text-align: right;\n",
       "    }\n",
       "</style>\n",
       "<table border=\"1\" class=\"dataframe\">\n",
       "  <thead>\n",
       "    <tr style=\"text-align: right;\">\n",
       "      <th></th>\n",
       "      <th>Zone</th>\n",
       "      <th>Produit</th>\n",
       "      <th>Origine</th>\n",
       "      <th>Aliments pour animaux</th>\n",
       "      <th>Autres Utilisations</th>\n",
       "      <th>Disponibilité alimentaire (Kcal/personne/jour)</th>\n",
       "      <th>Disponibilité alimentaire en quantité (kg/personne/an)</th>\n",
       "      <th>Disponibilité de matière grasse en quantité (g/personne/jour)</th>\n",
       "      <th>Disponibilité de protéines en quantité (g/personne/jour)</th>\n",
       "      <th>Disponibilité intérieure</th>\n",
       "      <th>Exportations - Quantité</th>\n",
       "      <th>Importations - Quantité</th>\n",
       "      <th>Nourriture</th>\n",
       "      <th>Pertes</th>\n",
       "      <th>Production</th>\n",
       "      <th>Semences</th>\n",
       "      <th>Traitement</th>\n",
       "      <th>Variation de stock</th>\n",
       "    </tr>\n",
       "  </thead>\n",
       "  <tbody>\n",
       "    <tr>\n",
       "      <th>0</th>\n",
       "      <td>Afghanistan</td>\n",
       "      <td>Abats Comestible</td>\n",
       "      <td>animale</td>\n",
       "      <td>0.0</td>\n",
       "      <td>0.0</td>\n",
       "      <td>5.0</td>\n",
       "      <td>1.72</td>\n",
       "      <td>0.20</td>\n",
       "      <td>0.77</td>\n",
       "      <td>53.0</td>\n",
       "      <td>0.0</td>\n",
       "      <td>0.0</td>\n",
       "      <td>53.0</td>\n",
       "      <td>0.0</td>\n",
       "      <td>53.0</td>\n",
       "      <td>0.0</td>\n",
       "      <td>0.0</td>\n",
       "      <td>0.0</td>\n",
       "    </tr>\n",
       "    <tr>\n",
       "      <th>1</th>\n",
       "      <td>Afghanistan</td>\n",
       "      <td>Agrumes, Autres</td>\n",
       "      <td>vegetale</td>\n",
       "      <td>0.0</td>\n",
       "      <td>0.0</td>\n",
       "      <td>1.0</td>\n",
       "      <td>1.29</td>\n",
       "      <td>0.01</td>\n",
       "      <td>0.02</td>\n",
       "      <td>41.0</td>\n",
       "      <td>2.0</td>\n",
       "      <td>40.0</td>\n",
       "      <td>39.0</td>\n",
       "      <td>2.0</td>\n",
       "      <td>3.0</td>\n",
       "      <td>0.0</td>\n",
       "      <td>0.0</td>\n",
       "      <td>0.0</td>\n",
       "    </tr>\n",
       "    <tr>\n",
       "      <th>2</th>\n",
       "      <td>Afghanistan</td>\n",
       "      <td>Aliments pour enfants</td>\n",
       "      <td>vegetale</td>\n",
       "      <td>0.0</td>\n",
       "      <td>0.0</td>\n",
       "      <td>1.0</td>\n",
       "      <td>0.06</td>\n",
       "      <td>0.01</td>\n",
       "      <td>0.03</td>\n",
       "      <td>2.0</td>\n",
       "      <td>0.0</td>\n",
       "      <td>2.0</td>\n",
       "      <td>2.0</td>\n",
       "      <td>0.0</td>\n",
       "      <td>0.0</td>\n",
       "      <td>0.0</td>\n",
       "      <td>0.0</td>\n",
       "      <td>0.0</td>\n",
       "    </tr>\n",
       "    <tr>\n",
       "      <th>3</th>\n",
       "      <td>Afghanistan</td>\n",
       "      <td>Ananas</td>\n",
       "      <td>vegetale</td>\n",
       "      <td>0.0</td>\n",
       "      <td>0.0</td>\n",
       "      <td>0.0</td>\n",
       "      <td>0.00</td>\n",
       "      <td>0.00</td>\n",
       "      <td>0.00</td>\n",
       "      <td>0.0</td>\n",
       "      <td>0.0</td>\n",
       "      <td>0.0</td>\n",
       "      <td>0.0</td>\n",
       "      <td>0.0</td>\n",
       "      <td>0.0</td>\n",
       "      <td>0.0</td>\n",
       "      <td>0.0</td>\n",
       "      <td>0.0</td>\n",
       "    </tr>\n",
       "    <tr>\n",
       "      <th>4</th>\n",
       "      <td>Afghanistan</td>\n",
       "      <td>Bananes</td>\n",
       "      <td>vegetale</td>\n",
       "      <td>0.0</td>\n",
       "      <td>0.0</td>\n",
       "      <td>4.0</td>\n",
       "      <td>2.70</td>\n",
       "      <td>0.02</td>\n",
       "      <td>0.05</td>\n",
       "      <td>82.0</td>\n",
       "      <td>0.0</td>\n",
       "      <td>82.0</td>\n",
       "      <td>82.0</td>\n",
       "      <td>0.0</td>\n",
       "      <td>0.0</td>\n",
       "      <td>0.0</td>\n",
       "      <td>0.0</td>\n",
       "      <td>0.0</td>\n",
       "    </tr>\n",
       "  </tbody>\n",
       "</table>\n",
       "</div>"
      ],
      "text/plain": [
       "          Zone                Produit   Origine  Aliments pour animaux  \\\n",
       "0  Afghanistan       Abats Comestible   animale                    0.0   \n",
       "1  Afghanistan        Agrumes, Autres  vegetale                    0.0   \n",
       "2  Afghanistan  Aliments pour enfants  vegetale                    0.0   \n",
       "3  Afghanistan                 Ananas  vegetale                    0.0   \n",
       "4  Afghanistan                Bananes  vegetale                    0.0   \n",
       "\n",
       "   Autres Utilisations  Disponibilité alimentaire (Kcal/personne/jour)  \\\n",
       "0                  0.0                                             5.0   \n",
       "1                  0.0                                             1.0   \n",
       "2                  0.0                                             1.0   \n",
       "3                  0.0                                             0.0   \n",
       "4                  0.0                                             4.0   \n",
       "\n",
       "   Disponibilité alimentaire en quantité (kg/personne/an)  \\\n",
       "0                                               1.72        \n",
       "1                                               1.29        \n",
       "2                                               0.06        \n",
       "3                                               0.00        \n",
       "4                                               2.70        \n",
       "\n",
       "   Disponibilité de matière grasse en quantité (g/personne/jour)  \\\n",
       "0                                               0.20               \n",
       "1                                               0.01               \n",
       "2                                               0.01               \n",
       "3                                               0.00               \n",
       "4                                               0.02               \n",
       "\n",
       "   Disponibilité de protéines en quantité (g/personne/jour)  \\\n",
       "0                                               0.77          \n",
       "1                                               0.02          \n",
       "2                                               0.03          \n",
       "3                                               0.00          \n",
       "4                                               0.05          \n",
       "\n",
       "   Disponibilité intérieure  Exportations - Quantité  Importations - Quantité  \\\n",
       "0                      53.0                      0.0                      0.0   \n",
       "1                      41.0                      2.0                     40.0   \n",
       "2                       2.0                      0.0                      2.0   \n",
       "3                       0.0                      0.0                      0.0   \n",
       "4                      82.0                      0.0                     82.0   \n",
       "\n",
       "   Nourriture  Pertes  Production  Semences  Traitement  Variation de stock  \n",
       "0        53.0     0.0        53.0       0.0         0.0                 0.0  \n",
       "1        39.0     2.0         3.0       0.0         0.0                 0.0  \n",
       "2         2.0     0.0         0.0       0.0         0.0                 0.0  \n",
       "3         0.0     0.0         0.0       0.0         0.0                 0.0  \n",
       "4        82.0     0.0         0.0       0.0         0.0                 0.0  "
      ]
     },
     "execution_count": 269,
     "metadata": {},
     "output_type": "execute_result"
    }
   ],
   "source": [
    "#remplacement des NaN dans le dataset par des 0\n",
    "dispo_alimentaire.fillna(0, inplace=True)\n",
    "dispo_alimentaire.head(5)"
   ]
  },
  {
   "cell_type": "code",
   "execution_count": 270,
   "id": "0b6bf355-9b9a-4aee-b38f-223688550f54",
   "metadata": {},
   "outputs": [],
   "source": [
    "colonnes_tonnes_tokg = ['Aliments pour animaux', 'Disponibilité intérieure', 'Exportations - Quantité',\n",
    "                        'Importations - Quantité', 'Nourriture', 'Pertes', 'Production',\n",
    "                        'Semences', 'Traitement', 'Variation de stock', 'Autres Utilisations']\n",
    "\n",
    "for elt in colonnes_tonnes_tokg:\n",
    "    dispo_alimentaire[elt] *= 1000000"
   ]
  },
  {
   "cell_type": "code",
   "execution_count": 271,
   "id": "db4432e3",
   "metadata": {},
   "outputs": [
    {
     "data": {
      "text/html": [
       "<div>\n",
       "<style scoped>\n",
       "    .dataframe tbody tr th:only-of-type {\n",
       "        vertical-align: middle;\n",
       "    }\n",
       "\n",
       "    .dataframe tbody tr th {\n",
       "        vertical-align: top;\n",
       "    }\n",
       "\n",
       "    .dataframe thead th {\n",
       "        text-align: right;\n",
       "    }\n",
       "</style>\n",
       "<table border=\"1\" class=\"dataframe\">\n",
       "  <thead>\n",
       "    <tr style=\"text-align: right;\">\n",
       "      <th></th>\n",
       "      <th>Zone</th>\n",
       "      <th>Produit</th>\n",
       "      <th>Origine</th>\n",
       "      <th>Aliments pour animaux</th>\n",
       "      <th>Autres Utilisations</th>\n",
       "      <th>Disponibilité alimentaire (Kcal/personne/jour)</th>\n",
       "      <th>Disponibilité alimentaire en quantité (kg/personne/an)</th>\n",
       "      <th>Disponibilité de matière grasse en quantité (g/personne/jour)</th>\n",
       "      <th>Disponibilité de protéines en quantité (g/personne/jour)</th>\n",
       "      <th>Disponibilité intérieure</th>\n",
       "      <th>Exportations - Quantité</th>\n",
       "      <th>Importations - Quantité</th>\n",
       "      <th>Nourriture</th>\n",
       "      <th>Pertes</th>\n",
       "      <th>Production</th>\n",
       "      <th>Semences</th>\n",
       "      <th>Traitement</th>\n",
       "      <th>Variation de stock</th>\n",
       "      <th>Dispo_alimentaire_quantite_kg</th>\n",
       "    </tr>\n",
       "  </thead>\n",
       "  <tbody>\n",
       "    <tr>\n",
       "      <th>0</th>\n",
       "      <td>Afghanistan</td>\n",
       "      <td>Abats Comestible</td>\n",
       "      <td>animale</td>\n",
       "      <td>0.0</td>\n",
       "      <td>0.0</td>\n",
       "      <td>5.0</td>\n",
       "      <td>1.72</td>\n",
       "      <td>0.20</td>\n",
       "      <td>0.77</td>\n",
       "      <td>53000000.0</td>\n",
       "      <td>0.0</td>\n",
       "      <td>0.0</td>\n",
       "      <td>53000000.0</td>\n",
       "      <td>0.0</td>\n",
       "      <td>53000000.0</td>\n",
       "      <td>0.0</td>\n",
       "      <td>0.0</td>\n",
       "      <td>0.0</td>\n",
       "      <td>5.300000e+13</td>\n",
       "    </tr>\n",
       "    <tr>\n",
       "      <th>1</th>\n",
       "      <td>Afghanistan</td>\n",
       "      <td>Agrumes, Autres</td>\n",
       "      <td>vegetale</td>\n",
       "      <td>0.0</td>\n",
       "      <td>0.0</td>\n",
       "      <td>1.0</td>\n",
       "      <td>1.29</td>\n",
       "      <td>0.01</td>\n",
       "      <td>0.02</td>\n",
       "      <td>41000000.0</td>\n",
       "      <td>2000000.0</td>\n",
       "      <td>40000000.0</td>\n",
       "      <td>39000000.0</td>\n",
       "      <td>2000000.0</td>\n",
       "      <td>3000000.0</td>\n",
       "      <td>0.0</td>\n",
       "      <td>0.0</td>\n",
       "      <td>0.0</td>\n",
       "      <td>4.100000e+13</td>\n",
       "    </tr>\n",
       "    <tr>\n",
       "      <th>2</th>\n",
       "      <td>Afghanistan</td>\n",
       "      <td>Aliments pour enfants</td>\n",
       "      <td>vegetale</td>\n",
       "      <td>0.0</td>\n",
       "      <td>0.0</td>\n",
       "      <td>1.0</td>\n",
       "      <td>0.06</td>\n",
       "      <td>0.01</td>\n",
       "      <td>0.03</td>\n",
       "      <td>2000000.0</td>\n",
       "      <td>0.0</td>\n",
       "      <td>2000000.0</td>\n",
       "      <td>2000000.0</td>\n",
       "      <td>0.0</td>\n",
       "      <td>0.0</td>\n",
       "      <td>0.0</td>\n",
       "      <td>0.0</td>\n",
       "      <td>0.0</td>\n",
       "      <td>2.000000e+12</td>\n",
       "    </tr>\n",
       "    <tr>\n",
       "      <th>3</th>\n",
       "      <td>Afghanistan</td>\n",
       "      <td>Ananas</td>\n",
       "      <td>vegetale</td>\n",
       "      <td>0.0</td>\n",
       "      <td>0.0</td>\n",
       "      <td>0.0</td>\n",
       "      <td>0.00</td>\n",
       "      <td>0.00</td>\n",
       "      <td>0.00</td>\n",
       "      <td>0.0</td>\n",
       "      <td>0.0</td>\n",
       "      <td>0.0</td>\n",
       "      <td>0.0</td>\n",
       "      <td>0.0</td>\n",
       "      <td>0.0</td>\n",
       "      <td>0.0</td>\n",
       "      <td>0.0</td>\n",
       "      <td>0.0</td>\n",
       "      <td>0.000000e+00</td>\n",
       "    </tr>\n",
       "    <tr>\n",
       "      <th>4</th>\n",
       "      <td>Afghanistan</td>\n",
       "      <td>Bananes</td>\n",
       "      <td>vegetale</td>\n",
       "      <td>0.0</td>\n",
       "      <td>0.0</td>\n",
       "      <td>4.0</td>\n",
       "      <td>2.70</td>\n",
       "      <td>0.02</td>\n",
       "      <td>0.05</td>\n",
       "      <td>82000000.0</td>\n",
       "      <td>0.0</td>\n",
       "      <td>82000000.0</td>\n",
       "      <td>82000000.0</td>\n",
       "      <td>0.0</td>\n",
       "      <td>0.0</td>\n",
       "      <td>0.0</td>\n",
       "      <td>0.0</td>\n",
       "      <td>0.0</td>\n",
       "      <td>8.200000e+13</td>\n",
       "    </tr>\n",
       "  </tbody>\n",
       "</table>\n",
       "</div>"
      ],
      "text/plain": [
       "          Zone                Produit   Origine  Aliments pour animaux  \\\n",
       "0  Afghanistan       Abats Comestible   animale                    0.0   \n",
       "1  Afghanistan        Agrumes, Autres  vegetale                    0.0   \n",
       "2  Afghanistan  Aliments pour enfants  vegetale                    0.0   \n",
       "3  Afghanistan                 Ananas  vegetale                    0.0   \n",
       "4  Afghanistan                Bananes  vegetale                    0.0   \n",
       "\n",
       "   Autres Utilisations  Disponibilité alimentaire (Kcal/personne/jour)  \\\n",
       "0                  0.0                                             5.0   \n",
       "1                  0.0                                             1.0   \n",
       "2                  0.0                                             1.0   \n",
       "3                  0.0                                             0.0   \n",
       "4                  0.0                                             4.0   \n",
       "\n",
       "   Disponibilité alimentaire en quantité (kg/personne/an)  \\\n",
       "0                                               1.72        \n",
       "1                                               1.29        \n",
       "2                                               0.06        \n",
       "3                                               0.00        \n",
       "4                                               2.70        \n",
       "\n",
       "   Disponibilité de matière grasse en quantité (g/personne/jour)  \\\n",
       "0                                               0.20               \n",
       "1                                               0.01               \n",
       "2                                               0.01               \n",
       "3                                               0.00               \n",
       "4                                               0.02               \n",
       "\n",
       "   Disponibilité de protéines en quantité (g/personne/jour)  \\\n",
       "0                                               0.77          \n",
       "1                                               0.02          \n",
       "2                                               0.03          \n",
       "3                                               0.00          \n",
       "4                                               0.05          \n",
       "\n",
       "   Disponibilité intérieure  Exportations - Quantité  Importations - Quantité  \\\n",
       "0                53000000.0                      0.0                      0.0   \n",
       "1                41000000.0                2000000.0               40000000.0   \n",
       "2                 2000000.0                      0.0                2000000.0   \n",
       "3                       0.0                      0.0                      0.0   \n",
       "4                82000000.0                      0.0               82000000.0   \n",
       "\n",
       "   Nourriture     Pertes  Production  Semences  Traitement  \\\n",
       "0  53000000.0        0.0  53000000.0       0.0         0.0   \n",
       "1  39000000.0  2000000.0   3000000.0       0.0         0.0   \n",
       "2   2000000.0        0.0         0.0       0.0         0.0   \n",
       "3         0.0        0.0         0.0       0.0         0.0   \n",
       "4  82000000.0        0.0         0.0       0.0         0.0   \n",
       "\n",
       "   Variation de stock  Dispo_alimentaire_quantite_kg  \n",
       "0                 0.0                   5.300000e+13  \n",
       "1                 0.0                   4.100000e+13  \n",
       "2                 0.0                   2.000000e+12  \n",
       "3                 0.0                   0.000000e+00  \n",
       "4                 0.0                   8.200000e+13  "
      ]
     },
     "execution_count": 271,
     "metadata": {},
     "output_type": "execute_result"
    }
   ],
   "source": [
    "#multiplication de toutes les lignes contenant des milliers de tonnes en Kg\n",
    "dispo_alimentaire['Dispo_alimentaire_quantite_kg'] = dispo_alimentaire['Disponibilité intérieure'] * 1000000\n",
    "dispo_alimentaire.head(5)"
   ]
  },
  {
   "cell_type": "markdown",
   "id": "a09233e4",
   "metadata": {},
   "source": [
    "<div style=\"border: 1px solid RGB(0,150,250);\" >\n",
    "<h3 style=\"margin: auto; padding: 20px; color: RGB(0,150,250); \">2.3 - Analyse exploratoire du fichier aide alimentaire</h3>\n",
    "</div>"
   ]
  },
  {
   "cell_type": "code",
   "execution_count": 272,
   "id": "702f6322",
   "metadata": {},
   "outputs": [
    {
     "name": "stdout",
     "output_type": "stream",
     "text": [
      "Le tableau comporte 1475 ligne(s) \n",
      "Le tableau comporte 4 colonne(s)\n"
     ]
    }
   ],
   "source": [
    "#Afficher les dimensions du dataset\n",
    "print(\"Le tableau comporte {} ligne(s) \".format(aide_alimentaire.shape[0]))\n",
    "print(\"Le tableau comporte {} colonne(s)\".format(aide_alimentaire.shape[1]))\n"
   ]
  },
  {
   "cell_type": "code",
   "execution_count": 273,
   "id": "d71b8cbf-b4ca-4ce8-879b-047d47dfb41c",
   "metadata": {},
   "outputs": [
    {
     "data": {
      "text/plain": [
       "Index(['Pays bénéficiaire', 'Année', 'Produit', 'Valeur'], dtype='object')"
      ]
     },
     "execution_count": 273,
     "metadata": {},
     "output_type": "execute_result"
    }
   ],
   "source": [
    "aide_alimentaire.columns"
   ]
  },
  {
   "cell_type": "code",
   "execution_count": 274,
   "id": "c4539ffd-9900-481c-ac62-12450ca8029f",
   "metadata": {},
   "outputs": [],
   "source": [
    "aide_alimentaire.rename(columns={'Zone':'Pays bénéficiaire'}, inplace=True)"
   ]
  },
  {
   "cell_type": "code",
   "execution_count": 275,
   "id": "de5ead73-627d-454b-814d-ee27364b99e5",
   "metadata": {},
   "outputs": [
    {
     "name": "stdout",
     "output_type": "stream",
     "text": [
      "La table 'aide alimentaire' contient 4 colonnes.\n"
     ]
    },
    {
     "data": {
      "text/html": [
       "<div>\n",
       "<style scoped>\n",
       "    .dataframe tbody tr th:only-of-type {\n",
       "        vertical-align: middle;\n",
       "    }\n",
       "\n",
       "    .dataframe tbody tr th {\n",
       "        vertical-align: top;\n",
       "    }\n",
       "\n",
       "    .dataframe thead th {\n",
       "        text-align: right;\n",
       "    }\n",
       "</style>\n",
       "<table border=\"1\" class=\"dataframe\">\n",
       "  <thead>\n",
       "    <tr style=\"text-align: right;\">\n",
       "      <th></th>\n",
       "      <th>Pays bénéficiaire</th>\n",
       "      <th>Année</th>\n",
       "      <th>Produit</th>\n",
       "      <th>Valeur</th>\n",
       "    </tr>\n",
       "  </thead>\n",
       "  <tbody>\n",
       "    <tr>\n",
       "      <th>0</th>\n",
       "      <td>Afghanistan</td>\n",
       "      <td>2013</td>\n",
       "      <td>Autres non-céréales</td>\n",
       "      <td>682</td>\n",
       "    </tr>\n",
       "    <tr>\n",
       "      <th>1</th>\n",
       "      <td>Afghanistan</td>\n",
       "      <td>2014</td>\n",
       "      <td>Autres non-céréales</td>\n",
       "      <td>335</td>\n",
       "    </tr>\n",
       "    <tr>\n",
       "      <th>2</th>\n",
       "      <td>Afghanistan</td>\n",
       "      <td>2013</td>\n",
       "      <td>Blé et Farin</td>\n",
       "      <td>39224</td>\n",
       "    </tr>\n",
       "    <tr>\n",
       "      <th>3</th>\n",
       "      <td>Afghanistan</td>\n",
       "      <td>2014</td>\n",
       "      <td>Blé et Farin</td>\n",
       "      <td>15160</td>\n",
       "    </tr>\n",
       "    <tr>\n",
       "      <th>4</th>\n",
       "      <td>Afghanistan</td>\n",
       "      <td>2013</td>\n",
       "      <td>Céréales</td>\n",
       "      <td>40504</td>\n",
       "    </tr>\n",
       "    <tr>\n",
       "      <th>...</th>\n",
       "      <td>...</td>\n",
       "      <td>...</td>\n",
       "      <td>...</td>\n",
       "      <td>...</td>\n",
       "    </tr>\n",
       "    <tr>\n",
       "      <th>1470</th>\n",
       "      <td>Zimbabwe</td>\n",
       "      <td>2015</td>\n",
       "      <td>Mélanges et préparations</td>\n",
       "      <td>96</td>\n",
       "    </tr>\n",
       "    <tr>\n",
       "      <th>1471</th>\n",
       "      <td>Zimbabwe</td>\n",
       "      <td>2013</td>\n",
       "      <td>Non-céréales</td>\n",
       "      <td>5022</td>\n",
       "    </tr>\n",
       "    <tr>\n",
       "      <th>1472</th>\n",
       "      <td>Zimbabwe</td>\n",
       "      <td>2014</td>\n",
       "      <td>Non-céréales</td>\n",
       "      <td>2310</td>\n",
       "    </tr>\n",
       "    <tr>\n",
       "      <th>1473</th>\n",
       "      <td>Zimbabwe</td>\n",
       "      <td>2015</td>\n",
       "      <td>Non-céréales</td>\n",
       "      <td>306</td>\n",
       "    </tr>\n",
       "    <tr>\n",
       "      <th>1474</th>\n",
       "      <td>Zimbabwe</td>\n",
       "      <td>2013</td>\n",
       "      <td>Riz, total</td>\n",
       "      <td>64</td>\n",
       "    </tr>\n",
       "  </tbody>\n",
       "</table>\n",
       "<p>1475 rows × 4 columns</p>\n",
       "</div>"
      ],
      "text/plain": [
       "     Pays bénéficiaire  Année                   Produit  Valeur\n",
       "0          Afghanistan   2013       Autres non-céréales     682\n",
       "1          Afghanistan   2014       Autres non-céréales     335\n",
       "2          Afghanistan   2013              Blé et Farin   39224\n",
       "3          Afghanistan   2014              Blé et Farin   15160\n",
       "4          Afghanistan   2013                  Céréales   40504\n",
       "...                ...    ...                       ...     ...\n",
       "1470          Zimbabwe   2015  Mélanges et préparations      96\n",
       "1471          Zimbabwe   2013              Non-céréales    5022\n",
       "1472          Zimbabwe   2014              Non-céréales    2310\n",
       "1473          Zimbabwe   2015              Non-céréales     306\n",
       "1474          Zimbabwe   2013                Riz, total      64\n",
       "\n",
       "[1475 rows x 4 columns]"
      ]
     },
     "execution_count": 275,
     "metadata": {},
     "output_type": "execute_result"
    }
   ],
   "source": [
    "#Consulter le nombre de colonnes\n",
    "nombre_de_colonnes = aide_alimentaire.shape[1]\n",
    "print(f\"La table 'aide alimentaire' contient {nombre_de_colonnes} colonnes.\")\n",
    "aide_alimentaire"
   ]
  },
  {
   "cell_type": "code",
   "execution_count": 276,
   "id": "c32cd1d8",
   "metadata": {},
   "outputs": [
    {
     "data": {
      "text/html": [
       "<div>\n",
       "<style scoped>\n",
       "    .dataframe tbody tr th:only-of-type {\n",
       "        vertical-align: middle;\n",
       "    }\n",
       "\n",
       "    .dataframe tbody tr th {\n",
       "        vertical-align: top;\n",
       "    }\n",
       "\n",
       "    .dataframe thead th {\n",
       "        text-align: right;\n",
       "    }\n",
       "</style>\n",
       "<table border=\"1\" class=\"dataframe\">\n",
       "  <thead>\n",
       "    <tr style=\"text-align: right;\">\n",
       "      <th></th>\n",
       "      <th>Pays bénéficiaire</th>\n",
       "      <th>Année</th>\n",
       "      <th>Produit</th>\n",
       "      <th>Valeur</th>\n",
       "      <th>Valeur_kg</th>\n",
       "    </tr>\n",
       "  </thead>\n",
       "  <tbody>\n",
       "    <tr>\n",
       "      <th>0</th>\n",
       "      <td>Afghanistan</td>\n",
       "      <td>2013</td>\n",
       "      <td>Autres non-céréales</td>\n",
       "      <td>682</td>\n",
       "      <td>682000</td>\n",
       "    </tr>\n",
       "    <tr>\n",
       "      <th>1</th>\n",
       "      <td>Afghanistan</td>\n",
       "      <td>2014</td>\n",
       "      <td>Autres non-céréales</td>\n",
       "      <td>335</td>\n",
       "      <td>335000</td>\n",
       "    </tr>\n",
       "    <tr>\n",
       "      <th>2</th>\n",
       "      <td>Afghanistan</td>\n",
       "      <td>2013</td>\n",
       "      <td>Blé et Farin</td>\n",
       "      <td>39224</td>\n",
       "      <td>39224000</td>\n",
       "    </tr>\n",
       "    <tr>\n",
       "      <th>3</th>\n",
       "      <td>Afghanistan</td>\n",
       "      <td>2014</td>\n",
       "      <td>Blé et Farin</td>\n",
       "      <td>15160</td>\n",
       "      <td>15160000</td>\n",
       "    </tr>\n",
       "    <tr>\n",
       "      <th>4</th>\n",
       "      <td>Afghanistan</td>\n",
       "      <td>2013</td>\n",
       "      <td>Céréales</td>\n",
       "      <td>40504</td>\n",
       "      <td>40504000</td>\n",
       "    </tr>\n",
       "    <tr>\n",
       "      <th>...</th>\n",
       "      <td>...</td>\n",
       "      <td>...</td>\n",
       "      <td>...</td>\n",
       "      <td>...</td>\n",
       "      <td>...</td>\n",
       "    </tr>\n",
       "    <tr>\n",
       "      <th>1470</th>\n",
       "      <td>Zimbabwe</td>\n",
       "      <td>2015</td>\n",
       "      <td>Mélanges et préparations</td>\n",
       "      <td>96</td>\n",
       "      <td>96000</td>\n",
       "    </tr>\n",
       "    <tr>\n",
       "      <th>1471</th>\n",
       "      <td>Zimbabwe</td>\n",
       "      <td>2013</td>\n",
       "      <td>Non-céréales</td>\n",
       "      <td>5022</td>\n",
       "      <td>5022000</td>\n",
       "    </tr>\n",
       "    <tr>\n",
       "      <th>1472</th>\n",
       "      <td>Zimbabwe</td>\n",
       "      <td>2014</td>\n",
       "      <td>Non-céréales</td>\n",
       "      <td>2310</td>\n",
       "      <td>2310000</td>\n",
       "    </tr>\n",
       "    <tr>\n",
       "      <th>1473</th>\n",
       "      <td>Zimbabwe</td>\n",
       "      <td>2015</td>\n",
       "      <td>Non-céréales</td>\n",
       "      <td>306</td>\n",
       "      <td>306000</td>\n",
       "    </tr>\n",
       "    <tr>\n",
       "      <th>1474</th>\n",
       "      <td>Zimbabwe</td>\n",
       "      <td>2013</td>\n",
       "      <td>Riz, total</td>\n",
       "      <td>64</td>\n",
       "      <td>64000</td>\n",
       "    </tr>\n",
       "  </tbody>\n",
       "</table>\n",
       "<p>1475 rows × 5 columns</p>\n",
       "</div>"
      ],
      "text/plain": [
       "     Pays bénéficiaire  Année                   Produit  Valeur  Valeur_kg\n",
       "0          Afghanistan   2013       Autres non-céréales     682     682000\n",
       "1          Afghanistan   2014       Autres non-céréales     335     335000\n",
       "2          Afghanistan   2013              Blé et Farin   39224   39224000\n",
       "3          Afghanistan   2014              Blé et Farin   15160   15160000\n",
       "4          Afghanistan   2013                  Céréales   40504   40504000\n",
       "...                ...    ...                       ...     ...        ...\n",
       "1470          Zimbabwe   2015  Mélanges et préparations      96      96000\n",
       "1471          Zimbabwe   2013              Non-céréales    5022    5022000\n",
       "1472          Zimbabwe   2014              Non-céréales    2310    2310000\n",
       "1473          Zimbabwe   2015              Non-céréales     306     306000\n",
       "1474          Zimbabwe   2013                Riz, total      64      64000\n",
       "\n",
       "[1475 rows x 5 columns]"
      ]
     },
     "execution_count": 276,
     "metadata": {},
     "output_type": "execute_result"
    }
   ],
   "source": [
    "#Multiplication de la colonne Aide_alimentaire qui contient des tonnes par 1000 pour avoir des kg\n",
    "aide_alimentaire['Valeur_kg'] = aide_alimentaire['Valeur'] * 1000\n",
    "aide_alimentaire"
   ]
  },
  {
   "cell_type": "markdown",
   "id": "eeae9043",
   "metadata": {},
   "source": [
    "<div style=\"border: 1px solid RGB(0,150,250);\" >\n",
    "<h3 style=\"margin: auto; padding: 20px; color: RGB(0,150,250); \">2.3 - Analyse exploratoire du fichier sous nutrition</h3>\n",
    "</div>"
   ]
  },
  {
   "cell_type": "code",
   "execution_count": 277,
   "id": "882add3d",
   "metadata": {},
   "outputs": [
    {
     "name": "stdout",
     "output_type": "stream",
     "text": [
      "Le tableau comporte 1218 observation(s) ou article(s)\n",
      "Le tableau comporte 3 colonne(s)\n"
     ]
    }
   ],
   "source": [
    "#Afficher les dimensions du dataset\n",
    "print(\"Le tableau comporte {} observation(s) ou article(s)\".format(sous_nutrition.shape[0]))\n",
    "print(\"Le tableau comporte {} colonne(s)\".format(sous_nutrition.shape[1]))"
   ]
  },
  {
   "cell_type": "code",
   "execution_count": 278,
   "id": "70c1a7a9",
   "metadata": {},
   "outputs": [
    {
     "name": "stdout",
     "output_type": "stream",
     "text": [
      "Nombre de colonnes : 3\n"
     ]
    }
   ],
   "source": [
    "#Consulter le nombre de colonnes\n",
    "nb_colonnes = len(sous_nutrition.columns)\n",
    "print(f\"Nombre de colonnes : {nb_colonnes}\")"
   ]
  },
  {
   "cell_type": "code",
   "execution_count": 279,
   "id": "5c6469e5",
   "metadata": {},
   "outputs": [
    {
     "data": {
      "text/html": [
       "<div>\n",
       "<style scoped>\n",
       "    .dataframe tbody tr th:only-of-type {\n",
       "        vertical-align: middle;\n",
       "    }\n",
       "\n",
       "    .dataframe tbody tr th {\n",
       "        vertical-align: top;\n",
       "    }\n",
       "\n",
       "    .dataframe thead th {\n",
       "        text-align: right;\n",
       "    }\n",
       "</style>\n",
       "<table border=\"1\" class=\"dataframe\">\n",
       "  <thead>\n",
       "    <tr style=\"text-align: right;\">\n",
       "      <th></th>\n",
       "      <th>Zone</th>\n",
       "      <th>Année</th>\n",
       "      <th>Valeur</th>\n",
       "    </tr>\n",
       "  </thead>\n",
       "  <tbody>\n",
       "    <tr>\n",
       "      <th>0</th>\n",
       "      <td>Afghanistan</td>\n",
       "      <td>2012-2014</td>\n",
       "      <td>8.6</td>\n",
       "    </tr>\n",
       "    <tr>\n",
       "      <th>1</th>\n",
       "      <td>Afghanistan</td>\n",
       "      <td>2013-2015</td>\n",
       "      <td>8.8</td>\n",
       "    </tr>\n",
       "    <tr>\n",
       "      <th>2</th>\n",
       "      <td>Afghanistan</td>\n",
       "      <td>2014-2016</td>\n",
       "      <td>8.9</td>\n",
       "    </tr>\n",
       "    <tr>\n",
       "      <th>3</th>\n",
       "      <td>Afghanistan</td>\n",
       "      <td>2015-2017</td>\n",
       "      <td>9.7</td>\n",
       "    </tr>\n",
       "    <tr>\n",
       "      <th>4</th>\n",
       "      <td>Afghanistan</td>\n",
       "      <td>2016-2018</td>\n",
       "      <td>10.5</td>\n",
       "    </tr>\n",
       "  </tbody>\n",
       "</table>\n",
       "</div>"
      ],
      "text/plain": [
       "          Zone      Année Valeur\n",
       "0  Afghanistan  2012-2014    8.6\n",
       "1  Afghanistan  2013-2015    8.8\n",
       "2  Afghanistan  2014-2016    8.9\n",
       "3  Afghanistan  2015-2017    9.7\n",
       "4  Afghanistan  2016-2018   10.5"
      ]
     },
     "execution_count": 279,
     "metadata": {},
     "output_type": "execute_result"
    }
   ],
   "source": [
    "\n",
    "#Afficher les 5 premières lignes de la table\n",
    "sous_nutrition.head()\n"
   ]
  },
  {
   "cell_type": "code",
   "execution_count": 280,
   "id": "11b6a6c8",
   "metadata": {},
   "outputs": [],
   "source": [
    "#Conversion de la colonne sous nutrition en numérique\n",
    "sous_nutrition['Valeur'] = pd.to_numeric(sous_nutrition['Valeur'],errors='coerce')"
   ]
  },
  {
   "cell_type": "code",
   "execution_count": 281,
   "id": "d31d2724",
   "metadata": {},
   "outputs": [],
   "source": [
    "#Conversion de la colonne (avec l'argument errors=coerce qui permet de convertir automatiquement les lignes qui ne sont pas des nombres en NaN)\n",
    "#Puis remplacement des NaN en 0\n",
    "sous_nutrition.fillna(0, inplace=True)"
   ]
  },
  {
   "cell_type": "code",
   "execution_count": 282,
   "id": "34c98232",
   "metadata": {},
   "outputs": [],
   "source": [
    "#changement du nom de la colonne Valeur par sous_nutrition\n",
    "sous_nutrition.rename(columns={'Valeur': 'sous_nutrition'}, inplace=True)"
   ]
  },
  {
   "cell_type": "code",
   "execution_count": 283,
   "id": "fc864dd0-fc5f-4c87-8789-409cc6e8c056",
   "metadata": {},
   "outputs": [],
   "source": [
    "#Multiplication de la colonne sous_nutrition par 1000000\n",
    "sous_nutrition['sous_nutrition'] = sous_nutrition['sous_nutrition'] * 1000000"
   ]
  },
  {
   "cell_type": "code",
   "execution_count": 284,
   "id": "58259b55",
   "metadata": {},
   "outputs": [
    {
     "data": {
      "text/html": [
       "<div>\n",
       "<style scoped>\n",
       "    .dataframe tbody tr th:only-of-type {\n",
       "        vertical-align: middle;\n",
       "    }\n",
       "\n",
       "    .dataframe tbody tr th {\n",
       "        vertical-align: top;\n",
       "    }\n",
       "\n",
       "    .dataframe thead th {\n",
       "        text-align: right;\n",
       "    }\n",
       "</style>\n",
       "<table border=\"1\" class=\"dataframe\">\n",
       "  <thead>\n",
       "    <tr style=\"text-align: right;\">\n",
       "      <th></th>\n",
       "      <th>Zone</th>\n",
       "      <th>Année</th>\n",
       "      <th>sous_nutrition</th>\n",
       "    </tr>\n",
       "  </thead>\n",
       "  <tbody>\n",
       "    <tr>\n",
       "      <th>0</th>\n",
       "      <td>Afghanistan</td>\n",
       "      <td>2012-2014</td>\n",
       "      <td>8600000.0</td>\n",
       "    </tr>\n",
       "    <tr>\n",
       "      <th>1</th>\n",
       "      <td>Afghanistan</td>\n",
       "      <td>2013-2015</td>\n",
       "      <td>8800000.0</td>\n",
       "    </tr>\n",
       "    <tr>\n",
       "      <th>2</th>\n",
       "      <td>Afghanistan</td>\n",
       "      <td>2014-2016</td>\n",
       "      <td>8900000.0</td>\n",
       "    </tr>\n",
       "    <tr>\n",
       "      <th>3</th>\n",
       "      <td>Afghanistan</td>\n",
       "      <td>2015-2017</td>\n",
       "      <td>9700000.0</td>\n",
       "    </tr>\n",
       "    <tr>\n",
       "      <th>4</th>\n",
       "      <td>Afghanistan</td>\n",
       "      <td>2016-2018</td>\n",
       "      <td>10500000.0</td>\n",
       "    </tr>\n",
       "  </tbody>\n",
       "</table>\n",
       "</div>"
      ],
      "text/plain": [
       "          Zone      Année  sous_nutrition\n",
       "0  Afghanistan  2012-2014       8600000.0\n",
       "1  Afghanistan  2013-2015       8800000.0\n",
       "2  Afghanistan  2014-2016       8900000.0\n",
       "3  Afghanistan  2015-2017       9700000.0\n",
       "4  Afghanistan  2016-2018      10500000.0"
      ]
     },
     "execution_count": 284,
     "metadata": {},
     "output_type": "execute_result"
    }
   ],
   "source": [
    "#Afficher les 5 premières lignes de la table\n",
    "sous_nutrition.head()\n"
   ]
  },
  {
   "cell_type": "code",
   "execution_count": 285,
   "id": "f5a860c6-f2ab-4086-9651-748fb6216f09",
   "metadata": {},
   "outputs": [
    {
     "data": {
      "text/plain": [
       "Index(['Zone', 'Année', 'sous_nutrition'], dtype='object')"
      ]
     },
     "execution_count": 285,
     "metadata": {},
     "output_type": "execute_result"
    }
   ],
   "source": [
    "sous_nutrition.columns"
   ]
  },
  {
   "cell_type": "markdown",
   "id": "df6dcabd",
   "metadata": {},
   "source": [
    "<div style=\"border: 1px solid RGB(0,150,250);\" >\n",
    "<h3 style=\"margin: auto; padding: 20px; color: RGB(0,150,250); \">3.1 - Proportion de personnes en sous nutrition</h3>\n",
    "</div>"
   ]
  },
  {
   "cell_type": "code",
   "execution_count": 286,
   "id": "6d90ad99-5c0e-483e-85fc-9b91fae3fd31",
   "metadata": {},
   "outputs": [
    {
     "data": {
      "text/plain": [
       "Index(['Zone', 'Année', 'Population'], dtype='object')"
      ]
     },
     "execution_count": 286,
     "metadata": {},
     "output_type": "execute_result"
    }
   ],
   "source": [
    "population.columns"
   ]
  },
  {
   "cell_type": "code",
   "execution_count": 287,
   "id": "0aee390d-44e3-4341-af67-90b05d7cb48c",
   "metadata": {},
   "outputs": [
    {
     "data": {
      "text/plain": [
       "Index(['Zone', 'Année', 'sous_nutrition'], dtype='object')"
      ]
     },
     "execution_count": 287,
     "metadata": {},
     "output_type": "execute_result"
    }
   ],
   "source": [
    "sous_nutrition_2017.columns"
   ]
  },
  {
   "cell_type": "code",
   "execution_count": 288,
   "id": "8852ad62-df98-4087-b4bb-ca246e187b85",
   "metadata": {},
   "outputs": [],
   "source": [
    "# Il faut tout d'abord faire une jointure entre la table population et la table sous nutrition, en ciblant l'année 2017\n",
    "# creation df_sous_nutrion_2017 avec les données 2017 uniquement\n",
    "sous_nutrition_2017= sous_nutrition.loc[sous_nutrition['Année']=='2016-2018',['Zone','Année','sous_nutrition']]\n",
    "# creation df_population_2017 avec les données 2017 uniquement\n",
    "population_2017= population.loc[population['Année']==2017,['Zone','Année','Population']]\n",
    "# jointure\n",
    "jointure_sous_nutrition_2017_population_2017 = pd.merge(sous_nutrition_2017, population_2017, on='Zone', how='left')\n",
    "\n",
    "jointure_sous_nutrition_2017_population_2017.fillna(0, inplace=True) \n"
   ]
  },
  {
   "cell_type": "code",
   "execution_count": 289,
   "id": "492bf3e6-dfb4-4239-b8b9-c02d2a700900",
   "metadata": {},
   "outputs": [
    {
     "data": {
      "text/plain": [
       "Index(['Zone', 'Année_x', 'sous_nutrition', 'Année_y', 'Population'], dtype='object')"
      ]
     },
     "execution_count": 289,
     "metadata": {},
     "output_type": "execute_result"
    }
   ],
   "source": [
    "jointure_sous_nutrition_2017_population_2017.columns"
   ]
  },
  {
   "cell_type": "code",
   "execution_count": 290,
   "id": "8d04ee1d-be5b-4ecf-89e5-466abca0e9fa",
   "metadata": {},
   "outputs": [
    {
     "data": {
      "text/html": [
       "<div>\n",
       "<style scoped>\n",
       "    .dataframe tbody tr th:only-of-type {\n",
       "        vertical-align: middle;\n",
       "    }\n",
       "\n",
       "    .dataframe tbody tr th {\n",
       "        vertical-align: top;\n",
       "    }\n",
       "\n",
       "    .dataframe thead th {\n",
       "        text-align: right;\n",
       "    }\n",
       "</style>\n",
       "<table border=\"1\" class=\"dataframe\">\n",
       "  <thead>\n",
       "    <tr style=\"text-align: right;\">\n",
       "      <th></th>\n",
       "      <th>Zone</th>\n",
       "      <th>Année_x</th>\n",
       "      <th>sous_nutrition</th>\n",
       "      <th>Année_y</th>\n",
       "      <th>Population</th>\n",
       "    </tr>\n",
       "  </thead>\n",
       "  <tbody>\n",
       "    <tr>\n",
       "      <th>0</th>\n",
       "      <td>Afghanistan</td>\n",
       "      <td>2016-2018</td>\n",
       "      <td>10500000.0</td>\n",
       "      <td>2017</td>\n",
       "      <td>36296113.0</td>\n",
       "    </tr>\n",
       "    <tr>\n",
       "      <th>1</th>\n",
       "      <td>Afrique du Sud</td>\n",
       "      <td>2016-2018</td>\n",
       "      <td>3100000.0</td>\n",
       "      <td>2017</td>\n",
       "      <td>57009756.0</td>\n",
       "    </tr>\n",
       "    <tr>\n",
       "      <th>2</th>\n",
       "      <td>Albanie</td>\n",
       "      <td>2016-2018</td>\n",
       "      <td>100000.0</td>\n",
       "      <td>2017</td>\n",
       "      <td>2884169.0</td>\n",
       "    </tr>\n",
       "    <tr>\n",
       "      <th>3</th>\n",
       "      <td>Algérie</td>\n",
       "      <td>2016-2018</td>\n",
       "      <td>1300000.0</td>\n",
       "      <td>2017</td>\n",
       "      <td>41389189.0</td>\n",
       "    </tr>\n",
       "    <tr>\n",
       "      <th>4</th>\n",
       "      <td>Allemagne</td>\n",
       "      <td>2016-2018</td>\n",
       "      <td>0.0</td>\n",
       "      <td>2017</td>\n",
       "      <td>82658409.0</td>\n",
       "    </tr>\n",
       "  </tbody>\n",
       "</table>\n",
       "</div>"
      ],
      "text/plain": [
       "             Zone    Année_x  sous_nutrition  Année_y  Population\n",
       "0     Afghanistan  2016-2018      10500000.0     2017  36296113.0\n",
       "1  Afrique du Sud  2016-2018       3100000.0     2017  57009756.0\n",
       "2         Albanie  2016-2018        100000.0     2017   2884169.0\n",
       "3         Algérie  2016-2018       1300000.0     2017  41389189.0\n",
       "4       Allemagne  2016-2018             0.0     2017  82658409.0"
      ]
     },
     "execution_count": 290,
     "metadata": {},
     "output_type": "execute_result"
    }
   ],
   "source": [
    "#Affichage du dataset\n",
    "jointure_sous_nutrition_2017_population_2017.head()"
   ]
  },
  {
   "cell_type": "code",
   "execution_count": 291,
   "id": "28e2741f",
   "metadata": {},
   "outputs": [
    {
     "name": "stdout",
     "output_type": "stream",
     "text": [
      "535700000.0\n"
     ]
    }
   ],
   "source": [
    "\n",
    "#Calcul et affichage du nombre de personnes en état de sous nutrition\n",
    "nombre_sous_nutrition = jointure_sous_nutrition_2017_population_2017['sous_nutrition'].sum()\n",
    "print(nombre_sous_nutrition)"
   ]
  },
  {
   "cell_type": "code",
   "execution_count": 292,
   "id": "10c1b2af-619c-43a2-a0a5-c4649b9d500e",
   "metadata": {},
   "outputs": [
    {
     "name": "stdout",
     "output_type": "stream",
     "text": [
      "7543798779.0\n"
     ]
    }
   ],
   "source": [
    "#Calcul et affichage la polpulation globale \n",
    "population = jointure_sous_nutrition_2017_population_2017['Population'].sum()\n",
    "print(population)"
   ]
  },
  {
   "cell_type": "code",
   "execution_count": 293,
   "id": "8ff8070f-02d3-4cdf-84ca-0a1a39a22728",
   "metadata": {},
   "outputs": [
    {
     "name": "stdout",
     "output_type": "stream",
     "text": [
      "7.1011968332354165\n"
     ]
    }
   ],
   "source": [
    "ratio=nombre_sous_nutrition/population*100\n",
    "print(ratio)\n"
   ]
  },
  {
   "cell_type": "markdown",
   "id": "b4134a24",
   "metadata": {},
   "source": [
    "<div style=\"border: 1px solid RGB(0,150,250);\" >\n",
    "<h3 style=\"margin: auto; padding: 20px; color: RGB(0,150,250); \">3.2 - Nombre théorique de personne qui pourrait être nourries</h3>\n",
    "</div>"
   ]
  },
  {
   "cell_type": "code",
   "execution_count": 294,
   "id": "61acd711-648b-4763-bd65-f7c81d599f27",
   "metadata": {},
   "outputs": [],
   "source": [
    "dispo_alimentaire_2017 = dispo_alimentaire.merge(population_2017.loc[population_2017['Année'] == 2017,['Zone','Année','Population']],\n",
    "                                            on='Zone')\n"
   ]
  },
  {
   "cell_type": "code",
   "execution_count": 295,
   "id": "bfc721ba-5ab2-4506-84bd-2fab22551ddb",
   "metadata": {},
   "outputs": [
    {
     "data": {
      "text/plain": [
       "Index(['Zone', 'Produit', 'Origine', 'Aliments pour animaux',\n",
       "       'Autres Utilisations', 'Disponibilité alimentaire (Kcal/personne/jour)',\n",
       "       'Disponibilité alimentaire en quantité (kg/personne/an)',\n",
       "       'Disponibilité de matière grasse en quantité (g/personne/jour)',\n",
       "       'Disponibilité de protéines en quantité (g/personne/jour)',\n",
       "       'Disponibilité intérieure', 'Exportations - Quantité',\n",
       "       'Importations - Quantité', 'Nourriture', 'Pertes', 'Production',\n",
       "       'Semences', 'Traitement', 'Variation de stock',\n",
       "       'Dispo_alimentaire_quantite_kg', 'Année', 'Population'],\n",
       "      dtype='object')"
      ]
     },
     "execution_count": 295,
     "metadata": {},
     "output_type": "execute_result"
    }
   ],
   "source": [
    "dispo_alimentaire_2017.columns"
   ]
  },
  {
   "cell_type": "code",
   "execution_count": 296,
   "id": "129d9bb3-1e9f-410c-9702-49e666cc7b32",
   "metadata": {},
   "outputs": [
    {
     "name": "stdout",
     "output_type": "stream",
     "text": [
      "dispo alimentaire totale en kcal : 7635429388975815.0 kcal\n",
      "Total d'être humain pouvant être nourris : 9297326501\n",
      "Proportion : 123.17 %\n"
     ]
    }
   ],
   "source": [
    "#Création de la colonne dispo_kcal et calcul des kcal disponibles mondialement\n",
    "dispo_alimentaire_2017['dispo_kcal'] = dispo_alimentaire_2017['Disponibilité alimentaire (Kcal/personne/jour)'] * dispo_alimentaire_2017['Population'] * 365\n",
    "print(\"dispo alimentaire totale en kcal :\", dispo_alimentaire_2017['dispo_kcal'].sum(), \"kcal\")\n",
    "\n",
    "#Calcul du nombre d'humain pouvant être nourris\n",
    "total_h_kcal = round(dispo_alimentaire_2017['dispo_kcal'].sum()/(2250*365))\n",
    "print(\"Total d'être humain pouvant être nourris :\", total_h_kcal)\n",
    "print(\"Proportion :\", \"{:.2f}\".format(total_h_kcal*100/population_2017.loc[population_2017['Année'] == 2017,'Population'].sum()), \"%\")"
   ]
  },
  {
   "cell_type": "markdown",
   "id": "e97c8886",
   "metadata": {},
   "source": [
    "<div style=\"border: 1px solid RGB(0,150,250);\" >\n",
    "<h3 style=\"margin: auto; padding: 20px; color: RGB(0,150,250); \">3.3 - Nombre théorique de personne qui pourrait être nourrie avec les produits végétaux</h3>\n",
    "</div>"
   ]
  },
  {
   "cell_type": "code",
   "execution_count": 297,
   "id": "64935345-9230-43ea-a91b-da43a5652c8b",
   "metadata": {},
   "outputs": [
    {
     "data": {
      "text/plain": [
       "Index(['Zone', 'Produit', 'Origine', 'Aliments pour animaux',\n",
       "       'Autres Utilisations', 'Disponibilité alimentaire (Kcal/personne/jour)',\n",
       "       'Disponibilité alimentaire en quantité (kg/personne/an)',\n",
       "       'Disponibilité de matière grasse en quantité (g/personne/jour)',\n",
       "       'Disponibilité de protéines en quantité (g/personne/jour)',\n",
       "       'Disponibilité intérieure', 'Exportations - Quantité',\n",
       "       'Importations - Quantité', 'Nourriture', 'Pertes', 'Production',\n",
       "       'Semences', 'Traitement', 'Variation de stock',\n",
       "       'Dispo_alimentaire_quantite_kg'],\n",
       "      dtype='object')"
      ]
     },
     "execution_count": 297,
     "metadata": {},
     "output_type": "execute_result"
    }
   ],
   "source": [
    "dispo_alimentaire.columns"
   ]
  },
  {
   "cell_type": "code",
   "execution_count": 298,
   "id": "c2e3c87c",
   "metadata": {},
   "outputs": [],
   "source": [
    "\n",
    "\n",
    "#Transfert des données avec les végétaux dans un nouveau dataframe\n",
    "# Filtrer les lignes où la colonne \"Origine\" contient le mot \"vegetale\"\n",
    "vegetaux_df = dispo_alimentaire_2017.loc[dispo_alimentaire_2017['Origine'] == \"vegetale\",:]\n"
   ]
  },
  {
   "cell_type": "code",
   "execution_count": 299,
   "id": "534f3ad7",
   "metadata": {},
   "outputs": [
    {
     "name": "stdout",
     "output_type": "stream",
     "text": [
      "6300178937197865.0\n"
     ]
    }
   ],
   "source": [
    "#Calcul du nombre de kcal disponible pour les végétaux\n",
    "somme_dispo_kcal_vegetaux = vegetaux_df['dispo_kcal'].sum()\n",
    "print(somme_dispo_kcal_vegetaux)"
   ]
  },
  {
   "cell_type": "code",
   "execution_count": 300,
   "id": "d1b551bc-493c-44f3-9019-e752866c2fc1",
   "metadata": {},
   "outputs": [
    {
     "name": "stdout",
     "output_type": "stream",
     "text": [
      "Total d'être humain pouvant être nourris : 7671450761\n",
      "Proportion : 101.63 %\n"
     ]
    }
   ],
   "source": [
    "total_h_kcal = round(vegetaux_df['dispo_kcal'].sum()/(2250*365))\n",
    "print(\"Total d'être humain pouvant être nourris :\", total_h_kcal)\n",
    "print(\"Proportion :\", \"{:.2f}\".format(total_h_kcal*100/population_2017.loc[population_2017['Année'] == 2017,'Population'].sum()), \"%\")"
   ]
  },
  {
   "cell_type": "markdown",
   "id": "cd07afb1",
   "metadata": {},
   "source": [
    "<div style=\"border: 1px solid RGB(0,150,250);\" >\n",
    "<h3 style=\"margin: auto; padding: 20px; color: RGB(0,150,250); \">3.4 - Utilisation de la disponibilité intérieure</h3>\n",
    "</div>"
   ]
  },
  {
   "cell_type": "code",
   "execution_count": 301,
   "id": "9dbf3d53-9792-4b1a-ba27-4a451250a168",
   "metadata": {},
   "outputs": [
    {
     "data": {
      "text/plain": [
       "9848994000000.0"
      ]
     },
     "execution_count": 301,
     "metadata": {},
     "output_type": "execute_result"
    }
   ],
   "source": [
    "dispo_int = dispo_alimentaire['Disponibilité intérieure'].sum()\n",
    "dispo_int"
   ]
  },
  {
   "cell_type": "code",
   "execution_count": 302,
   "id": "03248095",
   "metadata": {},
   "outputs": [
    {
     "name": "stdout",
     "output_type": "stream",
     "text": [
      "Somme des valeurs pour Aliments pour animaux : 1304245000000.0\n",
      "Somme des valeurs pour Nourriture : 4876258000000.0\n",
      "Somme des valeurs pour Pertes : 453698000000.0\n",
      "Somme des valeurs pour Semences : 154681000000.0\n",
      "Somme des valeurs pour Traitement : 2204687000000.0\n",
      "Somme des valeurs pour Autres Utilisations : 865023000000.0\n",
      "Proportion pour Aliments pour animaux : 13.23%\n",
      "Proportion pour Nourriture : 49.46%\n",
      "Proportion pour Pertes : 4.60%\n",
      "Proportion pour Semences : 1.57%\n",
      "Proportion pour Traitement : 22.36%\n",
      "Proportion pour Autres Utilisations : 8.77%\n"
     ]
    }
   ],
   "source": [
    "colonnes = ['Aliments pour animaux','Nourriture', 'Pertes','Semences', 'Traitement', 'Autres Utilisations']\n",
    "\n",
    "# Boucle sur chaque colonne\n",
    "for colonne in colonnes:\n",
    "    # Calcul de la somme pour la colonne actuelle\n",
    "    somme_colonne = dispo_alimentaire[colonne].sum()\n",
    "    # Affichage du nom de la colonne et de la somme\n",
    "    print(f\"Somme des valeurs pour {colonne} : {somme_colonne}\")\n",
    "\n",
    "somme_totale = dispo_alimentaire[colonnes].sum().sum()\n",
    "proportions = dispo_alimentaire[colonnes].sum() * 100 / somme_totale\n",
    "\n",
    "# Boucle sur chaque colonne pour afficher la proportion\n",
    "for colonne in colonnes:\n",
    "    print(f\"Proportion pour {colonne} : {proportions[colonne]:.2f}%\")"
   ]
  },
  {
   "cell_type": "code",
   "execution_count": 381,
   "id": "60368888-6cd1-449a-9d8e-2c2504dc4742",
   "metadata": {},
   "outputs": [
    {
     "name": "stdout",
     "output_type": "stream",
     "text": [
      "+-----------------------+----------------+\n",
      "|       Catégorie       | Proportion (%) |\n",
      "+-----------------------+----------------+\n",
      "| Aliments pour animaux |     13.23%     |\n",
      "|       Nourriture      |     49.46%     |\n",
      "|         Pertes        |     4.60%      |\n",
      "|        Semences       |     1.57%      |\n",
      "|       Traitement      |     22.36%     |\n",
      "|  Autres Utilisations  |     8.77%      |\n",
      "+-----------------------+----------------+\n"
     ]
    }
   ],
   "source": [
    "from prettytable import PrettyTable\n",
    "\n",
    "# Création d'un objet PrettyTable\n",
    "table = PrettyTable()\n",
    "\n",
    "# Ajout des noms de colonnes\n",
    "table.field_names = ['Catégorie', 'Proportion (%)']\n",
    "\n",
    "# Ajout des lignes\n",
    "table.add_row(['Aliments pour animaux', '13.23%'])\n",
    "table.add_row(['Nourriture', '49.46%'])\n",
    "table.add_row(['Pertes', '4.60%'])\n",
    "table.add_row(['Semences', '1.57%'])\n",
    "table.add_row(['Traitement', '22.36%'])\n",
    "table.add_row(['Autres Utilisations', '8.77%'])\n",
    "\n",
    "# Affichage du tableau\n",
    "print(table)"
   ]
  },
  {
   "cell_type": "code",
   "execution_count": 303,
   "id": "cd68fc77-63a0-41ea-a2f6-87f862e6af24",
   "metadata": {},
   "outputs": [
    {
     "data": {
      "image/png": "[encoded data removed]",
      "text/plain": [
       "<Figure size 640x480 with 1 Axes>"
      ]
     },
     "metadata": {},
     "output_type": "display_data"
    }
   ],
   "source": [
    "import matplotlib.pyplot as plt\n",
    "import numpy as np\n",
    "\n",
    "# Définition des colonnes d'intérêt\n",
    "colonnes = ['Aliments pour animaux', 'Pertes', 'Nourriture', 'Semences', 'Traitement', 'Autres Utilisations']\n",
    "\n",
    "# Calcul des sommes pour chaque colonne\n",
    "sommes = [dispo_alimentaire_2017[colonne].sum() for colonne in colonnes]\n",
    "\n",
    "# Création du graphique\n",
    "bars = plt.bar(colonnes, sommes)\n",
    "plt.xlabel('Colonnes')\n",
    "plt.ylabel('Somme des valeurs')\n",
    "plt.title('Somme des valeurs pour chaque colonne')\n",
    "plt.xticks(rotation=45)  # Rotation des étiquettes de l'axe des x pour une meilleure lisibilité\n",
    "\n",
    "# Calcul de la somme totale\n",
    "total = np.sum(sommes)\n",
    "\n",
    "# Ajout des proportions sur chaque barre\n",
    "for bar in bars:\n",
    "    yval = bar.get_height()\n",
    "    plt.text(bar.get_x() + bar.get_width()/2, yval,\n",
    "             f'{int(yval/total*100)}%', ha='center', va='bottom')\n",
    "\n",
    "plt.show()"
   ]
  },
  {
   "cell_type": "markdown",
   "id": "141d05df",
   "metadata": {},
   "source": [
    "<div style=\"border: 1px solid RGB(0,150,250);\" >\n",
    "<h3 style=\"margin: auto; padding: 20px; color: RGB(0,150,250); \">3.5 - Utilisation des céréales</h3>\n",
    "</div>"
   ]
  },
  {
   "cell_type": "code",
   "execution_count": 304,
   "id": "48c81bc6-1fd5-45ea-bb5a-c278da46a9cf",
   "metadata": {},
   "outputs": [
    {
     "data": {
      "text/plain": [
       "Index(['Zone', 'Produit', 'Origine', 'Aliments pour animaux',\n",
       "       'Autres Utilisations', 'Disponibilité alimentaire (Kcal/personne/jour)',\n",
       "       'Disponibilité alimentaire en quantité (kg/personne/an)',\n",
       "       'Disponibilité de matière grasse en quantité (g/personne/jour)',\n",
       "       'Disponibilité de protéines en quantité (g/personne/jour)',\n",
       "       'Disponibilité intérieure', 'Exportations - Quantité',\n",
       "       'Importations - Quantité', 'Nourriture', 'Pertes', 'Production',\n",
       "       'Semences', 'Traitement', 'Variation de stock',\n",
       "       'Dispo_alimentaire_quantite_kg', 'Année', 'Population', 'dispo_kcal'],\n",
       "      dtype='object')"
      ]
     },
     "execution_count": 304,
     "metadata": {},
     "output_type": "execute_result"
    }
   ],
   "source": [
    "dispo_alimentaire_2017.columns"
   ]
  },
  {
   "cell_type": "code",
   "execution_count": 305,
   "id": "c27448ff",
   "metadata": {},
   "outputs": [
    {
     "name": "stdout",
     "output_type": "stream",
     "text": [
      "['Blé', 'Riz (Eq Blanchi)', 'Orge', 'Maïs', 'Seigle', 'Avoine', 'Millet', 'Sorgho', 'Céréales, Autres']\n"
     ]
    }
   ],
   "source": [
    "#Création d'une liste avec toutes les variables\n",
    "variable_céréales = ['Blé', 'Riz (Eq Blanchi)', 'Orge', 'Maïs', 'Seigle', 'Avoine', 'Millet', 'Sorgho', 'Céréales, Autres']\n",
    "print(variable_céréales)"
   ]
  },
  {
   "cell_type": "code",
   "execution_count": 306,
   "id": "5dc5586d",
   "metadata": {},
   "outputs": [
    {
     "data": {
      "text/html": [
       "<div>\n",
       "<style scoped>\n",
       "    .dataframe tbody tr th:only-of-type {\n",
       "        vertical-align: middle;\n",
       "    }\n",
       "\n",
       "    .dataframe tbody tr th {\n",
       "        vertical-align: top;\n",
       "    }\n",
       "\n",
       "    .dataframe thead th {\n",
       "        text-align: right;\n",
       "    }\n",
       "</style>\n",
       "<table border=\"1\" class=\"dataframe\">\n",
       "  <thead>\n",
       "    <tr style=\"text-align: right;\">\n",
       "      <th></th>\n",
       "      <th>Zone</th>\n",
       "      <th>Produit</th>\n",
       "      <th>Origine</th>\n",
       "      <th>Aliments pour animaux</th>\n",
       "      <th>Autres Utilisations</th>\n",
       "      <th>Disponibilité alimentaire (Kcal/personne/jour)</th>\n",
       "      <th>Disponibilité alimentaire en quantité (kg/personne/an)</th>\n",
       "      <th>Disponibilité de matière grasse en quantité (g/personne/jour)</th>\n",
       "      <th>Disponibilité de protéines en quantité (g/personne/jour)</th>\n",
       "      <th>Disponibilité intérieure</th>\n",
       "      <th>...</th>\n",
       "      <th>Nourriture</th>\n",
       "      <th>Pertes</th>\n",
       "      <th>Production</th>\n",
       "      <th>Semences</th>\n",
       "      <th>Traitement</th>\n",
       "      <th>Variation de stock</th>\n",
       "      <th>Dispo_alimentaire_quantite_kg</th>\n",
       "      <th>Année</th>\n",
       "      <th>Population</th>\n",
       "      <th>dispo_kcal</th>\n",
       "    </tr>\n",
       "  </thead>\n",
       "  <tbody>\n",
       "    <tr>\n",
       "      <th>7</th>\n",
       "      <td>Afghanistan</td>\n",
       "      <td>Blé</td>\n",
       "      <td>vegetale</td>\n",
       "      <td>0.0</td>\n",
       "      <td>0.0</td>\n",
       "      <td>1369.0</td>\n",
       "      <td>160.23</td>\n",
       "      <td>4.69</td>\n",
       "      <td>36.91</td>\n",
       "      <td>5.992000e+09</td>\n",
       "      <td>...</td>\n",
       "      <td>4.895000e+09</td>\n",
       "      <td>775000000.0</td>\n",
       "      <td>5.169000e+09</td>\n",
       "      <td>322000000.0</td>\n",
       "      <td>0.0</td>\n",
       "      <td>-350000000.0</td>\n",
       "      <td>5.992000e+15</td>\n",
       "      <td>2017</td>\n",
       "      <td>36296113.0</td>\n",
       "      <td>1.813662e+13</td>\n",
       "    </tr>\n",
       "    <tr>\n",
       "      <th>12</th>\n",
       "      <td>Afghanistan</td>\n",
       "      <td>Céréales, Autres</td>\n",
       "      <td>vegetale</td>\n",
       "      <td>0.0</td>\n",
       "      <td>0.0</td>\n",
       "      <td>0.0</td>\n",
       "      <td>0.00</td>\n",
       "      <td>0.00</td>\n",
       "      <td>0.00</td>\n",
       "      <td>0.000000e+00</td>\n",
       "      <td>...</td>\n",
       "      <td>0.000000e+00</td>\n",
       "      <td>0.0</td>\n",
       "      <td>0.000000e+00</td>\n",
       "      <td>0.0</td>\n",
       "      <td>0.0</td>\n",
       "      <td>0.0</td>\n",
       "      <td>0.000000e+00</td>\n",
       "      <td>2017</td>\n",
       "      <td>36296113.0</td>\n",
       "      <td>0.000000e+00</td>\n",
       "    </tr>\n",
       "    <tr>\n",
       "      <th>32</th>\n",
       "      <td>Afghanistan</td>\n",
       "      <td>Maïs</td>\n",
       "      <td>vegetale</td>\n",
       "      <td>200000000.0</td>\n",
       "      <td>0.0</td>\n",
       "      <td>21.0</td>\n",
       "      <td>2.50</td>\n",
       "      <td>0.30</td>\n",
       "      <td>0.56</td>\n",
       "      <td>3.130000e+08</td>\n",
       "      <td>...</td>\n",
       "      <td>7.600000e+07</td>\n",
       "      <td>31000000.0</td>\n",
       "      <td>3.120000e+08</td>\n",
       "      <td>5000000.0</td>\n",
       "      <td>0.0</td>\n",
       "      <td>0.0</td>\n",
       "      <td>3.130000e+14</td>\n",
       "      <td>2017</td>\n",
       "      <td>36296113.0</td>\n",
       "      <td>2.782097e+11</td>\n",
       "    </tr>\n",
       "    <tr>\n",
       "      <th>34</th>\n",
       "      <td>Afghanistan</td>\n",
       "      <td>Millet</td>\n",
       "      <td>vegetale</td>\n",
       "      <td>0.0</td>\n",
       "      <td>0.0</td>\n",
       "      <td>3.0</td>\n",
       "      <td>0.40</td>\n",
       "      <td>0.02</td>\n",
       "      <td>0.08</td>\n",
       "      <td>1.300000e+07</td>\n",
       "      <td>...</td>\n",
       "      <td>1.200000e+07</td>\n",
       "      <td>1000000.0</td>\n",
       "      <td>1.300000e+07</td>\n",
       "      <td>0.0</td>\n",
       "      <td>0.0</td>\n",
       "      <td>0.0</td>\n",
       "      <td>1.300000e+13</td>\n",
       "      <td>2017</td>\n",
       "      <td>36296113.0</td>\n",
       "      <td>3.974424e+10</td>\n",
       "    </tr>\n",
       "    <tr>\n",
       "      <th>40</th>\n",
       "      <td>Afghanistan</td>\n",
       "      <td>Orge</td>\n",
       "      <td>vegetale</td>\n",
       "      <td>360000000.0</td>\n",
       "      <td>0.0</td>\n",
       "      <td>26.0</td>\n",
       "      <td>2.92</td>\n",
       "      <td>0.24</td>\n",
       "      <td>0.79</td>\n",
       "      <td>5.240000e+08</td>\n",
       "      <td>...</td>\n",
       "      <td>8.900000e+07</td>\n",
       "      <td>52000000.0</td>\n",
       "      <td>5.140000e+08</td>\n",
       "      <td>22000000.0</td>\n",
       "      <td>0.0</td>\n",
       "      <td>0.0</td>\n",
       "      <td>5.240000e+14</td>\n",
       "      <td>2017</td>\n",
       "      <td>36296113.0</td>\n",
       "      <td>3.444501e+11</td>\n",
       "    </tr>\n",
       "  </tbody>\n",
       "</table>\n",
       "<p>5 rows × 22 columns</p>\n",
       "</div>"
      ],
      "text/plain": [
       "           Zone           Produit   Origine  Aliments pour animaux  \\\n",
       "7   Afghanistan               Blé  vegetale                    0.0   \n",
       "12  Afghanistan  Céréales, Autres  vegetale                    0.0   \n",
       "32  Afghanistan              Maïs  vegetale            200000000.0   \n",
       "34  Afghanistan            Millet  vegetale                    0.0   \n",
       "40  Afghanistan              Orge  vegetale            360000000.0   \n",
       "\n",
       "    Autres Utilisations  Disponibilité alimentaire (Kcal/personne/jour)  \\\n",
       "7                   0.0                                          1369.0   \n",
       "12                  0.0                                             0.0   \n",
       "32                  0.0                                            21.0   \n",
       "34                  0.0                                             3.0   \n",
       "40                  0.0                                            26.0   \n",
       "\n",
       "    Disponibilité alimentaire en quantité (kg/personne/an)  \\\n",
       "7                                              160.23        \n",
       "12                                               0.00        \n",
       "32                                               2.50        \n",
       "34                                               0.40        \n",
       "40                                               2.92        \n",
       "\n",
       "    Disponibilité de matière grasse en quantité (g/personne/jour)  \\\n",
       "7                                                4.69               \n",
       "12                                               0.00               \n",
       "32                                               0.30               \n",
       "34                                               0.02               \n",
       "40                                               0.24               \n",
       "\n",
       "    Disponibilité de protéines en quantité (g/personne/jour)  \\\n",
       "7                                               36.91          \n",
       "12                                               0.00          \n",
       "32                                               0.56          \n",
       "34                                               0.08          \n",
       "40                                               0.79          \n",
       "\n",
       "    Disponibilité intérieure  ...    Nourriture       Pertes    Production  \\\n",
       "7               5.992000e+09  ...  4.895000e+09  775000000.0  5.169000e+09   \n",
       "12              0.000000e+00  ...  0.000000e+00          0.0  0.000000e+00   \n",
       "32              3.130000e+08  ...  7.600000e+07   31000000.0  3.120000e+08   \n",
       "34              1.300000e+07  ...  1.200000e+07    1000000.0  1.300000e+07   \n",
       "40              5.240000e+08  ...  8.900000e+07   52000000.0  5.140000e+08   \n",
       "\n",
       "       Semences  Traitement  Variation de stock  \\\n",
       "7   322000000.0         0.0        -350000000.0   \n",
       "12          0.0         0.0                 0.0   \n",
       "32    5000000.0         0.0                 0.0   \n",
       "34          0.0         0.0                 0.0   \n",
       "40   22000000.0         0.0                 0.0   \n",
       "\n",
       "    Dispo_alimentaire_quantite_kg  Année  Population    dispo_kcal  \n",
       "7                    5.992000e+15   2017  36296113.0  1.813662e+13  \n",
       "12                   0.000000e+00   2017  36296113.0  0.000000e+00  \n",
       "32                   3.130000e+14   2017  36296113.0  2.782097e+11  \n",
       "34                   1.300000e+13   2017  36296113.0  3.974424e+10  \n",
       "40                   5.240000e+14   2017  36296113.0  3.444501e+11  \n",
       "\n",
       "[5 rows x 22 columns]"
      ]
     },
     "execution_count": 306,
     "metadata": {},
     "output_type": "execute_result"
    }
   ],
   "source": [
    "#Création d'un dataframe avec les informations uniquement pour ces céréales\n",
    "variable_céréales = dispo_alimentaire_2017[dispo_alimentaire_2017['Produit'].isin(variable_céréales)]\n",
    "\n",
    "variable_céréales.head()"
   ]
  },
  {
   "cell_type": "code",
   "execution_count": 307,
   "id": "8365de95",
   "metadata": {},
   "outputs": [],
   "source": [
    "# Calcul de la proportion d'alimentation animale\n",
    "## Calcul du total de tous les aliments\n",
    "total_aliments = variable_céréales['Aliments pour animaux'].sum() + variable_céréales['Nourriture'].sum()\n",
    "\n",
    "## Calcul de la proportion d'aliments pour animaux\n",
    "proportion_aliments_animaux = variable_céréales['Aliments pour animaux'].sum() / total_aliments\n",
    "\n",
    "## Calcul de la proportion d'aliments humains\n",
    "proportion_aliments_humains = variable_céréales['Nourriture'].sum() / total_aliments\n"
   ]
  },
  {
   "cell_type": "code",
   "execution_count": 308,
   "id": "6f5e93c7",
   "metadata": {},
   "outputs": [
    {
     "name": "stdout",
     "output_type": "stream",
     "text": [
      "La proportion d'aliments pour animaux est :  0.45722280819050687\n"
     ]
    }
   ],
   "source": [
    "#Affichage de la proportion d'alimentation animale\n",
    "print(\"La proportion d'aliments pour animaux est : \", proportion_aliments_animaux)"
   ]
  },
  {
   "cell_type": "code",
   "execution_count": 309,
   "id": "93e364b4-8a32-4c16-bc40-ef4a9151ef71",
   "metadata": {},
   "outputs": [
    {
     "name": "stdout",
     "output_type": "stream",
     "text": [
      "La proportion d'aliments humains est :  0.5427771918094931\n"
     ]
    }
   ],
   "source": [
    "#Affichage de la proportion d'alimentation humaine\n",
    "print(\"La proportion d'aliments humains est : \", proportion_aliments_humains)"
   ]
  },
  {
   "cell_type": "code",
   "execution_count": 310,
   "id": "a038c9c3-b6ff-4122-8ecb-5a4cec3f28ce",
   "metadata": {},
   "outputs": [
    {
     "name": "stdout",
     "output_type": "stream",
     "text": [
      "La proportion de Blé pour l'alimentation humaine est de 44.15452186456357%\n",
      "La proportion de Blé pour l'alimentation animale est de 14.15587210553562%\n",
      "La proportion de Riz (Eq Blanchi) pour l'alimentation humaine est de 36.927319337085876%\n",
      "La proportion de Riz (Eq Blanchi) pour l'alimentation animale est de 3.906516289269033%\n",
      "La proportion de Orge pour l'alimentation humaine est de 0.6608758368742063%\n",
      "La proportion de Orge pour l'alimentation animale est de 10.329973302001477%\n",
      "La proportion de Maïs pour l'alimentation humaine est de 12.249329716677904%\n",
      "La proportion de Maïs pour l'alimentation animale est de 63.370927682741694%\n",
      "La proportion de Seigle pour l'alimentation humaine est de 0.5241733172360808%\n",
      "La proportion de Seigle pour l'alimentation animale est de 0.9391413597947919%\n",
      "La proportion de Avoine pour l'alimentation humaine est de 0.33896345191991095%\n",
      "La proportion de Avoine pour l'alimentation animale est de 1.8455936669322894%\n",
      "La proportion de Millet pour l'alimentation humaine est de 2.2577964533780714%\n",
      "La proportion de Millet pour l'alimentation animale est de 0.38272947773130994%\n",
      "La proportion de Sorgho pour l'alimentation humaine est de 2.366864485175371%\n",
      "La proportion de Sorgho pour l'alimentation animale est de 2.8843144896261697%\n",
      "La proportion de Céréales, Autres pour l'alimentation humaine est de 0.5201555370890105%\n",
      "La proportion de Céréales, Autres pour l'alimentation animale est de 2.1849316263676184%\n"
     ]
    }
   ],
   "source": [
    "# Liste des céréales\n",
    "céréales = ['Blé', 'Riz (Eq Blanchi)', 'Orge', 'Maïs', 'Seigle', 'Avoine', 'Millet', 'Sorgho', 'Céréales, Autres']\n",
    "\n",
    "# Calcul du total de tous les aliments pour l'alimentation humaine et animale\n",
    "total_aliments_humains = sum([variable_céréales[variable_céréales['Produit'] == céréale]['Nourriture'].sum() for céréale in céréales])\n",
    "total_aliments_animaux = sum([variable_céréales[variable_céréales['Produit'] == céréale]['Aliments pour animaux'].sum() for céréale in céréales])\n",
    "\n",
    "# Calcul de la proportion pour chaque céréale\n",
    "proportions_humains = {céréale: variable_céréales[variable_céréales['Produit'] == céréale]['Nourriture'].sum() / total_aliments_humains for céréale in céréales}\n",
    "proportions_animaux = {céréale: variable_céréales[variable_céréales['Produit'] == céréale]['Aliments pour animaux'].sum() / total_aliments_animaux for céréale in céréales}\n",
    "\n",
    "# Affichage des proportions\n",
    "for céréale in céréales:\n",
    "    print(f\"La proportion de {céréale} pour l'alimentation humaine est de {proportions_humains[céréale]*100}%\")\n",
    "    print(f\"La proportion de {céréale} pour l'alimentation animale est de {proportions_animaux[céréale]*100}%\")"
   ]
  },
  {
   "cell_type": "code",
   "execution_count": 311,
   "id": "a6abb0ea-6466-40fb-bad5-f04f1bb6d081",
   "metadata": {},
   "outputs": [
    {
     "name": "stdout",
     "output_type": "stream",
     "text": [
      "+------------------+--------------------------------------------+--------------------------------------------+\n",
      "|     Céréale      | Proportion pour l'alimentation humaine (%) | Proportion pour l'alimentation animale (%) |\n",
      "+------------------+--------------------------------------------+--------------------------------------------+\n",
      "|       Blé        |             44.15452186456357              |             14.15587210553562              |\n",
      "| Riz (Eq Blanchi) |             36.927319337085876             |             3.906516289269033              |\n",
      "|       Orge       |             0.6608758368742063             |             10.329973302001477             |\n",
      "|       Maïs       |             12.249329716677904             |             63.370927682741694             |\n",
      "|      Seigle      |             0.5241733172360808             |             0.9391413597947919             |\n",
      "|      Avoine      |            0.33896345191991095             |             1.8455936669322894             |\n",
      "|      Millet      |             2.2577964533780714             |            0.38272947773130994             |\n",
      "|      Sorgho      |             2.366864485175371              |             2.8843144896261697             |\n",
      "| Céréales, Autres |             0.5201555370890105             |             2.1849316263676184             |\n",
      "+------------------+--------------------------------------------+--------------------------------------------+\n"
     ]
    }
   ],
   "source": [
    "from prettytable import PrettyTable\n",
    "\n",
    "# Liste des céréales\n",
    "céréales = ['Blé', 'Riz (Eq Blanchi)', 'Orge', 'Maïs', 'Seigle', 'Avoine', 'Millet', 'Sorgho', 'Céréales, Autres']\n",
    "\n",
    "# Calcul du total de tous les aliments pour l'alimentation humaine et animale\n",
    "total_aliments_humains = sum([variable_céréales[variable_céréales['Produit'] == céréale]['Nourriture'].sum() for céréale in céréales])\n",
    "total_aliments_animaux = sum([variable_céréales[variable_céréales['Produit'] == céréale]['Aliments pour animaux'].sum() for céréale in céréales])\n",
    "\n",
    "# Calcul de la proportion pour chaque céréale\n",
    "proportions_humains = {céréale: variable_céréales[variable_céréales['Produit'] == céréale]['Nourriture'].sum() / total_aliments_humains for céréale in céréales}\n",
    "proportions_animaux = {céréale: variable_céréales[variable_céréales['Produit'] == céréale]['Aliments pour animaux'].sum() / total_aliments_animaux for céréale in céréales}\n",
    "\n",
    "# Création du tableau\n",
    "table = PrettyTable()\n",
    "\n",
    "# Ajout des en-têtes de colonnes\n",
    "table.field_names = ['Céréale', 'Proportion pour l\\'alimentation humaine (%)', 'Proportion pour l\\'alimentation animale (%)']\n",
    "\n",
    "# Ajout des lignes\n",
    "for céréale in céréales:\n",
    "    table.add_row([céréale, proportions_humains[céréale]*100, proportions_animaux[céréale]*100])\n",
    "\n",
    "# Affichage du tableau\n",
    "print(table)"
   ]
  },
  {
   "cell_type": "code",
   "execution_count": 382,
   "id": "5913acfa-c0b1-4e10-9dd9-d28ee78da9fd",
   "metadata": {},
   "outputs": [
    {
     "name": "stdout",
     "output_type": "stream",
     "text": [
      "+------------------+--------------------------------------------+--------------------------------------------+\n",
      "|     Céréale      | Proportion pour l'alimentation humaine (%) | Proportion pour l'alimentation animale (%) |\n",
      "+------------------+--------------------------------------------+--------------------------------------------+\n",
      "|       Blé        |                   44.15                    |                   14.16                    |\n",
      "| Riz (Eq Blanchi) |                   36.93                    |                    3.91                    |\n",
      "|       Orge       |                    0.66                    |                   10.33                    |\n",
      "|       Maïs       |                   12.25                    |                   63.37                    |\n",
      "|      Seigle      |                    0.52                    |                    0.94                    |\n",
      "|      Avoine      |                    0.34                    |                    1.85                    |\n",
      "|      Millet      |                    2.26                    |                    0.38                    |\n",
      "|      Sorgho      |                    2.37                    |                    2.88                    |\n",
      "| Céréales, Autres |                    0.52                    |                    2.18                    |\n",
      "+------------------+--------------------------------------------+--------------------------------------------+\n"
     ]
    }
   ],
   "source": [
    "from prettytable import PrettyTable\n",
    "\n",
    "# Liste des céréales\n",
    "céréales = ['Blé', 'Riz (Eq Blanchi)', 'Orge', 'Maïs', 'Seigle', 'Avoine', 'Millet', 'Sorgho', 'Céréales, Autres']\n",
    "\n",
    "# Calcul du total de tous les aliments pour l'alimentation humaine et animale\n",
    "total_aliments_humains = sum([variable_céréales[variable_céréales['Produit'] == céréale]['Nourriture'].sum() for céréale in céréales])\n",
    "total_aliments_animaux = sum([variable_céréales[variable_céréales['Produit'] == céréale]['Aliments pour animaux'].sum() for céréale in céréales])\n",
    "\n",
    "# Calcul de la proportion pour chaque céréale\n",
    "proportions_humains = {céréale: round(variable_céréales[variable_céréales['Produit'] == céréale]['Nourriture'].sum() / total_aliments_humains * 100, 2) for céréale in céréales}\n",
    "proportions_animaux = {céréale: round(variable_céréales[variable_céréales['Produit'] == céréale]['Aliments pour animaux'].sum() / total_aliments_animaux * 100, 2) for céréale in céréales}\n",
    "\n",
    "# Création du tableau\n",
    "table = PrettyTable()\n",
    "\n",
    "# Ajout des en-têtes de colonnes\n",
    "table.field_names = ['Céréale', 'Proportion pour l\\'alimentation humaine (%)', 'Proportion pour l\\'alimentation animale (%)']\n",
    "\n",
    "# Ajout des lignes\n",
    "for céréale in céréales:\n",
    "    table.add_row([céréale, proportions_humains[céréale], proportions_animaux[céréale]])\n",
    "\n",
    "# Affichage du tableau\n",
    "print(table)"
   ]
  },
  {
   "cell_type": "code",
   "execution_count": 384,
   "id": "3b673650-d89d-416d-8582-9272f2217c36",
   "metadata": {},
   "outputs": [
    {
     "data": {
      "image/png": "[encoded data removed]",
      "text/plain": [
       "<Figure size 640x480 with 1 Axes>"
      ]
     },
     "metadata": {},
     "output_type": "display_data"
    }
   ],
   "source": [
    "import matplotlib.pyplot as plt\n",
    "import pandas as pd\n",
    "\n",
    "# Création d'un DataFrame à partir de vos données\n",
    "data = pd.DataFrame({\n",
    "    'Céréale': ['Blé', 'Riz (Eq Blanchi)', 'Orge', 'Maïs', 'Seigle', 'Avoine', 'Millet', 'Sorgho', 'Céréales, Autres'],\n",
    "    'Proportion pour l\\'alimentation humaine (%)': [44.15452186456357, 36.927319337085876, 0.6608758368742063, 12.249329716677904, 0.5241733172360808, 0.33896345191991095, 2.2577964533780714, 2.366864485175371, 0.5201555370890105],\n",
    "    'Proportion pour l\\'alimentation animale (%)': [14.15587210553562, 3.906516289269033, 10.329973302001477, 63.370927682741694, 0.9391413597947919, 1.8455936669322894, 0.38272947773130994, 2.8843144896261697, 2.1849316263676184]\n",
    "})\n",
    "\n",
    "# Création du diagramme à barres empilé\n",
    "barWidth = 0.5\n",
    "r1 = np.arange(len(data['Céréale']))\n",
    "plt.bar(r1, data['Proportion pour l\\'alimentation humaine (%)'], color='b', width=barWidth, edgecolor='grey', label='Alimentation humaine')\n",
    "plt.bar(r1, data['Proportion pour l\\'alimentation animale (%)'], bottom=data['Proportion pour l\\'alimentation humaine (%)'], color='y', width=barWidth, edgecolor='grey', label='Alimentation animale')\n",
    "\n",
    "# Ajout des légendes\n",
    "plt.xlabel('Céréales', fontweight='bold', fontsize=15)\n",
    "plt.ylabel('Proportion (%)', fontweight='bold', fontsize=15)\n",
    "plt.xticks([r for r in range(len(data['Céréale']))], data['Céréale'], rotation=45)\n",
    "plt.legend()\n",
    "\n",
    "# Affichage du diagramme\n",
    "plt.show()"
   ]
  },
  {
   "cell_type": "code",
   "execution_count": 312,
   "id": "c443ae3f-b3c0-40c1-8c01-42ffd540f201",
   "metadata": {},
   "outputs": [
    {
     "data": {
      "text/plain": [
       "Index(['Zone', 'Produit', 'Origine', 'Aliments pour animaux',\n",
       "       'Autres Utilisations', 'Disponibilité alimentaire (Kcal/personne/jour)',\n",
       "       'Disponibilité alimentaire en quantité (kg/personne/an)',\n",
       "       'Disponibilité de matière grasse en quantité (g/personne/jour)',\n",
       "       'Disponibilité de protéines en quantité (g/personne/jour)',\n",
       "       'Disponibilité intérieure', 'Exportations - Quantité',\n",
       "       'Importations - Quantité', 'Nourriture', 'Pertes', 'Production',\n",
       "       'Semences', 'Traitement', 'Variation de stock',\n",
       "       'Dispo_alimentaire_quantite_kg', 'Année', 'Population', 'dispo_kcal'],\n",
       "      dtype='object')"
      ]
     },
     "execution_count": 312,
     "metadata": {},
     "output_type": "execute_result"
    }
   ],
   "source": [
    "céréales_autres.columns"
   ]
  },
  {
   "cell_type": "code",
   "execution_count": 313,
   "id": "05fd61ee-5b82-4ec7-9c76-b51454323076",
   "metadata": {},
   "outputs": [
    {
     "name": "stdout",
     "output_type": "stream",
     "text": [
      "La proportion des céréales dans l'alimentation animale est :  0.6674019139721833\n",
      "La proportion des céréales dans l'alimentation humaine est :  0.2123522403899678\n"
     ]
    }
   ],
   "source": [
    "# Liste des céréales\n",
    "céréales = ['Blé', 'Riz (Eq Blanchi)', 'Orge', 'Maïs', 'Seigle', 'Avoine', 'Millet', 'Sorgho', 'Céréales, Autres']\n",
    "\n",
    "# Filtrage du DataFrame pour les céréales\n",
    "df_céréales = dispo_alimentaire_2017[dispo_alimentaire_2017['Produit'].isin(céréales)]\n",
    "\n",
    "# Calcul du total des aliments pour animaux et de la nourriture pour les céréales\n",
    "total_aliments_animaux_céréales = df_céréales['Aliments pour animaux'].sum()\n",
    "total_nourriture_céréales = df_céréales['Nourriture'].sum()\n",
    "\n",
    "# Calcul du total des aliments pour animaux et de la nourriture pour toutes les lignes\n",
    "total_aliments_animaux = dispo_alimentaire_2017['Aliments pour animaux'].sum()\n",
    "total_nourriture = dispo_alimentaire_2017['Nourriture'].sum()\n",
    "\n",
    "# Calcul de la proportion des aliments pour animaux et de la nourriture pour les céréales\n",
    "proportion_aliments_animaux_céréales = total_aliments_animaux_céréales / total_aliments_animaux\n",
    "proportion_nourriture_céréales = total_nourriture_céréales / total_nourriture\n",
    "\n",
    "# Affichage des proportions pour les céréales\n",
    "print(\"La proportion des céréales dans l'alimentation animale est : \", proportion_aliments_animaux_céréales)\n",
    "print(\"La proportion des céréales dans l'alimentation humaine est : \", proportion_nourriture_céréales)\n"
   ]
  },
  {
   "cell_type": "code",
   "execution_count": 314,
   "id": "d3c501aa-afda-4cbc-97c9-dfa6cea2d323",
   "metadata": {},
   "outputs": [
    {
     "name": "stdout",
     "output_type": "stream",
     "text": [
      "La proportion de l'alimentation pour animaux par rapport à la disponibilité intérieure est :  0.1323209019340293\n",
      "La proportion de l'alimentation humaine par rapport à la disponibilité intérieure est :  0.4936882103184049\n"
     ]
    }
   ],
   "source": [
    "# Calcul du total de la disponibilité intérieure, de l'alimentation pour animaux et de la nourriture pour toutes les lignes\n",
    "total_dispo_interieure = dispo_alimentaire_2017['Disponibilité intérieure'].sum()\n",
    "total_aliments_animaux = dispo_alimentaire_2017['Aliments pour animaux'].sum()\n",
    "total_nourriture = dispo_alimentaire_2017['Nourriture'].sum()\n",
    "\n",
    "# Calcul de la proportion de l'alimentation pour animaux et de la nourriture par rapport à la disponibilité intérieure\n",
    "proportion_aliments_animaux = total_aliments_animaux / total_dispo_interieure\n",
    "proportion_nourriture = total_nourriture / total_dispo_interieure\n",
    "\n",
    "# Affichage des proportions\n",
    "print(\"La proportion de l'alimentation pour animaux par rapport à la disponibilité intérieure est : \", proportion_aliments_animaux)\n",
    "print(\"La proportion de l'alimentation humaine par rapport à la disponibilité intérieure est : \", proportion_nourriture)"
   ]
  },
  {
   "cell_type": "code",
   "execution_count": 315,
   "id": "ef8b2ccc-5243-46b7-b665-7d268722f1b7",
   "metadata": {},
   "outputs": [
    {
     "name": "stdout",
     "output_type": "stream",
     "text": [
      "   Aliments pour animaux  Nourriture    Pertes  Semences  Traitement  \\\n",
      "0              13.229526   49.462012  4.602057  1.568997   22.363102   \n",
      "\n",
      "   Autres Utilisations  \n",
      "0             8.774306  \n"
     ]
    }
   ],
   "source": [
    "# Définir les colonnes d'intérêt\n",
    "colonnes = ['Aliments pour animaux','Nourriture', 'Pertes','Semences', 'Traitement', 'Autres Utilisations']\n",
    "\n",
    "# Initialiser un DataFrame pour stocker les résultats\n",
    "resultats = pd.DataFrame()\n",
    "\n",
    "# Calculer la somme totale des valeurs dans les colonnes d'intérêt\n",
    "somme_totale = dispo_alimentaire[colonnes].sum().sum()\n",
    "\n",
    "# Calculer la proportion pour chaque colonne\n",
    "for colonne in colonnes:\n",
    "    somme_colonne = dispo_alimentaire[colonne].sum()\n",
    "    proportion = (somme_colonne / somme_totale) * 100\n",
    "    resultats[colonne] = [proportion]\n",
    "\n",
    "# Afficher les proportions\n",
    "print(resultats)"
   ]
  },
  {
   "cell_type": "markdown",
   "id": "a603be79",
   "metadata": {},
   "source": [
    "<div style=\"border: 1px solid RGB(0,150,250);\" >\n",
    "<h3 style=\"margin: auto; padding: 20px; color: RGB(0,150,250); \">3.6 - Pays avec la proportion de personnes sous-alimentée la plus forte en 2017</h3>\n",
    "</div>"
   ]
  },
  {
   "cell_type": "code",
   "execution_count": 316,
   "id": "854b253d-316a-4b90-a2ed-2a60e5b6a541",
   "metadata": {},
   "outputs": [
    {
     "data": {
      "text/plain": [
       "Index(['Zone', 'Année_x', 'sous_nutrition', 'Année_y', 'Population'], dtype='object')"
      ]
     },
     "execution_count": 316,
     "metadata": {},
     "output_type": "execute_result"
    }
   ],
   "source": [
    "jointure_sous_nutrition_2017_population_2017.columns"
   ]
  },
  {
   "cell_type": "code",
   "execution_count": 317,
   "id": "b78cbe75-08b1-4e8a-9ca6-fc20f1d983dc",
   "metadata": {},
   "outputs": [],
   "source": [
    "# Création de la colonne 'Proportion'\n",
    "jointure_sous_nutrition_2017_population_2017['Proportion'] = jointure_sous_nutrition_2017_population_2017.apply(\n",
    "    lambda row: row['sous_nutrition'] / row['Population'] if row['Population'] > 0 else 0,\n",
    "    axis=1\n",
    ")\n",
    "\n",
    "# Tri du DataFrame par la colonne 'sous_nutrition' dans l'ordre décroissant\n",
    "classement_sous_nutrition = jointure_sous_nutrition_2017_population_2017.sort_values(by='Proportion', ascending=False).head(10)\n"
   ]
  },
  {
   "cell_type": "code",
   "execution_count": 318,
   "id": "d904e62a-de61-4783-b0f1-06ba598158b5",
   "metadata": {},
   "outputs": [
    {
     "name": "stdout",
     "output_type": "stream",
     "text": [
      "+--------------------------------------------+---------+----------------+--------------------+---------------------+\n",
      "|                    Zone                    | Année_y | sous_nutrition |     Population     |      Proportion     |\n",
      "+--------------------------------------------+---------+----------------+--------------------+---------------------+\n",
      "|                   Haïti                    |   2017  |   5300000.0    | 10982366.000000002 | 0.48259182037823173 |\n",
      "| République populaire démocratique de Corée |   2017  |   12000000.0   |     25429825.0     |  0.4718868493982951 |\n",
      "|                 Madagascar                 |   2017  |   10500000.0   |     25570512.0     |  0.4106292435599256 |\n",
      "|                  Libéria                   |   2017  |   1800000.0    |     4702226.0      | 0.38279742402853456 |\n",
      "|                  Lesotho                   |   2017  |    800000.0    |     2091534.0      | 0.38249437972320793 |\n",
      "|                   Tchad                    |   2017  |   5700000.0    |     15016753.0     | 0.37957606414649026 |\n",
      "|                   Rwanda                   |   2017  |   4200000.0    |     11980961.0     |  0.3505561866030613 |\n",
      "|                 Mozambique                 |   2017  |   9400000.0    |     28649018.0     | 0.32810897741765527 |\n",
      "|                Timor-Leste                 |   2017  |    400000.0    |     1243258.0      | 0.32173531157651913 |\n",
      "|                Afghanistan                 |   2017  |   10500000.0   |     36296113.0     |  0.289287175185949  |\n",
      "+--------------------------------------------+---------+----------------+--------------------+---------------------+\n"
     ]
    }
   ],
   "source": [
    "from prettytable import PrettyTable\n",
    "\n",
    "# Création d'une instance de PrettyTable\n",
    "table = PrettyTable()\n",
    "\n",
    "# Ajout des en-têtes de colonnes\n",
    "table.field_names = ['Zone', 'Année_y', 'sous_nutrition', 'Population', 'Proportion']\n",
    "\n",
    "# Ajout des lignes dans le tableau\n",
    "for _, row in classement_sous_nutrition.iterrows():\n",
    "    table.add_row([row['Zone'], row['Année_y'], row['sous_nutrition'], row['Population'], row['Proportion']])\n",
    "\n",
    "# Affichage du tableau\n",
    "print(table)\n"
   ]
  },
  {
   "cell_type": "code",
   "execution_count": 385,
   "id": "7b5603ec-c522-4c4b-a51e-707bf77b5bac",
   "metadata": {},
   "outputs": [
    {
     "name": "stdout",
     "output_type": "stream",
     "text": [
      "+--------------------------------------------+---------+----------------+------------+------------+\n",
      "|                    Zone                    | Année_y | sous_nutrition | Population | Proportion |\n",
      "+--------------------------------------------+---------+----------------+------------+------------+\n",
      "|                   Haïti                    |   2017  |   5300000.0    | 10982366.0 |    0.48    |\n",
      "| République populaire démocratique de Corée |   2017  |   12000000.0   | 25429825.0 |    0.47    |\n",
      "|                 Madagascar                 |   2017  |   10500000.0   | 25570512.0 |    0.41    |\n",
      "|                  Libéria                   |   2017  |   1800000.0    | 4702226.0  |    0.38    |\n",
      "|                  Lesotho                   |   2017  |    800000.0    | 2091534.0  |    0.38    |\n",
      "|                   Tchad                    |   2017  |   5700000.0    | 15016753.0 |    0.38    |\n",
      "|                   Rwanda                   |   2017  |   4200000.0    | 11980961.0 |    0.35    |\n",
      "|                 Mozambique                 |   2017  |   9400000.0    | 28649018.0 |    0.33    |\n",
      "|                Timor-Leste                 |   2017  |    400000.0    | 1243258.0  |    0.32    |\n",
      "|                Afghanistan                 |   2017  |   10500000.0   | 36296113.0 |    0.29    |\n",
      "+--------------------------------------------+---------+----------------+------------+------------+\n"
     ]
    }
   ],
   "source": [
    "from prettytable import PrettyTable\n",
    "\n",
    "# Création d'une instance de PrettyTable\n",
    "table = PrettyTable()\n",
    "\n",
    "# Ajout des en-têtes de colonnes\n",
    "table.field_names = ['Zone', 'Année_y', 'sous_nutrition', 'Population', 'Proportion']\n",
    "\n",
    "# Ajout des lignes dans le tableau\n",
    "for _, row in classement_sous_nutrition.iterrows():\n",
    "    table.add_row([row['Zone'], row['Année_y'], round(row['sous_nutrition'], 2), round(row['Population'], 2), round(row['Proportion'], 2)])\n",
    "\n",
    "# Affichage du tableau\n",
    "print(table)"
   ]
  },
  {
   "cell_type": "code",
   "execution_count": 319,
   "id": "874cfe8d-780c-4e03-8ac9-feb79d9bf1de",
   "metadata": {},
   "outputs": [
    {
     "data": {
      "image/png": "[encoded data removed]",
      "text/plain": [
       "<Figure size 1000x600 with 1 Axes>"
      ]
     },
     "metadata": {},
     "output_type": "display_data"
    }
   ],
   "source": [
    "import matplotlib.pyplot as plt\n",
    "\n",
    "# Création du diagramme circulaire\n",
    "plt.figure(figsize=(10, 6))\n",
    "plt.pie(classement_sous_nutrition['Proportion'], labels = classement_sous_nutrition['Zone'], autopct='%1.1f%%')\n",
    "plt.title('Proportion de sous-nutrition par pays')\n",
    "plt.show()"
   ]
  },
  {
   "cell_type": "markdown",
   "id": "4f610008",
   "metadata": {},
   "source": [
    "<div style=\"border: 1px solid RGB(0,150,250);\" >\n",
    "<h3 style=\"margin: auto; padding: 20px; color: RGB(0,150,250); \">3.7 - Pays qui ont le plus bénéficié d'aide alimentaire depuis 2013</h3>\n",
    "</div>"
   ]
  },
  {
   "cell_type": "code",
   "execution_count": 320,
   "id": "eabb8ef4-1499-4222-96ec-47d03d360325",
   "metadata": {},
   "outputs": [
    {
     "data": {
      "text/plain": [
       "Index(['Pays bénéficiaire', 'Année', 'Produit', 'Valeur', 'Valeur_kg'], dtype='object')"
      ]
     },
     "execution_count": 320,
     "metadata": {},
     "output_type": "execute_result"
    }
   ],
   "source": [
    "aide_alimentaire.columns"
   ]
  },
  {
   "cell_type": "code",
   "execution_count": 321,
   "id": "ff1b24a3",
   "metadata": {},
   "outputs": [],
   "source": [
    "# Filtrage du dataframe pour inclure seulement les données depuis 2013\n",
    "aide_alimentaire_sorted= aide_alimentaire[aide_alimentaire['Année'] >= 2013]\n",
    "\n",
    "# Calcul du total de l'aide alimentaire par pays\n",
    "total_aide_alimentaire_par_pays = aide_alimentaire.groupby('Pays bénéficiaire')['Valeur_kg'].sum()"
   ]
  },
  {
   "cell_type": "code",
   "execution_count": 363,
   "id": "80b2026e-9817-4c14-873e-ba9e1960d0d5",
   "metadata": {},
   "outputs": [
    {
     "name": "stdout",
     "output_type": "stream",
     "text": [
      "+----------------------------------+------------+\n",
      "|        Pays bénéficiaire         | Valeur_kg  |\n",
      "+----------------------------------+------------+\n",
      "|    République arabe syrienne     | 1858943000 |\n",
      "|             Éthiopie             | 1381294000 |\n",
      "|              Yémen               | 1206484000 |\n",
      "|          Soudan du Sud           | 695248000  |\n",
      "|              Soudan              | 669784000  |\n",
      "|              Kenya               | 552836000  |\n",
      "|            Bangladesh            | 348188000  |\n",
      "|             Somalie              | 292678000  |\n",
      "| République démocratique du Congo | 288502000  |\n",
      "|              Niger               | 276344000  |\n",
      "+----------------------------------+------------+\n"
     ]
    }
   ],
   "source": [
    "from prettytable import PrettyTable\n",
    "\n",
    "# Filtrage des données pour inclure seulement les années 2013 et suivantes\n",
    "filtered_data = aide_alimentaire_sorted[aide_alimentaire_sorted['Année'] >= 2013]\n",
    "\n",
    "# Agrégation des données par pays\n",
    "grouped_data = filtered_data.groupby('Pays bénéficiaire')['Valeur_kg'].sum().reset_index()\n",
    "\n",
    "# Tri des données pour obtenir les 10 pays avec le plus grand total d'aide alimentaire\n",
    "top_10_countries = grouped_data.sort_values('Valeur_kg', ascending=False).head(10)\n",
    "\n",
    "# Création d'un objet PrettyTable\n",
    "table = PrettyTable()\n",
    "\n",
    "# Ajout des noms de colonnes\n",
    "table.field_names = ['Pays bénéficiaire', 'Valeur_kg']\n",
    "\n",
    "# Ajout des lignes\n",
    "for index, row in top_10_countries.iterrows():\n",
    "    table.add_row([row['Pays bénéficiaire'], row['Valeur_kg']])\n",
    "\n",
    "# Affichage du tableau\n",
    "print(table)"
   ]
  },
  {
   "cell_type": "code",
   "execution_count": 322,
   "id": "64a1246a-774f-4b48-89d3-0ac9a2ca1871",
   "metadata": {},
   "outputs": [
    {
     "name": "stdout",
     "output_type": "stream",
     "text": [
      "+---------------------------+-------+-----------+----------------------+\n",
      "|     Pays bénéficiaire     | Année | Valeur_kg |       Produit        |\n",
      "+---------------------------+-------+-----------+----------------------+\n",
      "|          Éthiopie         |  2014 | 265013000 |       Céréales       |\n",
      "|          Éthiopie         |  2013 | 256196000 |       Céréales       |\n",
      "| République arabe syrienne |  2014 | 225007000 |       Céréales       |\n",
      "|       Soudan du Sud       |  2014 | 213730000 | Céréales Secondaires |\n",
      "|       Soudan du Sud       |  2014 | 213730000 |       Céréales       |\n",
      "|           Yémen           |  2016 | 196027000 |       Céréales       |\n",
      "| République arabe syrienne |  2013 | 189623000 |       Céréales       |\n",
      "| République arabe syrienne |  2015 | 181475000 |       Céréales       |\n",
      "|          Éthiopie         |  2013 | 181066000 |     Blé et Farin     |\n",
      "|           Yémen           |  2016 | 179332000 |     Blé et Farin     |\n",
      "+---------------------------+-------+-----------+----------------------+\n"
     ]
    }
   ],
   "source": [
    "from prettytable import PrettyTable\n",
    "\n",
    "# Sélection des 10 premiers pays\n",
    "top_10_countries = aide_alimentaire_sorted.sort_values('Valeur_kg', ascending=False).head(10)\n",
    "\n",
    "# Création d'un objet PrettyTable\n",
    "table = PrettyTable()\n",
    "\n",
    "# Ajout des noms de colonnes\n",
    "table.field_names = ['Pays bénéficiaire', 'Année', 'Valeur_kg', 'Produit']\n",
    "\n",
    "# Ajout des lignes\n",
    "for index, row in top_10_countries.iterrows():\n",
    "    table.add_row([row['Pays bénéficiaire'], row['Année'], row['Valeur_kg'], row['Produit']])\n",
    "\n",
    "# Affichage du tableau\n",
    "print(table)"
   ]
  },
  {
   "cell_type": "code",
   "execution_count": 323,
   "id": "0500150d-943a-4760-8c35-6eed84ed3959",
   "metadata": {},
   "outputs": [
    {
     "data": {
      "image/png": "[encoded data removed]",
      "text/plain": [
       "<Figure size 1000x600 with 1 Axes>"
      ]
     },
     "metadata": {},
     "output_type": "display_data"
    }
   ],
   "source": [
    "import seaborn as sns\n",
    "import matplotlib.pyplot as plt\n",
    "import pandas as pd\n",
    "\n",
    "# Filtrer le DataFrame pour les années d'intérêt\n",
    "aide_alimentaire_sorted = aide_alimentaire_sorted[(aide_alimentaire_sorted['Année'] >= 2013) & (aide_alimentaire_sorted['Année'] <= 2016)]\n",
    "\n",
    "# Grouper par pays et par année, puis calculer la somme de l'aide reçue\n",
    "grouped = aide_alimentaire_sorted.groupby(['Pays bénéficiaire', 'Année'])['Valeur_kg'].sum().reset_index()\n",
    "\n",
    "# Pivoter le DataFrame pour avoir une colonne par année\n",
    "pivot = grouped.pivot(index='Pays bénéficiaire', columns='Année', values='Valeur_kg')\n",
    "\n",
    "# Trier par la somme de l'aide reçue sur toutes les années et sélectionner les 10 premiers pays\n",
    "top_10_countries = pivot.sum(axis=1).sort_values(ascending=False).head(10).index\n",
    "pivot = pivot.loc[top_10_countries]\n",
    "\n",
    "# Créer le graphique à barres empilées\n",
    "pivot.plot(kind='bar', stacked=True, figsize=(10, 6))\n",
    "\n",
    "# Ajouter les titres et les étiquettes\n",
    "plt.title('Top 10 des pays bénéficiaires de l\\'aide alimentaire (2013-2016)')\n",
    "plt.xlabel('Pays bénéficiaire')\n",
    "plt.ylabel('Aide alimentaire (kg)')\n",
    "\n",
    "# Afficher le graphique\n",
    "plt.show()"
   ]
  },
  {
   "cell_type": "markdown",
   "id": "a361ce61",
   "metadata": {},
   "source": [
    "<div style=\"border: 1px solid RGB(0,150,250);\" >\n",
    "<h3 style=\"margin: auto; padding: 20px; color: RGB(0,150,250); \">3.8 - Evolution des 5 pays qui ont le plus bénéficiés de l'aide alimentaire entre 2013 et 2016</h3>\n",
    "</div>"
   ]
  },
  {
   "cell_type": "code",
   "execution_count": 324,
   "id": "f8626eb3-afdd-4f42-97c3-ca05c0b40f50",
   "metadata": {},
   "outputs": [
    {
     "data": {
      "text/plain": [
       "Index(['Pays bénéficiaire', 'Année', 'Produit', 'Valeur', 'Valeur_kg'], dtype='object')"
      ]
     },
     "execution_count": 324,
     "metadata": {},
     "output_type": "execute_result"
    }
   ],
   "source": [
    "aide_alimentaire.columns"
   ]
  },
  {
   "cell_type": "code",
   "execution_count": 325,
   "id": "1c51ce99-516b-4f30-bd6e-fcc4056a0ce5",
   "metadata": {},
   "outputs": [
    {
     "name": "stdout",
     "output_type": "stream",
     "text": [
      "+--------------------------------------------+-------+------------------+\n",
      "|             Pays bénéficiaire              | Année | Aide alimentaire |\n",
      "+--------------------------------------------+-------+------------------+\n",
      "|         République arabe syrienne          |  2014 |    651870000     |\n",
      "|                  Éthiopie                  |  2013 |    591404000     |\n",
      "|                  Éthiopie                  |  2014 |    586624000     |\n",
      "|         République arabe syrienne          |  2013 |    563566000     |\n",
      "|         République arabe syrienne          |  2015 |    524949000     |\n",
      "|                   Yémen                    |  2016 |    465574000     |\n",
      "|               Soudan du Sud                |  2014 |    450610000     |\n",
      "|                   Yémen                    |  2015 |    372306000     |\n",
      "|                   Soudan                   |  2013 |    330230000     |\n",
      "|                   Soudan                   |  2014 |    321904000     |\n",
      "|                   Yémen                    |  2013 |    264764000     |\n",
      "|                   Kenya                    |  2013 |    220966000     |\n",
      "|                   Kenya                    |  2014 |    217418000     |\n",
      "|                  Éthiopie                  |  2015 |    203266000     |\n",
      "|               Soudan du Sud                |  2013 |    196330000     |\n",
      "|                 Bangladesh                 |  2014 |    194628000     |\n",
      "|      République démocratique du Congo      |  2013 |    150320000     |\n",
      "|                  Somalie                   |  2013 |    139800000     |\n",
      "|                 Bangladesh                 |  2013 |    131018000     |\n",
      "|                Afghanistan                 |  2013 |    128238000     |\n",
      "|         République arabe syrienne          |  2016 |    118558000     |\n",
      "|                   Kenya                    |  2015 |    114452000     |\n",
      "|                  Pakistan                  |  2014 |    110268000     |\n",
      "|                Philippines                 |  2014 |    105424000     |\n",
      "|                   Yémen                    |  2014 |    103840000     |\n",
      "|                  Pakistan                  |  2013 |    101364000     |\n",
      "|                   Tchad                    |  2014 |     97926000     |\n",
      "|                   Tchad                    |  2013 |     93930000     |\n",
      "|                   Niger                    |  2016 |     92742000     |\n",
      "|                 Palestine                  |  2014 |     83134000     |\n",
      "|                  Somalie                   |  2014 |     81180000     |\n",
      "|                    Mali                    |  2013 |     80486000     |\n",
      "|        République-Unie de Tanzanie         |  2014 |     76606000     |\n",
      "|                   Tchad                    |  2015 |     73678000     |\n",
      "|                  Somalie                   |  2015 |     71698000     |\n",
      "| République populaire démocratique de Corée |  2013 |     71324000     |\n",
      "| République populaire démocratique de Corée |  2015 |     70506000     |\n",
      "|      République démocratique du Congo      |  2014 |     70134000     |\n",
      "|      République démocratique du Congo      |  2015 |     68048000     |\n",
      "|                   Niger                    |  2014 |     66226000     |\n",
      "|                   Niger                    |  2013 |     62720000     |\n",
      "|                Philippines                 |  2013 |     62164000     |\n",
      "|                   Haïti                    |  2013 |     61214000     |\n",
      "|                Afghanistan                 |  2014 |     57214000     |\n",
      "|                    Mali                    |  2014 |     56244000     |\n",
      "|                   Niger                    |  2015 |     54656000     |\n",
      "|                   Malawi                   |  2013 |     53446000     |\n",
      "|                  Burundi                   |  2013 |     53372000     |\n",
      "|                 Palestine                  |  2013 |     53286000     |\n",
      "|                 Guatemala                  |  2013 |     52626000     |\n",
      "|        République-Unie de Tanzanie         |  2015 |     52300000     |\n",
      "|           République dominicaine           |  2013 |     49024000     |\n",
      "|                 Nicaragua                  |  2015 |     48432000     |\n",
      "|                 Madagascar                 |  2013 |     48382000     |\n",
      "|               Soudan du Sud                |  2015 |     48308000     |\n",
      "| République populaire démocratique de Corée |  2014 |     43182000     |\n",
      "|        République-Unie de Tanzanie         |  2013 |     43116000     |\n",
      "|                 Mozambique                 |  2013 |     37956000     |\n",
      "|                  Ouganda                   |  2014 |     36542000     |\n",
      "|                  Algérie                   |  2013 |     35234000     |\n",
      "|           République dominicaine           |  2014 |     35014000     |\n",
      "|                 Nicaragua                  |  2014 |     34104000     |\n",
      "|                  Sénégal                   |  2014 |     34000000     |\n",
      "|                 Palestine                  |  2015 |     33264000     |\n",
      "|                   Haïti                    |  2014 |     33108000     |\n",
      "|                  Cameroun                  |  2015 |     32310000     |\n",
      "|                  Sénégal                   |  2013 |     31862000     |\n",
      "|                 Nicaragua                  |  2013 |     31052000     |\n",
      "|         République centrafricaine          |  2014 |     27418000     |\n",
      "|                  Honduras                  |  2013 |     27136000     |\n",
      "|                  Zimbabwe                  |  2014 |     26600000     |\n",
      "|                 Madagascar                 |  2015 |     26362000     |\n",
      "|                 Mauritanie                 |  2013 |     25576000     |\n",
      "|                    Togo                    |  2013 |     24804000     |\n",
      "|                   Malawi                   |  2014 |     24450000     |\n",
      "|                  Sénégal                   |  2015 |     23900000     |\n",
      "|                 Guatemala                  |  2014 |     23848000     |\n",
      "|                Burkina Faso                |  2015 |     23182000     |\n",
      "|                Burkina Faso                |  2014 |     22938000     |\n",
      "|               Côte d'Ivoire                |  2013 |     22582000     |\n",
      "|                 Bangladesh                 |  2015 |     22542000     |\n",
      "|         République centrafricaine          |  2015 |     22036000     |\n",
      "|                 Madagascar                 |  2014 |     21934000     |\n",
      "|                  Ouganda                   |  2013 |     21766000     |\n",
      "|                   Guinée                   |  2015 |     21330000     |\n",
      "|                  Zimbabwe                  |  2013 |     21252000     |\n",
      "|                 Guatemala                  |  2015 |     21046000     |\n",
      "|                  Djibouti                  |  2013 |     20368000     |\n",
      "|                  Pakistan                  |  2015 |     19440000     |\n",
      "|                  Algérie                   |  2014 |     18980000     |\n",
      "|                Burkina Faso                |  2013 |     18620000     |\n",
      "|                Sierra Leone                |  2013 |     17882000     |\n",
      "|                   Guinée                   |  2014 |     17694000     |\n",
      "|                   Soudan                   |  2015 |     17650000     |\n",
      "|                   Bénin                    |  2013 |     17622000     |\n",
      "|                  Algérie                   |  2015 |     17424000     |\n",
      "|                 Mozambique                 |  2014 |     17418000     |\n",
      "|                  Libéria                   |  2013 |     17184000     |\n",
      "|         République centrafricaine          |  2013 |     17156000     |\n",
      "|                  Djibouti                  |  2014 |     17088000     |\n",
      "|               Guinée-Bissau                |  2013 |     15492000     |\n",
      "|                  Zimbabwe                  |  2015 |     14718000     |\n",
      "|                 Mauritanie                 |  2015 |     14700000     |\n",
      "|                 Mauritanie                 |  2014 |     13776000     |\n",
      "|                  Cameroun                  |  2014 |     13684000     |\n",
      "|                   Népal                    |  2015 |     12986000     |\n",
      "|                  Burundi                   |  2015 |     12936000     |\n",
      "|                    Mali                    |  2015 |     12856000     |\n",
      "|                 Swaziland                  |  2013 |     12818000     |\n",
      "|               Côte d'Ivoire                |  2015 |     12648000     |\n",
      "|                  Honduras                  |  2015 |     12506000     |\n",
      "|                   Haïti                    |  2016 |     12462000     |\n",
      "|                   Népal                    |  2013 |     12396000     |\n",
      "|                  Cambodge                  |  2014 |     12072000     |\n",
      "|                  Colombie                  |  2013 |     11442000     |\n",
      "|                   Malawi                   |  2015 |     11406000     |\n",
      "|   République démocratique populaire lao    |  2014 |     11294000     |\n",
      "|                  Burundi                   |  2014 |     11010000     |\n",
      "|                  Cambodge                  |  2013 |     10974000     |\n",
      "|                  Honduras                  |  2014 |     10598000     |\n",
      "|                   Gambie                   |  2013 |     10108000     |\n",
      "|               Côte d'Ivoire                |  2014 |     9922000      |\n",
      "|                   Haïti                    |  2015 |     9666000      |\n",
      "|                  Algérie                   |  2016 |     9476000      |\n",
      "|                  Jordanie                  |  2013 |     9472000      |\n",
      "|                  Colombie                  |  2014 |     9196000      |\n",
      "|   République démocratique populaire lao    |  2013 |     9180000      |\n",
      "|                   Rwanda                   |  2013 |     8932000      |\n",
      "|                   Congo                    |  2014 |     8916000      |\n",
      "|               Côte d'Ivoire                |  2016 |     8786000      |\n",
      "|                  Jordanie                  |  2014 |     8762000      |\n",
      "|                    Cuba                    |  2015 |     8266000      |\n",
      "|                   Ghana                    |  2014 |     8166000      |\n",
      "|                   Congo                    |  2013 |     8034000      |\n",
      "|                  Comores                   |  2013 |     7806000      |\n",
      "|                 Sri Lanka                  |  2013 |     7652000      |\n",
      "|   République démocratique populaire lao    |  2015 |     7526000      |\n",
      "|               Guinée-Bissau                |  2014 |     7418000      |\n",
      "|                Sierra Leone                |  2014 |     7156000      |\n",
      "|                  Myanmar                   |  2015 |     7154000      |\n",
      "|                 Sri Lanka                  |  2014 |     7046000      |\n",
      "|                   Guinée                   |  2013 |     6728000      |\n",
      "|                  Colombie                  |  2015 |     6642000      |\n",
      "|                  Ouganda                   |  2015 |     6314000      |\n",
      "|                  Myanmar                   |  2013 |     6248000      |\n",
      "|                  Jordanie                  |  2015 |     6042000      |\n",
      "|                   Congo                    |  2015 |     6000000      |\n",
      "|                  Colombie                  |  2016 |     5466000      |\n",
      "|                  Myanmar                   |  2014 |     5148000      |\n",
      "|                   Angola                   |  2013 |     5000000      |\n",
      "|                   Ghana                    |  2013 |     4956000      |\n",
      "|                  Cameroun                  |  2013 |     4906000      |\n",
      "|                   Liban                    |  2013 |     4654000      |\n",
      "|                  Lesotho                   |  2014 |     4608000      |\n",
      "|                  Honduras                  |  2016 |     4492000      |\n",
      "|                   Libye                    |  2016 |     4414000      |\n",
      "|                   Libye                    |  2015 |     4278000      |\n",
      "|                Philippines                 |  2015 |     4134000      |\n",
      "|                  Djibouti                  |  2015 |     3840000      |\n",
      "|                   Bénin                    |  2015 |     3786000      |\n",
      "|                 Sri Lanka                  |  2015 |     3524000      |\n",
      "|                   Népal                    |  2016 |     3484000      |\n",
      "|                 Mozambique                 |  2015 |     3238000      |\n",
      "|                 Mauritanie                 |  2016 |     3130000      |\n",
      "|                  Lesotho                   |  2015 |     3050000      |\n",
      "|                  Lesotho                   |  2013 |     2966000      |\n",
      "|               Guinée-Bissau                |  2015 |     2764000      |\n",
      "|                  Cambodge                  |  2015 |     2734000      |\n",
      "|                 Swaziland                  |  2014 |     2710000      |\n",
      "|                   Zambie                   |  2014 |     2698000      |\n",
      "|                  Libéria                   |  2014 |     2662000      |\n",
      "|                   Ghana                    |  2015 |     2554000      |\n",
      "|                   Rwanda                   |  2014 |     2476000      |\n",
      "|                   Tchad                    |  2016 |     2432000      |\n",
      "| République populaire démocratique de Corée |  2016 |     2400000      |\n",
      "|       Iran (République islamique d')       |  2013 |     2138000      |\n",
      "|                   Liban                    |  2014 |     2120000      |\n",
      "|                Kirghizistan                |  2013 |     2038000      |\n",
      "|                El Salvador                 |  2013 |     2010000      |\n",
      "|                    Iraq                    |  2015 |     2002000      |\n",
      "|                 Nicaragua                  |  2016 |     1744000      |\n",
      "|                  Bhoutan                   |  2013 |     1724000      |\n",
      "|                   Malawi                   |  2016 |     1720000      |\n",
      "|                   Gambie                   |  2014 |     1632000      |\n",
      "|                   Liban                    |  2016 |     1600000      |\n",
      "|                    Cuba                    |  2013 |     1594000      |\n",
      "|       Iran (République islamique d')       |  2014 |     1474000      |\n",
      "|                 Guatemala                  |  2016 |     1406000      |\n",
      "|                Kirghizistan                |  2014 |     1400000      |\n",
      "|                El Salvador                 |  2015 |     1390000      |\n",
      "|                  Équateur                  |  2013 |     1362000      |\n",
      "|            Chine, continentale             |  2014 |     1298000      |\n",
      "|                   Népal                    |  2014 |     1290000      |\n",
      "|                Tadjikistan                 |  2014 |     1282000      |\n",
      "|                El Salvador                 |  2016 |     1192000      |\n",
      "|                   Égypte                   |  2013 |     1122000      |\n",
      "|                   Gambie                   |  2015 |     1050000      |\n",
      "|            Sao Tomé-et-Principe            |  2014 |      936000      |\n",
      "|                    Iraq                    |  2014 |      930000      |\n",
      "|                Sierra Leone                |  2015 |      904000      |\n",
      "|            Sao Tomé-et-Principe            |  2013 |      890000      |\n",
      "|                  Vanuatu                   |  2015 |      802000      |\n",
      "|                Tadjikistan                 |  2013 |      746000      |\n",
      "|                Kirghizistan                |  2015 |      700000      |\n",
      "|                   Bénin                    |  2014 |      672000      |\n",
      "|                    Iraq                    |  2013 |      666000      |\n",
      "|                   Libye                    |  2014 |      596000      |\n",
      "|       Iran (République islamique d')       |  2016 |      582000      |\n",
      "|                  Bhoutan                   |  2015 |      578000      |\n",
      "|                  Cameroun                  |  2016 |      578000      |\n",
      "|       Iran (République islamique d')       |  2015 |      492000      |\n",
      "|                El Salvador                 |  2014 |      420000      |\n",
      "|                   Gambie                   |  2016 |      336000      |\n",
      "|                   Zambie                   |  2013 |      328000      |\n",
      "|                 Sri Lanka                  |  2016 |      328000      |\n",
      "|           République dominicaine           |  2015 |      236000      |\n",
      "|           République dominicaine           |  2016 |      232000      |\n",
      "|                  Bhoutan                   |  2016 |      218000      |\n",
      "|                  Bhoutan                   |  2014 |      146000      |\n",
      "|                   Bénin                    |  2016 |      144000      |\n",
      "|                Timor-Leste                 |  2013 |      116000      |\n",
      "|                Burkina Faso                |  2016 |      72000       |\n",
      "|                  Géorgie                   |  2014 |      36000       |\n",
      "|                  Géorgie                   |  2013 |      34000       |\n",
      "|                   Angola                   |  2014 |      14000       |\n",
      "|                    Cuba                    |  2014 |      14000       |\n",
      "|      Bolivie (État plurinational de)       |  2014 |       6000       |\n",
      "|                Tadjikistan                 |  2015 |        0         |\n",
      "+--------------------------------------------+-------+------------------+\n"
     ]
    }
   ],
   "source": [
    "from prettytable import PrettyTable\n",
    "\n",
    "# Filtrer, sélectionner des colonnes, grouper, sommer et renommer en une seule chaîne\n",
    "grouped_aide_alimentaire = (aide_alimentaire[(aide_alimentaire['Année'] >= 2013) & (aide_alimentaire['Année'] <= 2016)]\n",
    "                            [['Pays bénéficiaire', 'Année', 'Valeur_kg']]\n",
    "                            .groupby(['Pays bénéficiaire', 'Année'])['Valeur_kg']\n",
    "                            .sum()\n",
    "                            .reset_index()\n",
    "                            .rename(columns={'Valeur_kg': 'Aide alimentaire'}))\n",
    "\n",
    "# Trier et sélectionner les 5 pays principaux\n",
    "top_5_pays = grouped_aide_alimentaire.sort_values(by=['Aide alimentaire', 'Année'], ascending=[False, True]).groupby('Pays bénéficiaire').head(5)\n",
    "\n",
    "# Création du tableau\n",
    "table = PrettyTable()\n",
    "\n",
    "# Ajout des en-têtes de colonnes\n",
    "table.field_names = ['Pays bénéficiaire', 'Année', 'Aide alimentaire']\n",
    "\n",
    "# Ajout des lignes\n",
    "for index, row in top_5_pays.iterrows():\n",
    "    table.add_row([row['Pays bénéficiaire'], row['Année'], row['Aide alimentaire']])\n",
    "\n",
    "# Affichage du tableau\n",
    "print(table)"
   ]
  },
  {
   "cell_type": "code",
   "execution_count": 326,
   "id": "0dcc076f-50ab-48d1-ad90-2acb083058a3",
   "metadata": {},
   "outputs": [
    {
     "name": "stdout",
     "output_type": "stream",
     "text": [
      "+---------------------------+-------------------------+\n",
      "|     Pays bénéficiaire     | Aide alimentaire totale |\n",
      "+---------------------------+-------------------------+\n",
      "| République arabe syrienne |        1858943000       |\n",
      "|          Éthiopie         |        1381294000       |\n",
      "|           Yémen           |        1206484000       |\n",
      "|       Soudan du Sud       |        695248000        |\n",
      "|           Soudan          |        669784000        |\n",
      "+---------------------------+-------------------------+\n"
     ]
    }
   ],
   "source": [
    "from prettytable import PrettyTable\n",
    "\n",
    "# Grouper par pays et calculer la somme de l'aide reçue pour toutes les années\n",
    "aide_par_pays = aide_alimentaire.groupby('Pays bénéficiaire')['Valeur_kg'].sum()\n",
    "\n",
    "# Trier les résultats et sélectionner les 5 pays avec le plus d'aide\n",
    "top_5_pays = aide_par_pays.sort_values(ascending=False).head(5)\n",
    "\n",
    "# Création du tableau\n",
    "table = PrettyTable()\n",
    "\n",
    "# Ajout des en-têtes de colonnes\n",
    "table.field_names = ['Pays bénéficiaire', 'Aide alimentaire totale']\n",
    "\n",
    "# Ajout des lignes\n",
    "for pays, aide in top_5_pays.items():\n",
    "    table.add_row([pays, aide])\n",
    "\n",
    "# Affichage du tableau\n",
    "print(table)"
   ]
  },
  {
   "cell_type": "code",
   "execution_count": 388,
   "id": "f93cb4ca-dad5-4aeb-aa8e-4f119094e171",
   "metadata": {},
   "outputs": [
    {
     "data": {
      "image/png": "[encoded data removed]",
      "text/plain": [
       "<Figure size 1000x600 with 1 Axes>"
      ]
     },
     "metadata": {},
     "output_type": "display_data"
    }
   ],
   "source": [
    "import seaborn as sns\n",
    "import pandas as pd\n",
    "import matplotlib.pyplot as plt\n",
    "\n",
    "# Création d'un DataFrame à partir de vos données\n",
    "data = pd.DataFrame({\n",
    "    'Pays bénéficiaire': ['République arabe syrienne', 'Éthiopie', 'Yémen', 'Soudan du Sud', 'Soudan'],\n",
    "    'Aide alimentaire totale': [1858943000, 1381294000, 1206484000, 695248000, 669784000]\n",
    "})\n",
    "\n",
    "# Création du graphique en courbe\n",
    "plt.figure(figsize=(10, 6))\n",
    "sns.lineplot(x='Pays bénéficiaire', y='Aide alimentaire totale', data=data, marker=\"o\")\n",
    "\n",
    "# Ajout des titres et des étiquettes\n",
    "plt.title('Aide alimentaire totale pour les 5 principaux pays bénéficiaires')\n",
    "plt.xlabel('Pays bénéficiaire')\n",
    "plt.ylabel('Aide alimentaire totale')\n",
    "plt.xticks(rotation=45)  # Rotation des étiquettes de l'axe des x pour une meilleure lisibilité\n",
    "\n",
    "# Affichage du graphique\n",
    "plt.show()"
   ]
  },
  {
   "cell_type": "code",
   "execution_count": 327,
   "id": "ff70498a-ba72-4bff-87cc-c97385a5ee44",
   "metadata": {},
   "outputs": [
    {
     "name": "stdout",
     "output_type": "stream",
     "text": [
      "+---------------------------------+-------------------------+\n",
      "|        Pays bénéficiaire        | Aide alimentaire totale |\n",
      "+---------------------------------+-------------------------+\n",
      "| Bolivie (État plurinational de) |           6000          |\n",
      "|             Géorgie             |          70000          |\n",
      "|           Timor-Leste           |          116000         |\n",
      "|             Vanuatu             |          802000         |\n",
      "|              Égypte             |         1122000         |\n",
      "+---------------------------------+-------------------------+\n"
     ]
    }
   ],
   "source": [
    "from prettytable import PrettyTable\n",
    "\n",
    "# Grouper par pays et calculer la somme de l'aide reçue pour toutes les années\n",
    "aide_par_pays = aide_alimentaire.groupby('Pays bénéficiaire')['Valeur_kg'].sum()\n",
    "\n",
    "# Trier les résultats en ordre croissant et sélectionner les 5 pays avec le moins d'aide\n",
    "bottom_5_pays = aide_par_pays.sort_values(ascending=True).head(5)\n",
    "\n",
    "# Création du tableau\n",
    "table = PrettyTable()\n",
    "\n",
    "# Ajout des en-têtes de colonnes\n",
    "table.field_names = ['Pays bénéficiaire', 'Aide alimentaire totale']\n",
    "\n",
    "# Ajout des lignes\n",
    "for pays, aide in bottom_5_pays.items():\n",
    "    table.add_row([pays, aide])\n",
    "\n",
    "# Affichage du tableau\n",
    "print(table)"
   ]
  },
  {
   "cell_type": "code",
   "execution_count": 328,
   "id": "5ad53ab9-7f1e-47c2-8111-933ef7511591",
   "metadata": {},
   "outputs": [
    {
     "name": "stdout",
     "output_type": "stream",
     "text": [
      "+---------------------------+--------------------------+\n",
      "|     Pays bénéficiaire     | Aide alimentaire en 2013 |\n",
      "+---------------------------+--------------------------+\n",
      "|          Éthiopie         |        591404000         |\n",
      "| République arabe syrienne |        563566000         |\n",
      "|           Soudan          |        330230000         |\n",
      "|           Yémen           |        264764000         |\n",
      "|           Kenya           |        220966000         |\n",
      "+---------------------------+--------------------------+\n",
      "+---------------------------+--------------------------+\n",
      "|     Pays bénéficiaire     | Aide alimentaire en 2014 |\n",
      "+---------------------------+--------------------------+\n",
      "| République arabe syrienne |        651870000         |\n",
      "|          Éthiopie         |        586624000         |\n",
      "|       Soudan du Sud       |        450610000         |\n",
      "|           Soudan          |        321904000         |\n",
      "|           Kenya           |        217418000         |\n",
      "+---------------------------+--------------------------+\n",
      "+---------------------------+--------------------------+\n",
      "|     Pays bénéficiaire     | Aide alimentaire en 2015 |\n",
      "+---------------------------+--------------------------+\n",
      "| République arabe syrienne |        524949000         |\n",
      "|           Yémen           |        372306000         |\n",
      "|          Éthiopie         |        203266000         |\n",
      "|           Kenya           |        114452000         |\n",
      "|           Tchad           |         73678000         |\n",
      "+---------------------------+--------------------------+\n",
      "+---------------------------+--------------------------+\n",
      "|     Pays bénéficiaire     | Aide alimentaire en 2016 |\n",
      "+---------------------------+--------------------------+\n",
      "|           Yémen           |        465574000         |\n",
      "| République arabe syrienne |        118558000         |\n",
      "|           Niger           |         92742000         |\n",
      "|           Haïti           |         12462000         |\n",
      "|          Algérie          |         9476000          |\n",
      "+---------------------------+--------------------------+\n"
     ]
    }
   ],
   "source": [
    "from prettytable import PrettyTable\n",
    "\n",
    "# Liste des années d'intérêt\n",
    "années = [2013, 2014, 2015, 2016]\n",
    "\n",
    "for année in années:\n",
    "    # Filtrer le DataFrame pour l'année spécifique\n",
    "    aide_alimentaire_année = aide_alimentaire[aide_alimentaire['Année'] == année]\n",
    "\n",
    "    # Grouper par pays et calculer la somme de l'aide reçue\n",
    "    aide_par_pays = aide_alimentaire_année.groupby('Pays bénéficiaire')['Valeur_kg'].sum()\n",
    "\n",
    "    # Trier les résultats et sélectionner les 5 pays avec le plus d'aide\n",
    "    top_5_pays = aide_par_pays.sort_values(ascending=False).head(5)\n",
    "\n",
    "    # Création du tableau\n",
    "    table = PrettyTable()\n",
    "\n",
    "    # Ajout des en-têtes de colonnes\n",
    "    table.field_names = ['Pays bénéficiaire', f'Aide alimentaire en {année}']\n",
    "\n",
    "    # Ajout des lignes\n",
    "    for pays, aide in top_5_pays.items():\n",
    "        table.add_row([pays, aide])\n",
    "\n",
    "    # Affichage du tableau\n",
    "    print(table)"
   ]
  },
  {
   "cell_type": "code",
   "execution_count": 329,
   "id": "ccce7e46-10e6-46c4-bb88-078b63ccc947",
   "metadata": {},
   "outputs": [
    {
     "data": {
      "image/png": "[encoded data removed]",
      "text/plain": [
       "<Figure size 1000x600 with 1 Axes>"
      ]
     },
     "metadata": {},
     "output_type": "display_data"
    }
   ],
   "source": [
    "import warnings\n",
    "warnings.filterwarnings(\"ignore\", category=FutureWarning)\n",
    "\n",
    "import seaborn as sns\n",
    "import matplotlib.pyplot as plt\n",
    "\n",
    "# Liste des années d'intérêt\n",
    "années = [2013, 2014, 2015, 2016]\n",
    "\n",
    "# Création d'une liste vide pour stocker les résultats\n",
    "data = []\n",
    "\n",
    "for année in années:\n",
    "    # Filtrer le DataFrame pour l'année spécifique\n",
    "    aide_alimentaire_année = aide_alimentaire[aide_alimentaire['Année'] == année]\n",
    "\n",
    "    # Grouper par pays et calculer la somme de l'aide reçue\n",
    "    aide_par_pays = aide_alimentaire_année.groupby('Pays bénéficiaire')['Valeur_kg'].sum()\n",
    "\n",
    "    # Calculer le pourcentage de l'aide totale pour chaque pays\n",
    "    aide_par_pays = aide_par_pays / aide_par_pays.sum() * 100\n",
    "\n",
    "    # Ajouter les résultats à la liste\n",
    "    data.append(pd.DataFrame({'Année': année, 'Pays bénéficiaire': aide_par_pays.index, 'Pourcentage de l\\'aide': aide_par_pays.values}))\n",
    "\n",
    "# Concaténer les résultats de chaque année dans un DataFrame\n",
    "df = pd.concat(data)\n",
    "\n",
    "# Sélectionner les 5 pays avec le plus d'aide\n",
    "top_5_pays = df.groupby('Pays bénéficiaire')['Pourcentage de l\\'aide'].sum().nlargest(5).index\n",
    "df_top_5 = df[df['Pays bénéficiaire'].isin(top_5_pays)]\n",
    "\n",
    "# Création du graphique\n",
    "plt.figure(figsize=(10, 6))\n",
    "sns.lineplot(x='Année', y='Pourcentage de l\\'aide', hue='Pays bénéficiaire', data=df_top_5)\n",
    "\n",
    "# Ajout des titres et des étiquettes\n",
    "plt.title('Évolution de l\\'aide alimentaire pour les 5 principaux pays bénéficiaires (2013-2016)')\n",
    "plt.xlabel('Année')\n",
    "plt.ylabel('Pourcentage de l\\'aide (%)')\n",
    "\n",
    "# Définir les positions et les étiquettes des graduations sur l'axe des x\n",
    "plt.xticks(années, années)\n",
    "\n",
    "# Affichage du graphique\n",
    "plt.show()"
   ]
  },
  {
   "cell_type": "markdown",
   "id": "bd392dac",
   "metadata": {},
   "source": [
    "<div style=\"border: 1px solid RGB(0,150,250);\" >\n",
    "<h3 style=\"margin: auto; padding: 20px; color: RGB(0,150,250); \">3.9 - Pays avec le moins de disponibilité par habitant</h3>\n",
    "</div>"
   ]
  },
  {
   "cell_type": "code",
   "execution_count": 330,
   "id": "1ff3d764-b19f-4492-876d-371e4e0ee656",
   "metadata": {},
   "outputs": [
    {
     "data": {
      "text/plain": [
       "Index(['Zone', 'Produit', 'Origine', 'Aliments pour animaux',\n",
       "       'Autres Utilisations', 'Disponibilité alimentaire (Kcal/personne/jour)',\n",
       "       'Disponibilité alimentaire en quantité (kg/personne/an)',\n",
       "       'Disponibilité de matière grasse en quantité (g/personne/jour)',\n",
       "       'Disponibilité de protéines en quantité (g/personne/jour)',\n",
       "       'Disponibilité intérieure', 'Exportations - Quantité',\n",
       "       'Importations - Quantité', 'Nourriture', 'Pertes', 'Production',\n",
       "       'Semences', 'Traitement', 'Variation de stock',\n",
       "       'Dispo_alimentaire_quantite_kg'],\n",
       "      dtype='object')"
      ]
     },
     "execution_count": 330,
     "metadata": {},
     "output_type": "execute_result"
    }
   ],
   "source": [
    "dispo_alimentaire.columns"
   ]
  },
  {
   "cell_type": "code",
   "execution_count": 331,
   "id": "fb3a378b",
   "metadata": {},
   "outputs": [],
   "source": [
    "#Calcul de la disponibilité en kcal par personne par jour par pays\n",
    "\n",
    "dispo_alimentaire = pd.read_csv('dispo_alimentaire.csv')\n",
    "              \n",
    "# Calcul de la disponibilité moyenne en (kg/personne/an) par pays\n",
    "dispo_moyenne = dispo_alimentaire.groupby('Zone')['Disponibilité alimentaire en quantité (kg/personne/an)'].mean()\n"
   ]
  },
  {
   "cell_type": "code",
   "execution_count": 332,
   "id": "70c0f689",
   "metadata": {},
   "outputs": [
    {
     "name": "stdout",
     "output_type": "stream",
     "text": [
      "Zone\n",
      "Zimbabwe      3.868851\n",
      "Zambie        4.024368\n",
      "Éthiopie      4.075287\n",
      "Bangladesh    4.190115\n",
      "Sénégal       4.330115\n",
      "Yémen         4.416588\n",
      "Tchad         4.767910\n",
      "Gambie        4.821899\n",
      "Cambodge      4.827765\n",
      "Haïti         4.910864\n",
      "Name: Disponibilité alimentaire en quantité (kg/personne/an), dtype: float64\n"
     ]
    }
   ],
   "source": [
    "# Trie de la série 'dispo_moyenne' en ordre croissant\n",
    "dispo_moyenne = dispo_moyenne.sort_values()\n",
    "\n",
    "# Obtention des 10 pays avec la plus petite disponibilité\n",
    "pays_moins_dispo_alimentaire = dispo_moyenne.head(10)\n",
    "\n",
    "print(pays_moins_dispo_alimentaire)"
   ]
  },
  {
   "cell_type": "code",
   "execution_count": 333,
   "id": "3f6499e6-7b10-45bf-be74-bc9ce115c38c",
   "metadata": {},
   "outputs": [
    {
     "name": "stdout",
     "output_type": "stream",
     "text": [
      "+------------+----------------------------------------------------------+\n",
      "| Pays       |   Disponibilité alimentaire en quantité (kg/personne/an) |\n",
      "|------------+----------------------------------------------------------|\n",
      "| Zimbabwe   |                                                  3.86885 |\n",
      "| Zambie     |                                                  4.02437 |\n",
      "| Éthiopie   |                                                  4.07529 |\n",
      "| Bangladesh |                                                  4.19011 |\n",
      "| Sénégal    |                                                  4.33011 |\n",
      "| Yémen      |                                                  4.41659 |\n",
      "| Tchad      |                                                  4.76791 |\n",
      "| Gambie     |                                                   4.8219 |\n",
      "| Cambodge   |                                                  4.82776 |\n",
      "| Haïti      |                                                  4.91086 |\n",
      "+------------+----------------------------------------------------------+\n"
     ]
    }
   ],
   "source": [
    "from tabulate import tabulate\n",
    "\n",
    "# Trie de la série 'dispo_moyenne' en ordre croissant\n",
    "dispo_moyenne = dispo_moyenne.sort_values()\n",
    "\n",
    "# Obtention des 10 pays avec la plus petite disponibilité\n",
    "pays_moins_dispo_alimentaire = dispo_moyenne.head(10)\n",
    "\n",
    "# Conversion de la série en tableau avec 'tabulate'\n",
    "table = tabulate(pays_moins_dispo_alimentaire.items(), headers=['Pays', 'Disponibilité alimentaire en quantité (kg/personne/an)'], tablefmt='psql', numalign=\"right\")\n",
    "\n",
    "# Affichage du tableau\n",
    "print(table)"
   ]
  },
  {
   "cell_type": "code",
   "execution_count": 334,
   "id": "eb54ed7e-3430-444e-89cd-a2724e3efb9d",
   "metadata": {},
   "outputs": [
    {
     "data": {
      "image/png": "[encoded data removed]",
      "text/plain": [
       "<Figure size 1000x600 with 1 Axes>"
      ]
     },
     "metadata": {},
     "output_type": "display_data"
    }
   ],
   "source": [
    "import seaborn as sns\n",
    "import matplotlib.pyplot as plt\n",
    "\n",
    "# Trie de la série 'dispo_moyenne' en ordre croissant\n",
    "dispo_moyenne = dispo_moyenne.sort_values()\n",
    "\n",
    "# Obtention des 10 pays avec la plus petite disponibilité\n",
    "pays_moins_dispo_alimentaire = dispo_moyenne.head(10)\n",
    "\n",
    "# Création du graphique à barres\n",
    "plt.figure(figsize=(10,6))\n",
    "sns.barplot(y=pays_moins_dispo_alimentaire.values, x=pays_moins_dispo_alimentaire.index, palette='bright')\n",
    "plt.ylabel('Disponibilité alimentaire en quantité (kg/personne/an)')\n",
    "plt.xlabel('Pays')\n",
    "plt.title('10 pays avec la plus petite disponibilité alimentaire moyenne')\n",
    "plt.xticks(rotation=90)  # Rotation des étiquettes de l'axe des x pour une meilleure lisibilité\n",
    "plt.show()"
   ]
  },
  {
   "cell_type": "markdown",
   "id": "2553ed12",
   "metadata": {},
   "source": [
    "<div style=\"border: 1px solid RGB(0,150,250);\" >\n",
    "<h3 style=\"margin: auto; padding: 20px; color: RGB(0,150,250); \">3.10 - Pays avec le plus de disponibilité par habitant</h3>\n",
    "</div>"
   ]
  },
  {
   "cell_type": "code",
   "execution_count": 335,
   "id": "d620679b-a271-4aac-80ab-482726f74cd6",
   "metadata": {},
   "outputs": [
    {
     "name": "stdout",
     "output_type": "stream",
     "text": [
      "+--------------+----------------------------------------------------------+\n",
      "| Pays         |   Disponibilité alimentaire en quantité (kg/personne/an) |\n",
      "|--------------+----------------------------------------------------------|\n",
      "| Monténégro   |                                                  15.7196 |\n",
      "| Luxembourg   |                                                  15.3421 |\n",
      "| Turkménistan |                                                  14.0731 |\n",
      "| Albanie      |                                                  14.0454 |\n",
      "| Irlande      |                                                  14.0262 |\n",
      "| Dominique    |                                                  13.7966 |\n",
      "| Finlande     |                                                  13.5033 |\n",
      "| Lituanie     |                                                  13.4624 |\n",
      "| Pays-Bas     |                                                  13.2002 |\n",
      "| Grèce        |                                                  13.0598 |\n",
      "+--------------+----------------------------------------------------------+\n"
     ]
    }
   ],
   "source": [
    "from tabulate import tabulate\n",
    "\n",
    "# Trie de la série 'dispo_moyenne' en ordre décroissant\n",
    "dispo_moyenne = dispo_moyenne.sort_values(ascending=False)\n",
    "\n",
    "# Obtention des 10 pays avec la plus grande disponibilité\n",
    "pays_max_dispo = dispo_moyenne.head(10)\n",
    "\n",
    "# Conversion de la série en tableau avec 'tabulate'\n",
    "table = tabulate(pays_max_dispo.items(), headers=['Pays', 'Disponibilité alimentaire en quantité (kg/personne/an)'], tablefmt='psql', numalign=\"right\")\n",
    "\n",
    "# Affichage du tableau\n",
    "print(table)"
   ]
  },
  {
   "cell_type": "code",
   "execution_count": 336,
   "id": "e3c513f2-b29a-41d3-9957-94738cebd0c4",
   "metadata": {},
   "outputs": [
    {
     "data": {
      "image/png": "[encoded data removed]",
      "text/plain": [
       "<Figure size 1000x600 with 1 Axes>"
      ]
     },
     "metadata": {},
     "output_type": "display_data"
    }
   ],
   "source": [
    "import seaborn as sns\n",
    "import matplotlib.pyplot as plt\n",
    "\n",
    "# Trie de la série 'dispo_moyenne' en ordre décroissant\n",
    "dispo_moyenne = dispo_moyenne.sort_values(ascending=False)\n",
    "\n",
    "# Obtention des 10 pays avec la plus grande disponibilité\n",
    "pays_max_dispo = dispo_moyenne.head(10)\n",
    "\n",
    "# Création du graphique à barres\n",
    "plt.figure(figsize=(10,6))\n",
    "sns.barplot(y=pays_max_dispo.values, x=pays_max_dispo.index, palette='bright')\n",
    "plt.ylabel('Disponibilité alimentaire en quantité (kg/personne/an)')\n",
    "plt.xlabel('Pays')\n",
    "plt.title('10 pays avec la plus grande disponibilité alimentaire moyenne')\n",
    "plt.xticks(rotation=90)  # Rotation des étiquettes de l'axe des x pour une meilleure lisibilité\n",
    "plt.show()"
   ]
  },
  {
   "cell_type": "markdown",
   "id": "58d7248b",
   "metadata": {},
   "source": [
    "<div style=\"border: 1px solid RGB(0,150,250);\" >\n",
    "<h3 style=\"margin: auto; padding: 20px; color: RGB(0,150,250); \">3.11 - Exemple de la Thaïlande pour le Manioc</h3>\n",
    "</div>"
   ]
  },
  {
   "cell_type": "code",
   "execution_count": 337,
   "id": "dbfe3bab-67b3-4ada-a99b-4c31e7220b23",
   "metadata": {},
   "outputs": [
    {
     "data": {
      "text/plain": [
       "Index(['Zone', 'Année', 'Population'], dtype='object')"
      ]
     },
     "execution_count": 337,
     "metadata": {},
     "output_type": "execute_result"
    }
   ],
   "source": [
    "population_2017.columns\n"
   ]
  },
  {
   "cell_type": "code",
   "execution_count": 338,
   "id": "67ac4e3d-861c-41cb-83c6-8af9a7648673",
   "metadata": {},
   "outputs": [
    {
     "data": {
      "text/plain": [
       "Index(['Zone', 'Année', 'Produit', 'Valeur', 'Valeur_kg'], dtype='object')"
      ]
     },
     "execution_count": 338,
     "metadata": {},
     "output_type": "execute_result"
    }
   ],
   "source": [
    "aide_alimentaire = aide_alimentaire.rename(columns={'Pays bénéficiaire': 'Zone'})\n",
    "\n",
    "aide_alimentaire.columns"
   ]
  },
  {
   "cell_type": "code",
   "execution_count": 339,
   "id": "c1486623-69ec-447a-8a49-100926edf24d",
   "metadata": {},
   "outputs": [
    {
     "data": {
      "text/plain": [
       "Index(['Zone', 'Année', 'sous_nutrition'], dtype='object')"
      ]
     },
     "execution_count": 339,
     "metadata": {},
     "output_type": "execute_result"
    }
   ],
   "source": [
    "sous_nutrition.columns"
   ]
  },
  {
   "cell_type": "code",
   "execution_count": 340,
   "id": "5c3fa6f2-38c2-421c-b9f9-673ecc4c71b0",
   "metadata": {},
   "outputs": [
    {
     "data": {
      "text/plain": [
       "Index(['Zone', 'Produit', 'Origine', 'Aliments pour animaux',\n",
       "       'Autres Utilisations', 'Disponibilité alimentaire (Kcal/personne/jour)',\n",
       "       'Disponibilité alimentaire en quantité (kg/personne/an)',\n",
       "       'Disponibilité de matière grasse en quantité (g/personne/jour)',\n",
       "       'Disponibilité de protéines en quantité (g/personne/jour)',\n",
       "       'Disponibilité intérieure', 'Exportations - Quantité',\n",
       "       'Importations - Quantité', 'Nourriture', 'Pertes', 'Production',\n",
       "       'Semences', 'Traitement', 'Variation de stock'],\n",
       "      dtype='object')"
      ]
     },
     "execution_count": 340,
     "metadata": {},
     "output_type": "execute_result"
    }
   ],
   "source": [
    "dispo_alimentaire.columns"
   ]
  },
  {
   "cell_type": "code",
   "execution_count": 341,
   "id": "1a9e17b9-caa1-4905-a77f-6e99518f05b8",
   "metadata": {},
   "outputs": [],
   "source": [
    "dispo_alimentaire = dispo_alimentaire[dispo_alimentaire['Zone'] == 'Thaïlande']"
   ]
  },
  {
   "cell_type": "code",
   "execution_count": 342,
   "id": "cdff7822-9493-462e-8cf9-f38e513d4d17",
   "metadata": {},
   "outputs": [],
   "source": [
    "sous_nutrition = sous_nutrition[sous_nutrition['Zone'] == 'Thaïlande']"
   ]
  },
  {
   "cell_type": "code",
   "execution_count": 343,
   "id": "bc1abed8-fe04-40fb-bc9a-1a264cad195b",
   "metadata": {},
   "outputs": [],
   "source": [
    "population_2017 = population_2017[population_2017['Zone'] == 'Thaïlande']"
   ]
  },
  {
   "cell_type": "code",
   "execution_count": 344,
   "id": "0f1e750e-9dbe-487e-9d1d-8cd41f312549",
   "metadata": {},
   "outputs": [],
   "source": [
    "aide_alimentaire = aide_alimentaire.rename(columns={'Pays bénéficiaire':'Zone'})\n",
    "aide_alimentaire = aide_alimentaire[aide_alimentaire['Zone'] == 'Thaïlande']"
   ]
  },
  {
   "cell_type": "code",
   "execution_count": 345,
   "id": "68bf2fb9-a883-450e-b0f8-377047b4a48e",
   "metadata": {},
   "outputs": [],
   "source": [
    "#fusionner les deux tables\n",
    "df_thailande = pd.merge(dispo_alimentaire, population_2017, left_on='Zone', right_on='Zone')\n"
   ]
  },
  {
   "cell_type": "code",
   "execution_count": 346,
   "id": "ea87dd4b-254e-453f-b4ce-4e84189b61f9",
   "metadata": {},
   "outputs": [
    {
     "name": "stdout",
     "output_type": "stream",
     "text": [
      "Année\n",
      "2012-2014    6200000.0\n",
      "2013-2015    6000000.0\n",
      "2014-2016    5900000.0\n",
      "2015-2017    6000000.0\n",
      "2016-2018    6200000.0\n",
      "2017-2019    6500000.0\n",
      "Name: sous_nutrition, dtype: float64\n"
     ]
    }
   ],
   "source": [
    "# 'Zone' est la colonne contenant les années et 'sous_nutrition' la colonne contenant le nombre de personnes sous-alimentées\n",
    "sous_nutrition_thailande = sous_nutrition[sous_nutrition['Zone'] == 'Thaïlande']\n",
    "\n",
    "# Calculer la sous-nutrition pour chaque année\n",
    "sous_nutrition_par_annee = sous_nutrition_thailande.groupby('Année')['sous_nutrition'].sum()\n",
    "\n",
    "print(sous_nutrition_par_annee)"
   ]
  },
  {
   "cell_type": "code",
   "execution_count": 347,
   "id": "51fdff0a-2bac-4e9d-a36c-f6e5f20a2580",
   "metadata": {},
   "outputs": [
    {
     "name": "stdout",
     "output_type": "stream",
     "text": [
      "Le total de la sous-nutrition en Thaïlande est : 36800000.0\n",
      "La population totale en Thaïlande est : 69209810000.0\n"
     ]
    }
   ],
   "source": [
    "# Supposons que 'sous_nutrition' est la colonne contenant le nombre de personnes sous-alimentées\n",
    "total_sous_nutrition = sous_nutrition['sous_nutrition'].sum()\n",
    "\n",
    "print(\"Le total de la sous-nutrition en Thaïlande est :\", total_sous_nutrition)\n",
    "# Supposons que 'Population' est la colonne contenant le nombre de personnes\n",
    "total_population = population_2017['Population'].sum()*1000\n",
    "\n",
    "print(\"La population totale en Thaïlande est :\", total_population)"
   ]
  },
  {
   "cell_type": "code",
   "execution_count": 348,
   "id": "40305a92-5820-4b92-9a8b-462abde117c6",
   "metadata": {},
   "outputs": [
    {
     "name": "stdout",
     "output_type": "stream",
     "text": [
      "Le taux de sous-nutrition en Thaïlande est : 8.912411066670634 %\n"
     ]
    }
   ],
   "source": [
    "#Calcul de la sous nutrition en Thaïlande\n",
    "total_sous_nutrition = 36800000.0\n",
    "total_population = 412907345.99999994\n",
    "\n",
    "taux_sous_nutrition = (total_sous_nutrition / total_population) * 100\n",
    "\n",
    "print(\"Le taux de sous-nutrition en Thaïlande est :\", taux_sous_nutrition, \"%\")"
   ]
  },
  {
   "cell_type": "code",
   "execution_count": 349,
   "id": "51e7caf7-cb45-494c-8255-9c8ba063e134",
   "metadata": {},
   "outputs": [
    {
     "data": {
      "image/png": "[encoded data removed]",
      "text/plain": [
       "<Figure size 600x600 with 1 Axes>"
      ]
     },
     "metadata": {},
     "output_type": "display_data"
    }
   ],
   "source": [
    "# Données\n",
    "noms = ['Population en Sous-nutrition', 'Population']\n",
    "valeurs = [total_sous_nutrition, total_population - total_sous_nutrition]\n",
    "\n",
    "# Créer un diagramme à secteurs (pie chart)\n",
    "plt.figure(figsize=(6,6))\n",
    "plt.pie(valeurs, labels=noms, autopct='%1.1f%%', startangle=140, colors=['r', 'b'])\n",
    "\n",
    "# Ajouter un titre\n",
    "plt.title('Proportion de Sous-nutrition en Thaïlande')\n",
    "\n",
    "# Afficher le diagramme\n",
    "plt.show()"
   ]
  },
  {
   "cell_type": "code",
   "execution_count": 350,
   "id": "ffeb92df-01a2-4417-a629-5065045a0da8",
   "metadata": {},
   "outputs": [
    {
     "data": {
      "text/plain": [
       "Index(['Zone', 'Produit', 'Origine', 'Aliments pour animaux',\n",
       "       'Autres Utilisations', 'Disponibilité alimentaire (Kcal/personne/jour)',\n",
       "       'Disponibilité alimentaire en quantité (kg/personne/an)',\n",
       "       'Disponibilité de matière grasse en quantité (g/personne/jour)',\n",
       "       'Disponibilité de protéines en quantité (g/personne/jour)',\n",
       "       'Disponibilité intérieure', 'Exportations - Quantité',\n",
       "       'Importations - Quantité', 'Nourriture', 'Pertes', 'Production',\n",
       "       'Semences', 'Traitement', 'Variation de stock', 'Année', 'Population'],\n",
       "      dtype='object')"
      ]
     },
     "execution_count": 350,
     "metadata": {},
     "output_type": "execute_result"
    }
   ],
   "source": [
    "# Afficher le DataFrame\n",
    "df_thailande.columns"
   ]
  },
  {
   "cell_type": "code",
   "execution_count": 351,
   "id": "1d280018-7749-4ab4-8256-978e28159519",
   "metadata": {},
   "outputs": [],
   "source": [
    "# Fusionner les DataFrames\n",
    "df_thailande = pd.merge(dispo_alimentaire, population_2017, left_on='Zone', right_on='Zone')\n",
    "\n",
    "# Filtrer pour 'Manioc' et 'Thaïlande'\n",
    "manioc_thailande = df_thailande[(df_thailande['Produit'] == 'Manioc') & (df_thailande['Zone'] == 'Thaïlande')]\n"
   ]
  },
  {
   "cell_type": "code",
   "execution_count": 352,
   "id": "ec4aae8d-57c4-4029-94e4-8145d2cea766",
   "metadata": {},
   "outputs": [
    {
     "data": {
      "text/plain": [
       "Index(['Zone', 'Produit', 'Origine', 'Aliments pour animaux',\n",
       "       'Autres Utilisations', 'Disponibilité alimentaire (Kcal/personne/jour)',\n",
       "       'Disponibilité alimentaire en quantité (kg/personne/an)',\n",
       "       'Disponibilité de matière grasse en quantité (g/personne/jour)',\n",
       "       'Disponibilité de protéines en quantité (g/personne/jour)',\n",
       "       'Disponibilité intérieure', 'Exportations - Quantité',\n",
       "       'Importations - Quantité', 'Nourriture', 'Pertes', 'Production',\n",
       "       'Semences', 'Traitement', 'Variation de stock', 'Année', 'Population'],\n",
       "      dtype='object')"
      ]
     },
     "execution_count": 352,
     "metadata": {},
     "output_type": "execute_result"
    }
   ],
   "source": [
    "manioc_thailande.columns"
   ]
  },
  {
   "cell_type": "code",
   "execution_count": 353,
   "id": "95819c99-290f-43cc-ab5d-e6c9e2acbf5a",
   "metadata": {},
   "outputs": [],
   "source": [
    "# Sélectionner les colonnes spécifiques\n",
    "colonnes = ['Exportations - Quantité', 'Nourriture', 'Aliments pour animaux', 'Pertes', 'Autres Utilisations']\n",
    "part_colonnes = manioc_thailande.loc[:, colonnes]\n"
   ]
  },
  {
   "cell_type": "code",
   "execution_count": 354,
   "id": "47a6b4c8-a287-423a-af4a-eed31f2ed2db",
   "metadata": {},
   "outputs": [
    {
     "name": "stdout",
     "output_type": "stream",
     "text": [
      "50    False\n",
      "dtype: bool\n"
     ]
    }
   ],
   "source": [
    "# Vérifier les doublons\n",
    "doublons = manioc_thailande.duplicated()\n",
    "\n",
    "# Afficher les doublons\n",
    "print(doublons)"
   ]
  },
  {
   "cell_type": "code",
   "execution_count": 355,
   "id": "1ed6923d-2132-47a4-ad9f-e755d756d242",
   "metadata": {},
   "outputs": [],
   "source": [
    "\n",
    "# Créer une copie du DataFrame\n",
    "manioc_thailande_copy = manioc_thailande.copy()\n",
    "\n",
    "# Supprimer les doublons de la copie\n",
    "manioc_thailande_copy = manioc_thailande_copy.drop_duplicates()\n"
   ]
  },
  {
   "cell_type": "code",
   "execution_count": 356,
   "id": "67e99bd4-ae7b-49fb-b8b6-b43b88f49242",
   "metadata": {},
   "outputs": [
    {
     "data": {
      "text/html": [
       "<div>\n",
       "<style scoped>\n",
       "    .dataframe tbody tr th:only-of-type {\n",
       "        vertical-align: middle;\n",
       "    }\n",
       "\n",
       "    .dataframe tbody tr th {\n",
       "        vertical-align: top;\n",
       "    }\n",
       "\n",
       "    .dataframe thead th {\n",
       "        text-align: right;\n",
       "    }\n",
       "</style>\n",
       "<table border=\"1\" class=\"dataframe\">\n",
       "  <thead>\n",
       "    <tr style=\"text-align: right;\">\n",
       "      <th></th>\n",
       "      <th>Zone</th>\n",
       "      <th>Produit</th>\n",
       "      <th>Origine</th>\n",
       "      <th>Aliments pour animaux</th>\n",
       "      <th>Autres Utilisations</th>\n",
       "      <th>Disponibilité alimentaire (Kcal/personne/jour)</th>\n",
       "      <th>Disponibilité alimentaire en quantité (kg/personne/an)</th>\n",
       "      <th>Disponibilité de matière grasse en quantité (g/personne/jour)</th>\n",
       "      <th>Disponibilité de protéines en quantité (g/personne/jour)</th>\n",
       "      <th>Disponibilité intérieure</th>\n",
       "      <th>Exportations - Quantité</th>\n",
       "      <th>Importations - Quantité</th>\n",
       "      <th>Nourriture</th>\n",
       "      <th>Pertes</th>\n",
       "      <th>Production</th>\n",
       "      <th>Semences</th>\n",
       "      <th>Traitement</th>\n",
       "      <th>Variation de stock</th>\n",
       "      <th>Année</th>\n",
       "      <th>Population</th>\n",
       "    </tr>\n",
       "  </thead>\n",
       "  <tbody>\n",
       "    <tr>\n",
       "      <th>50</th>\n",
       "      <td>Thaïlande</td>\n",
       "      <td>Manioc</td>\n",
       "      <td>vegetale</td>\n",
       "      <td>1800.0</td>\n",
       "      <td>2081.0</td>\n",
       "      <td>40.0</td>\n",
       "      <td>13.0</td>\n",
       "      <td>0.05</td>\n",
       "      <td>0.14</td>\n",
       "      <td>6264.0</td>\n",
       "      <td>25214.0</td>\n",
       "      <td>1250.0</td>\n",
       "      <td>871.0</td>\n",
       "      <td>1511.0</td>\n",
       "      <td>30228.0</td>\n",
       "      <td>NaN</td>\n",
       "      <td>0.0</td>\n",
       "      <td>0.0</td>\n",
       "      <td>2017</td>\n",
       "      <td>69209810.0</td>\n",
       "    </tr>\n",
       "  </tbody>\n",
       "</table>\n",
       "</div>"
      ],
      "text/plain": [
       "         Zone Produit   Origine  Aliments pour animaux  Autres Utilisations  \\\n",
       "50  Thaïlande  Manioc  vegetale                 1800.0               2081.0   \n",
       "\n",
       "    Disponibilité alimentaire (Kcal/personne/jour)  \\\n",
       "50                                            40.0   \n",
       "\n",
       "    Disponibilité alimentaire en quantité (kg/personne/an)  \\\n",
       "50                                               13.0        \n",
       "\n",
       "    Disponibilité de matière grasse en quantité (g/personne/jour)  \\\n",
       "50                                               0.05               \n",
       "\n",
       "    Disponibilité de protéines en quantité (g/personne/jour)  \\\n",
       "50                                               0.14          \n",
       "\n",
       "    Disponibilité intérieure  Exportations - Quantité  \\\n",
       "50                    6264.0                  25214.0   \n",
       "\n",
       "    Importations - Quantité  Nourriture  Pertes  Production  Semences  \\\n",
       "50                   1250.0       871.0  1511.0     30228.0       NaN   \n",
       "\n",
       "    Traitement  Variation de stock  Année  Population  \n",
       "50         0.0                 0.0   2017  69209810.0  "
      ]
     },
     "execution_count": 356,
     "metadata": {},
     "output_type": "execute_result"
    }
   ],
   "source": [
    "manioc_thailande_copy = manioc_thailande_copy.drop_duplicates(subset=['Produit', 'Zone'])\n",
    "manioc_thailande_copy"
   ]
  },
  {
   "cell_type": "code",
   "execution_count": 357,
   "id": "c7cb7a77-fbaa-42ae-806a-a593eaa179ab",
   "metadata": {},
   "outputs": [
    {
     "data": {
      "image/png": "[encoded data removed]",
      "text/plain": [
       "<Figure size 640x480 with 1 Axes>"
      ]
     },
     "metadata": {},
     "output_type": "display_data"
    }
   ],
   "source": [
    "import matplotlib.pyplot as plt\n",
    "\n",
    "# Calcule la proportion des colonnes suivantes:\n",
    "utilisations = ['Exportations - Quantité', 'Nourriture', 'Aliments pour animaux', 'Pertes', 'Autres Utilisations','Importations - Quantité']\n",
    "quantites = manioc_thailande[utilisations].sum()\n",
    "\n",
    "# Créer un diagramme à secteurs\n",
    "plt.pie(quantites, labels=utilisations, autopct='%1.1f%%')\n",
    "\n",
    "# Ajouter un titre\n",
    "plt.title('Proportion des différentes utilisations du Manioc')\n",
    "\n",
    "# Afficher le diagramme\n",
    "plt.show()"
   ]
  },
  {
   "cell_type": "code",
   "execution_count": 358,
   "id": "de5e64c4-57ad-4e13-bf65-31acf039b816",
   "metadata": {},
   "outputs": [
    {
     "data": {
      "image/png": "[encoded data removed]",
      "text/plain": [
       "<Figure size 640x480 with 1 Axes>"
      ]
     },
     "metadata": {},
     "output_type": "display_data"
    }
   ],
   "source": [
    "import matplotlib.pyplot as plt\n",
    "\n",
    "# 'Production' est la colonne contenant la quantité de manioc produite\n",
    "# et 'Exportations - Quantité' est la colonne contenant la quantité de manioc exportée\n",
    "utilisations = ['Production', 'Exportations - Quantité']\n",
    "quantites = manioc_thailande[utilisations].sum()\n",
    "\n",
    "# Créer un diagramme à secteurs\n",
    "plt.pie(quantites, labels=utilisations, autopct='%1.1f%%')\n",
    "\n",
    "# Ajouter un titre\n",
    "plt.title('Part de la Production et des Exportations de Manioc')\n",
    "\n",
    "# Afficher le diagramme\n",
    "plt.show()"
   ]
  },
  {
   "cell_type": "code",
   "execution_count": 359,
   "id": "cdb6a49f-8a7d-43fb-bc45-5d9e990ef81d",
   "metadata": {},
   "outputs": [
    {
     "data": {
      "image/png": "[encoded data removed]",
      "text/plain": [
       "<Figure size 640x480 with 1 Axes>"
      ]
     },
     "metadata": {},
     "output_type": "display_data"
    }
   ],
   "source": [
    "import matplotlib.pyplot as plt\n",
    "\n",
    "# DataFrame pour différentes utilisations du manioc\n",
    "utilisations = ['Nourriture', 'Aliments pour animaux', 'Pertes', 'Autres Utilisations']\n",
    "quantites = manioc_thailande[utilisations].sum()\n",
    "\n",
    "# Créer un diagramme à secteurs\n",
    "plt.pie(quantites, labels=utilisations, autopct='%1.1f%%')\n",
    "\n",
    "# Ajouter un titre\n",
    "plt.title('Répartition du Manioc En Thaïlande')\n",
    "\n",
    "# Afficher le diagramme\n",
    "plt.show()"
   ]
  },
  {
   "cell_type": "markdown",
   "id": "87be14d1-7939-44e2-a3ba-ef50506e4278",
   "metadata": {},
   "source": []
  }
 ],
 "metadata": {
  "kernelspec": {
   "display_name": "Python 3 (ipykernel)",
   "language": "python",
   "name": "python3"
  },
  "language_info": {
   "codemirror_mode": {
    "name": "ipython",
    "version": 3
   },
   "file_extension": ".py",
   "mimetype": "text/x-python",
   "name": "python",
   "nbconvert_exporter": "python",
   "pygments_lexer": "ipython3",
   "version": "3.11.7"
  }
 },
 "nbformat": 4,
 "nbformat_minor": 5
}
