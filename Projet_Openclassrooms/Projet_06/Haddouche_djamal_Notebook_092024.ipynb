{
 "cells": [
  {
   "cell_type": "markdown",
   "id": "97dccc01",
   "metadata": {},
   "source": [
    "<div style=\"display: flex; background-color: RGB(255,114,0);\" >\n",
    "<h1 style=\"margin: auto; padding: 30px; \">ANALYSE DU STOCK ET DES VENTES DU SITE BOTTLENECK</h1>\n",
    "</div>"
   ]
  },
  {
   "cell_type": "markdown",
   "id": "4d0d1bb8",
   "metadata": {},
   "source": [
    "# OBJECTIF DE CE NOTEBOOK\n",
    "\n",
    "Bienvenue dans l'outil plébiscité par les analystes de données Jupyter.\n",
    "\n",
    "Il s'agit d'un outil permettant de mixer et d'alterner codes, textes et graphique.\n",
    "\n",
    "Cet outil est formidable pour plusieurs raisons:\n",
    "\n",
    "+ il permet de tester des lignes de codes au fur et à mesure de votre rédaction, de constater immédiatement le résultat d'un instruction, de la corriger si nécessaire.\n",
    "+ De rédiger du texte pour expliquer l'approche suivie ou les résultats d'une analyse et de le mettre en forme grâce à du code html ou plus simple avec **Markdown**\n",
    "+ d'agrémenter de graphiques\n",
    "\n",
    "Pour vous aider dans vos premiers pas à l'usage de Jupyter et de Python, nous avons rédigé ce notebook en vous indiquant les instructions à suivre.\n",
    "\n",
    "Il vous suffit pour cela de saisir le code Python répondant à l'instruction donnée.\n",
    "\n",
    "Vous verrez de temps à autre le code Python répondant à une instruction donnée mais cela est fait pour vous aider à comprendre la nature du travail qui vous est demandée.\n",
    "\n",
    "Et garder à l'esprit, qu'il n'y a pas de solution unique pour résoudre un problème et qu'il y a autant de résolutions de problèmes que de développeurs ;)...\n",
    "\n"
   ]
  },
  {
   "cell_type": "markdown",
   "id": "b85efb87",
   "metadata": {},
   "source": [
    "<div style=\"background-color: RGB(51,165,182);\" >\n",
    "<h2 style=\"margin: auto; padding: 20px; color:#fff; \">Etape 1 - Importation des librairies et chargement des fichiers</h2>\n",
    "</div>"
   ]
  },
  {
   "cell_type": "markdown",
   "id": "b5449401",
   "metadata": {},
   "source": [
    "<div style=\"border: 1px solid RGB(51,165,182);\" >\n",
    "<h3 style=\"margin: auto; padding: 20px; color: RGB(51,165,182); \">1.1 - Importation des librairies</h3>\n",
    "</div>"
   ]
  },
  {
   "cell_type": "code",
   "execution_count": 8640,
   "id": "e6ef06ec",
   "metadata": {},
   "outputs": [],
   "source": [
    "#Importation de la librairie Pandas\n",
    "import pandas as pd\n",
    "import numpy as np\n",
    "import matplotlib.pyplot as plt\n",
    "import seaborn as sns\n",
    "import warnings\n",
    "import os\n",
    "import plotly.express as px\n"
   ]
  },
  {
   "cell_type": "code",
   "execution_count": 8641,
   "id": "0a718067",
   "metadata": {},
   "outputs": [],
   "source": [
    "#Trouver dans Google l'instruction permettant d'afficher toutes les colonnes d'un dataframe\n",
    "pd.set_option('display.max_columns', None)\n",
    "#Saisir, dans Google, les mots clés \"display all columns dataframe Pandas\", par exemple.\n",
    "#Dans les résultats de la recherche, privilégiez les solutions provenants de Stack Overflow ou Medium"
   ]
  },
  {
   "cell_type": "markdown",
   "id": "f4918299",
   "metadata": {},
   "source": [
    "<div style=\"border: 1px solid RGB(51,165,182);\" >\n",
    "<h3 style=\"margin: auto; padding: 20px; color: RGB(51,165,182); \">1.2 - Chargements des fichiers</h3>\n",
    "</div>"
   ]
  },
  {
   "cell_type": "code",
   "execution_count": 8642,
   "id": "20b8f860-e72a-4b0d-a454-29f83e8a4a1e",
   "metadata": {},
   "outputs": [
    {
     "name": "stdout",
     "output_type": "stream",
     "text": [
      "C:\\Users\\Djamel\\Projet_6\n"
     ]
    }
   ],
   "source": [
    "print(os.getcwd())"
   ]
  },
  {
   "cell_type": "code",
   "execution_count": 8643,
   "id": "9642cf03",
   "metadata": {},
   "outputs": [],
   "source": [
    "\n",
    "warnings.filterwarnings('ignore')\n",
    "\n",
    "# Importation du fichier web.xlsx\n",
    "df_web = pd.read_excel(\"web.xlsx\")\n",
    "\n",
    "# Importation du fichier erp.xlsx\n",
    "df_erp = pd.read_excel(\"erp.xlsx\")\n",
    "\n",
    "# Importation du fichier liaison.xlsx\n",
    "df_liaison = pd.read_excel(\"liaison.xlsx\")\n"
   ]
  },
  {
   "cell_type": "markdown",
   "id": "605f7056",
   "metadata": {},
   "source": [
    "<div style=\"background-color: RGB(51,165,182);\" >\n",
    "<h2 style=\"margin: auto; padding: 20px; color:#fff; \">Etape 2 - Analyse exploratoire des fichiers</h2>\n",
    "</div>"
   ]
  },
  {
   "cell_type": "markdown",
   "id": "47d3a649",
   "metadata": {},
   "source": [
    "<div style=\"border: 1px solid RGB(51,165,182);\" >\n",
    "<h3 style=\"margin: auto; padding: 20px; color: RGB(51,165,182); \">2.1 - Analyse exploratoire du fichier erp.xlsx</h3>\n",
    "</div>"
   ]
  },
  {
   "cell_type": "code",
   "execution_count": 8644,
   "id": "094ef206",
   "metadata": {},
   "outputs": [
    {
     "name": "stdout",
     "output_type": "stream",
     "text": [
      "Le tableau comporte 825 observation(s) ou article(s)\n",
      "Le tableau comporte 6 colonne(s)\n"
     ]
    }
   ],
   "source": [
    "#Afficher les dimensions du dataset\n",
    "print(\"Le tableau comporte {} observation(s) ou article(s)\".format(df_erp.shape[0]))\n",
    "print(\"Le tableau comporte {} colonne(s)\".format(df_erp.shape[1]))"
   ]
  },
  {
   "cell_type": "code",
   "execution_count": 8645,
   "id": "4af8d084-5883-416d-8cc3-b28f19765275",
   "metadata": {},
   "outputs": [
    {
     "name": "stdout",
     "output_type": "stream",
     "text": [
      "Index(['product_id', 'onsale_web', 'price', 'stock_quantity', 'stock_status',\n",
      "       'purchase_price'],\n",
      "      dtype='object')\n"
     ]
    }
   ],
   "source": [
    "print(df_erp.columns)\n"
   ]
  },
  {
   "cell_type": "code",
   "execution_count": 8646,
   "id": "182441f0",
   "metadata": {},
   "outputs": [
    {
     "name": "stdout",
     "output_type": "stream",
     "text": [
      "Le tableau comporte 6 colonne(s)\n",
      "<class 'pandas.core.frame.DataFrame'>\n",
      "RangeIndex: 825 entries, 0 to 824\n",
      "Data columns (total 6 columns):\n",
      " #   Column          Non-Null Count  Dtype  \n",
      "---  ------          --------------  -----  \n",
      " 0   product_id      825 non-null    int64  \n",
      " 1   onsale_web      825 non-null    int64  \n",
      " 2   price           825 non-null    float64\n",
      " 3   stock_quantity  825 non-null    int64  \n",
      " 4   stock_status    825 non-null    object \n",
      " 5   purchase_price  825 non-null    float64\n",
      "dtypes: float64(2), int64(3), object(1)\n",
      "memory usage: 38.8+ KB\n",
      "product_id        825\n",
      "onsale_web        825\n",
      "price             825\n",
      "stock_quantity    825\n",
      "stock_status      825\n",
      "purchase_price    825\n",
      "dtype: int64\n"
     ]
    }
   ],
   "source": [
    "#Consulter le nombre de colonnes\n",
    "nombre_de_colonnes = df_erp.shape[1]\n",
    "print(\"Le tableau comporte {} colonne(s)\".format(nombre_de_colonnes))\n",
    "#La nature des données dans chacune des colonnes\n",
    "df_erp.info()\n",
    "\n",
    "#Le nombre de valeurs présentes dans chacune des colonnes\n",
    "print(df_erp.count())\n"
   ]
  },
  {
   "cell_type": "code",
   "execution_count": 8647,
   "id": "d3977646",
   "metadata": {},
   "outputs": [
    {
     "name": "stdout",
     "output_type": "stream",
     "text": [
      "   product_id  onsale_web  price  stock_quantity stock_status  purchase_price\n",
      "0        3847           1   24.2              16      instock           12.88\n",
      "1        3849           1   34.3              10      instock           17.54\n",
      "2        3850           1   20.8               0   outofstock           10.64\n",
      "3        4032           1   14.1              26      instock            6.92\n",
      "4        4039           1   46.0               3   outofstock           23.77\n"
     ]
    }
   ],
   "source": [
    "#Afficher les 5 premières lignes de la table\n",
    "print(df_erp.head(5))"
   ]
  },
  {
   "cell_type": "code",
   "execution_count": 8648,
   "id": "db102a4a",
   "metadata": {},
   "outputs": [
    {
     "name": "stdout",
     "output_type": "stream",
     "text": [
      "Nombre de lignes en double dans la colonne 'product_id' : 0\n"
     ]
    }
   ],
   "source": [
    "#Vérifier si il y a les lignes en doublons dans la colonne product_id\n",
    "duplicates = df_erp.duplicated(subset=['product_id'])\n",
    "print(\"Nombre de lignes en double dans la colonne 'product_id' :\", duplicates.sum())"
   ]
  },
  {
   "cell_type": "code",
   "execution_count": 8649,
   "id": "d443d4ff",
   "metadata": {},
   "outputs": [
    {
     "name": "stdout",
     "output_type": "stream",
     "text": [
      "['instock' 'outofstock']\n",
      "Colonne : stock_status, Chi2 : 814.937965793096, p-valeur : 3.0501112149339855e-179\n"
     ]
    }
   ],
   "source": [
    "#Afficher les valeurs distinctes de la colonne stock_status\n",
    "print(df_erp['stock_status'].unique())\n",
    "#À quelle(s) autre(s) colonne(s) sont-elles liées ?\n",
    "from scipy.stats import chi2_contingency\n",
    "\n",
    "# Pour chaque colonne catégorielle dans le DataFrame\n",
    "for column in df_erp.select_dtypes(include=['object']).columns:\n",
    "    # Créer un tableau de contingence\n",
    "    contingency_table = pd.crosstab(df_erp['stock_status'], df_erp[column])\n",
    "    # Effectuer le test du chi-carré\n",
    "    chi2, p, dof, expected = chi2_contingency(contingency_table)\n",
    "    # Afficher les résultats\n",
    "    print(f\"Colonne : {column}, Chi2 : {chi2}, p-valeur : {p}\")"
   ]
  },
  {
   "cell_type": "code",
   "execution_count": 8650,
   "id": "68088943",
   "metadata": {},
   "outputs": [],
   "source": [
    "#Création d'une colonne \"stock_status_2\n",
    "df_erp['stock_status_2'] = df_erp['stock_status'].apply(lambda x: 'instock' if x == 'instock' else 'outofstock')\n",
    "#La valeur de cette deuxième colonne sera fonction de la valeur dans la colonne \"stock_quantity\"\n",
    "df_erp['stock_status_2'] = df_erp['stock_quantity'].apply(lambda x: 'instock' if x > 0 else 'outofstock')\n",
    "\n",
    "#si la valeur de la colonne \"stock_quantity\" est nulle ou negatif renseigner \"outofstock\" sinon mettre \"instock\"\n",
    "df_erp['stock_status_2'] = df_erp['stock_quantity'].apply(lambda x: 'outofstock' if x <= 0 else 'instock')"
   ]
  },
  {
   "cell_type": "code",
   "execution_count": 8651,
   "id": "90a1c8ae",
   "metadata": {},
   "outputs": [
    {
     "name": "stdout",
     "output_type": "stream",
     "text": [
      "Les colonnes sont-elles identiques ? : False\n",
      "0       True\n",
      "1       True\n",
      "2       True\n",
      "3       True\n",
      "4      False\n",
      "       ...  \n",
      "820     True\n",
      "821     True\n",
      "822     True\n",
      "823     True\n",
      "824     True\n",
      "Length: 825, dtype: bool\n"
     ]
    }
   ],
   "source": [
    "#Vérifions que les 2 colonnes sont identiques:\n",
    "are_columns_equal = df_erp['stock_status'].equals(df_erp['stock_status_2'])\n",
    "print(\"Les colonnes sont-elles identiques ? :\", are_columns_equal)\n",
    "#Les 2 colonnes sont strictement identiques si les valeurs de chaque ligne sont strictement identiques 2 à 2\n",
    "\n",
    "#La comparaison de 2 colonnes peut se réaliser simplement avec l'instruction ci-dessous:\n",
    "df_erp[\"stock_status\"] == df_erp[\"stock_status_2\"]\n",
    "\n",
    "#Le résultat est l'affichage de True ou False pour chacune des lignes du dataset\n",
    "are_rows_equal = df_erp['stock_status'] == df_erp['stock_status_2']\n",
    "print(are_rows_equal)\n",
    "#C'est un bon début, mais difficile à exploiter"
   ]
  },
  {
   "cell_type": "code",
   "execution_count": 8652,
   "id": "ebe3650a",
   "metadata": {},
   "outputs": [
    {
     "name": "stdout",
     "output_type": "stream",
     "text": [
      "Nombre total de lignes identiques : 823\n"
     ]
    }
   ],
   "source": [
    "#Mais il est possible de synthétiser ce résultat en effectuant la somme de cette colonne:\n",
    "#True vaut 1 et False 0\n",
    "#Nous devrions obtenir la somme de 824 qui correspond au nombre de lignes dans ce dataset\n",
    "total_identical_rows = (df_erp['stock_status'] == df_erp['stock_status_2']).sum()\n",
    "print(\"Nombre total de lignes identiques :\", total_identical_rows)"
   ]
  },
  {
   "cell_type": "code",
   "execution_count": 8653,
   "id": "1ca6060a",
   "metadata": {},
   "outputs": [
    {
     "name": "stdout",
     "output_type": "stream",
     "text": [
      "     product_id  onsale_web  price  stock_quantity stock_status  \\\n",
      "4          4039           1   46.0               3   outofstock   \n",
      "398        4885           1   18.7               0      instock   \n",
      "\n",
      "     purchase_price stock_status_2  \n",
      "4             23.77        instock  \n",
      "398            9.66     outofstock  \n"
     ]
    }
   ],
   "source": [
    "#Si les colonnes ne sont absolument pas identiques ligne à ligne alors identifier la ligne en écart\n",
    "##Dans ce cas je vous ce lien pour apprendre à réaliser des filtres dans Pandas:\n",
    "##https://bitbucket.org/hrojas/learn-pandas/src/master/\n",
    "##Lesson 3\n",
    "\n",
    "non_identical_rows = df_erp[df_erp['stock_status_2'] != df_erp['stock_status']]\n",
    "print(non_identical_rows)\n"
   ]
  },
  {
   "cell_type": "code",
   "execution_count": 8654,
   "id": "ce1b9704",
   "metadata": {},
   "outputs": [
    {
     "name": "stdout",
     "output_type": "stream",
     "text": [
      "     product_id  onsale_web  price  stock_quantity stock_status  \\\n",
      "4          4039           1   46.0               3   outofstock   \n",
      "398        4885           1   18.7               0      instock   \n",
      "\n",
      "     purchase_price stock_status_2  \n",
      "4             23.77        instock  \n",
      "398            9.66     outofstock  \n"
     ]
    }
   ],
   "source": [
    "#Corriger la ou les données incohérentes\n",
    "# Identifier les lignes incohérentes\n",
    "inconsistent_rows = df_erp['stock_status'] != df_erp['stock_status_2']\n",
    "\n",
    "# Copier les valeurs de 'stock_status_2' dans 'stock_status' pour ces lignes\n",
    "df_erp.loc[inconsistent_rows, 'stock_status_2'] = df_erp.loc[inconsistent_rows, 'stock_status']\n",
    "\n",
    "#Verification en utilisant le même code que plus haut pour afficher les problemes\n",
    "\n",
    "# Identifier les lignes incohérentes\n",
    "#non_identical_rows = df_erp[df_erp['stock_status'] != df_erp['stock_status_2']]\n",
    "print(non_identical_rows)"
   ]
  },
  {
   "cell_type": "code",
   "execution_count": 8655,
   "id": "04969550-e52f-4e1e-9f1b-2834119994dd",
   "metadata": {},
   "outputs": [
    {
     "name": "stdout",
     "output_type": "stream",
     "text": [
      "Nombre de lignes dans df_erp : 825\n"
     ]
    }
   ],
   "source": [
    "#nettoyer df_erp \n",
    "# Supprimer les doublons\n",
    "df_erp = df_erp.drop_duplicates(subset=['product_id'])\n",
    "\n",
    "\n",
    "# Supprimer les NaN et les cellules vides\n",
    "df_erp = df_erp.replace('', np.nan).dropna(subset=['product_id'])\n",
    "\n",
    "\n",
    "# Supprimer les cellules qui sont des chaînes de caractères\n",
    "# Pour 'product_id' dans df_erp\n",
    "df_erp = df_erp[pd.to_numeric(df_erp['product_id'], errors='coerce').notnull()]\n",
    "\n",
    "\n",
    "# Nombre de lignes dans df_erp\n",
    "num_rows_erp = df_erp.shape[0]\n",
    "print(\"Nombre de lignes dans df_erp :\", num_rows_erp)"
   ]
  },
  {
   "cell_type": "markdown",
   "id": "08bd4b08",
   "metadata": {},
   "source": [
    "<div style=\"border: 1px solid RGB(51,165,182);\" >\n",
    "<h3 style=\"margin: auto; padding: 20px; color: RGB(51,165,182); \">2.1.1 - Analyse exploratoire de chaque variable du fichier erp.xlsx</h3>\n",
    "</div>"
   ]
  },
  {
   "cell_type": "markdown",
   "id": "3476df40",
   "metadata": {},
   "source": [
    "<div style=\"border: 1px solid RGB(51,165,182);\" >\n",
    "<h3 style=\"margin: auto; padding: 20px; color: RGB(51,165,182); \">2.1.1.1 - Analyse de la variable PRIX</h3>\n",
    "</div>"
   ]
  },
  {
   "cell_type": "code",
   "execution_count": 8656,
   "id": "a7fc3384",
   "metadata": {},
   "outputs": [
    {
     "name": "stdout",
     "output_type": "stream",
     "text": [
      "Nombre de prix non renseignés : 0\n",
      "Nombre de prix négatifs : 3\n",
      "Nombre de prix nuls : 0\n",
      "Nombres d'article avec un prix non renseignés: 0\n",
      "Le prix minimum est : -20.0\n",
      "Le prix maximum est : 225.0\n",
      "     product_id  onsale_web  price  stock_quantity stock_status  \\\n",
      "151        4233           0  -20.0               0   outofstock   \n",
      "469        5017           0   -8.0               0   outofstock   \n",
      "739        6594           0   -9.1              19      instock   \n",
      "\n",
      "     purchase_price stock_status_2  \n",
      "151           10.33     outofstock  \n",
      "469            4.34     outofstock  \n",
      "739            4.61        instock  \n"
     ]
    }
   ],
   "source": [
    "###############\n",
    "## LES PRIX  ##\n",
    "###############\n",
    "\n",
    "#Vérification des prix: Y a t-il des prix non renseignés, négatif ou nul?\n",
    "# Vérifier les prix non renseignés\n",
    "non_renseignes = df_erp['price'].isna().sum()\n",
    "print(\"Nombre de prix non renseignés :\", non_renseignes)\n",
    "\n",
    "# Vérifier les prix négatifs\n",
    "negatifs = (df_erp['price'] < 0).sum()\n",
    "print(\"Nombre de prix négatifs :\", negatifs)\n",
    "\n",
    "# Vérifier les prix nuls\n",
    "nuls = (df_erp['price'] == 0).sum()\n",
    "print(\"Nombre de prix nuls :\", nuls)\n",
    "#Afficher le ou les prix non renseignés dans la colonne \"price\"\n",
    "print(\"Nombres d'article avec un prix non renseignés: {}\".format(df_erp['price'].isna().sum()))#Saisir l'instruction manquante dans la fonction format\n",
    "#Afficher le prix minimum de la colonne \"price\"\n",
    "min_price = df_erp['price'].min()\n",
    "print(\"Le prix minimum est :\", min_price)\n",
    "#Afficher le prix maximum de la colonne \"price\"\n",
    "max_price = df_erp['price'].max()\n",
    "print(\"Le prix maximum est :\", max_price)\n",
    "#Affichier les prix inférieurs à 0 (qu'est ce qu'il faut en faire ?)\n",
    "negative_prices = df_erp[df_erp['price'] < 0]\n",
    "print(negative_prices)\n",
    "\n",
    "# Prendre la valeur absolue du prix\n",
    "##df_erp['price'] = df_erp['price'].abs()\n",
    "\n",
    "# Ou supprimer les lignes avec des prix négatifs\n",
    "##df_erp = df_erp[df_erp['price'] >= 0]\n",
    "\n",
    "# Ou remplacer les prix négatifs par la médiane\n",
    "##median_price = df_erp['price'].median()\n",
    "##df_erp.loc[df_erp['price'] < 0, 'price'] = median_price"
   ]
  },
  {
   "cell_type": "markdown",
   "id": "c5fce58c",
   "metadata": {},
   "source": [
    "<div style=\"border: 1px solid RGB(51,165,182);\" >\n",
    "<h3 style=\"margin: auto; padding: 20px; color: RGB(51,165,182); \">2.1.1.2 - Analyse de la variable STOCK</h3>\n",
    "</div>"
   ]
  },
  {
   "cell_type": "code",
   "execution_count": 8657,
   "id": "3d14c4a0",
   "metadata": {},
   "outputs": [
    {
     "name": "stdout",
     "output_type": "stream",
     "text": [
      "-10\n",
      "145\n",
      "     product_id  onsale_web  price  stock_quantity stock_status  \\\n",
      "449        4973           0   10.0             -10   outofstock   \n",
      "573        5700           1   44.5              -1   outofstock   \n",
      "\n",
      "     purchase_price stock_status_2  \n",
      "449            4.96     outofstock  \n",
      "573           22.30     outofstock  \n"
     ]
    }
   ],
   "source": [
    "#######################\n",
    "### stock_quantity  ###\n",
    "#######################\n",
    "\n",
    "#Vérification de la colonne stock quantity\n",
    "#Afficher la quantité minimum de la colonne \"stock_quantity\"\n",
    "min_quantity = df_erp['stock_quantity'].min()\n",
    "print(min_quantity)\n",
    "#Afficher la quantité maximum de la colonne \"stock_quantity\"\n",
    "max_quantity = df_erp['stock_quantity'].max()\n",
    "print(max_quantity)\n",
    "#Affichier les stocks inférieurs à 0 (qu'est ce qu'il faut en faire ?)\n",
    "negative_stocks = df_erp[df_erp['stock_quantity'] < 0]\n",
    "print(negative_stocks)\n",
    "##il faut envisager des actions correctives:\n",
    "###Vérification des données\n",
    "###Correction des données remplacer les valeurs négatives par zéro:df.loc[df['stock_quantity'] < 0, 'stock_quantity'] = 0\n",
    "###Analyse des données : \n",
    "###"
   ]
  },
  {
   "cell_type": "markdown",
   "id": "20e8c554",
   "metadata": {},
   "source": [
    "<div style=\"border: 1px solid RGB(51,165,182);\" >\n",
    "<h3 style=\"margin: auto; padding: 20px; color: RGB(51,165,182); \">2.1.1.3 - Analyse de la variable ONSALE_WEB</h3>\n",
    "</div>"
   ]
  },
  {
   "cell_type": "code",
   "execution_count": 8658,
   "id": "8efc5013-a2df-414c-b947-8a1a273aa4fe",
   "metadata": {},
   "outputs": [
    {
     "name": "stdout",
     "output_type": "stream",
     "text": [
      "0\n",
      "count    825.000000\n",
      "mean       0.867879\n",
      "std        0.338828\n",
      "min        0.000000\n",
      "25%        1.000000\n",
      "50%        1.000000\n",
      "75%        1.000000\n",
      "max        1.000000\n",
      "Name: onsale_web, dtype: float64\n",
      "[1 0]\n"
     ]
    }
   ],
   "source": [
    "#Vérification de la colonne onsale_web et des valeurs qu'elle contient? Que signifient-elles?\n",
    "##Vérifier les valeurs manquantes :\n",
    "print(df_erp['onsale_web'].isnull().sum())\n",
    "##Obtenir des statistiques descriptives :\n",
    "print(df_erp['onsale_web'].describe())\n",
    "##Vérifier les valeurs uniques :\n",
    "print(df_erp['onsale_web'].unique())"
   ]
  },
  {
   "cell_type": "code",
   "execution_count": 8659,
   "id": "5a79444d",
   "metadata": {},
   "outputs": [],
   "source": [
    "#Quelles sont les colonnes à conserver selon vous?\n",
    "##Pertinence : \n",
    "##Complétude : Les colonnes avec trop de valeurs manquantes peuvent ne pas être très utiles pour votre analyse.\n",
    "##Qualité des données : Les colonnes avec beaucoup de bruit, de valeurs aberrantes ou d’erreurs peuvent nécessiter un nettoyage avant qu’elles puissent être utilisées.\n",
    "##Redondance : Si vous avez deux colonnes qui contiennent des informations très similaires, vous pouvez choisir de n’en conserver qu’une.\n",
    "\n",
    "###les colonnes a concerver sont donc:stock_quantity, onsale_web,price "
   ]
  },
  {
   "cell_type": "code",
   "execution_count": 8660,
   "id": "8053aeda",
   "metadata": {},
   "outputs": [],
   "source": [
    "#Supprimer la colonne comportant le libellé \"stock_status_2\" car elle est redondante \n",
    "#avec la colonne \"stock_status\".\n",
    "\n",
    "df = df_erp.drop('stock_status_2', axis=1)\n"
   ]
  },
  {
   "cell_type": "markdown",
   "id": "eca4fce9",
   "metadata": {},
   "source": [
    "<div style=\"border: 1px solid RGB(51,165,182);\" >\n",
    "<h3 style=\"margin: auto; padding: 20px; color: RGB(51,165,182); \">2.1.1.4 - Analyse de la variable prix d'achat</h3>\n",
    "</div>"
   ]
  },
  {
   "cell_type": "code",
   "execution_count": 8661,
   "id": "6b85ba0d",
   "metadata": {},
   "outputs": [
    {
     "name": "stdout",
     "output_type": "stream",
     "text": [
      "Empty DataFrame\n",
      "Columns: [product_id, purchase_price]\n",
      "Index: []\n",
      "2.74\n",
      "137.81\n"
     ]
    }
   ],
   "source": [
    "######################\n",
    "##   prix d'achat   ##\n",
    "######################\n",
    "\n",
    "#Vérification de la colonne purchase_price : \n",
    "#Afficher le ou les prix non renseignés dans la colonne \"purchase_price\"\n",
    "df_erp_non_renseignés = df_erp[df_erp['purchase_price'].isna()]\n",
    "print(df_erp_non_renseignés[['product_id', 'purchase_price']])\n",
    "#Afficher le prix minimum de la colonne \"purchase_price\"\n",
    "min_price = df_erp['purchase_price'].min()\n",
    "print(min_price)\n",
    "#Afficher le prix maximum de la colonne \"purchase_price\"\n",
    "max_price = df_erp['purchase_price'].max()\n",
    "print(max_price)"
   ]
  },
  {
   "cell_type": "markdown",
   "id": "a550f996",
   "metadata": {},
   "source": [
    "<div style=\"border: 1px solid RGB(51,165,182);\" >\n",
    "<h3 style=\"margin: auto; padding: 20px; color: RGB(51,165,182); \">2.2 - Analyse exploratoire du fichier web.xlsx</h3>\n",
    "</div>\n",
    " "
   ]
  },
  {
   "cell_type": "code",
   "execution_count": 8662,
   "id": "f5ea7196-1c6d-4962-80a5-7b1dbbc47e72",
   "metadata": {},
   "outputs": [
    {
     "name": "stdout",
     "output_type": "stream",
     "text": [
      "Nombre de lignes uniques dans df_web basé sur 'sku' : 714\n"
     ]
    }
   ],
   "source": [
    "# Nombre de lignes uniques dans df_web basé sur 'sku'\n",
    "num_unique_rows_web = df_web['sku'].nunique()\n",
    "print(\"Nombre de lignes uniques dans df_web basé sur 'sku' :\", num_unique_rows_web)"
   ]
  },
  {
   "cell_type": "code",
   "execution_count": 8663,
   "id": "4ea5c6a5-f6e3-45c7-91c5-db2cf231d832",
   "metadata": {},
   "outputs": [
    {
     "name": "stdout",
     "output_type": "stream",
     "text": [
      "        sku  virtual  downloadable  rating_count  average_rating  total_sales  \\\n",
      "0     11862        0             0             0             0.0          3.0   \n",
      "1     16057        0             0             0             0.0          5.0   \n",
      "2     14692        0             0             0             0.0          5.0   \n",
      "3     16295        0             0             0             0.0         14.0   \n",
      "4     15328        0             0             0             0.0          2.0   \n",
      "...     ...      ...           ...           ...             ...          ...   \n",
      "1508  16326        0             0             0             0.0          5.0   \n",
      "1509  15662        0             0             0             0.0         15.0   \n",
      "1510  15329        0             0             0             0.0          3.0   \n",
      "1511  14827        0             0             0             0.0          7.0   \n",
      "1512  16004        0             0             0             0.0          5.0   \n",
      "\n",
      "     tax_status  tax_class  post_author           post_date  \\\n",
      "0           NaN        NaN          2.0 2018-02-12 13:46:23   \n",
      "1           NaN        NaN          2.0 2018-04-17 15:29:17   \n",
      "2       taxable        NaN          2.0 2019-03-19 10:06:47   \n",
      "3           NaN        NaN          2.0 2018-02-15 14:05:06   \n",
      "4       taxable        NaN          2.0 2019-03-27 18:05:09   \n",
      "...         ...        ...          ...                 ...   \n",
      "1508    taxable        NaN          2.0 2019-04-18 11:32:46   \n",
      "1509    taxable        NaN          2.0 2018-02-27 10:13:03   \n",
      "1510        NaN        NaN          2.0 2019-03-27 18:28:15   \n",
      "1511        NaN        NaN          2.0 2018-11-26 09:56:52   \n",
      "1512        NaN        NaN          2.0 2018-06-07 16:27:25   \n",
      "\n",
      "           post_date_gmt  post_content product_type  \\\n",
      "0    2018-02-12 12:46:23           NaN          Vin   \n",
      "1    2018-04-17 13:29:17           NaN          Vin   \n",
      "2    2019-03-19 09:06:47           NaN          Vin   \n",
      "3    2018-02-15 13:05:06           NaN          Vin   \n",
      "4    2019-03-27 17:05:09           NaN          Vin   \n",
      "...                  ...           ...          ...   \n",
      "1508 2019-04-18 09:32:46           NaN          Vin   \n",
      "1509 2018-02-27 09:13:03           NaN          Vin   \n",
      "1510 2019-03-27 17:28:15           NaN          Vin   \n",
      "1511 2018-11-26 08:56:52           NaN          Vin   \n",
      "1512 2018-06-07 14:27:25           NaN          Vin   \n",
      "\n",
      "                                             post_title  \\\n",
      "0                     Gilles Robin Hermitage Rouge 2012   \n",
      "1     Domaine Pellé Sancerre Rouge La Croix Au Garde...   \n",
      "2         Château Fonréaud Bordeaux Blanc Le Cygne 2016   \n",
      "3     Moulin de Gassac IGP Pays d'Hérault Guilhem Ro...   \n",
      "4                  Agnès Levet Côte Rôtie Maestria 2017   \n",
      "...                                                 ...   \n",
      "1508    Camin Larredya Jurançon Moelleux Au Capcéu 2018   \n",
      "1509  Chermette Domaine du Vissoux Beaujolais Griott...   \n",
      "1510               Agnès Levet Côte Rôtie Péroline 2017   \n",
      "1511  Marc Colin Et Fils Chassagne-Montrachet Blanc ...   \n",
      "1512                    Château du Couvent Pomerol 2017   \n",
      "\n",
      "                                           post_excerpt post_status  \\\n",
      "0                                                   NaN     publish   \n",
      "1                                                   NaN     publish   \n",
      "2     <div>Grâce à la complémentarité des 3 cépages ...     publish   \n",
      "3                                                   NaN     publish   \n",
      "4     <span style=\"float: none; background-color: tr...     publish   \n",
      "...                                                 ...         ...   \n",
      "1508  Sur le millésime 2017, Au Capceu du domaine Ca...     publish   \n",
      "1509  C'est le Beaujolais typique : fruité, frais, g...     publish   \n",
      "1510                                                NaN     publish   \n",
      "1511                                                NaN     publish   \n",
      "1512                                                NaN     publish   \n",
      "\n",
      "     comment_status ping_status  post_password  \\\n",
      "0            closed      closed            NaN   \n",
      "1            closed      closed            NaN   \n",
      "2            closed      closed            NaN   \n",
      "3            closed      closed            NaN   \n",
      "4            closed      closed            NaN   \n",
      "...             ...         ...            ...   \n",
      "1508         closed      closed            NaN   \n",
      "1509         closed      closed            NaN   \n",
      "1510         closed      closed            NaN   \n",
      "1511         closed      closed            NaN   \n",
      "1512         closed      closed            NaN   \n",
      "\n",
      "                                              post_name       post_modified  \\\n",
      "0                           gilles-robin-hermitage-2012 2019-01-31 12:12:56   \n",
      "1           pelle-sancerre-rouge-la-croix-au-garde-2017 2020-07-07 10:05:02   \n",
      "2                 fonreaud-bordeaux-blanc-le-cygne-2016 2020-04-25 21:40:31   \n",
      "3     moulin-de-gassac-igp-pays-dherault-guilhem-ros... 2020-08-27 18:55:03   \n",
      "4                  agnes-levet-cote-rotie-maestria-2017 2020-07-25 15:45:02   \n",
      "...                                                 ...                 ...   \n",
      "1508       camin-larredya-jurancon-moelleux-capceu-2018 2020-08-27 09:24:46   \n",
      "1509  chermette-domaine-du-vissoux-beaujolais-griott... 2020-07-11 11:25:03   \n",
      "1510               agnes-levet-cote-rotie-peroline-2017 2020-07-28 09:45:02   \n",
      "1511  marc-colin-et-fils-chassagne-montrachet-blanc-... 2020-07-28 09:45:02   \n",
      "1512                    chateau-du-couvent-pomerol-2017 2020-08-25 18:35:02   \n",
      "\n",
      "       post_modified_gmt  post_content_filtered  post_parent  \\\n",
      "0    2019-01-31 11:12:56                    NaN          0.0   \n",
      "1    2020-07-07 08:05:02                    NaN          0.0   \n",
      "2    2020-04-25 19:40:31                    NaN          0.0   \n",
      "3    2020-08-27 16:55:03                    NaN          0.0   \n",
      "4    2020-07-25 13:45:02                    NaN          0.0   \n",
      "...                  ...                    ...          ...   \n",
      "1508 2020-08-27 07:24:46                    NaN          0.0   \n",
      "1509 2020-07-11 09:25:03                    NaN          0.0   \n",
      "1510 2020-07-28 07:45:02                    NaN          0.0   \n",
      "1511 2020-07-28 07:45:02                    NaN          0.0   \n",
      "1512 2020-08-25 16:35:02                    NaN          0.0   \n",
      "\n",
      "                                                   guid  menu_order  \\\n",
      "0     https://www.bottle-neck.fr/wp-content/uploads/...         0.0   \n",
      "1     https://www.bottle-neck.fr/wp-content/uploads/...         0.0   \n",
      "2     https://www.bottle-neck.fr/?post_type=product&...         0.0   \n",
      "3     https://www.bottle-neck.fr/wp-content/uploads/...         0.0   \n",
      "4     https://www.bottle-neck.fr/?post_type=product&...         0.0   \n",
      "...                                                 ...         ...   \n",
      "1508  https://www.bottle-neck.fr/?post_type=product&...         0.0   \n",
      "1509  https://www.bottle-neck.fr/?post_type=product&...         0.0   \n",
      "1510  https://www.bottle-neck.fr/wp-content/uploads/...         0.0   \n",
      "1511  https://www.bottle-neck.fr/wp-content/uploads/...         0.0   \n",
      "1512  https://www.bottle-neck.fr/wp-content/uploads/...         0.0   \n",
      "\n",
      "       post_type post_mime_type  comment_count  \n",
      "0     attachment     image/jpeg            0.0  \n",
      "1     attachment     image/jpeg            0.0  \n",
      "2        product            NaN            0.0  \n",
      "3     attachment     image/jpeg            0.0  \n",
      "4        product            NaN            0.0  \n",
      "...          ...            ...            ...  \n",
      "1508     product            NaN            0.0  \n",
      "1509     product            NaN            0.0  \n",
      "1510  attachment     image/jpeg            0.0  \n",
      "1511  attachment     image/jpeg            0.0  \n",
      "1512  attachment     image/jpeg            0.0  \n",
      "\n",
      "[1513 rows x 29 columns]\n"
     ]
    }
   ],
   "source": [
    "# Afficher toutes les lignes non uniques\n",
    "df_web_duplicated = df_web[df_web.duplicated(subset='sku', keep=False)]\n",
    "\n",
    "# Imprimer les lignes non uniques\n",
    "print(df_web_duplicated)"
   ]
  },
  {
   "cell_type": "code",
   "execution_count": 8664,
   "id": "6641f43b-0ee2-488b-9226-9d50898b9b4b",
   "metadata": {},
   "outputs": [],
   "source": [
    "df_web = df_web.drop_duplicates(subset='sku', keep='first')"
   ]
  },
  {
   "cell_type": "code",
   "execution_count": 8665,
   "id": "bb7e292c",
   "metadata": {},
   "outputs": [
    {
     "name": "stdout",
     "output_type": "stream",
     "text": [
      "(715, 29)\n",
      "715\n",
      "29\n"
     ]
    }
   ],
   "source": [
    "#Dimension du dataset\n",
    "print(df_web.shape)\n",
    "#Nombre d'observations\n",
    "print(df_web.shape[0])\n",
    "#Nombre de caractéristiques\n",
    "print(df_web.shape[1])"
   ]
  },
  {
   "cell_type": "code",
   "execution_count": 8666,
   "id": "0b70a8da",
   "metadata": {},
   "outputs": [
    {
     "name": "stdout",
     "output_type": "stream",
     "text": [
      "29\n",
      "<class 'pandas.core.frame.DataFrame'>\n",
      "Index: 715 entries, 0 to 1391\n",
      "Data columns (total 29 columns):\n",
      " #   Column                 Non-Null Count  Dtype         \n",
      "---  ------                 --------------  -----         \n",
      " 0   sku                    714 non-null    object        \n",
      " 1   virtual                715 non-null    int64         \n",
      " 2   downloadable           715 non-null    int64         \n",
      " 3   rating_count           715 non-null    int64         \n",
      " 4   average_rating         714 non-null    float64       \n",
      " 5   total_sales            714 non-null    float64       \n",
      " 6   tax_status             361 non-null    object        \n",
      " 7   tax_class              0 non-null      float64       \n",
      " 8   post_author            714 non-null    float64       \n",
      " 9   post_date              714 non-null    datetime64[ns]\n",
      " 10  post_date_gmt          714 non-null    datetime64[ns]\n",
      " 11  post_content           0 non-null      float64       \n",
      " 12  product_type           714 non-null    object        \n",
      " 13  post_title             714 non-null    object        \n",
      " 14  post_excerpt           361 non-null    object        \n",
      " 15  post_status            714 non-null    object        \n",
      " 16  comment_status         714 non-null    object        \n",
      " 17  ping_status            714 non-null    object        \n",
      " 18  post_password          0 non-null      float64       \n",
      " 19  post_name              714 non-null    object        \n",
      " 20  post_modified          714 non-null    datetime64[ns]\n",
      " 21  post_modified_gmt      714 non-null    datetime64[ns]\n",
      " 22  post_content_filtered  0 non-null      float64       \n",
      " 23  post_parent            714 non-null    float64       \n",
      " 24  guid                   714 non-null    object        \n",
      " 25  menu_order             714 non-null    float64       \n",
      " 26  post_type              714 non-null    object        \n",
      " 27  post_mime_type         353 non-null    object        \n",
      " 28  comment_count          714 non-null    float64       \n",
      "dtypes: datetime64[ns](4), float64(10), int64(3), object(12)\n",
      "memory usage: 167.6+ KB\n",
      "None\n",
      "sku                      714\n",
      "virtual                  715\n",
      "downloadable             715\n",
      "rating_count             715\n",
      "average_rating           714\n",
      "total_sales              714\n",
      "tax_status               361\n",
      "tax_class                  0\n",
      "post_author              714\n",
      "post_date                714\n",
      "post_date_gmt            714\n",
      "post_content               0\n",
      "product_type             714\n",
      "post_title               714\n",
      "post_excerpt             361\n",
      "post_status              714\n",
      "comment_status           714\n",
      "ping_status              714\n",
      "post_password              0\n",
      "post_name                714\n",
      "post_modified            714\n",
      "post_modified_gmt        714\n",
      "post_content_filtered      0\n",
      "post_parent              714\n",
      "guid                     714\n",
      "menu_order               714\n",
      "post_type                714\n",
      "post_mime_type           353\n",
      "comment_count            714\n",
      "dtype: int64\n"
     ]
    }
   ],
   "source": [
    "#Consulter le nombre de colonnes\n",
    "print(df_web.shape[1])\n",
    "#La nature des données dans chacune des colonnes\n",
    "print(df_web.info())\n",
    "#Le nombre de valeurs présentes dans chacune des colonnes\n",
    "print(df_web.count())"
   ]
  },
  {
   "cell_type": "code",
   "execution_count": 8667,
   "id": "bf229f4b-60eb-44d8-ae43-e302b1477f00",
   "metadata": {},
   "outputs": [
    {
     "name": "stdout",
     "output_type": "stream",
     "text": [
      "                     sku  virtual  downloadable  rating_count  average_rating  \\\n",
      "272              13127-1        0             0             0             0.0   \n",
      "842  bon-cadeau-25-euros        0             0             0             0.0   \n",
      "\n",
      "     total_sales tax_status  tax_class  post_author           post_date  \\\n",
      "272          4.0    taxable        NaN          2.0 2020-06-09 15:42:04   \n",
      "842          7.0        NaN        NaN          1.0 2018-06-01 13:53:46   \n",
      "\n",
      "          post_date_gmt  post_content product_type  \\\n",
      "272 2020-06-09 13:42:04           NaN          Vin   \n",
      "842 2018-06-01 11:53:46           NaN        Autre   \n",
      "\n",
      "                                       post_title  \\\n",
      "272  Clos du Mont-Olivet Châteauneuf-du-Pape 2007   \n",
      "842                             Bon cadeau de 25€   \n",
      "\n",
      "                                          post_excerpt post_status  \\\n",
      "272  Nez gracieux, très élégant avec une touche flo...     publish   \n",
      "842                                                NaN     publish   \n",
      "\n",
      "    comment_status ping_status  post_password  \\\n",
      "272         closed      closed            NaN   \n",
      "842         closed      closed            NaN   \n",
      "\n",
      "                                          post_name       post_modified  \\\n",
      "272  clos-du-mont-olivet-chateauneuf-du-pape-2007-2 2020-07-20 17:09:06   \n",
      "842                          bon-cadeau-de-25-euros 2018-06-01 14:13:57   \n",
      "\n",
      "      post_modified_gmt  post_content_filtered  post_parent  \\\n",
      "272 2020-07-20 15:09:06                    NaN          0.0   \n",
      "842 2018-06-01 12:13:57                    NaN          0.0   \n",
      "\n",
      "                                                  guid  menu_order  \\\n",
      "272  https://www.bottle-neck.fr/?post_type=product&...         0.0   \n",
      "842  https://www.bottle-neck.fr/wp-content/uploads/...         0.0   \n",
      "\n",
      "      post_type post_mime_type  comment_count  \n",
      "272     product            NaN            0.0  \n",
      "842  attachment     image/jpeg            0.0  \n"
     ]
    }
   ],
   "source": [
    "import pandas as pd\n",
    "\n",
    "# Créer une liste des valeurs à rechercher\n",
    "values = ['13127-1', 'bon de cadeaux', 'Bon cadeau de 25€','bon-cadeau-25-euros','']\n",
    "\n",
    "# Créer un masque booléen où True indique que 'sku' est dans la liste des valeurs\n",
    "mask = df_web['sku'].isin(values)\n",
    "\n",
    "# Appliquer le masque à df_web pour obtenir seulement les lignes où 'sku' est dans la liste des valeurs\n",
    "df_selected_rows = df_web[mask]\n",
    "\n",
    "# Afficher les lignes sélectionnées\n",
    "print(df_selected_rows)"
   ]
  },
  {
   "cell_type": "code",
   "execution_count": 8668,
   "id": "446791a6-d827-4637-8296-e902a3e477a6",
   "metadata": {},
   "outputs": [
    {
     "name": "stdout",
     "output_type": "stream",
     "text": [
      "La ligne avec 'sku' égal à '13127-1' existe : True\n"
     ]
    }
   ],
   "source": [
    "# Vérifier si '13127-1' existe dans 'sku'\n",
    "exists = (df_web['sku'] == '13127-1').any()\n",
    "\n",
    "print(f\"La ligne avec 'sku' égal à '13127-1' existe : {exists}\")"
   ]
  },
  {
   "cell_type": "code",
   "execution_count": 8669,
   "id": "6eb2a3b9-12b1-4147-bf1e-096d0b586b65",
   "metadata": {},
   "outputs": [
    {
     "name": "stdout",
     "output_type": "stream",
     "text": [
      "         sku  virtual  downloadable  rating_count  average_rating  \\\n",
      "272  13127-1        0             0             0             0.0   \n",
      "\n",
      "     total_sales tax_status  tax_class  post_author           post_date  \\\n",
      "272          4.0    taxable        NaN          2.0 2020-06-09 15:42:04   \n",
      "\n",
      "          post_date_gmt  post_content product_type  \\\n",
      "272 2020-06-09 13:42:04           NaN          Vin   \n",
      "\n",
      "                                       post_title  \\\n",
      "272  Clos du Mont-Olivet Châteauneuf-du-Pape 2007   \n",
      "\n",
      "                                          post_excerpt post_status  \\\n",
      "272  Nez gracieux, très élégant avec une touche flo...     publish   \n",
      "\n",
      "    comment_status ping_status  post_password  \\\n",
      "272         closed      closed            NaN   \n",
      "\n",
      "                                          post_name       post_modified  \\\n",
      "272  clos-du-mont-olivet-chateauneuf-du-pape-2007-2 2020-07-20 17:09:06   \n",
      "\n",
      "      post_modified_gmt  post_content_filtered  post_parent  \\\n",
      "272 2020-07-20 15:09:06                    NaN          0.0   \n",
      "\n",
      "                                                  guid  menu_order post_type  \\\n",
      "272  https://www.bottle-neck.fr/?post_type=product&...         0.0   product   \n",
      "\n",
      "    post_mime_type  comment_count  \n",
      "272            NaN            0.0  \n"
     ]
    }
   ],
   "source": [
    "# Afficher la ligne avec 'sku' égal à '13127-1'\n",
    "print(df_selected_rows.loc[df_selected_rows['sku'] == '13127-1'])"
   ]
  },
  {
   "cell_type": "code",
   "execution_count": 8670,
   "id": "ebf89c47-4b6f-40d1-b4f8-16663df6916f",
   "metadata": {},
   "outputs": [
    {
     "name": "stdout",
     "output_type": "stream",
     "text": [
      "                     sku  virtual  downloadable  rating_count  average_rating  \\\n",
      "8                    NaN        0             0             0             NaN   \n",
      "272              13127-1        0             0             0             0.0   \n",
      "842  bon-cadeau-25-euros        0             0             0             0.0   \n",
      "\n",
      "     total_sales tax_status  tax_class  post_author           post_date  \\\n",
      "8            NaN        NaN        NaN          NaN                 NaT   \n",
      "272          4.0    taxable        NaN          2.0 2020-06-09 15:42:04   \n",
      "842          7.0        NaN        NaN          1.0 2018-06-01 13:53:46   \n",
      "\n",
      "          post_date_gmt  post_content product_type  \\\n",
      "8                   NaT           NaN          NaN   \n",
      "272 2020-06-09 13:42:04           NaN          Vin   \n",
      "842 2018-06-01 11:53:46           NaN        Autre   \n",
      "\n",
      "                                       post_title  \\\n",
      "8                                             NaN   \n",
      "272  Clos du Mont-Olivet Châteauneuf-du-Pape 2007   \n",
      "842                             Bon cadeau de 25€   \n",
      "\n",
      "                                          post_excerpt post_status  \\\n",
      "8                                                  NaN         NaN   \n",
      "272  Nez gracieux, très élégant avec une touche flo...     publish   \n",
      "842                                                NaN     publish   \n",
      "\n",
      "    comment_status ping_status  post_password  \\\n",
      "8              NaN         NaN            NaN   \n",
      "272         closed      closed            NaN   \n",
      "842         closed      closed            NaN   \n",
      "\n",
      "                                          post_name       post_modified  \\\n",
      "8                                               NaN                 NaT   \n",
      "272  clos-du-mont-olivet-chateauneuf-du-pape-2007-2 2020-07-20 17:09:06   \n",
      "842                          bon-cadeau-de-25-euros 2018-06-01 14:13:57   \n",
      "\n",
      "      post_modified_gmt  post_content_filtered  post_parent  \\\n",
      "8                   NaT                    NaN          NaN   \n",
      "272 2020-07-20 15:09:06                    NaN          0.0   \n",
      "842 2018-06-01 12:13:57                    NaN          0.0   \n",
      "\n",
      "                                                  guid  menu_order  \\\n",
      "8                                                  NaN         NaN   \n",
      "272  https://www.bottle-neck.fr/?post_type=product&...         0.0   \n",
      "842  https://www.bottle-neck.fr/wp-content/uploads/...         0.0   \n",
      "\n",
      "      post_type post_mime_type  comment_count  \n",
      "8           NaN            NaN            NaN  \n",
      "272     product            NaN            0.0  \n",
      "842  attachment     image/jpeg            0.0  \n"
     ]
    }
   ],
   "source": [
    "import pandas as pd\n",
    "import numpy as np\n",
    "\n",
    "# Créer une liste des valeurs à rechercher\n",
    "values = ['bon de cadeaux', 'Bon cadeau de 25€','bon-cadeau-25-euros','13127-1']\n",
    "\n",
    "# Créer un masque booléen où True indique que 'sku' est dans la liste des valeurs, est vide, ou est égal à '13127-1'\n",
    "mask = df_web['sku'].isin(values) | df_web['sku'].isnull() | (df_web['sku'] == '13127-1')\n",
    "\n",
    "# Appliquer le masque à df_web pour obtenir seulement les lignes où 'sku' est dans la liste des valeurs, est vide, ou est égal à '13127-1'\n",
    "df_selected_rows = df_web[mask]\n",
    "\n",
    "# Afficher les lignes sélectionnées\n",
    "print(df_selected_rows)"
   ]
  },
  {
   "cell_type": "code",
   "execution_count": 8671,
   "id": "2cef7068-4ac9-49ce-a723-fab648fe6e6b",
   "metadata": {},
   "outputs": [
    {
     "name": "stdout",
     "output_type": "stream",
     "text": [
      "sku\n",
      "NaN                    1\n",
      "13127-1                1\n",
      "bon-cadeau-25-euros    1\n",
      "Name: count, dtype: int64\n"
     ]
    }
   ],
   "source": [
    "# Réinitialiser l'index\n",
    "df_selected_rows_reset = df_selected_rows.reset_index()\n",
    "\n",
    "# Compter le nombre de chaque valeur unique dans la colonne 'sku', y compris NaN\n",
    "sku_counts = df_selected_rows_reset['sku'].value_counts(dropna=False)\n",
    "\n",
    "# Afficher le nombre de chaque valeur avec le numéro de ligne\n",
    "print(sku_counts)"
   ]
  },
  {
   "cell_type": "code",
   "execution_count": 8672,
   "id": "b0d2f149",
   "metadata": {},
   "outputs": [],
   "source": [
    "#Selon vous, quelles sont les colonnes à conserver ?\n",
    "# Liste des colonnes à conserver\n",
    "colonnes_a_conserver = ['sku', 'total_sales', 'tax_status', 'post_date', 'produst_type', 'post_type','post_status', 'post_author', 'virtual','post_name','post_mime_type','post_title','product_type']\n",
    "\n"
   ]
  },
  {
   "cell_type": "code",
   "execution_count": 8673,
   "id": "30b2196b",
   "metadata": {},
   "outputs": [],
   "source": [
    "#Si vous avez défini des colonnes à supprimer, effectuer l'opération\n",
    "# Liste des colonnes à supprimer\n",
    "colonnes_a_supprimer = [col for col in df_web.columns if col not in colonnes_a_conserver]\n",
    "\n",
    "# Supprimer les colonnes à supprimer\n",
    "df_web.drop(columns=colonnes_a_supprimer, inplace=True)"
   ]
  },
  {
   "cell_type": "code",
   "execution_count": 8674,
   "id": "820e6461-cfc1-445a-9889-ef3ffe936897",
   "metadata": {},
   "outputs": [
    {
     "name": "stdout",
     "output_type": "stream",
     "text": [
      "Nombre de prix non renseignés : 0\n",
      "Nombre de prix négatifs : 3\n",
      "Nombre de prix nuls : 0\n",
      "Nombres d'article avec un prix non renseignés: 0\n",
      "Le prix minimum est : -20.0\n",
      "Le prix maximum est : 225.0\n",
      "     product_id  onsale_web  price  stock_quantity stock_status  \\\n",
      "151        4233           0  -20.0               0   outofstock   \n",
      "469        5017           0   -8.0               0   outofstock   \n",
      "739        6594           0   -9.1              19      instock   \n",
      "\n",
      "     purchase_price stock_status_2  \n",
      "151           10.33     outofstock  \n",
      "469            4.34     outofstock  \n",
      "739            4.61        instock  \n"
     ]
    }
   ],
   "source": [
    "###############\n",
    "## LES PRIX  ##\n",
    "###############\n",
    "\n",
    "#Vérification des prix: Y a t-il des prix non renseignés, négatif ou nul?\n",
    "# Vérifier les prix non renseignés\n",
    "non_renseignes = df_erp['price'].isna().sum()\n",
    "print(\"Nombre de prix non renseignés :\", non_renseignes)\n",
    "\n",
    "# Vérifier les prix négatifs\n",
    "negatifs = (df_erp['price'] < 0).sum()\n",
    "print(\"Nombre de prix négatifs :\", negatifs)\n",
    "\n",
    "# Vérifier les prix nuls\n",
    "nuls = (df_erp['price'] == 0).sum()\n",
    "print(\"Nombre de prix nuls :\", nuls)\n",
    "#Afficher le ou les prix non renseignés dans la colonne \"price\"\n",
    "print(\"Nombres d'article avec un prix non renseignés: {}\".format(df_erp['price'].isna().sum()))#Saisir l'instruction manquante dans la fonction format\n",
    "#Afficher le prix minimum de la colonne \"price\"\n",
    "min_price = df_erp['price'].min()\n",
    "print(\"Le prix minimum est :\", min_price)\n",
    "#Afficher le prix maximum de la colonne \"price\"\n",
    "max_price = df_erp['price'].max()\n",
    "print(\"Le prix maximum est :\", max_price)\n",
    "#Affichier les prix inférieurs à 0 (qu'est ce qu'il faut en faire ?)\n",
    "negative_prices = df_erp[df_erp['price'] < 0]\n",
    "print(negative_prices)\n",
    "\n",
    "# Prendre la valeur absolue du prix\n",
    "#df_erp['price'] = df_erp['price'].abs()\n",
    "\n",
    "# Ou supprimer les lignes avec des prix négatifs\n",
    "##df_erp = df_erp[df_erp['price'] >= 0]\n",
    "\n",
    "# Ou remplacer les prix négatifs par la médiane\n",
    "##median_price = df_erp['price'].median()\n",
    "##df_erp.loc[df_erp['price'] < 0, 'price'] = median_price"
   ]
  },
  {
   "cell_type": "code",
   "execution_count": 8675,
   "id": "1b965d06",
   "metadata": {},
   "outputs": [
    {
     "name": "stdout",
     "output_type": "stream",
     "text": [
      "0    11862.0\n",
      "1    16057.0\n",
      "2    14692.0\n",
      "3    16295.0\n",
      "4    15328.0\n",
      "Name: sku, dtype: float64\n",
      "[11862. 16057. 14692. 16295. 15328. 15471. 16515. 16246.    nan 13572.\n",
      " 16513. 16585. 16269. 15526. 12869. 15575. 11586. 14338. 15425. 16560.\n",
      " 15361. 13809. 11587. 15022. 14323. 16342. 16029. 15475. 13754. 14680.\n",
      " 15875.  9636. 13849. 13662. 16564. 13557. 15429. 14712. 15032. 15481.\n",
      " 15448. 16580. 15441.   804. 15300. 13958. 16071. 15678. 13895. 15711.\n",
      " 12882. 16053. 13766. 16247. 12640. 15292. 15476. 15670. 16189. 16038.\n",
      " 14864. 16044. 15324. 15531. 15953. 15413. 15733. 14366. 15895. 15892.\n",
      " 16472. 15185. 16010. 15793. 15849. 12315. 15741. 15934. 15148. 15781.\n",
      " 15659. 15106. 15490. 14507. 14149. 16307. 13736. 14090. 16037. 15758.\n",
      " 14661. 12587. 15337. 15489. 15201. 16305. 16131. 13435. 15747. 12203.\n",
      " 14509. 14768. 16262. 14561. 16505. 15717. 16129. 13460. 15871. 15940.\n",
      " 11602. 13127. 13520. 15480. 13032. 15436. 15269. 15910. 19821. 16263.\n",
      " 15138. 15146. 15126. 15482. 16186. 13905. 16540. 15856. 15677. 14700.\n",
      " 15325. 19815.  3506. 16056. 14975. 15341. 15204. 15415. 16065. 15479.\n",
      " 16151. 15127. 15140. 15779. 15473. 15530. 14805. 14106.  9937. 15281.\n",
      " 16553. 15315. 15668. 13211. 15161. 11258. 16296. 12588. 15792. 15921.\n",
      " 15690. 15775. 15577. 15870.   802. 15163. 15707. 15561. 15539.  4679.\n",
      " 16320. 15923.  3509.  2534. 16238. 14819. 15705. 15254. 15554. 14451.\n",
      " 13215. 14302. 12476. 16274. 14696. 14573. 15343.   791. 14474. 12586.\n",
      " 15346. 15834. 15342. 15141. 15038. 14265. 15238. 16586. 13073. 15664.\n",
      " 14527. 14845. 13172. 13996. 15864. 15440. 15759. 15706. 11277. 15676.\n",
      " 15731. 16525. 15785. 14699. 16063. 15718. 14372. 15881.   793. 14775.\n",
      " 12771. 15426. 13291. 16023. 15713. 15675. 15282. 15927. 15351. 12791.\n",
      " 13853. 15613. 11849. 15478. 16121. 16237. 15461. 15745. 15621. 15683.\n",
      " 12639. 15466. 15184. 13078. 13904. 14828. 14000. 15612.   304. 15811.\n",
      " 15649. 14599. 15033. 13959. 15026. 16449. 15095. 15829. 13965. 16306.\n",
      " 16276. 15729. 15303. 14679. 15318. 13599. 15206. 19816. 16153. 16067.\n",
      " 15241. 14981. 16264. 14915. 15737. 16289. 15229.  7033. 15654. 15879.\n",
      " 16256. 15710. 16498. 15349. 11933. 16462. 14596. 15296. 16042. 15887.\n",
      " 15264. 15307. 15369. 14095. 15868. 14371. 12657. 15808. 15787. 13604.\n",
      " 15605. 15795. 15566. 16210. 15732. 15661. 13814. 16130. 16003. 14676.\n",
      " 13516. 14977. 14945. 12641. 14469. 15237. 14905. 15462. 16031. 16191.\n",
      "  3568. 15080. 15353. 15861. 16529. 16068. 16081. 14729. 16077. 15373.\n",
      " 11049. 16154. 14809. 15073. 15345. 15756. 13531. 15614.  7086. 15784.\n",
      " 14332. 14300. 14141. 15734. 15456.   805. 15766. 15667. 16152. 16318.\n",
      " 15360. 13517.  7819. 15740. 15930. 16155. 15339. 14950.  2179. 15688.\n",
      " 13982.    38. 15178. 16209. 14982.  8463. 13412. 15298. 15770. 15487.\n",
      " 15205. 13230. 14220. 15227. 16094. 15859. 15179. 14774. 14944. 16022.\n",
      " 15767. 15338. 13913. 14756. 15746. 16192. 15763. 12365.  9562. 16039.\n",
      " 16328. 15196.   531. 15810.  2361. 15402. 15945. 15807. 14506. 14100.\n",
      " 15075. 13765. 16093. 10814. 12942.  1366. 12857. 12045. 13515. 11601.\n",
      " 16148. 12339. 16567. 15240. 15414.   812. 16292. 11736. 15714. 15120.\n",
      " 13117.  3383. 15631. 15136. 15145. 13096. 15857. 14632. 11641. 15736.\n",
      " 15615. 15574. 16096. 15564. 15774. 14930. 15941. 16045. 16230. 14429.\n",
      " 15769. 16265. 14657. 15261. 16239. 15715. 13453. 16244. 15147. 16280.\n",
      " 14508. 15465.  3510. 14374. 15880. 13416. 15183. 15860. 11467. 11585.\n",
      " 14485. 16138. 19822. 15155. 11996. 14626. 16330. 15035. 15404.  8365.\n",
      "  3507. 14773. 15967. 15812. 16319. 16004. 15310. 16097. 14856. 15629.\n",
      "  1364. 15116. 14101. 14912. 15036. 16047. 14184. 14983. 16030. 16283.\n",
      " 16324. 15801. 10014. 12881. 15660. 16005. 15306. 16277. 15527. 15428.\n",
      " 13957. 15647. 12496. 15399. 13969. 15525. 13914. 12790. 15720. 13313.\n",
      " 15928. 15432. 15655. 16539. 12589. 15648. 16011. 16146. 15672. 15030.\n",
      " 15735. 14800. 16190. 13217. 13854. 16317. 16565. 15891. 15730. 16497.\n",
      " 16124. 10459. 19814. 15863. 15786. 15791. 16135. 16147. 16066. 15818.\n",
      " 15790.  8193. 16255. 15047. 15966. 14736. 16120. 16013.   798.  1662.\n",
      " 16416.  7032. 14581. 15783. 16144.  5646.  8344. 13514. 15848. 15658.\n",
      " 14897. 12194. 10775. 16304. 14980. 14192. 15952. 14099. 15125. 13089.\n",
      " 16062. 14923. 14839. 15576. 15657.  1360. 15583. 15457. 16275. 15797.\n",
      " 12366. 15764. 16072. 15070. 16323. 15753. 15755. 15582. 13379. 15704.\n",
      " 13072. 15862. 15533. 16028. 14725. 13647. 16261. 15944. 15256.   523.\n",
      " 15452. 16322. 16014. 14600. 15316. 15776. 16211. 14899. 14955. 13910.\n",
      " 15134. 15434. 15813. 15794. 15946. 16213. 14855. 14827. 14089. 15283.\n",
      " 14647. 16504. 15674. 16537.    41. 13762. 14570. 16041. 15202. 15180.\n",
      " 15375. 16046. 16034. 14092. 14241. 11997. 15922. 14844. 15444. 15486.\n",
      " 15378.   807. 13567. 16281. 15213. 16166. 11225. 15773. 16160. 19820.\n",
      "  7818. 14751. 15280. 15933. 13627. 15403. 14580. 16024. 14797. 12494.\n",
      " 16229. 13659. 16578. 14802. 15850. 16159. 15839. 13052. 15869. 14604.\n",
      " 16273. 15329. 14253. 14941. 15567. 16132. 14746. 15656. 16527. 15162.\n",
      " 16326. 16501. 16119. 15662. 15344.  6616. 15958. 14865. 11669. 14395.\n",
      " 15149. 12585. 11668. 11847. 12599. 16133. 15665. 15382. 13209. 14461.\n",
      " 15748. 15663. 15072. 15004. 16069. 16180. 15949. 16149. 16043. 15845.\n",
      " 15951. 13074. 14569.]\n",
      "sku\n",
      "11862.0    1\n",
      "16324.0    1\n",
      "3507.0     1\n",
      "14773.0    1\n",
      "15967.0    1\n",
      "          ..\n",
      "12639.0    1\n",
      "15466.0    1\n",
      "15184.0    1\n",
      "13078.0    1\n",
      "14569.0    1\n",
      "Name: count, Length: 712, dtype: int64\n",
      "La chaîne de caractères convertie en nombre est supérieure à l'entier.\n"
     ]
    },
    {
     "data": {
      "image/png": "[encoded data removed]",
      "text/plain": [
       "<Figure size 640x480 with 1 Axes>"
      ]
     },
     "metadata": {},
     "output_type": "display_data"
    }
   ],
   "source": [
    "#correction des valeurs sku qui ne respecte pas la codification ( conversion en numérique)\n",
    "df_web['sku'] = pd.to_numeric(df_web['sku'], errors='coerce')\n",
    "\n",
    "\n",
    "#Visualisation des valeurs de la colonne sku\n",
    "#Afficher les premières lignes :\n",
    "print(df_web['sku'].head())\n",
    "#Afficher les valeurs uniques :\n",
    "print(df_web['sku'].unique())\n",
    "#Compter le nombre de chaque valeur unique :\n",
    "print(df_web['sku'].value_counts())\n",
    "#Visualiser la distribution des valeurs \n",
    "import matplotlib.pyplot as plt\n",
    "\n",
    "num_str = \"10\"  # ceci est une chaîne de caractères\n",
    "num_int = 5  # ceci est un entier\n",
    "\n",
    "# Convertir la chaîne de caractères en entier\n",
    "num_str = int(num_str)\n",
    "\n",
    "# Maintenant, vous pouvez les comparer\n",
    "if num_str <= num_int:\n",
    "    print(\"La chaîne de caractères convertie en nombre est inférieure ou égale à l'entier.\")\n",
    "else:\n",
    "    print(\"La chaîne de caractères convertie en nombre est supérieure à l'entier.\")\n",
    "\n",
    "#visaulisation de la distribution des valeurs\n",
    "import matplotlib.pyplot as plt\n",
    "\n",
    "df_web['sku'].hist(bins=30)\n",
    "plt.xlabel('SKU')\n",
    "plt.ylabel('Fréquence')\n",
    "plt.title('Distribution des valeurs de SKU')\n",
    "plt.show()\n",
    "\n",
    "\n",
    "\n",
    "#Quelles sont les valeurs qui ne semblent pas respecter la régle de codification?\n",
    "\n",
    "def respecte_la_regle(sku):\n",
    "    # Remplacez cette fonction par votre propre logique de vérification\n",
    "    return True if 'certaine condition' else False\n",
    "\n",
    "# Appliquer la fonction à la colonne 'sku'\n",
    "df_web['respecte_la_regle'] = df_web['sku'].apply(respecte_la_regle)\n",
    "\n",
    "\n"
   ]
  },
  {
   "cell_type": "code",
   "execution_count": 8676,
   "id": "9581a5c3-892f-41fd-89eb-fd63f47db67f",
   "metadata": {},
   "outputs": [
    {
     "name": "stdout",
     "output_type": "stream",
     "text": [
      "Empty DataFrame\n",
      "Columns: [sku, virtual, total_sales, tax_status, post_author, post_date, product_type, post_title, post_status, post_name, post_type, post_mime_type, respecte_la_regle]\n",
      "Index: []\n"
     ]
    }
   ],
   "source": [
    "# Afficher les lignes qui ne respectent pas la règle\n",
    "print(df_web[df_web['respecte_la_regle'] == False])"
   ]
  },
  {
   "cell_type": "code",
   "execution_count": 8677,
   "id": "f51bb25f-abe5-4bc6-a84e-68f69aab731d",
   "metadata": {},
   "outputs": [
    {
     "data": {
      "image/png": "[encoded data removed]",
      "text/plain": [
       "<Figure size 640x480 with 1 Axes>"
      ]
     },
     "metadata": {},
     "output_type": "display_data"
    }
   ],
   "source": [
    "plt.scatter(df_web.index, df_web['sku'])\n",
    "plt.xlabel('Index')\n",
    "plt.ylabel('SKU')\n",
    "plt.title('Nuage de points des valeurs de SKU')\n",
    "plt.show()"
   ]
  },
  {
   "cell_type": "code",
   "execution_count": 8678,
   "id": "1226dcfd",
   "metadata": {},
   "outputs": [
    {
     "name": "stdout",
     "output_type": "stream",
     "text": [
      "          sku  virtual  total_sales tax_status  post_author  \\\n",
      "0     11862.0        0          3.0        NaN          2.0   \n",
      "1     16057.0        0          5.0        NaN          2.0   \n",
      "2     14692.0        0          5.0    taxable          2.0   \n",
      "3     16295.0        0         14.0        NaN          2.0   \n",
      "4     15328.0        0          2.0    taxable          2.0   \n",
      "...       ...      ...          ...        ...          ...   \n",
      "1325  16043.0        0         10.0    taxable          2.0   \n",
      "1327  15845.0        0          9.0        NaN          2.0   \n",
      "1339  15951.0        0          9.0        NaN          2.0   \n",
      "1353  13074.0        0          4.0        NaN          2.0   \n",
      "1391  14569.0        0         13.0        NaN          2.0   \n",
      "\n",
      "               post_date product_type  \\\n",
      "0    2018-02-12 13:46:23          Vin   \n",
      "1    2018-04-17 15:29:17          Vin   \n",
      "2    2019-03-19 10:06:47          Vin   \n",
      "3    2018-02-15 14:05:06          Vin   \n",
      "4    2019-03-27 18:05:09          Vin   \n",
      "...                  ...          ...   \n",
      "1325 2018-02-12 10:41:11          Vin   \n",
      "1327 2020-04-25 12:43:23          Vin   \n",
      "1339 2019-05-16 15:54:52          Vin   \n",
      "1353 2018-02-12 14:25:28          Vin   \n",
      "1391 2019-06-28 17:56:00          Vin   \n",
      "\n",
      "                                             post_title post_status  \\\n",
      "0                     Gilles Robin Hermitage Rouge 2012     publish   \n",
      "1     Domaine Pellé Sancerre Rouge La Croix Au Garde...     publish   \n",
      "2         Château Fonréaud Bordeaux Blanc Le Cygne 2016     publish   \n",
      "3     Moulin de Gassac IGP Pays d'Hérault Guilhem Ro...     publish   \n",
      "4                  Agnès Levet Côte Rôtie Maestria 2017     publish   \n",
      "...                                                 ...         ...   \n",
      "1325            Pierre Gaillard Saint-Joseph Rouge 2018     publish   \n",
      "1327    Château Jean Faure Saint-Emilion Grand Cru 2016     publish   \n",
      "1339      Jacqueson Rully Rouge 1er Cru Les Preaux 2018     publish   \n",
      "1353  Château de Vaudieu Châteauneuf-du-Pape L'Avenu...     publish   \n",
      "1391  Moulin de Gassac IGP Pays d'Hérault Blanc Faun...     publish   \n",
      "\n",
      "                                              post_name   post_type  \\\n",
      "0                           gilles-robin-hermitage-2012  attachment   \n",
      "1           pelle-sancerre-rouge-la-croix-au-garde-2017  attachment   \n",
      "2                 fonreaud-bordeaux-blanc-le-cygne-2016     product   \n",
      "3     moulin-de-gassac-igp-pays-dherault-guilhem-ros...  attachment   \n",
      "4                  agnes-levet-cote-rotie-maestria-2017     product   \n",
      "...                                                 ...         ...   \n",
      "1325                  pierre-gaillard-saint-joseph-2018     product   \n",
      "1327    chateau-jean-faure-saint-emilion-grand-cru-2016  attachment   \n",
      "1339      jacqueson-rully-rouge-1er-cru-les-preaux-2018  attachment   \n",
      "1353  chateau-de-vaudieu-chateauneuf-du-pape-lavenue...  attachment   \n",
      "1391      moulin-de-gassac-igp-pays-dherault-faune-2017  attachment   \n",
      "\n",
      "     post_mime_type  respecte_la_regle  \n",
      "0        image/jpeg               True  \n",
      "1        image/jpeg               True  \n",
      "2               NaN               True  \n",
      "3        image/jpeg               True  \n",
      "4               NaN               True  \n",
      "...             ...                ...  \n",
      "1325            NaN               True  \n",
      "1327     image/jpeg               True  \n",
      "1339     image/jpeg               True  \n",
      "1353     image/jpeg               True  \n",
      "1391     image/jpeg               True  \n",
      "\n",
      "[715 rows x 13 columns]\n"
     ]
    }
   ],
   "source": [
    "#Si vous avez identifié des codes articles ne respectant pas la régle de codification, consultez-les?\n",
    "# Identifiez les codes d'articles qui ne sont pas des nombres entiers\n",
    "non_int_sku = df_web[~df_web['sku'].apply(lambda x: str(x).isdigit())]\n",
    "\n",
    "# Affichez les codes d'articles qui ne respectent pas la règle de codification\n",
    "print(non_int_sku)"
   ]
  },
  {
   "cell_type": "code",
   "execution_count": 8679,
   "id": "eb8d31bf",
   "metadata": {
    "scrolled": true
   },
   "outputs": [
    {
     "name": "stdout",
     "output_type": "stream",
     "text": [
      "     sku  virtual  total_sales tax_status  post_author           post_date  \\\n",
      "8    NaN        0          NaN        NaN          NaN                 NaT   \n",
      "272  NaN        0          4.0    taxable          2.0 2020-06-09 15:42:04   \n",
      "842  NaN        0          7.0        NaN          1.0 2018-06-01 13:53:46   \n",
      "\n",
      "    product_type                                    post_title post_status  \\\n",
      "8            NaN                                           NaN         NaN   \n",
      "272          Vin  Clos du Mont-Olivet Châteauneuf-du-Pape 2007     publish   \n",
      "842        Autre                             Bon cadeau de 25€     publish   \n",
      "\n",
      "                                          post_name   post_type  \\\n",
      "8                                               NaN         NaN   \n",
      "272  clos-du-mont-olivet-chateauneuf-du-pape-2007-2     product   \n",
      "842                          bon-cadeau-de-25-euros  attachment   \n",
      "\n",
      "    post_mime_type  respecte_la_regle  \n",
      "8              NaN               True  \n",
      "272            NaN               True  \n",
      "842     image/jpeg               True  \n"
     ]
    }
   ],
   "source": [
    "#Identifier les lignes sans code articles\n",
    "# Identifiez les lignes où 'sku' est manquant\n",
    "missing_sku = df_web[df_web['sku'].isnull()]\n",
    "\n",
    "# Affichez ces lignes\n",
    "print(missing_sku)"
   ]
  },
  {
   "cell_type": "code",
   "execution_count": 8680,
   "id": "cef3e1bb-95c6-4184-95a6-0d3ec3168bec",
   "metadata": {},
   "outputs": [
    {
     "data": {
      "text/html": [
       "<style type=\"text/css\">\n",
       "#T_35616_row0_col3, #T_35616_row0_col6, #T_35616_row0_col7, #T_35616_row0_col8, #T_35616_row0_col9, #T_35616_row0_col10, #T_35616_row0_col11, #T_35616_row1_col11, #T_35616_row2_col3 {\n",
       "  background-color: yellow;\n",
       "}\n",
       "</style>\n",
       "<table id=\"T_35616\">\n",
       "  <thead>\n",
       "    <tr>\n",
       "      <th class=\"blank level0\" >&nbsp;</th>\n",
       "      <th id=\"T_35616_level0_col0\" class=\"col_heading level0 col0\" >sku</th>\n",
       "      <th id=\"T_35616_level0_col1\" class=\"col_heading level0 col1\" >virtual</th>\n",
       "      <th id=\"T_35616_level0_col2\" class=\"col_heading level0 col2\" >total_sales</th>\n",
       "      <th id=\"T_35616_level0_col3\" class=\"col_heading level0 col3\" >tax_status</th>\n",
       "      <th id=\"T_35616_level0_col4\" class=\"col_heading level0 col4\" >post_author</th>\n",
       "      <th id=\"T_35616_level0_col5\" class=\"col_heading level0 col5\" >post_date</th>\n",
       "      <th id=\"T_35616_level0_col6\" class=\"col_heading level0 col6\" >product_type</th>\n",
       "      <th id=\"T_35616_level0_col7\" class=\"col_heading level0 col7\" >post_title</th>\n",
       "      <th id=\"T_35616_level0_col8\" class=\"col_heading level0 col8\" >post_status</th>\n",
       "      <th id=\"T_35616_level0_col9\" class=\"col_heading level0 col9\" >post_name</th>\n",
       "      <th id=\"T_35616_level0_col10\" class=\"col_heading level0 col10\" >post_type</th>\n",
       "      <th id=\"T_35616_level0_col11\" class=\"col_heading level0 col11\" >post_mime_type</th>\n",
       "      <th id=\"T_35616_level0_col12\" class=\"col_heading level0 col12\" >respecte_la_regle</th>\n",
       "    </tr>\n",
       "  </thead>\n",
       "  <tbody>\n",
       "    <tr>\n",
       "      <th id=\"T_35616_level0_row0\" class=\"row_heading level0 row0\" >8</th>\n",
       "      <td id=\"T_35616_row0_col0\" class=\"data row0 col0\" >nan</td>\n",
       "      <td id=\"T_35616_row0_col1\" class=\"data row0 col1\" >0</td>\n",
       "      <td id=\"T_35616_row0_col2\" class=\"data row0 col2\" >nan</td>\n",
       "      <td id=\"T_35616_row0_col3\" class=\"data row0 col3\" >nan</td>\n",
       "      <td id=\"T_35616_row0_col4\" class=\"data row0 col4\" >nan</td>\n",
       "      <td id=\"T_35616_row0_col5\" class=\"data row0 col5\" >NaT</td>\n",
       "      <td id=\"T_35616_row0_col6\" class=\"data row0 col6\" >nan</td>\n",
       "      <td id=\"T_35616_row0_col7\" class=\"data row0 col7\" >nan</td>\n",
       "      <td id=\"T_35616_row0_col8\" class=\"data row0 col8\" >nan</td>\n",
       "      <td id=\"T_35616_row0_col9\" class=\"data row0 col9\" >nan</td>\n",
       "      <td id=\"T_35616_row0_col10\" class=\"data row0 col10\" >nan</td>\n",
       "      <td id=\"T_35616_row0_col11\" class=\"data row0 col11\" >nan</td>\n",
       "      <td id=\"T_35616_row0_col12\" class=\"data row0 col12\" >True</td>\n",
       "    </tr>\n",
       "    <tr>\n",
       "      <th id=\"T_35616_level0_row1\" class=\"row_heading level0 row1\" >272</th>\n",
       "      <td id=\"T_35616_row1_col0\" class=\"data row1 col0\" >nan</td>\n",
       "      <td id=\"T_35616_row1_col1\" class=\"data row1 col1\" >0</td>\n",
       "      <td id=\"T_35616_row1_col2\" class=\"data row1 col2\" >4.000000</td>\n",
       "      <td id=\"T_35616_row1_col3\" class=\"data row1 col3\" >taxable</td>\n",
       "      <td id=\"T_35616_row1_col4\" class=\"data row1 col4\" >2.000000</td>\n",
       "      <td id=\"T_35616_row1_col5\" class=\"data row1 col5\" >2020-06-09 15:42:04</td>\n",
       "      <td id=\"T_35616_row1_col6\" class=\"data row1 col6\" >Vin</td>\n",
       "      <td id=\"T_35616_row1_col7\" class=\"data row1 col7\" >Clos du Mont-Olivet Châteauneuf-du-Pape 2007</td>\n",
       "      <td id=\"T_35616_row1_col8\" class=\"data row1 col8\" >publish</td>\n",
       "      <td id=\"T_35616_row1_col9\" class=\"data row1 col9\" >clos-du-mont-olivet-chateauneuf-du-pape-2007-2</td>\n",
       "      <td id=\"T_35616_row1_col10\" class=\"data row1 col10\" >product</td>\n",
       "      <td id=\"T_35616_row1_col11\" class=\"data row1 col11\" >nan</td>\n",
       "      <td id=\"T_35616_row1_col12\" class=\"data row1 col12\" >True</td>\n",
       "    </tr>\n",
       "    <tr>\n",
       "      <th id=\"T_35616_level0_row2\" class=\"row_heading level0 row2\" >842</th>\n",
       "      <td id=\"T_35616_row2_col0\" class=\"data row2 col0\" >nan</td>\n",
       "      <td id=\"T_35616_row2_col1\" class=\"data row2 col1\" >0</td>\n",
       "      <td id=\"T_35616_row2_col2\" class=\"data row2 col2\" >7.000000</td>\n",
       "      <td id=\"T_35616_row2_col3\" class=\"data row2 col3\" >nan</td>\n",
       "      <td id=\"T_35616_row2_col4\" class=\"data row2 col4\" >1.000000</td>\n",
       "      <td id=\"T_35616_row2_col5\" class=\"data row2 col5\" >2018-06-01 13:53:46</td>\n",
       "      <td id=\"T_35616_row2_col6\" class=\"data row2 col6\" >Autre</td>\n",
       "      <td id=\"T_35616_row2_col7\" class=\"data row2 col7\" >Bon cadeau de 25€</td>\n",
       "      <td id=\"T_35616_row2_col8\" class=\"data row2 col8\" >publish</td>\n",
       "      <td id=\"T_35616_row2_col9\" class=\"data row2 col9\" >bon-cadeau-de-25-euros</td>\n",
       "      <td id=\"T_35616_row2_col10\" class=\"data row2 col10\" >attachment</td>\n",
       "      <td id=\"T_35616_row2_col11\" class=\"data row2 col11\" >image/jpeg</td>\n",
       "      <td id=\"T_35616_row2_col12\" class=\"data row2 col12\" >True</td>\n",
       "    </tr>\n",
       "  </tbody>\n",
       "</table>\n"
      ],
      "text/plain": [
       "<pandas.io.formats.style.Styler at 0x2b27c697f50>"
      ]
     },
     "execution_count": 8680,
     "metadata": {},
     "output_type": "execute_result"
    }
   ],
   "source": [
    "def highlight_nulls(s):\n",
    "    return ['background-color: yellow' if v is np.nan else '' for v in s]\n",
    "styled = missing_sku.style.apply(highlight_nulls)\n",
    "styled"
   ]
  },
  {
   "cell_type": "code",
   "execution_count": 8681,
   "id": "967495da",
   "metadata": {},
   "outputs": [
    {
     "name": "stdout",
     "output_type": "stream",
     "text": [
      "Codes d'articles uniques : [11862. 16057. 14692. 16295. 15328. 15471. 16515. 16246.    nan 13572.\n",
      " 16513. 16585. 16269. 15526. 12869. 15575. 11586. 14338. 15425. 16560.\n",
      " 15361. 13809. 11587. 15022. 14323. 16342. 16029. 15475. 13754. 14680.\n",
      " 15875.  9636. 13849. 13662. 16564. 13557. 15429. 14712. 15032. 15481.\n",
      " 15448. 16580. 15441.   804. 15300. 13958. 16071. 15678. 13895. 15711.\n",
      " 12882. 16053. 13766. 16247. 12640. 15292. 15476. 15670. 16189. 16038.\n",
      " 14864. 16044. 15324. 15531. 15953. 15413. 15733. 14366. 15895. 15892.\n",
      " 16472. 15185. 16010. 15793. 15849. 12315. 15741. 15934. 15148. 15781.\n",
      " 15659. 15106. 15490. 14507. 14149. 16307. 13736. 14090. 16037. 15758.\n",
      " 14661. 12587. 15337. 15489. 15201. 16305. 16131. 13435. 15747. 12203.\n",
      " 14509. 14768. 16262. 14561. 16505. 15717. 16129. 13460. 15871. 15940.\n",
      " 11602. 13127. 13520. 15480. 13032. 15436. 15269. 15910. 19821. 16263.\n",
      " 15138. 15146. 15126. 15482. 16186. 13905. 16540. 15856. 15677. 14700.\n",
      " 15325. 19815.  3506. 16056. 14975. 15341. 15204. 15415. 16065. 15479.\n",
      " 16151. 15127. 15140. 15779. 15473. 15530. 14805. 14106.  9937. 15281.\n",
      " 16553. 15315. 15668. 13211. 15161. 11258. 16296. 12588. 15792. 15921.\n",
      " 15690. 15775. 15577. 15870.   802. 15163. 15707. 15561. 15539.  4679.\n",
      " 16320. 15923.  3509.  2534. 16238. 14819. 15705. 15254. 15554. 14451.\n",
      " 13215. 14302. 12476. 16274. 14696. 14573. 15343.   791. 14474. 12586.\n",
      " 15346. 15834. 15342. 15141. 15038. 14265. 15238. 16586. 13073. 15664.\n",
      " 14527. 14845. 13172. 13996. 15864. 15440. 15759. 15706. 11277. 15676.\n",
      " 15731. 16525. 15785. 14699. 16063. 15718. 14372. 15881.   793. 14775.\n",
      " 12771. 15426. 13291. 16023. 15713. 15675. 15282. 15927. 15351. 12791.\n",
      " 13853. 15613. 11849. 15478. 16121. 16237. 15461. 15745. 15621. 15683.\n",
      " 12639. 15466. 15184. 13078. 13904. 14828. 14000. 15612.   304. 15811.\n",
      " 15649. 14599. 15033. 13959. 15026. 16449. 15095. 15829. 13965. 16306.\n",
      " 16276. 15729. 15303. 14679. 15318. 13599. 15206. 19816. 16153. 16067.\n",
      " 15241. 14981. 16264. 14915. 15737. 16289. 15229.  7033. 15654. 15879.\n",
      " 16256. 15710. 16498. 15349. 11933. 16462. 14596. 15296. 16042. 15887.\n",
      " 15264. 15307. 15369. 14095. 15868. 14371. 12657. 15808. 15787. 13604.\n",
      " 15605. 15795. 15566. 16210. 15732. 15661. 13814. 16130. 16003. 14676.\n",
      " 13516. 14977. 14945. 12641. 14469. 15237. 14905. 15462. 16031. 16191.\n",
      "  3568. 15080. 15353. 15861. 16529. 16068. 16081. 14729. 16077. 15373.\n",
      " 11049. 16154. 14809. 15073. 15345. 15756. 13531. 15614.  7086. 15784.\n",
      " 14332. 14300. 14141. 15734. 15456.   805. 15766. 15667. 16152. 16318.\n",
      " 15360. 13517.  7819. 15740. 15930. 16155. 15339. 14950.  2179. 15688.\n",
      " 13982.    38. 15178. 16209. 14982.  8463. 13412. 15298. 15770. 15487.\n",
      " 15205. 13230. 14220. 15227. 16094. 15859. 15179. 14774. 14944. 16022.\n",
      " 15767. 15338. 13913. 14756. 15746. 16192. 15763. 12365.  9562. 16039.\n",
      " 16328. 15196.   531. 15810.  2361. 15402. 15945. 15807. 14506. 14100.\n",
      " 15075. 13765. 16093. 10814. 12942.  1366. 12857. 12045. 13515. 11601.\n",
      " 16148. 12339. 16567. 15240. 15414.   812. 16292. 11736. 15714. 15120.\n",
      " 13117.  3383. 15631. 15136. 15145. 13096. 15857. 14632. 11641. 15736.\n",
      " 15615. 15574. 16096. 15564. 15774. 14930. 15941. 16045. 16230. 14429.\n",
      " 15769. 16265. 14657. 15261. 16239. 15715. 13453. 16244. 15147. 16280.\n",
      " 14508. 15465.  3510. 14374. 15880. 13416. 15183. 15860. 11467. 11585.\n",
      " 14485. 16138. 19822. 15155. 11996. 14626. 16330. 15035. 15404.  8365.\n",
      "  3507. 14773. 15967. 15812. 16319. 16004. 15310. 16097. 14856. 15629.\n",
      "  1364. 15116. 14101. 14912. 15036. 16047. 14184. 14983. 16030. 16283.\n",
      " 16324. 15801. 10014. 12881. 15660. 16005. 15306. 16277. 15527. 15428.\n",
      " 13957. 15647. 12496. 15399. 13969. 15525. 13914. 12790. 15720. 13313.\n",
      " 15928. 15432. 15655. 16539. 12589. 15648. 16011. 16146. 15672. 15030.\n",
      " 15735. 14800. 16190. 13217. 13854. 16317. 16565. 15891. 15730. 16497.\n",
      " 16124. 10459. 19814. 15863. 15786. 15791. 16135. 16147. 16066. 15818.\n",
      " 15790.  8193. 16255. 15047. 15966. 14736. 16120. 16013.   798.  1662.\n",
      " 16416.  7032. 14581. 15783. 16144.  5646.  8344. 13514. 15848. 15658.\n",
      " 14897. 12194. 10775. 16304. 14980. 14192. 15952. 14099. 15125. 13089.\n",
      " 16062. 14923. 14839. 15576. 15657.  1360. 15583. 15457. 16275. 15797.\n",
      " 12366. 15764. 16072. 15070. 16323. 15753. 15755. 15582. 13379. 15704.\n",
      " 13072. 15862. 15533. 16028. 14725. 13647. 16261. 15944. 15256.   523.\n",
      " 15452. 16322. 16014. 14600. 15316. 15776. 16211. 14899. 14955. 13910.\n",
      " 15134. 15434. 15813. 15794. 15946. 16213. 14855. 14827. 14089. 15283.\n",
      " 14647. 16504. 15674. 16537.    41. 13762. 14570. 16041. 15202. 15180.\n",
      " 15375. 16046. 16034. 14092. 14241. 11997. 15922. 14844. 15444. 15486.\n",
      " 15378.   807. 13567. 16281. 15213. 16166. 11225. 15773. 16160. 19820.\n",
      "  7818. 14751. 15280. 15933. 13627. 15403. 14580. 16024. 14797. 12494.\n",
      " 16229. 13659. 16578. 14802. 15850. 16159. 15839. 13052. 15869. 14604.\n",
      " 16273. 15329. 14253. 14941. 15567. 16132. 14746. 15656. 16527. 15162.\n",
      " 16326. 16501. 16119. 15662. 15344.  6616. 15958. 14865. 11669. 14395.\n",
      " 15149. 12585. 11668. 11847. 12599. 16133. 15665. 15382. 13209. 14461.\n",
      " 15748. 15663. 15072. 15004. 16069. 16180. 15949. 16149. 16043. 15845.\n",
      " 15951. 13074. 14569.]\n"
     ]
    }
   ],
   "source": [
    "#Pour les codes articles identifiés, réalisé une analyse et définissez l'action à entreprendre\n",
    "unique_article_codes = df_web['sku'].unique()\n",
    "print(\"Codes d'articles uniques :\", unique_article_codes)\n",
    "\n"
   ]
  },
  {
   "cell_type": "code",
   "execution_count": 8682,
   "id": "27bf30de",
   "metadata": {},
   "outputs": [
    {
     "name": "stdout",
     "output_type": "stream",
     "text": [
      "Il n'y a pas de lignes en double.\n"
     ]
    }
   ],
   "source": [
    "#La clé pour chaque ligne est-elle uniques? ou autrement dit, y a-t-il des doublons?\n",
    "## Vérifier s'il y a des lignes en double\n",
    "duplicates = df_web.duplicated()\n",
    "\n",
    "## Si le nombre de True (qui représente les doublons) est supérieur à 0, alors il y a des doublons\n",
    "if duplicates.sum() > 0:\n",
    "    print(f\"Il y a {duplicates.sum()} lignes en double.\")\n",
    "else:\n",
    "    print(\"Il n'y a pas de lignes en double.\")"
   ]
  },
  {
   "cell_type": "code",
   "execution_count": 8683,
   "id": "8b81d617",
   "metadata": {},
   "outputs": [],
   "source": [
    "#Les lignes sans code article semble être toutes non renseignés\n",
    "#Pour s'en assurer réaliser les étapes suivantes:\n",
    "#1 - Créer un dataframe avec uniquement les lignes sans code article\n",
    "### Créer un nouveau dataframe avec uniquement les lignes où 'article_code' est manquant\n",
    "df_without_article_code = df_web[df_web['sku'].isna()]\n",
    "\n",
    "\n",
    "#3 - Que constatez-vous?\n",
    "##Il semble qu'il ya beaucoup de valeurs manquantes\n",
    "##dans la plupart des colonnes, à l’exception de ‘virtual’ et ‘respecte_la_regle’. \n",
    "##Cela pourrait poser des problèmes pour toute analyse ultérieure. \n",
    "##Vous devrez peut-être prendre des décisions sur la façon de gérer ces valeurs manquantes, \n",
    "##par exemple en les supprimant ou en les imputant."
   ]
  },
  {
   "cell_type": "code",
   "execution_count": 8684,
   "id": "b92726fe-dd92-4dd6-a789-8fa5885a241a",
   "metadata": {},
   "outputs": [
    {
     "name": "stdout",
     "output_type": "stream",
     "text": [
      "     sku  virtual  total_sales tax_status  post_author           post_date  \\\n",
      "8    NaN        0          NaN        NaN          NaN                 NaT   \n",
      "272  NaN        0          4.0    taxable          2.0 2020-06-09 15:42:04   \n",
      "842  NaN        0          7.0        NaN          1.0 2018-06-01 13:53:46   \n",
      "\n",
      "    product_type                                    post_title post_status  \\\n",
      "8            NaN                                           NaN         NaN   \n",
      "272          Vin  Clos du Mont-Olivet Châteauneuf-du-Pape 2007     publish   \n",
      "842        Autre                             Bon cadeau de 25€     publish   \n",
      "\n",
      "                                          post_name   post_type  \\\n",
      "8                                               NaN         NaN   \n",
      "272  clos-du-mont-olivet-chateauneuf-du-pape-2007-2     product   \n",
      "842                          bon-cadeau-de-25-euros  attachment   \n",
      "\n",
      "    post_mime_type  respecte_la_regle  \n",
      "8              NaN               True  \n",
      "272            NaN               True  \n",
      "842     image/jpeg               True  \n"
     ]
    }
   ],
   "source": [
    "###Afficher les premières lignes du nouveau dataframe\n",
    "print(df_without_article_code.head())"
   ]
  },
  {
   "cell_type": "code",
   "execution_count": 8685,
   "id": "317368cd-30d6-46f6-9898-fa1fe837a26e",
   "metadata": {},
   "outputs": [
    {
     "name": "stdout",
     "output_type": "stream",
     "text": [
      "<class 'pandas.core.frame.DataFrame'>\n",
      "Index: 3 entries, 8 to 842\n",
      "Data columns (total 13 columns):\n",
      " #   Column             Non-Null Count  Dtype         \n",
      "---  ------             --------------  -----         \n",
      " 0   sku                0 non-null      float64       \n",
      " 1   virtual            3 non-null      int64         \n",
      " 2   total_sales        2 non-null      float64       \n",
      " 3   tax_status         1 non-null      object        \n",
      " 4   post_author        2 non-null      float64       \n",
      " 5   post_date          2 non-null      datetime64[ns]\n",
      " 6   product_type       2 non-null      object        \n",
      " 7   post_title         2 non-null      object        \n",
      " 8   post_status        2 non-null      object        \n",
      " 9   post_name          2 non-null      object        \n",
      " 10  post_type          2 non-null      object        \n",
      " 11  post_mime_type     1 non-null      object        \n",
      " 12  respecte_la_regle  3 non-null      bool          \n",
      "dtypes: bool(1), datetime64[ns](1), float64(3), int64(1), object(7)\n",
      "memory usage: 315.0+ bytes\n"
     ]
    }
   ],
   "source": [
    "#2 - utiliser la fonction df.info() sur ce nouveau dataframe pour observer le nombre de valeur reseigner dans chacune des colonnes\n",
    "# Utiliser la méthode info() pour obtenir des informations sur le dataframe\n",
    "df_without_article_code.info()"
   ]
  },
  {
   "cell_type": "code",
   "execution_count": null,
   "id": "9c221462-0c1c-49e0-a7c6-326c876315cd",
   "metadata": {},
   "outputs": [],
   "source": []
  },
  {
   "cell_type": "markdown",
   "id": "dbff6403",
   "metadata": {},
   "source": [
    "<div style=\"border: 1px solid RGB(51,165,182);\" >\n",
    "<h3 style=\"margin: auto; padding: 20px; color: RGB(51,165,182); \">2.3 - Analyse exploratoire du fichier liaison.xlsx</h3>\n",
    "</div>"
   ]
  },
  {
   "cell_type": "code",
   "execution_count": 8686,
   "id": "de426b74",
   "metadata": {},
   "outputs": [
    {
     "name": "stdout",
     "output_type": "stream",
     "text": [
      "  id_web  product_id\n",
      "0  15298        3847\n",
      "1  15296        3849\n",
      "2  15300        3850\n",
      "3  19814        4032\n",
      "4  19815        4039\n",
      "<class 'pandas.core.frame.DataFrame'>\n",
      "RangeIndex: 825 entries, 0 to 824\n",
      "Data columns (total 2 columns):\n",
      " #   Column      Non-Null Count  Dtype \n",
      "---  ------      --------------  ----- \n",
      " 0   id_web      734 non-null    object\n",
      " 1   product_id  825 non-null    int64 \n",
      "dtypes: int64(1), object(1)\n",
      "memory usage: 13.0+ KB\n",
      "None\n",
      "        product_id\n",
      "count   825.000000\n",
      "mean   5162.597576\n",
      "std     902.644635\n",
      "min    3847.000000\n",
      "25%    4348.000000\n",
      "50%    4907.000000\n",
      "75%    5805.000000\n",
      "max    7338.000000\n",
      "Nombre d'observations : 825\n",
      "Nombre de caractéristiques : 2\n"
     ]
    }
   ],
   "source": [
    "#Dimension du dataset\n",
    "# Afficher les premières lignes du DataFrame\n",
    "print(df_liaison.head())\n",
    "\n",
    "# Afficher les informations générales du DataFrame\n",
    "print(df_liaison.info())\n",
    "\n",
    "# Afficher les statistiques descriptives du DataFrame\n",
    "print(df_liaison.describe())\n",
    "#Nombre d'observations\n",
    "# Obtenir le nombre d'observations\n",
    "num_observations = df_liaison.shape[0]\n",
    "\n",
    "print(f\"Nombre d'observations : {num_observations}\")\n",
    "#Nombre de caractéristiques\n",
    "# Obtenir le nombre de caractéristiques\n",
    "num_features = df_liaison.shape[1]\n",
    "\n",
    "print(f\"Nombre de caractéristiques : {num_features}\")"
   ]
  },
  {
   "cell_type": "code",
   "execution_count": 8687,
   "id": "9834ae33",
   "metadata": {},
   "outputs": [
    {
     "name": "stdout",
     "output_type": "stream",
     "text": [
      "<class 'pandas.core.frame.DataFrame'>\n",
      "RangeIndex: 825 entries, 0 to 824\n",
      "Data columns (total 2 columns):\n",
      " #   Column      Non-Null Count  Dtype \n",
      "---  ------      --------------  ----- \n",
      " 0   id_web      734 non-null    object\n",
      " 1   product_id  825 non-null    int64 \n",
      "dtypes: int64(1), object(1)\n",
      "memory usage: 13.0+ KB\n"
     ]
    }
   ],
   "source": [
    "#Consulter le nombre de colonnes\n",
    "#La nature des données dans chacune des colonnes\n",
    "#Le nombre de valeurs présentes dans chacune des colonnes\n",
    "### Utiliser la méthode info() pour obtenir des informations sur le DataFrame\n",
    "df_liaison.info()"
   ]
  },
  {
   "cell_type": "code",
   "execution_count": 8688,
   "id": "4d8ca13c",
   "metadata": {},
   "outputs": [
    {
     "name": "stdout",
     "output_type": "stream",
     "text": [
      "Même après avoir supprimé les doublons, toutes les valeurs de la colonne 'id_web' ne sont pas uniques.\n"
     ]
    }
   ],
   "source": [
    "# Supprimer les doublons dans la colonne 'id_web'\n",
    "df_liaison_unique = df_liaison.drop_duplicates(subset='id_web')\n",
    "\n",
    "# Vérifier à nouveau si toutes les valeurs sont uniques\n",
    "num_unique_values = df_liaison_unique['id_web'].nunique()\n",
    "num_total_values = df_liaison_unique.shape[0]\n",
    "\n",
    "if num_unique_values == num_total_values:\n",
    "    print(\"Après avoir supprimé les doublons, toutes les valeurs de la colonne 'id_web' sont uniques.\")\n",
    "else:\n",
    "    print(\"Même après avoir supprimé les doublons, toutes les valeurs de la colonne 'id_web' ne sont pas uniques.\")"
   ]
  },
  {
   "cell_type": "code",
   "execution_count": 8689,
   "id": "f09d6927-c5a7-4e72-b587-faf1a68ee660",
   "metadata": {},
   "outputs": [
    {
     "name": "stdout",
     "output_type": "stream",
     "text": [
      "Il y a 94 articles sans correspondance.\n"
     ]
    }
   ],
   "source": [
    "# Liste des valeurs non correspondantes\n",
    "non_correspondances = ['13127-1', '14680-1', 'bon-cadeau-25']\n",
    "\n",
    "# Vérifier si 'id_web' est dans la liste des non-correspondances, est vide ou est une chaîne de caractères\n",
    "df_liaison['sans_correspondance'] = df_liaison['id_web'].isin(non_correspondances) | df_liaison['id_web'].isnull() | df_liaison['id_web'].apply(lambda x: isinstance(x, str))\n",
    "\n",
    "# Calculer le nombre d'articles sans correspondance\n",
    "articles_sans_correspondance = df_liaison['sans_correspondance'].sum()\n",
    "\n",
    "if articles_sans_correspondance > 0:\n",
    "    print(f\"Il y a {articles_sans_correspondance} articles sans correspondance.\")\n",
    "else:\n",
    "    print(\"Il n'y a pas d'articles sans correspondance.\")"
   ]
  },
  {
   "cell_type": "code",
   "execution_count": 8690,
   "id": "838ee2f9-6e86-4082-ac0a-cdf10ffe9446",
   "metadata": {},
   "outputs": [
    {
     "name": "stdout",
     "output_type": "stream",
     "text": [
      "Il y a 731 articles avec une correspondance.\n",
      "Le pourcentage d'articles sans correspondance est de 13.15%.\n"
     ]
    }
   ],
   "source": [
    "# Supprimer les lignes avec les valeurs spécifiques dans la colonne 'id_web'\n",
    "df_avec_correspondance = df_avec_correspondance[~df_avec_correspondance['id_web'].isin(valeurs_a_supprimer)]\n",
    "# Filtrer le DataFrame pour exclure les articles sans correspondance\n",
    "df_avec_correspondance = df_liaison[~df_liaison['sans_correspondance']]\n",
    "\n",
    "# Calculer le nombre total d'articles avec une correspondance\n",
    "total_articles_avec_correspondance = len(df_avec_correspondance)\n",
    "\n",
    "print(f\"Il y a {total_articles_avec_correspondance} articles avec une correspondance.\")\n",
    "\n",
    "#calcule total article df_web, df_erp, df_liaison\n",
    "total_articles_web = df_web.shape[0]\n",
    "total_articles_erp = df_erp.shape[0]\n",
    "total_articles_liaison = df_liaison.shape[0]\n",
    "# Calculer le pourcentage d'articles sans correspondance\n",
    "pourcentage_sans_correspondance = (articles_sans_correspondance / total_articles_web) * 100\n",
    "\n",
    "print(f\"Le pourcentage d'articles sans correspondance est de {pourcentage_sans_correspondance:.2f}%.\")"
   ]
  },
  {
   "cell_type": "markdown",
   "id": "1a359137",
   "metadata": {},
   "source": [
    "<div style=\"background-color: RGB(51,165,182);\" >\n",
    "<h2 style=\"margin: auto; padding: 20px; color:#fff; \">Etape 3 - Jonction des fichiers</h2>\n",
    "</div>"
   ]
  },
  {
   "cell_type": "markdown",
   "id": "b7750c10",
   "metadata": {},
   "source": [
    "<div style=\"border: 1px solid RGB(51,165,182);\" >\n",
    "<h3 style=\"margin: auto; padding: 20px; color: RGB(51,165,182); \">Etape 3.1 - Jonction du fichier df_erp et df_liaison</h3>\n",
    "</div>"
   ]
  },
  {
   "cell_type": "code",
   "execution_count": 8691,
   "id": "514555c7-4dd9-4804-b78a-b42b61b824d0",
   "metadata": {},
   "outputs": [
    {
     "name": "stdout",
     "output_type": "stream",
     "text": [
      "Noms de colonnes de df_erp :\n",
      "Index(['product_id', 'onsale_web', 'price', 'stock_quantity', 'stock_status',\n",
      "       'purchase_price', 'stock_status_2'],\n",
      "      dtype='object')\n",
      "\n",
      "Noms de colonnes de df_liaison :\n",
      "Index(['id_web', 'product_id', 'sans_correspondance'], dtype='object')\n"
     ]
    }
   ],
   "source": [
    "# Afficher les noms de colonnes de df_erp\n",
    "print(\"Noms de colonnes de df_erp :\")\n",
    "print(df_erp.columns)\n",
    "\n",
    "# Afficher les noms de colonnes de df_liaison\n",
    "print(\"\\nNoms de colonnes de df_liaison :\")\n",
    "print(df_liaison.columns)"
   ]
  },
  {
   "cell_type": "code",
   "execution_count": 8692,
   "id": "e756ec7d",
   "metadata": {},
   "outputs": [
    {
     "name": "stdout",
     "output_type": "stream",
     "text": [
      "   product_id  onsale_web  price  stock_quantity stock_status  purchase_price  \\\n",
      "0        3847           1   24.2              16      instock           12.88   \n",
      "1        3849           1   34.3              10      instock           17.54   \n",
      "2        3850           1   20.8               0   outofstock           10.64   \n",
      "3        4032           1   14.1              26      instock            6.92   \n",
      "4        4039           1   46.0               3   outofstock           23.77   \n",
      "\n",
      "  stock_status_2 id_web  sans_correspondance  \n",
      "0        instock  15298                False  \n",
      "1        instock  15296                False  \n",
      "2     outofstock  15300                False  \n",
      "3        instock  19814                False  \n",
      "4     outofstock  19815                False  \n"
     ]
    }
   ],
   "source": [
    "#Fusion des fichiers df_erp et df_liaison\n",
    "# Fusionner les deux dataframes sur la colonne 'product_id'\n",
    "df_merge = df_erp.merge(df_liaison, on='product_id')\n",
    "\n",
    "# Afficher les premières lignes du dataframe fusionné\n",
    "print(df_merge.head())"
   ]
  },
  {
   "cell_type": "code",
   "execution_count": 8693,
   "id": "b7e1da5e",
   "metadata": {},
   "outputs": [
    {
     "name": "stdout",
     "output_type": "stream",
     "text": [
      "Lignes ne correspondant pas :\n",
      "Empty DataFrame\n",
      "Columns: [product_id, onsale_web, price, stock_quantity, stock_status, purchase_price, stock_status_2, id_web, sans_correspondance, _merge]\n",
      "Index: []\n"
     ]
    }
   ],
   "source": [
    "#Y a t-il des lignes ne \"matchant\" entre les 2 fichiers?\n",
    "# Fusionner les deux dataframes avec un indicateur\n",
    "df_merge = df_erp.merge(df_liaison, on='product_id', how='outer', indicator=True)\n",
    "\n",
    "# Trouver les lignes qui ne correspondent pas\n",
    "no_match = df_merge[df_merged['_merge'] != 'both']\n",
    "\n",
    "print(\"Lignes ne correspondant pas :\")\n",
    "print(no_match)"
   ]
  },
  {
   "cell_type": "markdown",
   "id": "fe4c51d7",
   "metadata": {},
   "source": [
    "<div style=\"border: 1px solid RGB(51,165,182);\" >\n",
    "<h3 style=\"margin: auto; padding: 20px; color: RGB(51,165,182); \">Etape 3.2 - Jonction du fichier df_merge et df_web</h3>\n",
    "</div>"
   ]
  },
  {
   "cell_type": "code",
   "execution_count": 8694,
   "id": "4f1428c4-3073-4452-bc90-3433fb41755a",
   "metadata": {},
   "outputs": [
    {
     "name": "stdout",
     "output_type": "stream",
     "text": [
      "Noms de colonnes de df_merge :\n",
      "Index(['product_id', 'onsale_web', 'price', 'stock_quantity', 'stock_status',\n",
      "       'purchase_price', 'stock_status_2', 'id_web', 'sans_correspondance',\n",
      "       '_merge'],\n",
      "      dtype='object')\n",
      "\n",
      "Noms de colonnes de df_web :\n",
      "Index(['sku', 'virtual', 'total_sales', 'tax_status', 'post_author',\n",
      "       'post_date', 'product_type', 'post_title', 'post_status', 'post_name',\n",
      "       'post_type', 'post_mime_type', 'respecte_la_regle'],\n",
      "      dtype='object')\n"
     ]
    }
   ],
   "source": [
    "\n",
    "# Afficher les noms de colonnes de df_merge\n",
    "print(\"Noms de colonnes de df_merge :\")\n",
    "print(df_merge.columns)\n",
    "\n",
    "# Afficher les noms de colonnes de df_web\n",
    "print(\"\\nNoms de colonnes de df_web :\")\n",
    "print(df_web.columns)"
   ]
  },
  {
   "cell_type": "code",
   "execution_count": 8695,
   "id": "46d9382b",
   "metadata": {},
   "outputs": [
    {
     "name": "stdout",
     "output_type": "stream",
     "text": [
      "   product_id  onsale_web  price  stock_quantity stock_status  purchase_price  \\\n",
      "0        3847           1   24.2              16      instock           12.88   \n",
      "1        3849           1   34.3              10      instock           17.54   \n",
      "2        3850           1   20.8               0   outofstock           10.64   \n",
      "3        4032           1   14.1              26      instock            6.92   \n",
      "4        4039           1   46.0               3   outofstock           23.77   \n",
      "\n",
      "  stock_status_2 id_web  sans_correspondance _merge      sku  virtual  \\\n",
      "0        instock  15298                False   both  15298.0        0   \n",
      "1        instock  15296                False   both  15296.0        0   \n",
      "2     outofstock  15300                False   both  15300.0        0   \n",
      "3        instock  19814                False   both  19814.0        0   \n",
      "4     outofstock  19815                False   both  19815.0        0   \n",
      "\n",
      "   total_sales tax_status  post_author           post_date product_type  \\\n",
      "0          6.0    taxable          2.0 2018-02-08 12:58:52          Vin   \n",
      "1          9.0    taxable          2.0 2018-02-08 13:49:41          Vin   \n",
      "2          0.0        NaN          2.0 2018-02-08 14:08:36          Vin   \n",
      "3         12.0        NaN          2.0 2018-02-09 14:01:05          Vin   \n",
      "4          3.0        NaN          2.0 2018-02-12 09:04:37          Vin   \n",
      "\n",
      "                                          post_title post_status  \\\n",
      "0        Pierre Jean Villa Saint-Joseph Préface 2018     publish   \n",
      "1    Pierre Jean Villa Saint-Joseph Rouge Tildé 2017     publish   \n",
      "2  Pierre Jean Villa Crozes-Hermitage Accroche Co...     publish   \n",
      "3  Pierre Jean Villa IGP Collines Rhodaniennes Ga...     publish   \n",
      "4          Pierre Jean Villa Côte Rôtie Carmina 2017     publish   \n",
      "\n",
      "                                           post_name   post_type  \\\n",
      "0        pierre-jean-villa-saint-joseph-preface-2018     product   \n",
      "1          pierre-jean-villa-saint-joseph-tilde-2017     product   \n",
      "2  pierre-jean-villa-croze-hermitage-accroche-coe...  attachment   \n",
      "3                  pierre-jean-villa-igp-gamine-2018  attachment   \n",
      "4          pierre-jean-villa-cote-rotie-carmina-2017  attachment   \n",
      "\n",
      "  post_mime_type  respecte_la_regle  \n",
      "0            NaN               True  \n",
      "1            NaN               True  \n",
      "2     image/jpeg               True  \n",
      "3     image/jpeg               True  \n",
      "4     image/jpeg               True  \n"
     ]
    }
   ],
   "source": [
    "#Fusionnez les datasets df_merged et df_web\n",
    "# Fusionner df_merged et df_web\n",
    "df_final = df_merge.merge(df_web, left_on='id_web', right_on='sku')\n",
    "\n",
    "# Afficher les premières lignes du dataframe fusionné\n",
    "print(df_final.head())"
   ]
  },
  {
   "cell_type": "code",
   "execution_count": 8696,
   "id": "2021762f",
   "metadata": {},
   "outputs": [
    {
     "name": "stdout",
     "output_type": "stream",
     "text": [
      "Lignes sans correspondances :\n",
      "     product_id  onsale_web  price  stock_quantity stock_status  \\\n",
      "0          3847           1   24.2              16      instock   \n",
      "1          3849           1   34.3              10      instock   \n",
      "2          3850           1   20.8               0   outofstock   \n",
      "3          4032           1   14.1              26      instock   \n",
      "4          4039           1   46.0               3   outofstock   \n",
      "..          ...         ...    ...             ...          ...   \n",
      "980        6928           1   19.0              15      instock   \n",
      "981        6930           1    8.4              28      instock   \n",
      "982        7023           1   27.5              23      instock   \n",
      "983        7025           1   69.0               8      instock   \n",
      "984        7338           1   16.3              40      instock   \n",
      "\n",
      "     purchase_price stock_status_2 id_web  sans_correspondance _merge  \\\n",
      "0             12.88        instock  15298                False   both   \n",
      "1             17.54        instock  15296                False   both   \n",
      "2             10.64     outofstock  15300                False   both   \n",
      "3              6.92        instock  19814                False   both   \n",
      "4             23.77     outofstock  19815                False   both   \n",
      "..              ...            ...    ...                  ...    ...   \n",
      "980            9.62        instock  15741                False   both   \n",
      "981            4.34        instock  16135                False   both   \n",
      "982           14.21        instock  15891                False   both   \n",
      "983           34.22        instock  15887                False   both   \n",
      "984            8.00        instock  16230                False   both   \n",
      "\n",
      "         sku  virtual  total_sales tax_status  post_author  \\\n",
      "0    15298.0        0          6.0    taxable          2.0   \n",
      "1    15296.0        0          9.0    taxable          2.0   \n",
      "2    15300.0        0          0.0        NaN          2.0   \n",
      "3    19814.0        0         12.0        NaN          2.0   \n",
      "4    19815.0        0          3.0        NaN          2.0   \n",
      "..       ...      ...          ...        ...          ...   \n",
      "980  15741.0        0          7.0        NaN          2.0   \n",
      "981  16135.0        0          9.0    taxable          2.0   \n",
      "982  15891.0        0          9.0        NaN          2.0   \n",
      "983  15887.0        0          5.0        NaN          2.0   \n",
      "984  16230.0        0         13.0        NaN          2.0   \n",
      "\n",
      "              post_date product_type  \\\n",
      "0   2018-02-08 12:58:52          Vin   \n",
      "1   2018-02-08 13:49:41          Vin   \n",
      "2   2018-02-08 14:08:36          Vin   \n",
      "3   2018-02-09 14:01:05          Vin   \n",
      "4   2018-02-12 09:04:37          Vin   \n",
      "..                  ...          ...   \n",
      "980 2020-04-25 12:49:49          Vin   \n",
      "981 2020-04-25 13:22:38          Vin   \n",
      "982 2020-05-02 14:53:40          Vin   \n",
      "983 2020-05-02 15:00:54          Vin   \n",
      "984 2020-07-20 11:00:00          Vin   \n",
      "\n",
      "                                            post_title post_status  \\\n",
      "0          Pierre Jean Villa Saint-Joseph Préface 2018     publish   \n",
      "1      Pierre Jean Villa Saint-Joseph Rouge Tildé 2017     publish   \n",
      "2    Pierre Jean Villa Crozes-Hermitage Accroche Co...     publish   \n",
      "3    Pierre Jean Villa IGP Collines Rhodaniennes Ga...     publish   \n",
      "4            Pierre Jean Villa Côte Rôtie Carmina 2017     publish   \n",
      "..                                                 ...         ...   \n",
      "980          Le Cèdre de Jean Faure Saint-Emilion 2016     publish   \n",
      "981   Mouthes Le Bihan Côtes de Duras L'Aimé Chai 2015     publish   \n",
      "982         Camin Larredya Jurançon Sec La Virada 2018     publish   \n",
      "983     Domaine Jamet Côte Rôtie Fructus Voluptas 2018     publish   \n",
      "984  Domaine Saint-Nicolas Vin de France Blanc Les ...     publish   \n",
      "\n",
      "                                             post_name   post_type  \\\n",
      "0          pierre-jean-villa-saint-joseph-preface-2018     product   \n",
      "1            pierre-jean-villa-saint-joseph-tilde-2017     product   \n",
      "2    pierre-jean-villa-croze-hermitage-accroche-coe...  attachment   \n",
      "3                    pierre-jean-villa-igp-gamine-2018  attachment   \n",
      "4            pierre-jean-villa-cote-rotie-carmina-2017  attachment   \n",
      "..                                                 ...         ...   \n",
      "980             cedre-de-jean-faure-saint-emilion-2016  attachment   \n",
      "981                    mouthes-le-bihan-aime-chai-2015     product   \n",
      "982         camin-larredya-jurancon-sec-la-virada-2018  attachment   \n",
      "983             jamet-cote-rotie-fructus-voluptas-2018  attachment   \n",
      "984  domaine-saint-nicolas-fiefs-vendeens-blanc-les...  attachment   \n",
      "\n",
      "    post_mime_type  respecte_la_regle  \n",
      "0              NaN               True  \n",
      "1              NaN               True  \n",
      "2       image/jpeg               True  \n",
      "3       image/jpeg               True  \n",
      "4       image/jpeg               True  \n",
      "..             ...                ...  \n",
      "980     image/jpeg               True  \n",
      "981            NaN               True  \n",
      "982     image/jpeg               True  \n",
      "983     image/jpeg               True  \n",
      "984     image/jpeg               True  \n",
      "\n",
      "[985 rows x 23 columns]\n",
      "\n",
      "Lignes où toutes les colonnes ne sont pas renseignées :\n",
      "Empty DataFrame\n",
      "Columns: [product_id, onsale_web, price, stock_quantity, stock_status, purchase_price, stock_status_2, id_web, sans_correspondance, _merge, sku, virtual, total_sales, tax_status, post_author, post_date, product_type, post_title, post_status, post_name, post_type, post_mime_type, respecte_la_regle]\n",
      "Index: []\n"
     ]
    }
   ],
   "source": [
    "#Avons-nous des lignes sans correspondances?\n",
    "# Trouver les lignes sans correspondances\n",
    "no_match = df_final[df_final.isna().any(axis=1)]\n",
    "\n",
    "print(\"Lignes sans correspondances :\")\n",
    "print(no_match)\n",
    "\n",
    "# Trouver les lignes où toutes les colonnes ne sont pas renseignées\n",
    "all_na = df_final[df_final.isna().all(axis=1)]\n",
    "\n",
    "print(\"\\nLignes où toutes les colonnes ne sont pas renseignées :\")\n",
    "print(all_na)"
   ]
  },
  {
   "cell_type": "code",
   "execution_count": null,
   "id": "e435735c",
   "metadata": {},
   "outputs": [],
   "source": []
  },
  {
   "cell_type": "markdown",
   "id": "13d81fd6",
   "metadata": {},
   "source": [
    "<div style=\"background-color: RGB(51,165,182);\" >\n",
    "<h2 style=\"margin: auto; padding: 20px; color:#fff; \">Etape 4 - Analyse univarié des prix</h2>\n",
    "</div>"
   ]
  },
  {
   "cell_type": "markdown",
   "id": "9c8d0615",
   "metadata": {},
   "source": [
    "<div style=\"border: 1px solid RGB(51,165,182);\" >\n",
    "<h3 style=\"margin: auto; padding: 20px; color: RGB(51,165,182); \">Etape 4.1 - Exploration par la visualisation de données</h3>\n",
    "</div>"
   ]
  },
  {
   "cell_type": "code",
   "execution_count": 8697,
   "id": "3be61f06",
   "metadata": {},
   "outputs": [
    {
     "data": {
      "image/png": "[encoded data removed]",
      "text/plain": [
       "<Figure size 1200x600 with 1 Axes>"
      ]
     },
     "metadata": {},
     "output_type": "display_data"
    }
   ],
   "source": [
    "#Création d'une Boite à moustache de la répartition des prix grâce à Pandas\n",
    "# Créer une boîte à moustaches de la répartition des prix\n",
    "plt.figure(figsize=(12, 6))\n",
    "df_final['price'].plot(kind='box')\n",
    "plt.title('Boîte à moustaches de la répartition des prix')\n",
    "plt.show()"
   ]
  },
  {
   "cell_type": "code",
   "execution_count": 8698,
   "id": "cbfe6346",
   "metadata": {},
   "outputs": [
    {
     "data": {
      "application/vnd.plotly.v1+json": {
       "config": {
        "plotlyServerURL": "https://plot.ly"
       },
       "data": [
        {
         "alignmentgroup": "True",
         "hovertemplate": "price=%{y}<extra></extra>",
         "legendgroup": "",
         "marker": {
          "color": "#636efa"
         },
         "name": "",
         "notched": false,
         "offsetgroup": "",
         "orientation": "v",
         "showlegend": false,
         "type": "box",
         "x0": " ",
         "xaxis": "x",
         "y": [
          24.2,
          34.3,
          20.8,
          14.1,
          46,
          34.3,
          32.7,
          31.2,
          60,
          42.6,
          80,
          18.3,
          22.8,
          19.3,
          21.8,
          7.7,
          33.7,
          44.3,
          71.6,
          86.1,
          86.1,
          86.1,
          73,
          73,
          73,
          47,
          47,
          47,
          14.1,
          14.1,
          14.1,
          73.5,
          73.5,
          73.5,
          -20,
          -20,
          -20,
          21.5,
          21.5,
          21.5,
          10.8,
          10.8,
          10.8,
          30.5,
          30.5,
          30.5,
          49,
          49,
          49,
          40,
          40,
          40,
          144,
          144,
          144,
          36.9,
          36.9,
          36.9,
          23.6,
          23.6,
          23.6,
          12,
          12,
          12,
          18.5,
          18.5,
          18.5,
          34.5,
          34.5,
          34.5,
          20.5,
          20.5,
          20.5,
          23.8,
          23.8,
          23.8,
          20.2,
          20.2,
          20.2,
          13.5,
          13.5,
          13.5,
          13.8,
          13.8,
          13.8,
          12.7,
          12.7,
          12.7,
          14.6,
          14.6,
          14.6,
          23,
          23,
          23,
          10,
          10,
          10,
          -8,
          -8,
          -8,
          10,
          10,
          10,
          84.7,
          84.7,
          84.7,
          43.3,
          43.3,
          43.3,
          47,
          47,
          47,
          19.9,
          19.9,
          19.9,
          29.2,
          29.2,
          29.2,
          34.2,
          34.2,
          34.2,
          42.5,
          42.5,
          42.5,
          14.2,
          14.2,
          14.2,
          92,
          92,
          92,
          28.5,
          28.5,
          28.5,
          -9.1,
          -9.1,
          -9.1,
          28,
          28,
          28,
          28,
          28,
          28,
          24,
          24,
          24,
          18,
          18,
          18,
          40,
          40,
          40,
          40,
          40,
          40,
          40,
          40,
          40,
          40,
          40,
          40,
          30,
          30,
          30,
          26,
          26,
          26,
          30,
          30,
          30,
          20,
          20,
          20,
          31,
          31,
          31,
          27,
          27,
          27,
          31,
          31,
          31,
          21,
          21,
          21,
          31,
          31,
          31,
          27,
          27,
          27,
          31,
          31,
          31,
          21,
          21,
          21,
          40,
          40,
          40,
          40,
          40,
          40,
          47,
          47,
          47,
          45,
          45,
          45,
          45,
          45,
          45,
          45,
          45,
          45,
          30,
          30,
          30,
          26,
          26,
          26,
          30,
          30,
          30,
          20,
          20,
          20,
          45,
          45,
          45,
          45,
          45,
          45,
          45,
          45,
          45,
          45,
          45,
          45,
          45,
          45,
          45,
          31,
          31,
          31,
          21,
          21,
          21,
          27,
          27,
          27,
          31,
          31,
          31,
          31,
          31,
          31,
          45,
          45,
          45,
          45,
          45,
          45,
          45,
          45,
          45,
          31,
          31,
          31,
          27,
          27,
          27,
          31,
          31,
          31,
          21,
          21,
          21,
          31,
          31,
          31,
          31,
          31,
          31,
          31,
          31,
          31,
          45,
          45,
          45,
          45,
          45,
          45,
          12.7,
          8.7,
          8.7,
          8.7,
          11.9,
          11.9,
          14.5,
          14.4,
          19.5,
          20.8,
          22,
          16.6,
          60,
          23.4,
          33.2,
          32,
          77.8,
          12.7,
          14.7,
          14.05,
          22.9,
          44,
          37,
          39,
          17,
          23.2,
          19,
          16.4,
          14.4,
          13.7,
          12.6,
          22.8,
          12.8,
          22.1,
          12.8,
          15.8,
          15.8,
          16.3,
          16.3,
          9.7,
          6.8,
          12.6,
          35,
          31.7,
          100,
          23,
          88.4,
          29.8,
          25.7,
          77.4,
          39,
          53,
          49,
          29.5,
          33,
          37.5,
          69,
          59,
          13.7,
          19.2,
          29,
          9.8,
          14.5,
          20.35,
          12,
          18.5,
          9.3,
          9.3,
          11.6,
          14.3,
          10.8,
          7.6,
          12,
          20.5,
          14.3,
          18.2,
          9,
          7.8,
          5.7,
          5.7,
          5.7,
          13.5,
          13.5,
          11.5,
          24,
          24,
          11.9,
          16.7,
          21.4,
          16.6,
          13.3,
          9.5,
          12.1,
          9.3,
          17.8,
          13.5,
          10.8,
          27.2,
          9.4,
          5.8,
          5.8,
          38,
          38,
          9.9,
          11.3,
          23,
          6.7,
          7.6,
          79.8,
          48.5,
          39.8,
          58.8,
          26.5,
          13.4,
          17.1,
          16.7,
          11.6,
          12.8,
          8.9,
          9.7,
          17.2,
          16.9,
          12.6,
          29.9,
          9.6,
          11.1,
          11.1,
          17.1,
          28,
          28,
          8.9,
          8.6,
          13.5,
          8.9,
          15.3,
          14.8,
          19.5,
          14.1,
          59.6,
          26.9,
          24.4,
          31.7,
          32.1,
          12.2,
          9.9,
          15.8,
          15.8,
          17.8,
          9.6,
          19,
          15.2,
          10.2,
          15.5,
          16.6,
          9.2,
          12.9,
          14.9,
          17.6,
          24.8,
          18.9,
          11.6,
          27,
          41,
          69.8,
          38.6,
          26.7,
          19,
          23.2,
          39.1,
          44,
          17.5,
          30,
          8.1,
          10.7,
          10.9,
          49,
          35.5,
          83,
          59,
          79.5,
          225,
          79.5,
          12.65,
          51.6,
          39,
          77,
          85.6,
          49.5,
          49.5,
          49.5,
          57,
          59.8,
          27.5,
          62,
          59,
          59,
          59,
          44,
          62.5,
          176,
          108.5,
          68.1,
          157,
          104,
          28.1,
          21.7,
          28.5,
          67.2,
          109.6,
          43.9,
          61.6,
          41.8,
          26.5,
          16.1,
          31.5,
          31.5,
          49,
          32.2,
          50.1,
          13.4,
          11.8,
          13.1,
          26.2,
          20.6,
          16.9,
          19,
          24,
          57,
          67.5,
          30.6,
          59,
          11.9,
          16.5,
          52.4,
          52.9,
          58.3,
          39.6,
          52.4,
          62.4,
          76.8,
          50,
          52.4,
          41,
          62.4,
          50,
          21.5,
          28.5,
          24.3,
          16.5,
          25.3,
          49,
          36.2,
          33.4,
          40.2,
          43,
          43,
          48.8,
          20.8,
          16.4,
          14.4,
          21,
          12.3,
          20.2,
          17,
          21.9,
          17.8,
          19.8,
          19,
          10.7,
          12.9,
          9.5,
          29.8,
          13.2,
          6.3,
          7.1,
          9.1,
          9.1,
          18.1,
          14,
          30.1,
          12.8,
          12.8,
          19.8,
          18.2,
          31.6,
          16.8,
          22.8,
          32.6,
          44,
          55.4,
          15.8,
          18.4,
          13.3,
          11.1,
          18.6,
          23.4,
          18.2,
          12.5,
          15.9,
          13.7,
          29,
          23.4,
          12.7,
          26,
          29.5,
          8.6,
          14.3,
          22,
          16.8,
          15.3,
          7.4,
          9.7,
          14.5,
          11.9,
          16.4,
          27.9,
          12,
          7.4,
          26.5,
          24.3,
          16.9,
          6.8,
          13.9,
          7.8,
          13.7,
          9.8,
          29.5,
          28.5,
          10.1,
          12.1,
          12.3,
          11.1,
          11.1,
          13.6,
          21,
          18.7,
          41.6,
          12,
          78,
          14.9,
          6.5,
          8.7,
          8.5,
          9.9,
          8.2,
          9.8,
          9.9,
          9.3,
          22.8,
          18.7,
          28.4,
          27.9,
          25.3,
          17,
          27.9,
          20.1,
          27.9,
          21.2,
          20.8,
          41,
          46,
          102.3,
          137,
          22.9,
          53.2,
          25.9,
          17.3,
          25.9,
          28,
          25.9,
          25.9,
          37.2,
          24.4,
          24.4,
          7,
          12.8,
          23.2,
          7.9,
          6.5,
          7.9,
          16.7,
          17.5,
          27.8,
          25.7,
          18.4,
          22.2,
          11.1,
          9.9,
          12.5,
          12.9,
          20.5,
          11.3,
          7,
          12.1,
          7.1,
          49.5,
          23,
          23.7,
          16.45,
          16.3,
          18.5,
          26.5,
          78,
          78,
          78,
          27.3,
          217.5,
          64.9,
          48.7,
          59.4,
          48.7,
          105,
          105,
          55.6,
          9.3,
          19.8,
          45,
          112,
          86.8,
          62.1,
          22.5,
          7.5,
          52.6,
          45,
          67,
          59.9,
          59.9,
          65,
          15.2,
          19,
          11.1,
          18,
          22.8,
          19.5,
          28.8,
          16.1,
          24.2,
          35.3,
          10.7,
          12.7,
          17.1,
          24,
          39,
          13.2,
          23.6,
          15.5,
          16.3,
          16.2,
          7.2,
          54.8,
          42,
          19.8,
          10.2,
          10.4,
          11.5,
          17.9,
          21.6,
          33.4,
          49.5,
          43.5,
          43.5,
          26.5,
          13.8,
          18.2,
          12.9,
          38.6,
          48.4,
          60.4,
          38.6,
          12,
          61.6,
          65.9,
          15.2,
          24.6,
          48.8,
          34.3,
          36.3,
          57.7,
          38,
          58,
          58,
          30.8,
          92,
          27.5,
          34.7,
          59.6,
          83.7,
          30.5,
          38.6,
          18,
          63.4,
          124.8,
          19.2,
          19.2,
          56.4,
          38.4,
          27.8,
          71.3,
          71.3,
          25,
          10.3,
          28,
          44.6,
          13,
          12.7,
          6.5,
          17.5,
          29.9,
          44.5,
          29.4,
          16.9,
          19.8,
          10.3,
          10.8,
          31.7,
          25,
          57.6,
          13.7,
          7.1,
          14.9,
          11,
          14.6,
          10.7,
          73.3,
          42.1,
          57,
          24.5,
          10.1,
          42.2,
          13.1,
          19.5,
          12.9,
          35.6,
          175,
          35.6,
          33.6,
          34.4,
          38.4,
          29.7,
          32.8,
          5.7,
          5.8,
          5.8,
          21.7,
          23,
          12.5,
          17.2,
          40.2,
          24,
          23.8,
          17.1,
          25,
          17.4,
          27.3,
          17.9,
          24,
          16.6,
          16.9,
          57.6,
          63.5,
          56,
          63.5,
          41.2,
          55,
          57,
          19.3,
          19,
          191.3,
          26.6,
          15.4,
          24.7,
          28.1,
          18.25,
          35.1,
          27.3,
          18.8,
          43.9,
          19.8,
          17.7,
          57,
          36,
          36,
          93,
          122,
          114,
          48.5,
          49.5,
          14.1,
          59.9,
          46,
          74.5,
          17.2,
          8.7,
          15.4,
          12.7,
          30,
          13.5,
          16.3,
          56.3,
          71.5,
          69,
          17.9,
          48.5,
          71.7,
          8.5,
          10.9,
          21.8,
          38.5,
          9.3,
          13.6,
          24.5,
          12.6,
          13.4,
          29.8,
          36.9,
          40.7,
          33.2,
          34.8,
          74.8,
          62.4,
          46,
          39.2,
          135,
          10.6,
          10.6,
          5.2,
          46,
          105.6,
          116.4,
          31,
          20.2,
          25.2,
          25.2,
          115,
          121,
          99,
          115,
          121,
          23.5,
          26.4,
          26.7,
          20.4,
          20.4,
          40.2,
          9,
          45.9,
          10.4,
          78,
          40.5,
          27.9,
          22.4,
          28.4,
          72,
          29,
          29.2,
          44,
          68.3,
          41.8,
          40,
          13.5,
          19,
          24.4,
          32.8,
          15.4,
          9.9,
          13.5,
          51,
          35.2,
          42.2,
          33.2,
          41.8,
          32.2,
          37.7,
          47.2,
          52.7,
          22.4,
          50.4,
          35.6,
          27.7,
          48.5,
          15.4,
          46.5,
          46.5,
          46.5,
          42,
          21.8,
          50.5,
          49.9,
          19,
          8.4,
          27.5,
          69,
          16.3
         ],
         "y0": " ",
         "yaxis": "y"
        }
       ],
       "layout": {
        "autosize": true,
        "boxmode": "group",
        "legend": {
         "tracegroupgap": 0
        },
        "margin": {
         "t": 60
        },
        "template": {
         "data": {
          "bar": [
           {
            "error_x": {
             "color": "#2a3f5f"
            },
            "error_y": {
             "color": "#2a3f5f"
            },
            "marker": {
             "line": {
              "color": "#E5ECF6",
              "width": 0.5
             },
             "pattern": {
              "fillmode": "overlay",
              "size": 10,
              "solidity": 0.2
             }
            },
            "type": "bar"
           }
          ],
          "barpolar": [
           {
            "marker": {
             "line": {
              "color": "#E5ECF6",
              "width": 0.5
             },
             "pattern": {
              "fillmode": "overlay",
              "size": 10,
              "solidity": 0.2
             }
            },
            "type": "barpolar"
           }
          ],
          "carpet": [
           {
            "aaxis": {
             "endlinecolor": "#2a3f5f",
             "gridcolor": "white",
             "linecolor": "white",
             "minorgridcolor": "white",
             "startlinecolor": "#2a3f5f"
            },
            "baxis": {
             "endlinecolor": "#2a3f5f",
             "gridcolor": "white",
             "linecolor": "white",
             "minorgridcolor": "white",
             "startlinecolor": "#2a3f5f"
            },
            "type": "carpet"
           }
          ],
          "choropleth": [
           {
            "colorbar": {
             "outlinewidth": 0,
             "ticks": ""
            },
            "type": "choropleth"
           }
          ],
          "contour": [
           {
            "colorbar": {
             "outlinewidth": 0,
             "ticks": ""
            },
            "colorscale": [
             [
              0,
              "#0d0887"
             ],
             [
              0.1111111111111111,
              "#46039f"
             ],
             [
              0.2222222222222222,
              "#7201a8"
             ],
             [
              0.3333333333333333,
              "#9c179e"
             ],
             [
              0.4444444444444444,
              "#bd3786"
             ],
             [
              0.5555555555555556,
              "#d8576b"
             ],
             [
              0.6666666666666666,
              "#ed7953"
             ],
             [
              0.7777777777777778,
              "#fb9f3a"
             ],
             [
              0.8888888888888888,
              "#fdca26"
             ],
             [
              1,
              "#f0f921"
             ]
            ],
            "type": "contour"
           }
          ],
          "contourcarpet": [
           {
            "colorbar": {
             "outlinewidth": 0,
             "ticks": ""
            },
            "type": "contourcarpet"
           }
          ],
          "heatmap": [
           {
            "colorbar": {
             "outlinewidth": 0,
             "ticks": ""
            },
            "colorscale": [
             [
              0,
              "#0d0887"
             ],
             [
              0.1111111111111111,
              "#46039f"
             ],
             [
              0.2222222222222222,
              "#7201a8"
             ],
             [
              0.3333333333333333,
              "#9c179e"
             ],
             [
              0.4444444444444444,
              "#bd3786"
             ],
             [
              0.5555555555555556,
              "#d8576b"
             ],
             [
              0.6666666666666666,
              "#ed7953"
             ],
             [
              0.7777777777777778,
              "#fb9f3a"
             ],
             [
              0.8888888888888888,
              "#fdca26"
             ],
             [
              1,
              "#f0f921"
             ]
            ],
            "type": "heatmap"
           }
          ],
          "heatmapgl": [
           {
            "colorbar": {
             "outlinewidth": 0,
             "ticks": ""
            },
            "colorscale": [
             [
              0,
              "#0d0887"
             ],
             [
              0.1111111111111111,
              "#46039f"
             ],
             [
              0.2222222222222222,
              "#7201a8"
             ],
             [
              0.3333333333333333,
              "#9c179e"
             ],
             [
              0.4444444444444444,
              "#bd3786"
             ],
             [
              0.5555555555555556,
              "#d8576b"
             ],
             [
              0.6666666666666666,
              "#ed7953"
             ],
             [
              0.7777777777777778,
              "#fb9f3a"
             ],
             [
              0.8888888888888888,
              "#fdca26"
             ],
             [
              1,
              "#f0f921"
             ]
            ],
            "type": "heatmapgl"
           }
          ],
          "histogram": [
           {
            "marker": {
             "pattern": {
              "fillmode": "overlay",
              "size": 10,
              "solidity": 0.2
             }
            },
            "type": "histogram"
           }
          ],
          "histogram2d": [
           {
            "colorbar": {
             "outlinewidth": 0,
             "ticks": ""
            },
            "colorscale": [
             [
              0,
              "#0d0887"
             ],
             [
              0.1111111111111111,
              "#46039f"
             ],
             [
              0.2222222222222222,
              "#7201a8"
             ],
             [
              0.3333333333333333,
              "#9c179e"
             ],
             [
              0.4444444444444444,
              "#bd3786"
             ],
             [
              0.5555555555555556,
              "#d8576b"
             ],
             [
              0.6666666666666666,
              "#ed7953"
             ],
             [
              0.7777777777777778,
              "#fb9f3a"
             ],
             [
              0.8888888888888888,
              "#fdca26"
             ],
             [
              1,
              "#f0f921"
             ]
            ],
            "type": "histogram2d"
           }
          ],
          "histogram2dcontour": [
           {
            "colorbar": {
             "outlinewidth": 0,
             "ticks": ""
            },
            "colorscale": [
             [
              0,
              "#0d0887"
             ],
             [
              0.1111111111111111,
              "#46039f"
             ],
             [
              0.2222222222222222,
              "#7201a8"
             ],
             [
              0.3333333333333333,
              "#9c179e"
             ],
             [
              0.4444444444444444,
              "#bd3786"
             ],
             [
              0.5555555555555556,
              "#d8576b"
             ],
             [
              0.6666666666666666,
              "#ed7953"
             ],
             [
              0.7777777777777778,
              "#fb9f3a"
             ],
             [
              0.8888888888888888,
              "#fdca26"
             ],
             [
              1,
              "#f0f921"
             ]
            ],
            "type": "histogram2dcontour"
           }
          ],
          "mesh3d": [
           {
            "colorbar": {
             "outlinewidth": 0,
             "ticks": ""
            },
            "type": "mesh3d"
           }
          ],
          "parcoords": [
           {
            "line": {
             "colorbar": {
              "outlinewidth": 0,
              "ticks": ""
             }
            },
            "type": "parcoords"
           }
          ],
          "pie": [
           {
            "automargin": true,
            "type": "pie"
           }
          ],
          "scatter": [
           {
            "fillpattern": {
             "fillmode": "overlay",
             "size": 10,
             "solidity": 0.2
            },
            "type": "scatter"
           }
          ],
          "scatter3d": [
           {
            "line": {
             "colorbar": {
              "outlinewidth": 0,
              "ticks": ""
             }
            },
            "marker": {
             "colorbar": {
              "outlinewidth": 0,
              "ticks": ""
             }
            },
            "type": "scatter3d"
           }
          ],
          "scattercarpet": [
           {
            "marker": {
             "colorbar": {
              "outlinewidth": 0,
              "ticks": ""
             }
            },
            "type": "scattercarpet"
           }
          ],
          "scattergeo": [
           {
            "marker": {
             "colorbar": {
              "outlinewidth": 0,
              "ticks": ""
             }
            },
            "type": "scattergeo"
           }
          ],
          "scattergl": [
           {
            "marker": {
             "colorbar": {
              "outlinewidth": 0,
              "ticks": ""
             }
            },
            "type": "scattergl"
           }
          ],
          "scattermapbox": [
           {
            "marker": {
             "colorbar": {
              "outlinewidth": 0,
              "ticks": ""
             }
            },
            "type": "scattermapbox"
           }
          ],
          "scatterpolar": [
           {
            "marker": {
             "colorbar": {
              "outlinewidth": 0,
              "ticks": ""
             }
            },
            "type": "scatterpolar"
           }
          ],
          "scatterpolargl": [
           {
            "marker": {
             "colorbar": {
              "outlinewidth": 0,
              "ticks": ""
             }
            },
            "type": "scatterpolargl"
           }
          ],
          "scatterternary": [
           {
            "marker": {
             "colorbar": {
              "outlinewidth": 0,
              "ticks": ""
             }
            },
            "type": "scatterternary"
           }
          ],
          "surface": [
           {
            "colorbar": {
             "outlinewidth": 0,
             "ticks": ""
            },
            "colorscale": [
             [
              0,
              "#0d0887"
             ],
             [
              0.1111111111111111,
              "#46039f"
             ],
             [
              0.2222222222222222,
              "#7201a8"
             ],
             [
              0.3333333333333333,
              "#9c179e"
             ],
             [
              0.4444444444444444,
              "#bd3786"
             ],
             [
              0.5555555555555556,
              "#d8576b"
             ],
             [
              0.6666666666666666,
              "#ed7953"
             ],
             [
              0.7777777777777778,
              "#fb9f3a"
             ],
             [
              0.8888888888888888,
              "#fdca26"
             ],
             [
              1,
              "#f0f921"
             ]
            ],
            "type": "surface"
           }
          ],
          "table": [
           {
            "cells": {
             "fill": {
              "color": "#EBF0F8"
             },
             "line": {
              "color": "white"
             }
            },
            "header": {
             "fill": {
              "color": "#C8D4E3"
             },
             "line": {
              "color": "white"
             }
            },
            "type": "table"
           }
          ]
         },
         "layout": {
          "annotationdefaults": {
           "arrowcolor": "#2a3f5f",
           "arrowhead": 0,
           "arrowwidth": 1
          },
          "autotypenumbers": "strict",
          "coloraxis": {
           "colorbar": {
            "outlinewidth": 0,
            "ticks": ""
           }
          },
          "colorscale": {
           "diverging": [
            [
             0,
             "#8e0152"
            ],
            [
             0.1,
             "#c51b7d"
            ],
            [
             0.2,
             "#de77ae"
            ],
            [
             0.3,
             "#f1b6da"
            ],
            [
             0.4,
             "#fde0ef"
            ],
            [
             0.5,
             "#f7f7f7"
            ],
            [
             0.6,
             "#e6f5d0"
            ],
            [
             0.7,
             "#b8e186"
            ],
            [
             0.8,
             "#7fbc41"
            ],
            [
             0.9,
             "#4d9221"
            ],
            [
             1,
             "#276419"
            ]
           ],
           "sequential": [
            [
             0,
             "#0d0887"
            ],
            [
             0.1111111111111111,
             "#46039f"
            ],
            [
             0.2222222222222222,
             "#7201a8"
            ],
            [
             0.3333333333333333,
             "#9c179e"
            ],
            [
             0.4444444444444444,
             "#bd3786"
            ],
            [
             0.5555555555555556,
             "#d8576b"
            ],
            [
             0.6666666666666666,
             "#ed7953"
            ],
            [
             0.7777777777777778,
             "#fb9f3a"
            ],
            [
             0.8888888888888888,
             "#fdca26"
            ],
            [
             1,
             "#f0f921"
            ]
           ],
           "sequentialminus": [
            [
             0,
             "#0d0887"
            ],
            [
             0.1111111111111111,
             "#46039f"
            ],
            [
             0.2222222222222222,
             "#7201a8"
            ],
            [
             0.3333333333333333,
             "#9c179e"
            ],
            [
             0.4444444444444444,
             "#bd3786"
            ],
            [
             0.5555555555555556,
             "#d8576b"
            ],
            [
             0.6666666666666666,
             "#ed7953"
            ],
            [
             0.7777777777777778,
             "#fb9f3a"
            ],
            [
             0.8888888888888888,
             "#fdca26"
            ],
            [
             1,
             "#f0f921"
            ]
           ]
          },
          "colorway": [
           "#636efa",
           "#EF553B",
           "#00cc96",
           "#ab63fa",
           "#FFA15A",
           "#19d3f3",
           "#FF6692",
           "#B6E880",
           "#FF97FF",
           "#FECB52"
          ],
          "font": {
           "color": "#2a3f5f"
          },
          "geo": {
           "bgcolor": "white",
           "lakecolor": "white",
           "landcolor": "#E5ECF6",
           "showlakes": true,
           "showland": true,
           "subunitcolor": "white"
          },
          "hoverlabel": {
           "align": "left"
          },
          "hovermode": "closest",
          "mapbox": {
           "style": "light"
          },
          "paper_bgcolor": "white",
          "plot_bgcolor": "#E5ECF6",
          "polar": {
           "angularaxis": {
            "gridcolor": "white",
            "linecolor": "white",
            "ticks": ""
           },
           "bgcolor": "#E5ECF6",
           "radialaxis": {
            "gridcolor": "white",
            "linecolor": "white",
            "ticks": ""
           }
          },
          "scene": {
           "xaxis": {
            "backgroundcolor": "#E5ECF6",
            "gridcolor": "white",
            "gridwidth": 2,
            "linecolor": "white",
            "showbackground": true,
            "ticks": "",
            "zerolinecolor": "white"
           },
           "yaxis": {
            "backgroundcolor": "#E5ECF6",
            "gridcolor": "white",
            "gridwidth": 2,
            "linecolor": "white",
            "showbackground": true,
            "ticks": "",
            "zerolinecolor": "white"
           },
           "zaxis": {
            "backgroundcolor": "#E5ECF6",
            "gridcolor": "white",
            "gridwidth": 2,
            "linecolor": "white",
            "showbackground": true,
            "ticks": "",
            "zerolinecolor": "white"
           }
          },
          "shapedefaults": {
           "line": {
            "color": "#2a3f5f"
           }
          },
          "ternary": {
           "aaxis": {
            "gridcolor": "white",
            "linecolor": "white",
            "ticks": ""
           },
           "baxis": {
            "gridcolor": "white",
            "linecolor": "white",
            "ticks": ""
           },
           "bgcolor": "#E5ECF6",
           "caxis": {
            "gridcolor": "white",
            "linecolor": "white",
            "ticks": ""
           }
          },
          "title": {
           "x": 0.05
          },
          "xaxis": {
           "automargin": true,
           "gridcolor": "white",
           "linecolor": "white",
           "ticks": "",
           "title": {
            "standoff": 15
           },
           "zerolinecolor": "white",
           "zerolinewidth": 2
          },
          "yaxis": {
           "automargin": true,
           "gridcolor": "white",
           "linecolor": "white",
           "ticks": "",
           "title": {
            "standoff": 15
           },
           "zerolinecolor": "white",
           "zerolinewidth": 2
          }
         }
        },
        "xaxis": {
         "anchor": "y",
         "autorange": true,
         "domain": [
          0,
          1
         ],
         "range": [
          -0.5,
          0.5
         ],
         "type": "category"
        },
        "yaxis": {
         "anchor": "x",
         "autorange": true,
         "domain": [
          0,
          1
         ],
         "range": [
          -33.611111111111114,
          238.61111111111111
         ],
         "title": {
          "text": "price"
         },
         "type": "linear"
        }
       }
      },
      "image/png": "[encoded data removed]",
      "text/html": [
       "<div>                            <div id=\"8248ca33-8c71-4e6c-9362-982ffd2f9559\" class=\"plotly-graph-div\" style=\"height:525px; width:100%;\"></div>            <script type=\"text/javascript\">                require([\"plotly\"], function(Plotly) {                    window.PLOTLYENV=window.PLOTLYENV || {};                                    if (document.getElementById(\"8248ca33-8c71-4e6c-9362-982ffd2f9559\")) {                    Plotly.newPlot(                        \"8248ca33-8c71-4e6c-9362-982ffd2f9559\",                        [{\"alignmentgroup\":\"True\",\"hovertemplate\":\"price=%{y}<extra></extra>\",\"legendgroup\":\"\",\"marker\":{\"color\":\"#636efa\"},\"name\":\"\",\"notched\":false,\"offsetgroup\":\"\",\"orientation\":\"v\",\"showlegend\":false,\"x0\":\" \",\"xaxis\":\"x\",\"y\":[24.2,34.3,20.8,14.1,46.0,34.3,32.7,31.2,60.0,42.6,80.0,18.3,22.8,19.3,21.8,7.7,33.7,44.3,71.6,86.1,86.1,86.1,73.0,73.0,73.0,47.0,47.0,47.0,14.1,14.1,14.1,73.5,73.5,73.5,-20.0,-20.0,-20.0,21.5,21.5,21.5,10.8,10.8,10.8,30.5,30.5,30.5,49.0,49.0,49.0,40.0,40.0,40.0,144.0,144.0,144.0,36.9,36.9,36.9,23.6,23.6,23.6,12.0,12.0,12.0,18.5,18.5,18.5,34.5,34.5,34.5,20.5,20.5,20.5,23.8,23.8,23.8,20.2,20.2,20.2,13.5,13.5,13.5,13.8,13.8,13.8,12.7,12.7,12.7,14.6,14.6,14.6,23.0,23.0,23.0,10.0,10.0,10.0,-8.0,-8.0,-8.0,10.0,10.0,10.0,84.7,84.7,84.7,43.3,43.3,43.3,47.0,47.0,47.0,19.9,19.9,19.9,29.2,29.2,29.2,34.2,34.2,34.2,42.5,42.5,42.5,14.2,14.2,14.2,92.0,92.0,92.0,28.5,28.5,28.5,-9.1,-9.1,-9.1,28.0,28.0,28.0,28.0,28.0,28.0,24.0,24.0,24.0,18.0,18.0,18.0,40.0,40.0,40.0,40.0,40.0,40.0,40.0,40.0,40.0,40.0,40.0,40.0,30.0,30.0,30.0,26.0,26.0,26.0,30.0,30.0,30.0,20.0,20.0,20.0,31.0,31.0,31.0,27.0,27.0,27.0,31.0,31.0,31.0,21.0,21.0,21.0,31.0,31.0,31.0,27.0,27.0,27.0,31.0,31.0,31.0,21.0,21.0,21.0,40.0,40.0,40.0,40.0,40.0,40.0,47.0,47.0,47.0,45.0,45.0,45.0,45.0,45.0,45.0,45.0,45.0,45.0,30.0,30.0,30.0,26.0,26.0,26.0,30.0,30.0,30.0,20.0,20.0,20.0,45.0,45.0,45.0,45.0,45.0,45.0,45.0,45.0,45.0,45.0,45.0,45.0,45.0,45.0,45.0,31.0,31.0,31.0,21.0,21.0,21.0,27.0,27.0,27.0,31.0,31.0,31.0,31.0,31.0,31.0,45.0,45.0,45.0,45.0,45.0,45.0,45.0,45.0,45.0,31.0,31.0,31.0,27.0,27.0,27.0,31.0,31.0,31.0,21.0,21.0,21.0,31.0,31.0,31.0,31.0,31.0,31.0,31.0,31.0,31.0,45.0,45.0,45.0,45.0,45.0,45.0,12.7,8.7,8.7,8.7,11.9,11.9,14.5,14.4,19.5,20.8,22.0,16.6,60.0,23.4,33.2,32.0,77.8,12.7,14.7,14.05,22.9,44.0,37.0,39.0,17.0,23.2,19.0,16.4,14.4,13.7,12.6,22.8,12.8,22.1,12.8,15.8,15.8,16.3,16.3,9.7,6.8,12.6,35.0,31.7,100.0,23.0,88.4,29.8,25.7,77.4,39.0,53.0,49.0,29.5,33.0,37.5,69.0,59.0,13.7,19.2,29.0,9.8,14.5,20.35,12.0,18.5,9.3,9.3,11.6,14.3,10.8,7.6,12.0,20.5,14.3,18.2,9.0,7.8,5.7,5.7,5.7,13.5,13.5,11.5,24.0,24.0,11.9,16.7,21.4,16.6,13.3,9.5,12.1,9.3,17.8,13.5,10.8,27.2,9.4,5.8,5.8,38.0,38.0,9.9,11.3,23.0,6.7,7.6,79.8,48.5,39.8,58.8,26.5,13.4,17.1,16.7,11.6,12.8,8.9,9.7,17.2,16.9,12.6,29.9,9.6,11.1,11.1,17.1,28.0,28.0,8.9,8.6,13.5,8.9,15.3,14.8,19.5,14.1,59.6,26.9,24.4,31.7,32.1,12.2,9.9,15.8,15.8,17.8,9.6,19.0,15.2,10.2,15.5,16.6,9.2,12.9,14.9,17.6,24.8,18.9,11.6,27.0,41.0,69.8,38.6,26.7,19.0,23.2,39.1,44.0,17.5,30.0,8.1,10.7,10.9,49.0,35.5,83.0,59.0,79.5,225.0,79.5,12.65,51.6,39.0,77.0,85.6,49.5,49.5,49.5,57.0,59.8,27.5,62.0,59.0,59.0,59.0,44.0,62.5,176.0,108.5,68.1,157.0,104.0,28.1,21.7,28.5,67.2,109.6,43.9,61.6,41.8,26.5,16.1,31.5,31.5,49.0,32.2,50.1,13.4,11.8,13.1,26.2,20.6,16.9,19.0,24.0,57.0,67.5,30.6,59.0,11.9,16.5,52.4,52.9,58.3,39.6,52.4,62.4,76.8,50.0,52.4,41.0,62.4,50.0,21.5,28.5,24.3,16.5,25.3,49.0,36.2,33.4,40.2,43.0,43.0,48.8,20.8,16.4,14.4,21.0,12.3,20.2,17.0,21.9,17.8,19.8,19.0,10.7,12.9,9.5,29.8,13.2,6.3,7.1,9.1,9.1,18.1,14.0,30.1,12.8,12.8,19.8,18.2,31.6,16.8,22.8,32.6,44.0,55.4,15.8,18.4,13.3,11.1,18.6,23.4,18.2,12.5,15.9,13.7,29.0,23.4,12.7,26.0,29.5,8.6,14.3,22.0,16.8,15.3,7.4,9.7,14.5,11.9,16.4,27.9,12.0,7.4,26.5,24.3,16.9,6.8,13.9,7.8,13.7,9.8,29.5,28.5,10.1,12.1,12.3,11.1,11.1,13.6,21.0,18.7,41.6,12.0,78.0,14.9,6.5,8.7,8.5,9.9,8.2,9.8,9.9,9.3,22.8,18.7,28.4,27.9,25.3,17.0,27.9,20.1,27.9,21.2,20.8,41.0,46.0,102.3,137.0,22.9,53.2,25.9,17.3,25.9,28.0,25.9,25.9,37.2,24.4,24.4,7.0,12.8,23.2,7.9,6.5,7.9,16.7,17.5,27.8,25.7,18.4,22.2,11.1,9.9,12.5,12.9,20.5,11.3,7.0,12.1,7.1,49.5,23.0,23.7,16.45,16.3,18.5,26.5,78.0,78.0,78.0,27.3,217.5,64.9,48.7,59.4,48.7,105.0,105.0,55.6,9.3,19.8,45.0,112.0,86.8,62.1,22.5,7.5,52.6,45.0,67.0,59.9,59.9,65.0,15.2,19.0,11.1,18.0,22.8,19.5,28.8,16.1,24.2,35.3,10.7,12.7,17.1,24.0,39.0,13.2,23.6,15.5,16.3,16.2,7.2,54.8,42.0,19.8,10.2,10.4,11.5,17.9,21.6,33.4,49.5,43.5,43.5,26.5,13.8,18.2,12.9,38.6,48.4,60.4,38.6,12.0,61.6,65.9,15.2,24.6,48.8,34.3,36.3,57.7,38.0,58.0,58.0,30.8,92.0,27.5,34.7,59.6,83.7,30.5,38.6,18.0,63.4,124.8,19.2,19.2,56.4,38.4,27.8,71.3,71.3,25.0,10.3,28.0,44.6,13.0,12.7,6.5,17.5,29.9,44.5,29.4,16.9,19.8,10.3,10.8,31.7,25.0,57.6,13.7,7.1,14.9,11.0,14.6,10.7,73.3,42.1,57.0,24.5,10.1,42.2,13.1,19.5,12.9,35.6,175.0,35.6,33.6,34.4,38.4,29.7,32.8,5.7,5.8,5.8,21.7,23.0,12.5,17.2,40.2,24.0,23.8,17.1,25.0,17.4,27.3,17.9,24.0,16.6,16.9,57.6,63.5,56.0,63.5,41.2,55.0,57.0,19.3,19.0,191.3,26.6,15.4,24.7,28.1,18.25,35.1,27.3,18.8,43.9,19.8,17.7,57.0,36.0,36.0,93.0,122.0,114.0,48.5,49.5,14.1,59.9,46.0,74.5,17.2,8.7,15.4,12.7,30.0,13.5,16.3,56.3,71.5,69.0,17.9,48.5,71.7,8.5,10.9,21.8,38.5,9.3,13.6,24.5,12.6,13.4,29.8,36.9,40.7,33.2,34.8,74.8,62.4,46.0,39.2,135.0,10.6,10.6,5.2,46.0,105.6,116.4,31.0,20.2,25.2,25.2,115.0,121.0,99.0,115.0,121.0,23.5,26.4,26.7,20.4,20.4,40.2,9.0,45.9,10.4,78.0,40.5,27.9,22.4,28.4,72.0,29.0,29.2,44.0,68.3,41.8,40.0,13.5,19.0,24.4,32.8,15.4,9.9,13.5,51.0,35.2,42.2,33.2,41.8,32.2,37.7,47.2,52.7,22.4,50.4,35.6,27.7,48.5,15.4,46.5,46.5,46.5,42.0,21.8,50.5,49.9,19.0,8.4,27.5,69.0,16.3],\"y0\":\" \",\"yaxis\":\"y\",\"type\":\"box\"}],                        {\"template\":{\"data\":{\"histogram2dcontour\":[{\"type\":\"histogram2dcontour\",\"colorbar\":{\"outlinewidth\":0,\"ticks\":\"\"},\"colorscale\":[[0.0,\"#0d0887\"],[0.1111111111111111,\"#46039f\"],[0.2222222222222222,\"#7201a8\"],[0.3333333333333333,\"#9c179e\"],[0.4444444444444444,\"#bd3786\"],[0.5555555555555556,\"#d8576b\"],[0.6666666666666666,\"#ed7953\"],[0.7777777777777778,\"#fb9f3a\"],[0.8888888888888888,\"#fdca26\"],[1.0,\"#f0f921\"]]}],\"choropleth\":[{\"type\":\"choropleth\",\"colorbar\":{\"outlinewidth\":0,\"ticks\":\"\"}}],\"histogram2d\":[{\"type\":\"histogram2d\",\"colorbar\":{\"outlinewidth\":0,\"ticks\":\"\"},\"colorscale\":[[0.0,\"#0d0887\"],[0.1111111111111111,\"#46039f\"],[0.2222222222222222,\"#7201a8\"],[0.3333333333333333,\"#9c179e\"],[0.4444444444444444,\"#bd3786\"],[0.5555555555555556,\"#d8576b\"],[0.6666666666666666,\"#ed7953\"],[0.7777777777777778,\"#fb9f3a\"],[0.8888888888888888,\"#fdca26\"],[1.0,\"#f0f921\"]]}],\"heatmap\":[{\"type\":\"heatmap\",\"colorbar\":{\"outlinewidth\":0,\"ticks\":\"\"},\"colorscale\":[[0.0,\"#0d0887\"],[0.1111111111111111,\"#46039f\"],[0.2222222222222222,\"#7201a8\"],[0.3333333333333333,\"#9c179e\"],[0.4444444444444444,\"#bd3786\"],[0.5555555555555556,\"#d8576b\"],[0.6666666666666666,\"#ed7953\"],[0.7777777777777778,\"#fb9f3a\"],[0.8888888888888888,\"#fdca26\"],[1.0,\"#f0f921\"]]}],\"heatmapgl\":[{\"type\":\"heatmapgl\",\"colorbar\":{\"outlinewidth\":0,\"ticks\":\"\"},\"colorscale\":[[0.0,\"#0d0887\"],[0.1111111111111111,\"#46039f\"],[0.2222222222222222,\"#7201a8\"],[0.3333333333333333,\"#9c179e\"],[0.4444444444444444,\"#bd3786\"],[0.5555555555555556,\"#d8576b\"],[0.6666666666666666,\"#ed7953\"],[0.7777777777777778,\"#fb9f3a\"],[0.8888888888888888,\"#fdca26\"],[1.0,\"#f0f921\"]]}],\"contourcarpet\":[{\"type\":\"contourcarpet\",\"colorbar\":{\"outlinewidth\":0,\"ticks\":\"\"}}],\"contour\":[{\"type\":\"contour\",\"colorbar\":{\"outlinewidth\":0,\"ticks\":\"\"},\"colorscale\":[[0.0,\"#0d0887\"],[0.1111111111111111,\"#46039f\"],[0.2222222222222222,\"#7201a8\"],[0.3333333333333333,\"#9c179e\"],[0.4444444444444444,\"#bd3786\"],[0.5555555555555556,\"#d8576b\"],[0.6666666666666666,\"#ed7953\"],[0.7777777777777778,\"#fb9f3a\"],[0.8888888888888888,\"#fdca26\"],[1.0,\"#f0f921\"]]}],\"surface\":[{\"type\":\"surface\",\"colorbar\":{\"outlinewidth\":0,\"ticks\":\"\"},\"colorscale\":[[0.0,\"#0d0887\"],[0.1111111111111111,\"#46039f\"],[0.2222222222222222,\"#7201a8\"],[0.3333333333333333,\"#9c179e\"],[0.4444444444444444,\"#bd3786\"],[0.5555555555555556,\"#d8576b\"],[0.6666666666666666,\"#ed7953\"],[0.7777777777777778,\"#fb9f3a\"],[0.8888888888888888,\"#fdca26\"],[1.0,\"#f0f921\"]]}],\"mesh3d\":[{\"type\":\"mesh3d\",\"colorbar\":{\"outlinewidth\":0,\"ticks\":\"\"}}],\"scatter\":[{\"fillpattern\":{\"fillmode\":\"overlay\",\"size\":10,\"solidity\":0.2},\"type\":\"scatter\"}],\"parcoords\":[{\"type\":\"parcoords\",\"line\":{\"colorbar\":{\"outlinewidth\":0,\"ticks\":\"\"}}}],\"scatterpolargl\":[{\"type\":\"scatterpolargl\",\"marker\":{\"colorbar\":{\"outlinewidth\":0,\"ticks\":\"\"}}}],\"bar\":[{\"error_x\":{\"color\":\"#2a3f5f\"},\"error_y\":{\"color\":\"#2a3f5f\"},\"marker\":{\"line\":{\"color\":\"#E5ECF6\",\"width\":0.5},\"pattern\":{\"fillmode\":\"overlay\",\"size\":10,\"solidity\":0.2}},\"type\":\"bar\"}],\"scattergeo\":[{\"type\":\"scattergeo\",\"marker\":{\"colorbar\":{\"outlinewidth\":0,\"ticks\":\"\"}}}],\"scatterpolar\":[{\"type\":\"scatterpolar\",\"marker\":{\"colorbar\":{\"outlinewidth\":0,\"ticks\":\"\"}}}],\"histogram\":[{\"marker\":{\"pattern\":{\"fillmode\":\"overlay\",\"size\":10,\"solidity\":0.2}},\"type\":\"histogram\"}],\"scattergl\":[{\"type\":\"scattergl\",\"marker\":{\"colorbar\":{\"outlinewidth\":0,\"ticks\":\"\"}}}],\"scatter3d\":[{\"type\":\"scatter3d\",\"line\":{\"colorbar\":{\"outlinewidth\":0,\"ticks\":\"\"}},\"marker\":{\"colorbar\":{\"outlinewidth\":0,\"ticks\":\"\"}}}],\"scattermapbox\":[{\"type\":\"scattermapbox\",\"marker\":{\"colorbar\":{\"outlinewidth\":0,\"ticks\":\"\"}}}],\"scatterternary\":[{\"type\":\"scatterternary\",\"marker\":{\"colorbar\":{\"outlinewidth\":0,\"ticks\":\"\"}}}],\"scattercarpet\":[{\"type\":\"scattercarpet\",\"marker\":{\"colorbar\":{\"outlinewidth\":0,\"ticks\":\"\"}}}],\"carpet\":[{\"aaxis\":{\"endlinecolor\":\"#2a3f5f\",\"gridcolor\":\"white\",\"linecolor\":\"white\",\"minorgridcolor\":\"white\",\"startlinecolor\":\"#2a3f5f\"},\"baxis\":{\"endlinecolor\":\"#2a3f5f\",\"gridcolor\":\"white\",\"linecolor\":\"white\",\"minorgridcolor\":\"white\",\"startlinecolor\":\"#2a3f5f\"},\"type\":\"carpet\"}],\"table\":[{\"cells\":{\"fill\":{\"color\":\"#EBF0F8\"},\"line\":{\"color\":\"white\"}},\"header\":{\"fill\":{\"color\":\"#C8D4E3\"},\"line\":{\"color\":\"white\"}},\"type\":\"table\"}],\"barpolar\":[{\"marker\":{\"line\":{\"color\":\"#E5ECF6\",\"width\":0.5},\"pattern\":{\"fillmode\":\"overlay\",\"size\":10,\"solidity\":0.2}},\"type\":\"barpolar\"}],\"pie\":[{\"automargin\":true,\"type\":\"pie\"}]},\"layout\":{\"autotypenumbers\":\"strict\",\"colorway\":[\"#636efa\",\"#EF553B\",\"#00cc96\",\"#ab63fa\",\"#FFA15A\",\"#19d3f3\",\"#FF6692\",\"#B6E880\",\"#FF97FF\",\"#FECB52\"],\"font\":{\"color\":\"#2a3f5f\"},\"hovermode\":\"closest\",\"hoverlabel\":{\"align\":\"left\"},\"paper_bgcolor\":\"white\",\"plot_bgcolor\":\"#E5ECF6\",\"polar\":{\"bgcolor\":\"#E5ECF6\",\"angularaxis\":{\"gridcolor\":\"white\",\"linecolor\":\"white\",\"ticks\":\"\"},\"radialaxis\":{\"gridcolor\":\"white\",\"linecolor\":\"white\",\"ticks\":\"\"}},\"ternary\":{\"bgcolor\":\"#E5ECF6\",\"aaxis\":{\"gridcolor\":\"white\",\"linecolor\":\"white\",\"ticks\":\"\"},\"baxis\":{\"gridcolor\":\"white\",\"linecolor\":\"white\",\"ticks\":\"\"},\"caxis\":{\"gridcolor\":\"white\",\"linecolor\":\"white\",\"ticks\":\"\"}},\"coloraxis\":{\"colorbar\":{\"outlinewidth\":0,\"ticks\":\"\"}},\"colorscale\":{\"sequential\":[[0.0,\"#0d0887\"],[0.1111111111111111,\"#46039f\"],[0.2222222222222222,\"#7201a8\"],[0.3333333333333333,\"#9c179e\"],[0.4444444444444444,\"#bd3786\"],[0.5555555555555556,\"#d8576b\"],[0.6666666666666666,\"#ed7953\"],[0.7777777777777778,\"#fb9f3a\"],[0.8888888888888888,\"#fdca26\"],[1.0,\"#f0f921\"]],\"sequentialminus\":[[0.0,\"#0d0887\"],[0.1111111111111111,\"#46039f\"],[0.2222222222222222,\"#7201a8\"],[0.3333333333333333,\"#9c179e\"],[0.4444444444444444,\"#bd3786\"],[0.5555555555555556,\"#d8576b\"],[0.6666666666666666,\"#ed7953\"],[0.7777777777777778,\"#fb9f3a\"],[0.8888888888888888,\"#fdca26\"],[1.0,\"#f0f921\"]],\"diverging\":[[0,\"#8e0152\"],[0.1,\"#c51b7d\"],[0.2,\"#de77ae\"],[0.3,\"#f1b6da\"],[0.4,\"#fde0ef\"],[0.5,\"#f7f7f7\"],[0.6,\"#e6f5d0\"],[0.7,\"#b8e186\"],[0.8,\"#7fbc41\"],[0.9,\"#4d9221\"],[1,\"#276419\"]]},\"xaxis\":{\"gridcolor\":\"white\",\"linecolor\":\"white\",\"ticks\":\"\",\"title\":{\"standoff\":15},\"zerolinecolor\":\"white\",\"automargin\":true,\"zerolinewidth\":2},\"yaxis\":{\"gridcolor\":\"white\",\"linecolor\":\"white\",\"ticks\":\"\",\"title\":{\"standoff\":15},\"zerolinecolor\":\"white\",\"automargin\":true,\"zerolinewidth\":2},\"scene\":{\"xaxis\":{\"backgroundcolor\":\"#E5ECF6\",\"gridcolor\":\"white\",\"linecolor\":\"white\",\"showbackground\":true,\"ticks\":\"\",\"zerolinecolor\":\"white\",\"gridwidth\":2},\"yaxis\":{\"backgroundcolor\":\"#E5ECF6\",\"gridcolor\":\"white\",\"linecolor\":\"white\",\"showbackground\":true,\"ticks\":\"\",\"zerolinecolor\":\"white\",\"gridwidth\":2},\"zaxis\":{\"backgroundcolor\":\"#E5ECF6\",\"gridcolor\":\"white\",\"linecolor\":\"white\",\"showbackground\":true,\"ticks\":\"\",\"zerolinecolor\":\"white\",\"gridwidth\":2}},\"shapedefaults\":{\"line\":{\"color\":\"#2a3f5f\"}},\"annotationdefaults\":{\"arrowcolor\":\"#2a3f5f\",\"arrowhead\":0,\"arrowwidth\":1},\"geo\":{\"bgcolor\":\"white\",\"landcolor\":\"#E5ECF6\",\"subunitcolor\":\"white\",\"showland\":true,\"showlakes\":true,\"lakecolor\":\"white\"},\"title\":{\"x\":0.05},\"mapbox\":{\"style\":\"light\"}}},\"xaxis\":{\"anchor\":\"y\",\"domain\":[0.0,1.0]},\"yaxis\":{\"anchor\":\"x\",\"domain\":[0.0,1.0],\"title\":{\"text\":\"price\"}},\"legend\":{\"tracegroupgap\":0},\"margin\":{\"t\":60},\"boxmode\":\"group\"},                        {\"responsive\": true}                    ).then(function(){\n",
       "                            \n",
       "var gd = document.getElementById('8248ca33-8c71-4e6c-9362-982ffd2f9559');\n",
       "var x = new MutationObserver(function (mutations, observer) {{\n",
       "        var display = window.getComputedStyle(gd).display;\n",
       "        if (!display || display === 'none') {{\n",
       "            console.log([gd, 'removed!']);\n",
       "            Plotly.purge(gd);\n",
       "            observer.disconnect();\n",
       "        }}\n",
       "}});\n",
       "\n",
       "// Listen for the removal of the full notebook cells\n",
       "var notebookContainer = gd.closest('#notebook-container');\n",
       "if (notebookContainer) {{\n",
       "    x.observe(notebookContainer, {childList: true});\n",
       "}}\n",
       "\n",
       "// Listen for the clearing of the current output cell\n",
       "var outputEl = gd.closest('.output');\n",
       "if (outputEl) {{\n",
       "    x.observe(outputEl, {childList: true});\n",
       "}}\n",
       "\n",
       "                        })                };                });            </script>        </div>"
      ]
     },
     "metadata": {},
     "output_type": "display_data"
    }
   ],
   "source": [
    "#Autre méthode avec plotly express\n",
    "# Créer une boîte à moustaches de la répartition des prix\n",
    "fig = px.box(df_final, y='price')\n",
    "\n",
    "# Afficher la figure\n",
    "fig.show()\n"
   ]
  },
  {
   "cell_type": "markdown",
   "id": "79e2f2eb",
   "metadata": {},
   "source": [
    "<div style=\"border: 1px solid RGB(51,165,182);\" >\n",
    "<h3 style=\"margin: auto; padding: 20px; color: RGB(51,165,182); \">Etape 4.2 - Exploration par l'utilisation de méthodes statistique</h3>\n",
    "</div>"
   ]
  },
  {
   "cell_type": "markdown",
   "id": "0735c3b2",
   "metadata": {},
   "source": [
    "<div style=\"border: 1px solid RGB(51,165,182);\" >\n",
    "<h3 style=\"margin: auto; padding: 20px; color: RGB(51,165,182); \">Etape 4.2.1 - Identification par le Z-index</h3>\n",
    "</div>"
   ]
  },
  {
   "cell_type": "code",
   "execution_count": 8699,
   "id": "1950ef8d",
   "metadata": {},
   "outputs": [
    {
     "name": "stdout",
     "output_type": "stream",
     "text": [
      "La moyenne du prix est : 32.187696969696965\n",
      "L'écart-type du prix est : 26.712076775505285\n",
      "Les Z-scores sont :\n",
      " 0      0.299029\n",
      "1      0.079077\n",
      "2      0.426313\n",
      "3      0.677136\n",
      "4      0.517081\n",
      "         ...   \n",
      "820    0.479645\n",
      "821    0.479645\n",
      "822    0.846520\n",
      "823    0.212926\n",
      "824    0.594776\n",
      "Name: z_score, Length: 825, dtype: float64\n"
     ]
    }
   ],
   "source": [
    "# Calculer la moyenne du prix\n",
    "moyenne_prix = df_erp['price'].mean()\n",
    "print(\"La moyenne du prix est :\", moyenne_prix)\n",
    "\n",
    "\n",
    "# Calculer l'écart-type du prix\n",
    "ecart_type_prix = df_erp['price'].std()\n",
    "print(\"L'écart-type du prix est :\", ecart_type_prix)\n",
    "\n",
    "# Calculer le Z-score\n",
    "df_erp['z_score'] = np.abs((df_erp['price'] - moyenne_prix) / ecart_type_prix)\n",
    "print(\"Les Z-scores sont :\\n\", df_erp['z_score'])"
   ]
  },
  {
   "cell_type": "code",
   "execution_count": 8700,
   "id": "d55dd4dc-c416-4573-9667-30e6c2228f9f",
   "metadata": {},
   "outputs": [
    {
     "name": "stdout",
     "output_type": "stream",
     "text": [
      "Le seuil de prix pour un Z-score de 3 est : 112.32392729621282\n"
     ]
    }
   ],
   "source": [
    "# Calculer le seuil de prix pour un Z-score de 3\n",
    "seuil_prix = moyenne_prix + 3 * ecart_type_prix\n",
    "\n",
    "# Afficher le seuil de prix\n",
    "print(\"Le seuil de prix pour un Z-score de 3 est :\", seuil_prix)"
   ]
  },
  {
   "cell_type": "code",
   "execution_count": 8701,
   "id": "9c2f435f",
   "metadata": {},
   "outputs": [
    {
     "name": "stdout",
     "output_type": "stream",
     "text": [
      "     product_id  price  z_score\n",
      "208        4352  225.0     7.22\n",
      "227        4402  176.0     5.38\n",
      "230        4406  157.0     4.67\n",
      "242        4594  144.0     4.19\n",
      "411        4904  137.0     3.92\n",
      "460        5001  217.5     6.94\n",
      "556        5612  124.8     3.47\n",
      "598        5767  175.0     5.35\n",
      "635        5892  191.3     5.96\n",
      "651        5917  122.0     3.36\n",
      "652        5918  114.0     3.06\n",
      "697        6126  135.0     3.85\n",
      "703        6202  116.4     3.15\n",
      "708        6212  115.0     3.10\n",
      "709        6213  121.0     3.32\n",
      "711        6215  115.0     3.10\n",
      "712        6216  121.0     3.32\n"
     ]
    }
   ],
   "source": [
    "from scipy import stats\n",
    "\n",
    "# Calculer la moyenne du prix\n",
    "moyenne_prix = df_erp['price'].mean()\n",
    "\n",
    "# Calculer l'écart-type du prix\n",
    "ecart_type_prix = df_erp['price'].std()\n",
    "\n",
    "# Calculer le Z-score pour chaque prix et l'ajouter au DataFrame\n",
    "df_erp['z_score'] = ((df_erp['price'] - moyenne_prix) / ecart_type_prix).round(2)\n",
    "\n",
    "# Filtrer le DataFrame pour obtenir les lignes où le z-score est supérieur à 3\n",
    "df_outliers = df_erp[df_erp['z_score'] > 3]\n",
    "\n",
    "# Afficher les prix dont le z-score > 3\n",
    "print(df_outliers[['product_id', 'price', 'z_score']])"
   ]
  },
  {
   "cell_type": "markdown",
   "id": "750f54f3",
   "metadata": {},
   "source": [
    "<div style=\"border: 1px solid RGB(51,165,182);\" >\n",
    "<h3 style=\"margin: auto; padding: 20px; color: RGB(51,165,182); \">Etape 4.2.2 - Identification par l'interval interquartile</h3>\n",
    "</div>"
   ]
  },
  {
   "cell_type": "code",
   "execution_count": 8702,
   "id": "ecf90979-7f71-4e16-a52e-e3f3df0ceb67",
   "metadata": {},
   "outputs": [
    {
     "name": "stdout",
     "output_type": "stream",
     "text": [
      "count    985.00\n",
      "mean      32.56\n",
      "std       26.01\n",
      "min      -20.00\n",
      "25%       15.50\n",
      "50%       26.50\n",
      "75%       42.60\n",
      "max      225.00\n",
      "Name: price, dtype: float64\n"
     ]
    }
   ],
   "source": [
    "#Utilisation de la fonction describe de Pandas pour l'etude des mesures de dispersions\n",
    "# Utilisation de la fonction describe de pandas\n",
    "description = df_final['price'].describe().round(2)\n",
    "print (description)"
   ]
  },
  {
   "cell_type": "code",
   "execution_count": null,
   "id": "6e190087-341a-42a2-9709-9c578b4e8db7",
   "metadata": {},
   "outputs": [],
   "source": []
  },
  {
   "cell_type": "code",
   "execution_count": 8703,
   "id": "7ca501e9-5210-4b32-a229-46015b433998",
   "metadata": {},
   "outputs": [],
   "source": [
    "# Sélectionner uniquement les colonnes numériques\n",
    "df_final_numeric = df_final.select_dtypes(include=[np.number])\n",
    "\n",
    "# Calculer Q1, Q3 et l'IQR pour chaque colonne de df_final_numeric\n",
    "Q1 = df_final_numeric.quantile(0.25)\n",
    "Q3 = df_final_numeric.quantile(0.75)\n",
    "IQR = Q3 - Q1\n",
    "\n",
    "# Ajouter une colonne 'outliers' qui indique si chaque ligne est une valeur aberrante\n",
    "df_final['outliers'] = ((df_final_numeric < (Q1 - 1.5 * IQR)) | (df_final_numeric > (Q3 + 1.5 * IQR))).any(axis=1)\n",
    "\n"
   ]
  },
  {
   "cell_type": "code",
   "execution_count": 8704,
   "id": "a458ca14",
   "metadata": {},
   "outputs": [
    {
     "name": "stdout",
     "output_type": "stream",
     "text": [
      "-26.75\n",
      "83.25\n"
     ]
    }
   ],
   "source": [
    "#Définissez un seuil pour les articles \"outliers\" en prix\n",
    "# Calculer Q1, Q3 et IQR\n",
    "Q1 = df_erp['price'].quantile(0.25)\n",
    "Q3 = df_erp['price'].quantile(0.75)\n",
    "IQR = Q3 - Q1\n",
    "\n",
    "# Définir les seuils pour les valeurs aberrantes\n",
    "seuil_inf = Q1 - 1.5 * IQR\n",
    "seuil_sup = Q3 + 1.5 * IQR\n",
    "\n",
    "\n",
    "print( seuil_inf)\n",
    "print( seuil_sup)"
   ]
  },
  {
   "cell_type": "code",
   "execution_count": 8705,
   "id": "7d05cde7",
   "metadata": {},
   "outputs": [
    {
     "name": "stdout",
     "output_type": "stream",
     "text": [
      "Nombre d'articles au dessus du seuil des outliers: 36\n",
      "Pourcentage d'articles au-dessus du seuil des outliers : 4.0%\n"
     ]
    }
   ],
   "source": [
    "#Définissez le nombre d'articles et la proportion de l'ensemble du catalogue \"outliers\"\n",
    "# Calculer le nombre d'outliers\n",
    "nb_outliers = df_erp[(df_erp['price'] < seuil_inf) | (df_erp['price'] > seuil_sup)].shape[0]\n",
    "print(\"Nombre d'articles au dessus du seuil des outliers:\", nb_outliers)\n",
    "\n",
    "\n",
    "# Calculer la proportion d'outliers en pourcentage\n",
    "import math\n",
    "\n",
    "# Calculer le nombre total d'articles\n",
    "nb_total = df_erp.shape[0]\n",
    "\n",
    "# Calculer le nombre d'articles dont le prix est supérieur au seuil\n",
    "nb_outliers = df_erp[df_erp['price'] > seuil_sup].shape[0]\n",
    "\n",
    "# Calculer la proportion en pourcentage\n",
    "pourcentage_outliers = (nb_outliers / nb_total) * 100\n",
    "\n",
    "# Arrondir à l'entier inférieur\n",
    "pourcentage_outliers = math.floor(pourcentage_outliers)\n",
    "\n",
    "print(\"Pourcentage d'articles au-dessus du seuil des outliers : {:.1f}%\".format(pourcentage_outliers))\n",
    "\n",
    "\n",
    "\n",
    "\n"
   ]
  },
  {
   "cell_type": "code",
   "execution_count": 8706,
   "id": "06138432",
   "metadata": {},
   "outputs": [
    {
     "name": "stdout",
     "output_type": "stream",
     "text": [
      "Nombre d'articles dans df_final : 825\n"
     ]
    }
   ],
   "source": [
    "#Selon vous, ces outliers sont-ils justifiés ? Comment le démontrer si cela est possible ?\n",
    "nb_articles = df_erp['product_id'].shape[0]\n",
    "print(\"Nombre d'articles dans df_final :\", nb_articles)"
   ]
  },
  {
   "cell_type": "markdown",
   "id": "640da2c8",
   "metadata": {},
   "source": [
    "<div style=\"background-color: RGB(51,165,182);\" >\n",
    "<h2 style=\"margin: auto; padding: 20px; color:#fff; \">Etape 5 - Analyse univarié du CA, des quantités vendues, des stocks et de la marge ainsi qu'une analyse multivarié  </h2>\n",
    "</div>"
   ]
  },
  {
   "cell_type": "markdown",
   "id": "5871c808",
   "metadata": {},
   "source": [
    "<div style=\"border: 1px solid RGB(51,165,182);\" >\n",
    "<h3 style=\"margin: auto; padding: 20px; color: RGB(51,165,182); \">Etape 5.1 - Analyse des ventes en CA</h3>\n",
    "</div>"
   ]
  },
  {
   "cell_type": "code",
   "execution_count": 8707,
   "id": "a987cb61-2be9-4f29-8031-7be68cad0e9f",
   "metadata": {},
   "outputs": [
    {
     "name": "stdout",
     "output_type": "stream",
     "text": [
      "Nombre de lignes dans df_erp : 825\n"
     ]
    }
   ],
   "source": [
    "#nettoyer df_erp \n",
    "# Supprimer les doublons\n",
    "#df_erp = df_erp.drop_duplicates(subset=['product_id'])\n",
    "\n",
    "\n",
    "# Supprimer les NaN et les cellules vides\n",
    "#df_erp = df_erp.replace('', np.nan).dropna(subset=['product_id'])\n",
    "\n",
    "\n",
    "# Supprimer les cellules qui sont des chaînes de caractères\n",
    "# Pour 'product_id' dans df_erp\n",
    "#df_erp = df_erp[pd.to_numeric(df_erp['product_id'], errors='coerce').notnull()]\n",
    "\n",
    "\n",
    "# Nombre de lignes dans df_erp\n",
    "#num_rows_erp = df_erp.shape[0]\n",
    "print(\"Nombre de lignes dans df_erp :\", num_rows_erp)"
   ]
  },
  {
   "cell_type": "code",
   "execution_count": 8708,
   "id": "cffa5d36-6b30-4192-aaca-a02ca938c74b",
   "metadata": {},
   "outputs": [],
   "source": [
    "\n",
    "#nettoyer  df_web\n",
    "# Supprimer les doublons\n",
    "#df_web = df_web.drop_duplicates(subset=['sku'])\n",
    "\n",
    "# Supprimer les NaN et les cellules vides\n",
    "#df_web = df_web.replace('', np.nan).dropna(subset=['sku'])\n",
    "\n",
    "# Supprimer les NaN pour les colonnes spécifiques\n",
    "#df_web = df_web.dropna(subset=['sku'])\n",
    "\n",
    "# Supprimer les cellules qui sont des chaînes de caractères\n",
    "\n",
    "# Pour 'sku' dans df_web\n",
    "#df_web = df_web[pd.to_numeric(df_web['sku'], errors='coerce').notnull()]\n",
    "\n",
    "# Nombre de lignes dans df_web\n",
    "#num_rows_web = df_web.shape[0]\n",
    "#print(\"Nombre de lignes dans df_web :\", num_rows_web)\n",
    "\n"
   ]
  },
  {
   "cell_type": "code",
   "execution_count": 8709,
   "id": "487e8276-baf4-4550-8b22-571c88bc621e",
   "metadata": {},
   "outputs": [
    {
     "name": "stdout",
     "output_type": "stream",
     "text": [
      "Nombre de lignes uniques dans df_web basé sur 'sku' : 714\n"
     ]
    }
   ],
   "source": [
    "# Nombre de lignes uniques dans df_web basé sur 'sku'\n",
    "#num_unique_rows_web = df_web['sku'].nunique()\n",
    "print(\"Nombre de lignes uniques dans df_web basé sur 'sku' :\", num_unique_rows_web)"
   ]
  },
  {
   "cell_type": "code",
   "execution_count": 8710,
   "id": "b23e065c-8cdd-4ec1-b2d9-2e4a5917b528",
   "metadata": {},
   "outputs": [
    {
     "name": "stdout",
     "output_type": "stream",
     "text": [
      "Nombre de lignes dans df_liaison : 731\n"
     ]
    }
   ],
   "source": [
    "\n",
    "# Supprimer les doublons\n",
    "#df_liaison = df_liaison.drop_duplicates(subset=['id_web', 'product_id'])\n",
    "\n",
    "# Supprimer les NaN et les cellules vides\n",
    "#df_liaison = df_liaison.replace('', np.nan).dropna(subset=['id_web', 'product_id'])\n",
    "\n",
    "# Supprimer les cellules qui sont des chaînes de caractères\n",
    "# Pour 'product_id' dans df_liaison\n",
    "#df_liaison = df_liaison[pd.to_numeric(df_liaison['product_id'], errors='coerce').notnull()]\n",
    "\n",
    "# Pour 'id_web' dans df_liaison\n",
    "#df_liaison = df_liaison[pd.to_numeric(df_liaison['id_web'], errors='coerce').notnull()]\n",
    "# Nombre de lignes dans df_liaison\n",
    "#num_rows_liaison = df_liaison.shape[0]\n",
    "print(\"Nombre de lignes dans df_liaison :\", num_rows_liaison)"
   ]
  },
  {
   "cell_type": "code",
   "execution_count": 8711,
   "id": "417c55a0-c1cc-468d-8e86-47e5736b1157",
   "metadata": {},
   "outputs": [
    {
     "name": "stdout",
     "output_type": "stream",
     "text": [
      "Noms de colonnes de df_erp :\n",
      "Index(['product_id', 'onsale_web', 'price', 'stock_quantity', 'stock_status',\n",
      "       'purchase_price', 'stock_status_2', 'z_score'],\n",
      "      dtype='object')\n",
      "Noms de colonnes de df_liaison :\n",
      "Index(['id_web', 'product_id', 'sans_correspondance'], dtype='object')\n"
     ]
    }
   ],
   "source": [
    "# Afficher les noms de colonnes de df_erp\n",
    "print(\"Noms de colonnes de df_erp :\")\n",
    "print(df_erp.columns)\n",
    "\n",
    "# Afficher les noms de colonnes de df_liaison\n",
    "print(\"Noms de colonnes de df_liaison :\")\n",
    "print(df_liaison.columns)"
   ]
  },
  {
   "cell_type": "code",
   "execution_count": 8712,
   "id": "d338674d-80fd-4325-8b4a-635701266123",
   "metadata": {},
   "outputs": [
    {
     "data": {
      "text/html": [
       "<div>\n",
       "<style scoped>\n",
       "    .dataframe tbody tr th:only-of-type {\n",
       "        vertical-align: middle;\n",
       "    }\n",
       "\n",
       "    .dataframe tbody tr th {\n",
       "        vertical-align: top;\n",
       "    }\n",
       "\n",
       "    .dataframe thead th {\n",
       "        text-align: right;\n",
       "    }\n",
       "</style>\n",
       "<table border=\"1\" class=\"dataframe\">\n",
       "  <thead>\n",
       "    <tr style=\"text-align: right;\">\n",
       "      <th></th>\n",
       "      <th>product_id</th>\n",
       "      <th>onsale_web</th>\n",
       "      <th>price</th>\n",
       "      <th>stock_quantity</th>\n",
       "      <th>stock_status</th>\n",
       "      <th>purchase_price</th>\n",
       "      <th>stock_status_2</th>\n",
       "      <th>id_web</th>\n",
       "      <th>sans_correspondance</th>\n",
       "      <th>_merge</th>\n",
       "      <th>sku</th>\n",
       "      <th>virtual</th>\n",
       "      <th>total_sales</th>\n",
       "      <th>tax_status</th>\n",
       "      <th>post_author</th>\n",
       "      <th>post_date</th>\n",
       "      <th>product_type</th>\n",
       "      <th>post_title</th>\n",
       "      <th>post_status</th>\n",
       "      <th>post_name</th>\n",
       "      <th>post_type</th>\n",
       "      <th>post_mime_type</th>\n",
       "      <th>respecte_la_regle</th>\n",
       "      <th>outliers</th>\n",
       "    </tr>\n",
       "  </thead>\n",
       "  <tbody>\n",
       "    <tr>\n",
       "      <th>0</th>\n",
       "      <td>3847</td>\n",
       "      <td>1</td>\n",
       "      <td>24.2</td>\n",
       "      <td>16</td>\n",
       "      <td>instock</td>\n",
       "      <td>12.88</td>\n",
       "      <td>instock</td>\n",
       "      <td>15298</td>\n",
       "      <td>False</td>\n",
       "      <td>both</td>\n",
       "      <td>15298.0</td>\n",
       "      <td>0</td>\n",
       "      <td>6.0</td>\n",
       "      <td>taxable</td>\n",
       "      <td>2.0</td>\n",
       "      <td>2018-02-08 12:58:52</td>\n",
       "      <td>Vin</td>\n",
       "      <td>Pierre Jean Villa Saint-Joseph Préface 2018</td>\n",
       "      <td>publish</td>\n",
       "      <td>pierre-jean-villa-saint-joseph-preface-2018</td>\n",
       "      <td>product</td>\n",
       "      <td>NaN</td>\n",
       "      <td>True</td>\n",
       "      <td>False</td>\n",
       "    </tr>\n",
       "    <tr>\n",
       "      <th>1</th>\n",
       "      <td>3849</td>\n",
       "      <td>1</td>\n",
       "      <td>34.3</td>\n",
       "      <td>10</td>\n",
       "      <td>instock</td>\n",
       "      <td>17.54</td>\n",
       "      <td>instock</td>\n",
       "      <td>15296</td>\n",
       "      <td>False</td>\n",
       "      <td>both</td>\n",
       "      <td>15296.0</td>\n",
       "      <td>0</td>\n",
       "      <td>9.0</td>\n",
       "      <td>taxable</td>\n",
       "      <td>2.0</td>\n",
       "      <td>2018-02-08 13:49:41</td>\n",
       "      <td>Vin</td>\n",
       "      <td>Pierre Jean Villa Saint-Joseph Rouge Tildé 2017</td>\n",
       "      <td>publish</td>\n",
       "      <td>pierre-jean-villa-saint-joseph-tilde-2017</td>\n",
       "      <td>product</td>\n",
       "      <td>NaN</td>\n",
       "      <td>True</td>\n",
       "      <td>False</td>\n",
       "    </tr>\n",
       "    <tr>\n",
       "      <th>2</th>\n",
       "      <td>3850</td>\n",
       "      <td>1</td>\n",
       "      <td>20.8</td>\n",
       "      <td>0</td>\n",
       "      <td>outofstock</td>\n",
       "      <td>10.64</td>\n",
       "      <td>outofstock</td>\n",
       "      <td>15300</td>\n",
       "      <td>False</td>\n",
       "      <td>both</td>\n",
       "      <td>15300.0</td>\n",
       "      <td>0</td>\n",
       "      <td>0.0</td>\n",
       "      <td>NaN</td>\n",
       "      <td>2.0</td>\n",
       "      <td>2018-02-08 14:08:36</td>\n",
       "      <td>Vin</td>\n",
       "      <td>Pierre Jean Villa Crozes-Hermitage Accroche Co...</td>\n",
       "      <td>publish</td>\n",
       "      <td>pierre-jean-villa-croze-hermitage-accroche-coe...</td>\n",
       "      <td>attachment</td>\n",
       "      <td>image/jpeg</td>\n",
       "      <td>True</td>\n",
       "      <td>False</td>\n",
       "    </tr>\n",
       "    <tr>\n",
       "      <th>3</th>\n",
       "      <td>4032</td>\n",
       "      <td>1</td>\n",
       "      <td>14.1</td>\n",
       "      <td>26</td>\n",
       "      <td>instock</td>\n",
       "      <td>6.92</td>\n",
       "      <td>instock</td>\n",
       "      <td>19814</td>\n",
       "      <td>False</td>\n",
       "      <td>both</td>\n",
       "      <td>19814.0</td>\n",
       "      <td>0</td>\n",
       "      <td>12.0</td>\n",
       "      <td>NaN</td>\n",
       "      <td>2.0</td>\n",
       "      <td>2018-02-09 14:01:05</td>\n",
       "      <td>Vin</td>\n",
       "      <td>Pierre Jean Villa IGP Collines Rhodaniennes Ga...</td>\n",
       "      <td>publish</td>\n",
       "      <td>pierre-jean-villa-igp-gamine-2018</td>\n",
       "      <td>attachment</td>\n",
       "      <td>image/jpeg</td>\n",
       "      <td>True</td>\n",
       "      <td>True</td>\n",
       "    </tr>\n",
       "    <tr>\n",
       "      <th>4</th>\n",
       "      <td>4039</td>\n",
       "      <td>1</td>\n",
       "      <td>46.0</td>\n",
       "      <td>3</td>\n",
       "      <td>outofstock</td>\n",
       "      <td>23.77</td>\n",
       "      <td>outofstock</td>\n",
       "      <td>19815</td>\n",
       "      <td>False</td>\n",
       "      <td>both</td>\n",
       "      <td>19815.0</td>\n",
       "      <td>0</td>\n",
       "      <td>3.0</td>\n",
       "      <td>NaN</td>\n",
       "      <td>2.0</td>\n",
       "      <td>2018-02-12 09:04:37</td>\n",
       "      <td>Vin</td>\n",
       "      <td>Pierre Jean Villa Côte Rôtie Carmina 2017</td>\n",
       "      <td>publish</td>\n",
       "      <td>pierre-jean-villa-cote-rotie-carmina-2017</td>\n",
       "      <td>attachment</td>\n",
       "      <td>image/jpeg</td>\n",
       "      <td>True</td>\n",
       "      <td>True</td>\n",
       "    </tr>\n",
       "  </tbody>\n",
       "</table>\n",
       "</div>"
      ],
      "text/plain": [
       "   product_id  onsale_web  price  stock_quantity stock_status  purchase_price  \\\n",
       "0        3847           1   24.2              16      instock           12.88   \n",
       "1        3849           1   34.3              10      instock           17.54   \n",
       "2        3850           1   20.8               0   outofstock           10.64   \n",
       "3        4032           1   14.1              26      instock            6.92   \n",
       "4        4039           1   46.0               3   outofstock           23.77   \n",
       "\n",
       "  stock_status_2 id_web  sans_correspondance _merge      sku  virtual  \\\n",
       "0        instock  15298                False   both  15298.0        0   \n",
       "1        instock  15296                False   both  15296.0        0   \n",
       "2     outofstock  15300                False   both  15300.0        0   \n",
       "3        instock  19814                False   both  19814.0        0   \n",
       "4     outofstock  19815                False   both  19815.0        0   \n",
       "\n",
       "   total_sales tax_status  post_author           post_date product_type  \\\n",
       "0          6.0    taxable          2.0 2018-02-08 12:58:52          Vin   \n",
       "1          9.0    taxable          2.0 2018-02-08 13:49:41          Vin   \n",
       "2          0.0        NaN          2.0 2018-02-08 14:08:36          Vin   \n",
       "3         12.0        NaN          2.0 2018-02-09 14:01:05          Vin   \n",
       "4          3.0        NaN          2.0 2018-02-12 09:04:37          Vin   \n",
       "\n",
       "                                          post_title post_status  \\\n",
       "0        Pierre Jean Villa Saint-Joseph Préface 2018     publish   \n",
       "1    Pierre Jean Villa Saint-Joseph Rouge Tildé 2017     publish   \n",
       "2  Pierre Jean Villa Crozes-Hermitage Accroche Co...     publish   \n",
       "3  Pierre Jean Villa IGP Collines Rhodaniennes Ga...     publish   \n",
       "4          Pierre Jean Villa Côte Rôtie Carmina 2017     publish   \n",
       "\n",
       "                                           post_name   post_type  \\\n",
       "0        pierre-jean-villa-saint-joseph-preface-2018     product   \n",
       "1          pierre-jean-villa-saint-joseph-tilde-2017     product   \n",
       "2  pierre-jean-villa-croze-hermitage-accroche-coe...  attachment   \n",
       "3                  pierre-jean-villa-igp-gamine-2018  attachment   \n",
       "4          pierre-jean-villa-cote-rotie-carmina-2017  attachment   \n",
       "\n",
       "  post_mime_type  respecte_la_regle  outliers  \n",
       "0            NaN               True     False  \n",
       "1            NaN               True     False  \n",
       "2     image/jpeg               True     False  \n",
       "3     image/jpeg               True      True  \n",
       "4     image/jpeg               True      True  "
      ]
     },
     "execution_count": 8712,
     "metadata": {},
     "output_type": "execute_result"
    }
   ],
   "source": [
    "df_final.head()"
   ]
  },
  {
   "cell_type": "code",
   "execution_count": 8713,
   "id": "c5b04c45-3055-4d88-b543-218bdcba1568",
   "metadata": {},
   "outputs": [],
   "source": [
    "# Supprimer les doublons\n",
    "df_final = df_final.drop_duplicates()\n",
    "\n",
    "# Supprimer les valeurs NaN\n",
    "#df_final = df_final.dropna()"
   ]
  },
  {
   "cell_type": "code",
   "execution_count": 8714,
   "id": "df8c1d67-1b26-4555-b2e9-2bd2d27b393d",
   "metadata": {},
   "outputs": [
    {
     "data": {
      "text/html": [
       "<div>\n",
       "<style scoped>\n",
       "    .dataframe tbody tr th:only-of-type {\n",
       "        vertical-align: middle;\n",
       "    }\n",
       "\n",
       "    .dataframe tbody tr th {\n",
       "        vertical-align: top;\n",
       "    }\n",
       "\n",
       "    .dataframe thead th {\n",
       "        text-align: right;\n",
       "    }\n",
       "</style>\n",
       "<table border=\"1\" class=\"dataframe\">\n",
       "  <thead>\n",
       "    <tr style=\"text-align: right;\">\n",
       "      <th></th>\n",
       "      <th>product_id</th>\n",
       "      <th>onsale_web</th>\n",
       "      <th>price</th>\n",
       "      <th>stock_quantity</th>\n",
       "      <th>stock_status</th>\n",
       "      <th>purchase_price</th>\n",
       "      <th>stock_status_2</th>\n",
       "      <th>id_web</th>\n",
       "      <th>sans_correspondance</th>\n",
       "      <th>_merge</th>\n",
       "      <th>sku</th>\n",
       "      <th>virtual</th>\n",
       "      <th>total_sales</th>\n",
       "      <th>tax_status</th>\n",
       "      <th>post_author</th>\n",
       "      <th>post_date</th>\n",
       "      <th>product_type</th>\n",
       "      <th>post_title</th>\n",
       "      <th>post_status</th>\n",
       "      <th>post_name</th>\n",
       "      <th>post_type</th>\n",
       "      <th>post_mime_type</th>\n",
       "      <th>respecte_la_regle</th>\n",
       "      <th>outliers</th>\n",
       "    </tr>\n",
       "  </thead>\n",
       "  <tbody>\n",
       "    <tr>\n",
       "      <th>0</th>\n",
       "      <td>3847</td>\n",
       "      <td>1</td>\n",
       "      <td>24.2</td>\n",
       "      <td>16</td>\n",
       "      <td>instock</td>\n",
       "      <td>12.88</td>\n",
       "      <td>instock</td>\n",
       "      <td>15298</td>\n",
       "      <td>False</td>\n",
       "      <td>both</td>\n",
       "      <td>15298.0</td>\n",
       "      <td>0</td>\n",
       "      <td>6.0</td>\n",
       "      <td>taxable</td>\n",
       "      <td>2.0</td>\n",
       "      <td>2018-02-08 12:58:52</td>\n",
       "      <td>Vin</td>\n",
       "      <td>Pierre Jean Villa Saint-Joseph Préface 2018</td>\n",
       "      <td>publish</td>\n",
       "      <td>pierre-jean-villa-saint-joseph-preface-2018</td>\n",
       "      <td>product</td>\n",
       "      <td>NaN</td>\n",
       "      <td>True</td>\n",
       "      <td>False</td>\n",
       "    </tr>\n",
       "    <tr>\n",
       "      <th>1</th>\n",
       "      <td>3849</td>\n",
       "      <td>1</td>\n",
       "      <td>34.3</td>\n",
       "      <td>10</td>\n",
       "      <td>instock</td>\n",
       "      <td>17.54</td>\n",
       "      <td>instock</td>\n",
       "      <td>15296</td>\n",
       "      <td>False</td>\n",
       "      <td>both</td>\n",
       "      <td>15296.0</td>\n",
       "      <td>0</td>\n",
       "      <td>9.0</td>\n",
       "      <td>taxable</td>\n",
       "      <td>2.0</td>\n",
       "      <td>2018-02-08 13:49:41</td>\n",
       "      <td>Vin</td>\n",
       "      <td>Pierre Jean Villa Saint-Joseph Rouge Tildé 2017</td>\n",
       "      <td>publish</td>\n",
       "      <td>pierre-jean-villa-saint-joseph-tilde-2017</td>\n",
       "      <td>product</td>\n",
       "      <td>NaN</td>\n",
       "      <td>True</td>\n",
       "      <td>False</td>\n",
       "    </tr>\n",
       "    <tr>\n",
       "      <th>2</th>\n",
       "      <td>3850</td>\n",
       "      <td>1</td>\n",
       "      <td>20.8</td>\n",
       "      <td>0</td>\n",
       "      <td>outofstock</td>\n",
       "      <td>10.64</td>\n",
       "      <td>outofstock</td>\n",
       "      <td>15300</td>\n",
       "      <td>False</td>\n",
       "      <td>both</td>\n",
       "      <td>15300.0</td>\n",
       "      <td>0</td>\n",
       "      <td>0.0</td>\n",
       "      <td>NaN</td>\n",
       "      <td>2.0</td>\n",
       "      <td>2018-02-08 14:08:36</td>\n",
       "      <td>Vin</td>\n",
       "      <td>Pierre Jean Villa Crozes-Hermitage Accroche Co...</td>\n",
       "      <td>publish</td>\n",
       "      <td>pierre-jean-villa-croze-hermitage-accroche-coe...</td>\n",
       "      <td>attachment</td>\n",
       "      <td>image/jpeg</td>\n",
       "      <td>True</td>\n",
       "      <td>False</td>\n",
       "    </tr>\n",
       "    <tr>\n",
       "      <th>3</th>\n",
       "      <td>4032</td>\n",
       "      <td>1</td>\n",
       "      <td>14.1</td>\n",
       "      <td>26</td>\n",
       "      <td>instock</td>\n",
       "      <td>6.92</td>\n",
       "      <td>instock</td>\n",
       "      <td>19814</td>\n",
       "      <td>False</td>\n",
       "      <td>both</td>\n",
       "      <td>19814.0</td>\n",
       "      <td>0</td>\n",
       "      <td>12.0</td>\n",
       "      <td>NaN</td>\n",
       "      <td>2.0</td>\n",
       "      <td>2018-02-09 14:01:05</td>\n",
       "      <td>Vin</td>\n",
       "      <td>Pierre Jean Villa IGP Collines Rhodaniennes Ga...</td>\n",
       "      <td>publish</td>\n",
       "      <td>pierre-jean-villa-igp-gamine-2018</td>\n",
       "      <td>attachment</td>\n",
       "      <td>image/jpeg</td>\n",
       "      <td>True</td>\n",
       "      <td>True</td>\n",
       "    </tr>\n",
       "    <tr>\n",
       "      <th>4</th>\n",
       "      <td>4039</td>\n",
       "      <td>1</td>\n",
       "      <td>46.0</td>\n",
       "      <td>3</td>\n",
       "      <td>outofstock</td>\n",
       "      <td>23.77</td>\n",
       "      <td>outofstock</td>\n",
       "      <td>19815</td>\n",
       "      <td>False</td>\n",
       "      <td>both</td>\n",
       "      <td>19815.0</td>\n",
       "      <td>0</td>\n",
       "      <td>3.0</td>\n",
       "      <td>NaN</td>\n",
       "      <td>2.0</td>\n",
       "      <td>2018-02-12 09:04:37</td>\n",
       "      <td>Vin</td>\n",
       "      <td>Pierre Jean Villa Côte Rôtie Carmina 2017</td>\n",
       "      <td>publish</td>\n",
       "      <td>pierre-jean-villa-cote-rotie-carmina-2017</td>\n",
       "      <td>attachment</td>\n",
       "      <td>image/jpeg</td>\n",
       "      <td>True</td>\n",
       "      <td>True</td>\n",
       "    </tr>\n",
       "  </tbody>\n",
       "</table>\n",
       "</div>"
      ],
      "text/plain": [
       "   product_id  onsale_web  price  stock_quantity stock_status  purchase_price  \\\n",
       "0        3847           1   24.2              16      instock           12.88   \n",
       "1        3849           1   34.3              10      instock           17.54   \n",
       "2        3850           1   20.8               0   outofstock           10.64   \n",
       "3        4032           1   14.1              26      instock            6.92   \n",
       "4        4039           1   46.0               3   outofstock           23.77   \n",
       "\n",
       "  stock_status_2 id_web  sans_correspondance _merge      sku  virtual  \\\n",
       "0        instock  15298                False   both  15298.0        0   \n",
       "1        instock  15296                False   both  15296.0        0   \n",
       "2     outofstock  15300                False   both  15300.0        0   \n",
       "3        instock  19814                False   both  19814.0        0   \n",
       "4     outofstock  19815                False   both  19815.0        0   \n",
       "\n",
       "   total_sales tax_status  post_author           post_date product_type  \\\n",
       "0          6.0    taxable          2.0 2018-02-08 12:58:52          Vin   \n",
       "1          9.0    taxable          2.0 2018-02-08 13:49:41          Vin   \n",
       "2          0.0        NaN          2.0 2018-02-08 14:08:36          Vin   \n",
       "3         12.0        NaN          2.0 2018-02-09 14:01:05          Vin   \n",
       "4          3.0        NaN          2.0 2018-02-12 09:04:37          Vin   \n",
       "\n",
       "                                          post_title post_status  \\\n",
       "0        Pierre Jean Villa Saint-Joseph Préface 2018     publish   \n",
       "1    Pierre Jean Villa Saint-Joseph Rouge Tildé 2017     publish   \n",
       "2  Pierre Jean Villa Crozes-Hermitage Accroche Co...     publish   \n",
       "3  Pierre Jean Villa IGP Collines Rhodaniennes Ga...     publish   \n",
       "4          Pierre Jean Villa Côte Rôtie Carmina 2017     publish   \n",
       "\n",
       "                                           post_name   post_type  \\\n",
       "0        pierre-jean-villa-saint-joseph-preface-2018     product   \n",
       "1          pierre-jean-villa-saint-joseph-tilde-2017     product   \n",
       "2  pierre-jean-villa-croze-hermitage-accroche-coe...  attachment   \n",
       "3                  pierre-jean-villa-igp-gamine-2018  attachment   \n",
       "4          pierre-jean-villa-cote-rotie-carmina-2017  attachment   \n",
       "\n",
       "  post_mime_type  respecte_la_regle  outliers  \n",
       "0            NaN               True     False  \n",
       "1            NaN               True     False  \n",
       "2     image/jpeg               True     False  \n",
       "3     image/jpeg               True      True  \n",
       "4     image/jpeg               True      True  "
      ]
     },
     "execution_count": 8714,
     "metadata": {},
     "output_type": "execute_result"
    }
   ],
   "source": [
    "df_final.head()"
   ]
  },
  {
   "cell_type": "code",
   "execution_count": 8715,
   "id": "1d18f4f5-a4dd-456c-84ce-d714d8ad0784",
   "metadata": {},
   "outputs": [],
   "source": [
    "# Définir les seuils inférieur et supérieur pour la colonne 'price'\n",
    "Q1 = df_final['price'].quantile(0.25)\n",
    "Q3 = df_final['price'].quantile(0.75)\n",
    "IQR = Q3 - Q1\n",
    "\n",
    "seuil_inf = Q1 - 1.5 * IQR\n",
    "seuil_sup = Q3 + 1.5 * IQR\n",
    "\n",
    "# Supprimer les valeurs aberrantes de la colonne 'price'\n",
    "#df_final = df_final[(df_final['price'] >= seuil_inf) & (df_final['price'] <= seuil_sup)]"
   ]
  },
  {
   "cell_type": "code",
   "execution_count": 8716,
   "id": "ff992568-5be2-485d-ba17-f17b2cb7fd5f",
   "metadata": {},
   "outputs": [
    {
     "name": "stdout",
     "output_type": "stream",
     "text": [
      "Noms de colonnes de df_final :\n",
      "Index(['product_id', 'onsale_web', 'price', 'stock_quantity', 'stock_status',\n",
      "       'purchase_price', 'stock_status_2', 'id_web', 'sans_correspondance',\n",
      "       '_merge', 'sku', 'virtual', 'total_sales', 'tax_status', 'post_author',\n",
      "       'post_date', 'product_type', 'post_title', 'post_status', 'post_name',\n",
      "       'post_type', 'post_mime_type', 'respecte_la_regle', 'outliers'],\n",
      "      dtype='object')\n"
     ]
    },
    {
     "data": {
      "text/html": [
       "<div>\n",
       "<style scoped>\n",
       "    .dataframe tbody tr th:only-of-type {\n",
       "        vertical-align: middle;\n",
       "    }\n",
       "\n",
       "    .dataframe tbody tr th {\n",
       "        vertical-align: top;\n",
       "    }\n",
       "\n",
       "    .dataframe thead th {\n",
       "        text-align: right;\n",
       "    }\n",
       "</style>\n",
       "<table border=\"1\" class=\"dataframe\">\n",
       "  <thead>\n",
       "    <tr style=\"text-align: right;\">\n",
       "      <th></th>\n",
       "      <th>product_id</th>\n",
       "      <th>onsale_web</th>\n",
       "      <th>price</th>\n",
       "      <th>stock_quantity</th>\n",
       "      <th>stock_status</th>\n",
       "      <th>purchase_price</th>\n",
       "      <th>stock_status_2</th>\n",
       "      <th>id_web</th>\n",
       "      <th>sans_correspondance</th>\n",
       "      <th>_merge</th>\n",
       "      <th>sku</th>\n",
       "      <th>virtual</th>\n",
       "      <th>total_sales</th>\n",
       "      <th>tax_status</th>\n",
       "      <th>post_author</th>\n",
       "      <th>post_date</th>\n",
       "      <th>product_type</th>\n",
       "      <th>post_title</th>\n",
       "      <th>post_status</th>\n",
       "      <th>post_name</th>\n",
       "      <th>post_type</th>\n",
       "      <th>post_mime_type</th>\n",
       "      <th>respecte_la_regle</th>\n",
       "      <th>outliers</th>\n",
       "    </tr>\n",
       "  </thead>\n",
       "  <tbody>\n",
       "    <tr>\n",
       "      <th>0</th>\n",
       "      <td>3847</td>\n",
       "      <td>1</td>\n",
       "      <td>24.2</td>\n",
       "      <td>16</td>\n",
       "      <td>instock</td>\n",
       "      <td>12.88</td>\n",
       "      <td>instock</td>\n",
       "      <td>15298</td>\n",
       "      <td>False</td>\n",
       "      <td>both</td>\n",
       "      <td>15298.0</td>\n",
       "      <td>0</td>\n",
       "      <td>6.0</td>\n",
       "      <td>taxable</td>\n",
       "      <td>2.0</td>\n",
       "      <td>2018-02-08 12:58:52</td>\n",
       "      <td>Vin</td>\n",
       "      <td>Pierre Jean Villa Saint-Joseph Préface 2018</td>\n",
       "      <td>publish</td>\n",
       "      <td>pierre-jean-villa-saint-joseph-preface-2018</td>\n",
       "      <td>product</td>\n",
       "      <td>NaN</td>\n",
       "      <td>True</td>\n",
       "      <td>False</td>\n",
       "    </tr>\n",
       "    <tr>\n",
       "      <th>1</th>\n",
       "      <td>3849</td>\n",
       "      <td>1</td>\n",
       "      <td>34.3</td>\n",
       "      <td>10</td>\n",
       "      <td>instock</td>\n",
       "      <td>17.54</td>\n",
       "      <td>instock</td>\n",
       "      <td>15296</td>\n",
       "      <td>False</td>\n",
       "      <td>both</td>\n",
       "      <td>15296.0</td>\n",
       "      <td>0</td>\n",
       "      <td>9.0</td>\n",
       "      <td>taxable</td>\n",
       "      <td>2.0</td>\n",
       "      <td>2018-02-08 13:49:41</td>\n",
       "      <td>Vin</td>\n",
       "      <td>Pierre Jean Villa Saint-Joseph Rouge Tildé 2017</td>\n",
       "      <td>publish</td>\n",
       "      <td>pierre-jean-villa-saint-joseph-tilde-2017</td>\n",
       "      <td>product</td>\n",
       "      <td>NaN</td>\n",
       "      <td>True</td>\n",
       "      <td>False</td>\n",
       "    </tr>\n",
       "    <tr>\n",
       "      <th>2</th>\n",
       "      <td>3850</td>\n",
       "      <td>1</td>\n",
       "      <td>20.8</td>\n",
       "      <td>0</td>\n",
       "      <td>outofstock</td>\n",
       "      <td>10.64</td>\n",
       "      <td>outofstock</td>\n",
       "      <td>15300</td>\n",
       "      <td>False</td>\n",
       "      <td>both</td>\n",
       "      <td>15300.0</td>\n",
       "      <td>0</td>\n",
       "      <td>0.0</td>\n",
       "      <td>NaN</td>\n",
       "      <td>2.0</td>\n",
       "      <td>2018-02-08 14:08:36</td>\n",
       "      <td>Vin</td>\n",
       "      <td>Pierre Jean Villa Crozes-Hermitage Accroche Co...</td>\n",
       "      <td>publish</td>\n",
       "      <td>pierre-jean-villa-croze-hermitage-accroche-coe...</td>\n",
       "      <td>attachment</td>\n",
       "      <td>image/jpeg</td>\n",
       "      <td>True</td>\n",
       "      <td>False</td>\n",
       "    </tr>\n",
       "    <tr>\n",
       "      <th>3</th>\n",
       "      <td>4032</td>\n",
       "      <td>1</td>\n",
       "      <td>14.1</td>\n",
       "      <td>26</td>\n",
       "      <td>instock</td>\n",
       "      <td>6.92</td>\n",
       "      <td>instock</td>\n",
       "      <td>19814</td>\n",
       "      <td>False</td>\n",
       "      <td>both</td>\n",
       "      <td>19814.0</td>\n",
       "      <td>0</td>\n",
       "      <td>12.0</td>\n",
       "      <td>NaN</td>\n",
       "      <td>2.0</td>\n",
       "      <td>2018-02-09 14:01:05</td>\n",
       "      <td>Vin</td>\n",
       "      <td>Pierre Jean Villa IGP Collines Rhodaniennes Ga...</td>\n",
       "      <td>publish</td>\n",
       "      <td>pierre-jean-villa-igp-gamine-2018</td>\n",
       "      <td>attachment</td>\n",
       "      <td>image/jpeg</td>\n",
       "      <td>True</td>\n",
       "      <td>True</td>\n",
       "    </tr>\n",
       "    <tr>\n",
       "      <th>4</th>\n",
       "      <td>4039</td>\n",
       "      <td>1</td>\n",
       "      <td>46.0</td>\n",
       "      <td>3</td>\n",
       "      <td>outofstock</td>\n",
       "      <td>23.77</td>\n",
       "      <td>outofstock</td>\n",
       "      <td>19815</td>\n",
       "      <td>False</td>\n",
       "      <td>both</td>\n",
       "      <td>19815.0</td>\n",
       "      <td>0</td>\n",
       "      <td>3.0</td>\n",
       "      <td>NaN</td>\n",
       "      <td>2.0</td>\n",
       "      <td>2018-02-12 09:04:37</td>\n",
       "      <td>Vin</td>\n",
       "      <td>Pierre Jean Villa Côte Rôtie Carmina 2017</td>\n",
       "      <td>publish</td>\n",
       "      <td>pierre-jean-villa-cote-rotie-carmina-2017</td>\n",
       "      <td>attachment</td>\n",
       "      <td>image/jpeg</td>\n",
       "      <td>True</td>\n",
       "      <td>True</td>\n",
       "    </tr>\n",
       "  </tbody>\n",
       "</table>\n",
       "</div>"
      ],
      "text/plain": [
       "   product_id  onsale_web  price  stock_quantity stock_status  purchase_price  \\\n",
       "0        3847           1   24.2              16      instock           12.88   \n",
       "1        3849           1   34.3              10      instock           17.54   \n",
       "2        3850           1   20.8               0   outofstock           10.64   \n",
       "3        4032           1   14.1              26      instock            6.92   \n",
       "4        4039           1   46.0               3   outofstock           23.77   \n",
       "\n",
       "  stock_status_2 id_web  sans_correspondance _merge      sku  virtual  \\\n",
       "0        instock  15298                False   both  15298.0        0   \n",
       "1        instock  15296                False   both  15296.0        0   \n",
       "2     outofstock  15300                False   both  15300.0        0   \n",
       "3        instock  19814                False   both  19814.0        0   \n",
       "4     outofstock  19815                False   both  19815.0        0   \n",
       "\n",
       "   total_sales tax_status  post_author           post_date product_type  \\\n",
       "0          6.0    taxable          2.0 2018-02-08 12:58:52          Vin   \n",
       "1          9.0    taxable          2.0 2018-02-08 13:49:41          Vin   \n",
       "2          0.0        NaN          2.0 2018-02-08 14:08:36          Vin   \n",
       "3         12.0        NaN          2.0 2018-02-09 14:01:05          Vin   \n",
       "4          3.0        NaN          2.0 2018-02-12 09:04:37          Vin   \n",
       "\n",
       "                                          post_title post_status  \\\n",
       "0        Pierre Jean Villa Saint-Joseph Préface 2018     publish   \n",
       "1    Pierre Jean Villa Saint-Joseph Rouge Tildé 2017     publish   \n",
       "2  Pierre Jean Villa Crozes-Hermitage Accroche Co...     publish   \n",
       "3  Pierre Jean Villa IGP Collines Rhodaniennes Ga...     publish   \n",
       "4          Pierre Jean Villa Côte Rôtie Carmina 2017     publish   \n",
       "\n",
       "                                           post_name   post_type  \\\n",
       "0        pierre-jean-villa-saint-joseph-preface-2018     product   \n",
       "1          pierre-jean-villa-saint-joseph-tilde-2017     product   \n",
       "2  pierre-jean-villa-croze-hermitage-accroche-coe...  attachment   \n",
       "3                  pierre-jean-villa-igp-gamine-2018  attachment   \n",
       "4          pierre-jean-villa-cote-rotie-carmina-2017  attachment   \n",
       "\n",
       "  post_mime_type  respecte_la_regle  outliers  \n",
       "0            NaN               True     False  \n",
       "1            NaN               True     False  \n",
       "2     image/jpeg               True     False  \n",
       "3     image/jpeg               True      True  \n",
       "4     image/jpeg               True      True  "
      ]
     },
     "execution_count": 8716,
     "metadata": {},
     "output_type": "execute_result"
    }
   ],
   "source": [
    "# Afficher les noms de colonnes de df_final\n",
    "print(\"Noms de colonnes de df_final :\")\n",
    "print(df_final.columns)\n",
    "\n",
    "df_final.head()"
   ]
  },
  {
   "cell_type": "code",
   "execution_count": 8717,
   "id": "aa94ae65-dba2-4270-a054-720ed1ea051a",
   "metadata": {},
   "outputs": [
    {
     "name": "stdout",
     "output_type": "stream",
     "text": [
      "   product_id  onsale_web  price  stock_quantity stock_status  purchase_price  \\\n",
      "0        3847           1   24.2              16      instock           12.88   \n",
      "1        3849           1   34.3              10      instock           17.54   \n",
      "2        3850           1   20.8               0   outofstock           10.64   \n",
      "3        4032           1   14.1              26      instock            6.92   \n",
      "4        4039           1   46.0               3   outofstock           23.77   \n",
      "\n",
      "  stock_status_2 id_web  sans_correspondance _merge      sku  virtual  \\\n",
      "0        instock  15298                False   both  15298.0        0   \n",
      "1        instock  15296                False   both  15296.0        0   \n",
      "2     outofstock  15300                False   both  15300.0        0   \n",
      "3        instock  19814                False   both  19814.0        0   \n",
      "4     outofstock  19815                False   both  19815.0        0   \n",
      "\n",
      "   total_sales tax_status  post_author           post_date product_type  \\\n",
      "0          6.0    taxable          2.0 2018-02-08 12:58:52          Vin   \n",
      "1          9.0    taxable          2.0 2018-02-08 13:49:41          Vin   \n",
      "2          0.0        NaN          2.0 2018-02-08 14:08:36          Vin   \n",
      "3         12.0        NaN          2.0 2018-02-09 14:01:05          Vin   \n",
      "4          3.0        NaN          2.0 2018-02-12 09:04:37          Vin   \n",
      "\n",
      "                                          post_title post_status  \\\n",
      "0        Pierre Jean Villa Saint-Joseph Préface 2018     publish   \n",
      "1    Pierre Jean Villa Saint-Joseph Rouge Tildé 2017     publish   \n",
      "2  Pierre Jean Villa Crozes-Hermitage Accroche Co...     publish   \n",
      "3  Pierre Jean Villa IGP Collines Rhodaniennes Ga...     publish   \n",
      "4          Pierre Jean Villa Côte Rôtie Carmina 2017     publish   \n",
      "\n",
      "                                           post_name   post_type  \\\n",
      "0        pierre-jean-villa-saint-joseph-preface-2018     product   \n",
      "1          pierre-jean-villa-saint-joseph-tilde-2017     product   \n",
      "2  pierre-jean-villa-croze-hermitage-accroche-coe...  attachment   \n",
      "3                  pierre-jean-villa-igp-gamine-2018  attachment   \n",
      "4          pierre-jean-villa-cote-rotie-carmina-2017  attachment   \n",
      "\n",
      "  post_mime_type  respecte_la_regle  outliers  CA_par_article  \n",
      "0            NaN               True     False           145.2  \n",
      "1            NaN               True     False           308.7  \n",
      "2     image/jpeg               True     False             0.0  \n",
      "3     image/jpeg               True      True           169.2  \n",
      "4     image/jpeg               True      True           138.0  \n",
      "La somme de la colonne 'CA_par_article' avec le DataFrame filtré est : 156264.7\n"
     ]
    }
   ],
   "source": [
    "##############################\n",
    "# Calculer le CA su site web #\n",
    "##############################\n",
    "#df_final['CA_par_article']= df_final ['price']* df_final['total_sales']\n",
    "\n",
    "# Filtrer le DataFrame pour exclure les lignes où 'onsale_web' est égal à 0\n",
    "df_final_filtered = df_final[df_final['onsale_web'] != 0]\n",
    "\n",
    "# Création de la colonne 'CA_par_article' avec le DataFrame filtré\n",
    "df_final_filtered['CA_par_article'] = df_final_filtered['price'] * df_final_filtered['total_sales']\n",
    "\n",
    "# Afficher les premières lignes du DataFrame pour vérifier\n",
    "print(df_final_filtered.head())\n",
    "\n",
    "# Calcul de la somme de la colonne 'CA_par_article' avec le DataFrame filtré\n",
    "somme_CA_par_article = df_final_filtered['CA_par_article'].sum()\n",
    "\n",
    "print(f\"La somme de la colonne 'CA_par_article' avec le DataFrame filtré est : {somme_CA_par_article}\")"
   ]
  },
  {
   "cell_type": "code",
   "execution_count": 8718,
   "id": "d4e50858-a760-4879-bdd6-90a961273640",
   "metadata": {},
   "outputs": [],
   "source": [
    "#df_web = pd.read_excel(\"web.xlsx\")\n"
   ]
  },
  {
   "cell_type": "code",
   "execution_count": 8719,
   "id": "9d6ba961-1a60-463e-a7d1-d4b35e72a215",
   "metadata": {},
   "outputs": [
    {
     "name": "stdout",
     "output_type": "stream",
     "text": [
      "La somme de la colonne 'CA_par_article_web' est : 156264.7\n"
     ]
    }
   ],
   "source": [
    "#Ce résultat correspond au chiffre d'affaire du site web\n",
    "\n",
    "# Sélectionnez uniquement les produits vendus en ligne\n",
    "df_final_online = df_final[df_final['onsale_web']==1]\n",
    "\n",
    "# Création de la colonne 'CA_par_article_web'\n",
    "df_final['CA_par_article_web'] = df_final['price'] * df_final_online['total_sales']\n",
    "\n",
    "# Calcul de la somme de la colonne 'CA_par_article_web'\n",
    "somme_CA_par_article = df_final['CA_par_article_web'].sum()\n",
    "\n",
    "print(f\"La somme de la colonne 'CA_par_article_web' est : {somme_CA_par_article}\")"
   ]
  },
  {
   "cell_type": "code",
   "execution_count": 8720,
   "id": "9a2ef513-5c1f-4d04-a6d2-613752d8b5ce",
   "metadata": {},
   "outputs": [
    {
     "name": "stdout",
     "output_type": "stream",
     "text": [
      "Noms de colonnes de df_web :\n",
      "Index(['sku', 'virtual', 'total_sales', 'tax_status', 'post_author',\n",
      "       'post_date', 'product_type', 'post_title', 'post_status', 'post_name',\n",
      "       'post_type', 'post_mime_type', 'respecte_la_regle'],\n",
      "      dtype='object')\n"
     ]
    }
   ],
   "source": [
    "# Afficher les noms de colonnes de df_web\n",
    "print(\"Noms de colonnes de df_web :\")\n",
    "print(df_web.columns)"
   ]
  },
  {
   "cell_type": "code",
   "execution_count": 8721,
   "id": "4040ced7",
   "metadata": {},
   "outputs": [
    {
     "name": "stdout",
     "output_type": "stream",
     "text": [
      "Le palmarès des articles en termes de chiffre d'affaires est :\n",
      " total_sales\n",
      "7.0      36000.3\n",
      "4.0      22553.2\n",
      "6.0      14922.0\n",
      "9.0      14531.4\n",
      "8.0      14366.4\n",
      "10.0     12519.0\n",
      "5.0      11805.5\n",
      "11.0     11193.6\n",
      "12.0      8973.6\n",
      "13.0      7624.5\n",
      "3.0       7468.5\n",
      "116.0     6844.0\n",
      "14.0      3096.8\n",
      "2.0       2884.6\n",
      "15.0      2325.0\n",
      "22.0      1944.8\n",
      "122.0     1549.4\n",
      "111.0     1232.1\n",
      "20.0       928.0\n",
      "17.0       882.3\n",
      "1.0        880.1\n",
      "16.0       875.2\n",
      "24.0       357.6\n",
      "36.0       356.4\n",
      "27.0       267.3\n",
      "18.0       208.8\n",
      "0.0          0.0\n",
      "Name: CA_par_article, dtype: float64\n",
      "     product_id  onsale_web  price  stock_quantity stock_status  \\\n",
      "349        4150           1   59.0             123      instock   \n",
      "472        4352           1  225.0               0   outofstock   \n",
      "594        4726           1   12.7               0   outofstock   \n",
      "717        5067           1   59.9               3      instock   \n",
      "722        5379           1   11.1              33      instock   \n",
      "859        5892           1  191.3              98      instock   \n",
      "473        4353           1   79.5             127      instock   \n",
      "54         4594           1  144.0               0   outofstock   \n",
      "854        5826           1   41.2              34      instock   \n",
      "925        6212           1  115.0              16      instock   \n",
      "710        5026           1   86.8             101      instock   \n",
      "704        5008           1  105.0              12      instock   \n",
      "825        5767           1  175.0              12      instock   \n",
      "914        6126           1  135.0             138      instock   \n",
      "709        5025           1  112.0             136      instock   \n",
      "129        6324           0   92.0              18      instock   \n",
      "919        6201           1  105.6              16      instock   \n",
      "494        4406           1  157.0              12      instock   \n",
      "538        4647           1   28.5              45      instock   \n",
      "477        4358           1   77.0              81      instock   \n",
      "\n",
      "     purchase_price stock_status_2 id_web  sans_correspondance _merge  \\\n",
      "349           35.45        instock   1366                False   both   \n",
      "472          137.81     outofstock  15940                False   both   \n",
      "594            6.82     outofstock  14950                False   both   \n",
      "717           30.95        instock  15346                False   both   \n",
      "722            5.68        instock  14561                False   both   \n",
      "859          116.06        instock  14983                False   both   \n",
      "473           45.91        instock  12587                False   both   \n",
      "54            87.36     outofstock    NaN                 True   both   \n",
      "854           21.71        instock  15325                False   both   \n",
      "925           59.42        instock  13996                False   both   \n",
      "710           50.13        instock  13913                False   both   \n",
      "704           56.42        instock  11602                False   both   \n",
      "825           90.42        instock  15185                False   both   \n",
      "914           80.33        instock  14923                False   both   \n",
      "709           68.60        instock  13914                False   both   \n",
      "129           99.00        instock    NaN                 True   both   \n",
      "919           57.29        instock  14596                False   both   \n",
      "494           69.08        instock   7819                False   both   \n",
      "538           14.14        instock  16525                False   both   \n",
      "477           47.16        instock  13854                False   both   \n",
      "\n",
      "         sku  virtual  total_sales tax_status  post_author  \\\n",
      "349   1366.0        0        116.0        NaN          2.0   \n",
      "472  15940.0        0         11.0        NaN          2.0   \n",
      "594  14950.0        0        122.0        NaN          2.0   \n",
      "717  15346.0        0         22.0        NaN          2.0   \n",
      "722  14561.0        0        111.0        NaN          2.0   \n",
      "859  14983.0        0          6.0        NaN          2.0   \n",
      "473  12587.0        0         14.0    taxable          2.0   \n",
      "54       NaN        0          7.0        NaN          1.0   \n",
      "854  15325.0        0         20.0        NaN          2.0   \n",
      "925  13996.0        0          7.0        NaN          2.0   \n",
      "710  13913.0        0          9.0        NaN          2.0   \n",
      "704  11602.0        0          7.0    taxable          2.0   \n",
      "825  15185.0        0          4.0        NaN          2.0   \n",
      "914  14923.0        0          5.0    taxable          2.0   \n",
      "709  13914.0        0          6.0        NaN          2.0   \n",
      "129      NaN        0          7.0        NaN          1.0   \n",
      "919  14596.0        0          6.0    taxable          2.0   \n",
      "494   7819.0        0          4.0    taxable          2.0   \n",
      "538  16525.0        0         22.0    taxable          2.0   \n",
      "477  13854.0        0          8.0        NaN          2.0   \n",
      "\n",
      "              post_date product_type  \\\n",
      "349 2018-02-13 13:45:31    Champagne   \n",
      "472 2018-03-02 10:30:04    Champagne   \n",
      "594 2018-04-18 11:53:51          Vin   \n",
      "717 2018-07-31 11:49:05          Vin   \n",
      "722 2018-09-01 15:34:55          Vin   \n",
      "859 2019-03-28 10:21:36    Champagne   \n",
      "473 2018-03-02 10:37:26    Champagne   \n",
      "54  2018-06-01 13:53:46        Autre   \n",
      "854 2019-03-27 17:59:49          Vin   \n",
      "925 2019-07-25 09:09:17          Vin   \n",
      "710 2018-07-18 10:46:30    Champagne   \n",
      "704 2018-07-17 10:52:41          Vin   \n",
      "825 2019-03-13 14:43:22          Vin   \n",
      "914 2019-06-28 17:22:27    Champagne   \n",
      "709 2018-07-18 10:39:43    Champagne   \n",
      "129 2018-06-01 13:53:46        Autre   \n",
      "919 2019-07-23 10:37:14          Vin   \n",
      "494 2018-03-22 11:42:48       Cognac   \n",
      "538 2018-04-17 09:28:58          Vin   \n",
      "477 2018-03-02 11:03:30    Champagne   \n",
      "\n",
      "                                            post_title post_status  \\\n",
      "349       Champagne Mailly Grand Cru Intemporelle 2010     publish   \n",
      "472     Champagne Egly-Ouriet Grand Cru Millésimé 2008     publish   \n",
      "594           François Baur Pinot Noir Schlittweg 2017     publish   \n",
      "717                Albert Mann Pinot Noir Grand H 2017     publish   \n",
      "722            Argentine Mendoza Alamos Torrontes 2017     publish   \n",
      "859  Coteaux Champenois Egly-Ouriet Ambonnay Rouge ...     publish   \n",
      "473          Champagne Egly-Ouriet Grand Cru Brut Rosé     publish   \n",
      "54                                   Bon cadeau de 25€     publish   \n",
      "854              Agnès Levet Côte Rôtie Améthyste 2017     publish   \n",
      "925  Domaine des Comtes Lafon Volnay 1er Cru Santen...     publish   \n",
      "710  Champagne Agrapart &amp; Fils Minéral Extra Br...     publish   \n",
      "704  Domaine des Comtes Lafon Volnay 1er Cru Santen...     publish   \n",
      "825                Camille Giroud Clos de Vougeot 2016     publish   \n",
      "914             Champagne Gosset Célébris Vintage 2007     publish   \n",
      "709  Champagne Agrapart &amp; Fils L'Avizoise Extra...     publish   \n",
      "129                                  Bon cadeau de 25€     publish   \n",
      "919  David Duband Chambolle-Musigny 1er Cru Les Sen...     publish   \n",
      "494  Cognac Frapin Château de Fontpinot 1989 20 Ans...     publish   \n",
      "538  Bernard Baudry Chinon Rouge La Croix Boissée 2017     publish   \n",
      "477  Champagne Larmandier-Bernier Grand Cru Vieille...     publish   \n",
      "\n",
      "                                             post_name   post_type  \\\n",
      "349       champagne-mailly-grand-cru-intemporelle-2010  attachment   \n",
      "472     champagne-egly-ouriet-grand-cru-millesime-2008  attachment   \n",
      "594           francois-baur-pinot-noir-schlittweg-2017  attachment   \n",
      "717                albert-mann-pinot-noir-grand-h-2017  attachment   \n",
      "722            argentine-mendoza-alamos-torrontes-2017  attachment   \n",
      "859  coteaux-champenois-egly-ouriet-ambonnay-rouge-...  attachment   \n",
      "473          champagne-egly-ouriet-grand-cru-brut-rose     product   \n",
      "54                              bon-cadeau-de-25-euros  attachment   \n",
      "854                         agnes-levet-amethyste-2017  attachment   \n",
      "925  domaine-des-comtes-lafon-volnay-1er-cru-santen...  attachment   \n",
      "710  champagne-agrapart-fils-mineral-extra-brut-bla...  attachment   \n",
      "704  domaine-des-comtes-lafon-volnay-1er-cru-santen...     product   \n",
      "825                camille-giroud-clos-de-vougeot-2016  attachment   \n",
      "914             champagne-gosset-celebris-vintage-2007     product   \n",
      "709  champagne-agrapart-fils-lavizoise-grand-cru-20...  attachment   \n",
      "129                             bon-cadeau-de-25-euros  attachment   \n",
      "919  david-duband-chambolle-musigny-1er-cru-les-sen...     product   \n",
      "494     cognac-frapin-chateau-de-fontpinot-1989-20-ans     product   \n",
      "538     bernard-baudry-chinon-rouge-croix-boissee-2017     product   \n",
      "477  champagne-larmandier-bernier-vieilles-vignes-l...  attachment   \n",
      "\n",
      "    post_mime_type  respecte_la_regle  outliers  CA_par_article_web  \\\n",
      "349     image/jpeg               True      True              6844.0   \n",
      "472     image/jpeg               True      True              2475.0   \n",
      "594     image/jpeg               True      True              1549.4   \n",
      "717     image/jpeg               True      True              1317.8   \n",
      "722     image/jpeg               True      True              1232.1   \n",
      "859     image/jpeg               True      True              1147.8   \n",
      "473            NaN               True      True              1113.0   \n",
      "54      image/jpeg               True      True              1008.0   \n",
      "854     image/jpeg               True      True               824.0   \n",
      "925     image/jpeg               True      True               805.0   \n",
      "710     image/jpeg               True      True               781.2   \n",
      "704            NaN               True      True               735.0   \n",
      "825     image/jpeg               True      True               700.0   \n",
      "914            NaN               True      True               675.0   \n",
      "709     image/jpeg               True      True               672.0   \n",
      "129     image/jpeg               True      True                 NaN   \n",
      "919            NaN               True      True               633.6   \n",
      "494            NaN               True      True               628.0   \n",
      "538            NaN               True      True               627.0   \n",
      "477     image/jpeg               True      True               616.0   \n",
      "\n",
      "     CA_par_article  \n",
      "349          6844.0  \n",
      "472          2475.0  \n",
      "594          1549.4  \n",
      "717          1317.8  \n",
      "722          1232.1  \n",
      "859          1147.8  \n",
      "473          1113.0  \n",
      "54           1008.0  \n",
      "854           824.0  \n",
      "925           805.0  \n",
      "710           781.2  \n",
      "704           735.0  \n",
      "825           700.0  \n",
      "914           675.0  \n",
      "709           672.0  \n",
      "129           644.0  \n",
      "919           633.6  \n",
      "494           628.0  \n",
      "538           627.0  \n",
      "477           616.0  \n"
     ]
    },
    {
     "data": {
      "application/vnd.plotly.v1+json": {
       "config": {
        "plotlyServerURL": "https://plot.ly"
       },
       "data": [
        {
         "alignmentgroup": "True",
         "hovertemplate": "product_id=%{x}<br>CA_par_article=%{y}<extra></extra>",
         "legendgroup": "",
         "marker": {
          "color": "#636efa",
          "pattern": {
           "shape": ""
          }
         },
         "name": "",
         "offsetgroup": "",
         "orientation": "v",
         "showlegend": false,
         "textposition": "auto",
         "type": "bar",
         "x": [
          4150,
          4352,
          4726,
          5067,
          5379,
          5892,
          4353,
          4594,
          5826,
          6212,
          5026,
          5008,
          5767,
          6126,
          5025,
          6324,
          6201,
          4406,
          4647,
          4358
         ],
         "xaxis": "x",
         "y": [
          6844,
          2475,
          1549.3999999999999,
          1317.8,
          1232.1,
          1147.8000000000002,
          1113,
          1008,
          824,
          805,
          781.1999999999999,
          735,
          700,
          675,
          672,
          644,
          633.5999999999999,
          628,
          627,
          616
         ],
         "yaxis": "y"
        }
       ],
       "layout": {
        "autosize": true,
        "barmode": "relative",
        "legend": {
         "tracegroupgap": 0
        },
        "template": {
         "data": {
          "bar": [
           {
            "error_x": {
             "color": "#2a3f5f"
            },
            "error_y": {
             "color": "#2a3f5f"
            },
            "marker": {
             "line": {
              "color": "#E5ECF6",
              "width": 0.5
             },
             "pattern": {
              "fillmode": "overlay",
              "size": 10,
              "solidity": 0.2
             }
            },
            "type": "bar"
           }
          ],
          "barpolar": [
           {
            "marker": {
             "line": {
              "color": "#E5ECF6",
              "width": 0.5
             },
             "pattern": {
              "fillmode": "overlay",
              "size": 10,
              "solidity": 0.2
             }
            },
            "type": "barpolar"
           }
          ],
          "carpet": [
           {
            "aaxis": {
             "endlinecolor": "#2a3f5f",
             "gridcolor": "white",
             "linecolor": "white",
             "minorgridcolor": "white",
             "startlinecolor": "#2a3f5f"
            },
            "baxis": {
             "endlinecolor": "#2a3f5f",
             "gridcolor": "white",
             "linecolor": "white",
             "minorgridcolor": "white",
             "startlinecolor": "#2a3f5f"
            },
            "type": "carpet"
           }
          ],
          "choropleth": [
           {
            "colorbar": {
             "outlinewidth": 0,
             "ticks": ""
            },
            "type": "choropleth"
           }
          ],
          "contour": [
           {
            "colorbar": {
             "outlinewidth": 0,
             "ticks": ""
            },
            "colorscale": [
             [
              0,
              "#0d0887"
             ],
             [
              0.1111111111111111,
              "#46039f"
             ],
             [
              0.2222222222222222,
              "#7201a8"
             ],
             [
              0.3333333333333333,
              "#9c179e"
             ],
             [
              0.4444444444444444,
              "#bd3786"
             ],
             [
              0.5555555555555556,
              "#d8576b"
             ],
             [
              0.6666666666666666,
              "#ed7953"
             ],
             [
              0.7777777777777778,
              "#fb9f3a"
             ],
             [
              0.8888888888888888,
              "#fdca26"
             ],
             [
              1,
              "#f0f921"
             ]
            ],
            "type": "contour"
           }
          ],
          "contourcarpet": [
           {
            "colorbar": {
             "outlinewidth": 0,
             "ticks": ""
            },
            "type": "contourcarpet"
           }
          ],
          "heatmap": [
           {
            "colorbar": {
             "outlinewidth": 0,
             "ticks": ""
            },
            "colorscale": [
             [
              0,
              "#0d0887"
             ],
             [
              0.1111111111111111,
              "#46039f"
             ],
             [
              0.2222222222222222,
              "#7201a8"
             ],
             [
              0.3333333333333333,
              "#9c179e"
             ],
             [
              0.4444444444444444,
              "#bd3786"
             ],
             [
              0.5555555555555556,
              "#d8576b"
             ],
             [
              0.6666666666666666,
              "#ed7953"
             ],
             [
              0.7777777777777778,
              "#fb9f3a"
             ],
             [
              0.8888888888888888,
              "#fdca26"
             ],
             [
              1,
              "#f0f921"
             ]
            ],
            "type": "heatmap"
           }
          ],
          "heatmapgl": [
           {
            "colorbar": {
             "outlinewidth": 0,
             "ticks": ""
            },
            "colorscale": [
             [
              0,
              "#0d0887"
             ],
             [
              0.1111111111111111,
              "#46039f"
             ],
             [
              0.2222222222222222,
              "#7201a8"
             ],
             [
              0.3333333333333333,
              "#9c179e"
             ],
             [
              0.4444444444444444,
              "#bd3786"
             ],
             [
              0.5555555555555556,
              "#d8576b"
             ],
             [
              0.6666666666666666,
              "#ed7953"
             ],
             [
              0.7777777777777778,
              "#fb9f3a"
             ],
             [
              0.8888888888888888,
              "#fdca26"
             ],
             [
              1,
              "#f0f921"
             ]
            ],
            "type": "heatmapgl"
           }
          ],
          "histogram": [
           {
            "marker": {
             "pattern": {
              "fillmode": "overlay",
              "size": 10,
              "solidity": 0.2
             }
            },
            "type": "histogram"
           }
          ],
          "histogram2d": [
           {
            "colorbar": {
             "outlinewidth": 0,
             "ticks": ""
            },
            "colorscale": [
             [
              0,
              "#0d0887"
             ],
             [
              0.1111111111111111,
              "#46039f"
             ],
             [
              0.2222222222222222,
              "#7201a8"
             ],
             [
              0.3333333333333333,
              "#9c179e"
             ],
             [
              0.4444444444444444,
              "#bd3786"
             ],
             [
              0.5555555555555556,
              "#d8576b"
             ],
             [
              0.6666666666666666,
              "#ed7953"
             ],
             [
              0.7777777777777778,
              "#fb9f3a"
             ],
             [
              0.8888888888888888,
              "#fdca26"
             ],
             [
              1,
              "#f0f921"
             ]
            ],
            "type": "histogram2d"
           }
          ],
          "histogram2dcontour": [
           {
            "colorbar": {
             "outlinewidth": 0,
             "ticks": ""
            },
            "colorscale": [
             [
              0,
              "#0d0887"
             ],
             [
              0.1111111111111111,
              "#46039f"
             ],
             [
              0.2222222222222222,
              "#7201a8"
             ],
             [
              0.3333333333333333,
              "#9c179e"
             ],
             [
              0.4444444444444444,
              "#bd3786"
             ],
             [
              0.5555555555555556,
              "#d8576b"
             ],
             [
              0.6666666666666666,
              "#ed7953"
             ],
             [
              0.7777777777777778,
              "#fb9f3a"
             ],
             [
              0.8888888888888888,
              "#fdca26"
             ],
             [
              1,
              "#f0f921"
             ]
            ],
            "type": "histogram2dcontour"
           }
          ],
          "mesh3d": [
           {
            "colorbar": {
             "outlinewidth": 0,
             "ticks": ""
            },
            "type": "mesh3d"
           }
          ],
          "parcoords": [
           {
            "line": {
             "colorbar": {
              "outlinewidth": 0,
              "ticks": ""
             }
            },
            "type": "parcoords"
           }
          ],
          "pie": [
           {
            "automargin": true,
            "type": "pie"
           }
          ],
          "scatter": [
           {
            "fillpattern": {
             "fillmode": "overlay",
             "size": 10,
             "solidity": 0.2
            },
            "type": "scatter"
           }
          ],
          "scatter3d": [
           {
            "line": {
             "colorbar": {
              "outlinewidth": 0,
              "ticks": ""
             }
            },
            "marker": {
             "colorbar": {
              "outlinewidth": 0,
              "ticks": ""
             }
            },
            "type": "scatter3d"
           }
          ],
          "scattercarpet": [
           {
            "marker": {
             "colorbar": {
              "outlinewidth": 0,
              "ticks": ""
             }
            },
            "type": "scattercarpet"
           }
          ],
          "scattergeo": [
           {
            "marker": {
             "colorbar": {
              "outlinewidth": 0,
              "ticks": ""
             }
            },
            "type": "scattergeo"
           }
          ],
          "scattergl": [
           {
            "marker": {
             "colorbar": {
              "outlinewidth": 0,
              "ticks": ""
             }
            },
            "type": "scattergl"
           }
          ],
          "scattermapbox": [
           {
            "marker": {
             "colorbar": {
              "outlinewidth": 0,
              "ticks": ""
             }
            },
            "type": "scattermapbox"
           }
          ],
          "scatterpolar": [
           {
            "marker": {
             "colorbar": {
              "outlinewidth": 0,
              "ticks": ""
             }
            },
            "type": "scatterpolar"
           }
          ],
          "scatterpolargl": [
           {
            "marker": {
             "colorbar": {
              "outlinewidth": 0,
              "ticks": ""
             }
            },
            "type": "scatterpolargl"
           }
          ],
          "scatterternary": [
           {
            "marker": {
             "colorbar": {
              "outlinewidth": 0,
              "ticks": ""
             }
            },
            "type": "scatterternary"
           }
          ],
          "surface": [
           {
            "colorbar": {
             "outlinewidth": 0,
             "ticks": ""
            },
            "colorscale": [
             [
              0,
              "#0d0887"
             ],
             [
              0.1111111111111111,
              "#46039f"
             ],
             [
              0.2222222222222222,
              "#7201a8"
             ],
             [
              0.3333333333333333,
              "#9c179e"
             ],
             [
              0.4444444444444444,
              "#bd3786"
             ],
             [
              0.5555555555555556,
              "#d8576b"
             ],
             [
              0.6666666666666666,
              "#ed7953"
             ],
             [
              0.7777777777777778,
              "#fb9f3a"
             ],
             [
              0.8888888888888888,
              "#fdca26"
             ],
             [
              1,
              "#f0f921"
             ]
            ],
            "type": "surface"
           }
          ],
          "table": [
           {
            "cells": {
             "fill": {
              "color": "#EBF0F8"
             },
             "line": {
              "color": "white"
             }
            },
            "header": {
             "fill": {
              "color": "#C8D4E3"
             },
             "line": {
              "color": "white"
             }
            },
            "type": "table"
           }
          ]
         },
         "layout": {
          "annotationdefaults": {
           "arrowcolor": "#2a3f5f",
           "arrowhead": 0,
           "arrowwidth": 1
          },
          "autotypenumbers": "strict",
          "coloraxis": {
           "colorbar": {
            "outlinewidth": 0,
            "ticks": ""
           }
          },
          "colorscale": {
           "diverging": [
            [
             0,
             "#8e0152"
            ],
            [
             0.1,
             "#c51b7d"
            ],
            [
             0.2,
             "#de77ae"
            ],
            [
             0.3,
             "#f1b6da"
            ],
            [
             0.4,
             "#fde0ef"
            ],
            [
             0.5,
             "#f7f7f7"
            ],
            [
             0.6,
             "#e6f5d0"
            ],
            [
             0.7,
             "#b8e186"
            ],
            [
             0.8,
             "#7fbc41"
            ],
            [
             0.9,
             "#4d9221"
            ],
            [
             1,
             "#276419"
            ]
           ],
           "sequential": [
            [
             0,
             "#0d0887"
            ],
            [
             0.1111111111111111,
             "#46039f"
            ],
            [
             0.2222222222222222,
             "#7201a8"
            ],
            [
             0.3333333333333333,
             "#9c179e"
            ],
            [
             0.4444444444444444,
             "#bd3786"
            ],
            [
             0.5555555555555556,
             "#d8576b"
            ],
            [
             0.6666666666666666,
             "#ed7953"
            ],
            [
             0.7777777777777778,
             "#fb9f3a"
            ],
            [
             0.8888888888888888,
             "#fdca26"
            ],
            [
             1,
             "#f0f921"
            ]
           ],
           "sequentialminus": [
            [
             0,
             "#0d0887"
            ],
            [
             0.1111111111111111,
             "#46039f"
            ],
            [
             0.2222222222222222,
             "#7201a8"
            ],
            [
             0.3333333333333333,
             "#9c179e"
            ],
            [
             0.4444444444444444,
             "#bd3786"
            ],
            [
             0.5555555555555556,
             "#d8576b"
            ],
            [
             0.6666666666666666,
             "#ed7953"
            ],
            [
             0.7777777777777778,
             "#fb9f3a"
            ],
            [
             0.8888888888888888,
             "#fdca26"
            ],
            [
             1,
             "#f0f921"
            ]
           ]
          },
          "colorway": [
           "#636efa",
           "#EF553B",
           "#00cc96",
           "#ab63fa",
           "#FFA15A",
           "#19d3f3",
           "#FF6692",
           "#B6E880",
           "#FF97FF",
           "#FECB52"
          ],
          "font": {
           "color": "#2a3f5f"
          },
          "geo": {
           "bgcolor": "white",
           "lakecolor": "white",
           "landcolor": "#E5ECF6",
           "showlakes": true,
           "showland": true,
           "subunitcolor": "white"
          },
          "hoverlabel": {
           "align": "left"
          },
          "hovermode": "closest",
          "mapbox": {
           "style": "light"
          },
          "paper_bgcolor": "white",
          "plot_bgcolor": "#E5ECF6",
          "polar": {
           "angularaxis": {
            "gridcolor": "white",
            "linecolor": "white",
            "ticks": ""
           },
           "bgcolor": "#E5ECF6",
           "radialaxis": {
            "gridcolor": "white",
            "linecolor": "white",
            "ticks": ""
           }
          },
          "scene": {
           "xaxis": {
            "backgroundcolor": "#E5ECF6",
            "gridcolor": "white",
            "gridwidth": 2,
            "linecolor": "white",
            "showbackground": true,
            "ticks": "",
            "zerolinecolor": "white"
           },
           "yaxis": {
            "backgroundcolor": "#E5ECF6",
            "gridcolor": "white",
            "gridwidth": 2,
            "linecolor": "white",
            "showbackground": true,
            "ticks": "",
            "zerolinecolor": "white"
           },
           "zaxis": {
            "backgroundcolor": "#E5ECF6",
            "gridcolor": "white",
            "gridwidth": 2,
            "linecolor": "white",
            "showbackground": true,
            "ticks": "",
            "zerolinecolor": "white"
           }
          },
          "shapedefaults": {
           "line": {
            "color": "#2a3f5f"
           }
          },
          "ternary": {
           "aaxis": {
            "gridcolor": "white",
            "linecolor": "white",
            "ticks": ""
           },
           "baxis": {
            "gridcolor": "white",
            "linecolor": "white",
            "ticks": ""
           },
           "bgcolor": "#E5ECF6",
           "caxis": {
            "gridcolor": "white",
            "linecolor": "white",
            "ticks": ""
           }
          },
          "title": {
           "x": 0.05
          },
          "xaxis": {
           "automargin": true,
           "gridcolor": "white",
           "linecolor": "white",
           "ticks": "",
           "title": {
            "standoff": 15
           },
           "zerolinecolor": "white",
           "zerolinewidth": 2
          },
          "yaxis": {
           "automargin": true,
           "gridcolor": "white",
           "linecolor": "white",
           "ticks": "",
           "title": {
            "standoff": 15
           },
           "zerolinecolor": "white",
           "zerolinewidth": 2
          }
         }
        },
        "title": {
         "text": "Top 20 des articles en termes de chiffre d'affaires"
        },
        "xaxis": {
         "anchor": "y",
         "autorange": true,
         "domain": [
          0,
          1
         ],
         "range": [
          4149.5,
          6324.5
         ],
         "title": {
          "text": "product_id"
         },
         "type": "linear"
        },
        "yaxis": {
         "anchor": "x",
         "autorange": true,
         "domain": [
          0,
          1
         ],
         "range": [
          0,
          7204.210526315789
         ],
         "title": {
          "text": "CA_par_article"
         },
         "type": "linear"
        }
       }
      },
      "image/png": "[encoded data removed]",
      "text/html": [
       "<div>                            <div id=\"5deb675a-0892-4e08-bc88-b5583285b094\" class=\"plotly-graph-div\" style=\"height:525px; width:100%;\"></div>            <script type=\"text/javascript\">                require([\"plotly\"], function(Plotly) {                    window.PLOTLYENV=window.PLOTLYENV || {};                                    if (document.getElementById(\"5deb675a-0892-4e08-bc88-b5583285b094\")) {                    Plotly.newPlot(                        \"5deb675a-0892-4e08-bc88-b5583285b094\",                        [{\"alignmentgroup\":\"True\",\"hovertemplate\":\"product_id=%{x}<br>CA_par_article=%{y}<extra></extra>\",\"legendgroup\":\"\",\"marker\":{\"color\":\"#636efa\",\"pattern\":{\"shape\":\"\"}},\"name\":\"\",\"offsetgroup\":\"\",\"orientation\":\"v\",\"showlegend\":false,\"textposition\":\"auto\",\"x\":[4150,4352,4726,5067,5379,5892,4353,4594,5826,6212,5026,5008,5767,6126,5025,6324,6201,4406,4647,4358],\"xaxis\":\"x\",\"y\":[6844.0,2475.0,1549.3999999999999,1317.8,1232.1,1147.8000000000002,1113.0,1008.0,824.0,805.0,781.1999999999999,735.0,700.0,675.0,672.0,644.0,633.5999999999999,628.0,627.0,616.0],\"yaxis\":\"y\",\"type\":\"bar\"}],                        {\"template\":{\"data\":{\"histogram2dcontour\":[{\"type\":\"histogram2dcontour\",\"colorbar\":{\"outlinewidth\":0,\"ticks\":\"\"},\"colorscale\":[[0.0,\"#0d0887\"],[0.1111111111111111,\"#46039f\"],[0.2222222222222222,\"#7201a8\"],[0.3333333333333333,\"#9c179e\"],[0.4444444444444444,\"#bd3786\"],[0.5555555555555556,\"#d8576b\"],[0.6666666666666666,\"#ed7953\"],[0.7777777777777778,\"#fb9f3a\"],[0.8888888888888888,\"#fdca26\"],[1.0,\"#f0f921\"]]}],\"choropleth\":[{\"type\":\"choropleth\",\"colorbar\":{\"outlinewidth\":0,\"ticks\":\"\"}}],\"histogram2d\":[{\"type\":\"histogram2d\",\"colorbar\":{\"outlinewidth\":0,\"ticks\":\"\"},\"colorscale\":[[0.0,\"#0d0887\"],[0.1111111111111111,\"#46039f\"],[0.2222222222222222,\"#7201a8\"],[0.3333333333333333,\"#9c179e\"],[0.4444444444444444,\"#bd3786\"],[0.5555555555555556,\"#d8576b\"],[0.6666666666666666,\"#ed7953\"],[0.7777777777777778,\"#fb9f3a\"],[0.8888888888888888,\"#fdca26\"],[1.0,\"#f0f921\"]]}],\"heatmap\":[{\"type\":\"heatmap\",\"colorbar\":{\"outlinewidth\":0,\"ticks\":\"\"},\"colorscale\":[[0.0,\"#0d0887\"],[0.1111111111111111,\"#46039f\"],[0.2222222222222222,\"#7201a8\"],[0.3333333333333333,\"#9c179e\"],[0.4444444444444444,\"#bd3786\"],[0.5555555555555556,\"#d8576b\"],[0.6666666666666666,\"#ed7953\"],[0.7777777777777778,\"#fb9f3a\"],[0.8888888888888888,\"#fdca26\"],[1.0,\"#f0f921\"]]}],\"heatmapgl\":[{\"type\":\"heatmapgl\",\"colorbar\":{\"outlinewidth\":0,\"ticks\":\"\"},\"colorscale\":[[0.0,\"#0d0887\"],[0.1111111111111111,\"#46039f\"],[0.2222222222222222,\"#7201a8\"],[0.3333333333333333,\"#9c179e\"],[0.4444444444444444,\"#bd3786\"],[0.5555555555555556,\"#d8576b\"],[0.6666666666666666,\"#ed7953\"],[0.7777777777777778,\"#fb9f3a\"],[0.8888888888888888,\"#fdca26\"],[1.0,\"#f0f921\"]]}],\"contourcarpet\":[{\"type\":\"contourcarpet\",\"colorbar\":{\"outlinewidth\":0,\"ticks\":\"\"}}],\"contour\":[{\"type\":\"contour\",\"colorbar\":{\"outlinewidth\":0,\"ticks\":\"\"},\"colorscale\":[[0.0,\"#0d0887\"],[0.1111111111111111,\"#46039f\"],[0.2222222222222222,\"#7201a8\"],[0.3333333333333333,\"#9c179e\"],[0.4444444444444444,\"#bd3786\"],[0.5555555555555556,\"#d8576b\"],[0.6666666666666666,\"#ed7953\"],[0.7777777777777778,\"#fb9f3a\"],[0.8888888888888888,\"#fdca26\"],[1.0,\"#f0f921\"]]}],\"surface\":[{\"type\":\"surface\",\"colorbar\":{\"outlinewidth\":0,\"ticks\":\"\"},\"colorscale\":[[0.0,\"#0d0887\"],[0.1111111111111111,\"#46039f\"],[0.2222222222222222,\"#7201a8\"],[0.3333333333333333,\"#9c179e\"],[0.4444444444444444,\"#bd3786\"],[0.5555555555555556,\"#d8576b\"],[0.6666666666666666,\"#ed7953\"],[0.7777777777777778,\"#fb9f3a\"],[0.8888888888888888,\"#fdca26\"],[1.0,\"#f0f921\"]]}],\"mesh3d\":[{\"type\":\"mesh3d\",\"colorbar\":{\"outlinewidth\":0,\"ticks\":\"\"}}],\"scatter\":[{\"fillpattern\":{\"fillmode\":\"overlay\",\"size\":10,\"solidity\":0.2},\"type\":\"scatter\"}],\"parcoords\":[{\"type\":\"parcoords\",\"line\":{\"colorbar\":{\"outlinewidth\":0,\"ticks\":\"\"}}}],\"scatterpolargl\":[{\"type\":\"scatterpolargl\",\"marker\":{\"colorbar\":{\"outlinewidth\":0,\"ticks\":\"\"}}}],\"bar\":[{\"error_x\":{\"color\":\"#2a3f5f\"},\"error_y\":{\"color\":\"#2a3f5f\"},\"marker\":{\"line\":{\"color\":\"#E5ECF6\",\"width\":0.5},\"pattern\":{\"fillmode\":\"overlay\",\"size\":10,\"solidity\":0.2}},\"type\":\"bar\"}],\"scattergeo\":[{\"type\":\"scattergeo\",\"marker\":{\"colorbar\":{\"outlinewidth\":0,\"ticks\":\"\"}}}],\"scatterpolar\":[{\"type\":\"scatterpolar\",\"marker\":{\"colorbar\":{\"outlinewidth\":0,\"ticks\":\"\"}}}],\"histogram\":[{\"marker\":{\"pattern\":{\"fillmode\":\"overlay\",\"size\":10,\"solidity\":0.2}},\"type\":\"histogram\"}],\"scattergl\":[{\"type\":\"scattergl\",\"marker\":{\"colorbar\":{\"outlinewidth\":0,\"ticks\":\"\"}}}],\"scatter3d\":[{\"type\":\"scatter3d\",\"line\":{\"colorbar\":{\"outlinewidth\":0,\"ticks\":\"\"}},\"marker\":{\"colorbar\":{\"outlinewidth\":0,\"ticks\":\"\"}}}],\"scattermapbox\":[{\"type\":\"scattermapbox\",\"marker\":{\"colorbar\":{\"outlinewidth\":0,\"ticks\":\"\"}}}],\"scatterternary\":[{\"type\":\"scatterternary\",\"marker\":{\"colorbar\":{\"outlinewidth\":0,\"ticks\":\"\"}}}],\"scattercarpet\":[{\"type\":\"scattercarpet\",\"marker\":{\"colorbar\":{\"outlinewidth\":0,\"ticks\":\"\"}}}],\"carpet\":[{\"aaxis\":{\"endlinecolor\":\"#2a3f5f\",\"gridcolor\":\"white\",\"linecolor\":\"white\",\"minorgridcolor\":\"white\",\"startlinecolor\":\"#2a3f5f\"},\"baxis\":{\"endlinecolor\":\"#2a3f5f\",\"gridcolor\":\"white\",\"linecolor\":\"white\",\"minorgridcolor\":\"white\",\"startlinecolor\":\"#2a3f5f\"},\"type\":\"carpet\"}],\"table\":[{\"cells\":{\"fill\":{\"color\":\"#EBF0F8\"},\"line\":{\"color\":\"white\"}},\"header\":{\"fill\":{\"color\":\"#C8D4E3\"},\"line\":{\"color\":\"white\"}},\"type\":\"table\"}],\"barpolar\":[{\"marker\":{\"line\":{\"color\":\"#E5ECF6\",\"width\":0.5},\"pattern\":{\"fillmode\":\"overlay\",\"size\":10,\"solidity\":0.2}},\"type\":\"barpolar\"}],\"pie\":[{\"automargin\":true,\"type\":\"pie\"}]},\"layout\":{\"autotypenumbers\":\"strict\",\"colorway\":[\"#636efa\",\"#EF553B\",\"#00cc96\",\"#ab63fa\",\"#FFA15A\",\"#19d3f3\",\"#FF6692\",\"#B6E880\",\"#FF97FF\",\"#FECB52\"],\"font\":{\"color\":\"#2a3f5f\"},\"hovermode\":\"closest\",\"hoverlabel\":{\"align\":\"left\"},\"paper_bgcolor\":\"white\",\"plot_bgcolor\":\"#E5ECF6\",\"polar\":{\"bgcolor\":\"#E5ECF6\",\"angularaxis\":{\"gridcolor\":\"white\",\"linecolor\":\"white\",\"ticks\":\"\"},\"radialaxis\":{\"gridcolor\":\"white\",\"linecolor\":\"white\",\"ticks\":\"\"}},\"ternary\":{\"bgcolor\":\"#E5ECF6\",\"aaxis\":{\"gridcolor\":\"white\",\"linecolor\":\"white\",\"ticks\":\"\"},\"baxis\":{\"gridcolor\":\"white\",\"linecolor\":\"white\",\"ticks\":\"\"},\"caxis\":{\"gridcolor\":\"white\",\"linecolor\":\"white\",\"ticks\":\"\"}},\"coloraxis\":{\"colorbar\":{\"outlinewidth\":0,\"ticks\":\"\"}},\"colorscale\":{\"sequential\":[[0.0,\"#0d0887\"],[0.1111111111111111,\"#46039f\"],[0.2222222222222222,\"#7201a8\"],[0.3333333333333333,\"#9c179e\"],[0.4444444444444444,\"#bd3786\"],[0.5555555555555556,\"#d8576b\"],[0.6666666666666666,\"#ed7953\"],[0.7777777777777778,\"#fb9f3a\"],[0.8888888888888888,\"#fdca26\"],[1.0,\"#f0f921\"]],\"sequentialminus\":[[0.0,\"#0d0887\"],[0.1111111111111111,\"#46039f\"],[0.2222222222222222,\"#7201a8\"],[0.3333333333333333,\"#9c179e\"],[0.4444444444444444,\"#bd3786\"],[0.5555555555555556,\"#d8576b\"],[0.6666666666666666,\"#ed7953\"],[0.7777777777777778,\"#fb9f3a\"],[0.8888888888888888,\"#fdca26\"],[1.0,\"#f0f921\"]],\"diverging\":[[0,\"#8e0152\"],[0.1,\"#c51b7d\"],[0.2,\"#de77ae\"],[0.3,\"#f1b6da\"],[0.4,\"#fde0ef\"],[0.5,\"#f7f7f7\"],[0.6,\"#e6f5d0\"],[0.7,\"#b8e186\"],[0.8,\"#7fbc41\"],[0.9,\"#4d9221\"],[1,\"#276419\"]]},\"xaxis\":{\"gridcolor\":\"white\",\"linecolor\":\"white\",\"ticks\":\"\",\"title\":{\"standoff\":15},\"zerolinecolor\":\"white\",\"automargin\":true,\"zerolinewidth\":2},\"yaxis\":{\"gridcolor\":\"white\",\"linecolor\":\"white\",\"ticks\":\"\",\"title\":{\"standoff\":15},\"zerolinecolor\":\"white\",\"automargin\":true,\"zerolinewidth\":2},\"scene\":{\"xaxis\":{\"backgroundcolor\":\"#E5ECF6\",\"gridcolor\":\"white\",\"linecolor\":\"white\",\"showbackground\":true,\"ticks\":\"\",\"zerolinecolor\":\"white\",\"gridwidth\":2},\"yaxis\":{\"backgroundcolor\":\"#E5ECF6\",\"gridcolor\":\"white\",\"linecolor\":\"white\",\"showbackground\":true,\"ticks\":\"\",\"zerolinecolor\":\"white\",\"gridwidth\":2},\"zaxis\":{\"backgroundcolor\":\"#E5ECF6\",\"gridcolor\":\"white\",\"linecolor\":\"white\",\"showbackground\":true,\"ticks\":\"\",\"zerolinecolor\":\"white\",\"gridwidth\":2}},\"shapedefaults\":{\"line\":{\"color\":\"#2a3f5f\"}},\"annotationdefaults\":{\"arrowcolor\":\"#2a3f5f\",\"arrowhead\":0,\"arrowwidth\":1},\"geo\":{\"bgcolor\":\"white\",\"landcolor\":\"#E5ECF6\",\"subunitcolor\":\"white\",\"showland\":true,\"showlakes\":true,\"lakecolor\":\"white\"},\"title\":{\"x\":0.05},\"mapbox\":{\"style\":\"light\"}}},\"xaxis\":{\"anchor\":\"y\",\"domain\":[0.0,1.0],\"title\":{\"text\":\"product_id\"}},\"yaxis\":{\"anchor\":\"x\",\"domain\":[0.0,1.0],\"title\":{\"text\":\"CA_par_article\"}},\"legend\":{\"tracegroupgap\":0},\"title\":{\"text\":\"Top 20 des articles en termes de chiffre d'affaires\"},\"barmode\":\"relative\"},                        {\"responsive\": true}                    ).then(function(){\n",
       "                            \n",
       "var gd = document.getElementById('5deb675a-0892-4e08-bc88-b5583285b094');\n",
       "var x = new MutationObserver(function (mutations, observer) {{\n",
       "        var display = window.getComputedStyle(gd).display;\n",
       "        if (!display || display === 'none') {{\n",
       "            console.log([gd, 'removed!']);\n",
       "            Plotly.purge(gd);\n",
       "            observer.disconnect();\n",
       "        }}\n",
       "}});\n",
       "\n",
       "// Listen for the removal of the full notebook cells\n",
       "var notebookContainer = gd.closest('#notebook-container');\n",
       "if (notebookContainer) {{\n",
       "    x.observe(notebookContainer, {childList: true});\n",
       "}}\n",
       "\n",
       "// Listen for the clearing of the current output cell\n",
       "var outputEl = gd.closest('.output');\n",
       "if (outputEl) {{\n",
       "    x.observe(outputEl, {childList: true});\n",
       "}}\n",
       "\n",
       "                        })                };                });            </script>        </div>"
      ]
     },
     "metadata": {},
     "output_type": "display_data"
    }
   ],
   "source": [
    "###############################\n",
    "# Palmares des articles en CA #\n",
    "###############################\n",
    "df_final['CA_par_article'] = df_final['price'] * df_final['total_sales']\n",
    "\n",
    "### Calculer le chiffre d'affaires pour chaque article\n",
    "CA_par_article = df_final.groupby('total_sales')['CA_par_article'].sum()\n",
    "\n",
    "# Trier les articles par chiffre d'affaires en ordre décroissant\n",
    "palmares_CA = CA_par_article.sort_values(ascending=False)\n",
    "\n",
    "print(\"Le palmarès des articles en termes de chiffre d'affaires est :\\n\", palmares_CA)\n",
    "\n",
    "#Effectuer le tri dans l'ordre décroissant du CA du dataset df_merge\n",
    "df_final_sorted = df_final.sort_values('CA_par_article', ascending=False)\n",
    "#Réinitialiser l'index du dataset par un reset_index\n",
    "# Réinitialiser l'index du DataFrame\n",
    "df_final = df_final.reset_index(drop=True)\n",
    "#Afficher les 20 premier articles en CA\n",
    "# Trier le DataFrame par CA par article dans l'ordre décroissant\n",
    "df_final_sorted = df_final.sort_values(by='CA_par_article', ascending=False)\n",
    "\n",
    "# Afficher les 20 premiers articles en CA\n",
    "print(df_final_sorted.head(20))\n",
    "import plotly.express as px\n",
    "\n",
    "# Trier le DataFrame par CA par article dans l'ordre décroissant et prendre les 20 premiers\n",
    "df_top20 = df_final.sort_values(by='CA_par_article', ascending=False).head(20)\n",
    "\n",
    "# Créer un graphique à barres avec plotly.express\n",
    "fig = px.bar(df_top20, x='product_id', y='CA_par_article', title=\"Top 20 des articles en termes de chiffre d'affaires\")\n",
    "\n",
    "# Afficher le graphique\n",
    "fig.show()"
   ]
  },
  {
   "cell_type": "code",
   "execution_count": 8722,
   "id": "facd7a89-157e-4d27-8c68-e22c0a2e8d21",
   "metadata": {},
   "outputs": [
    {
     "name": "stdout",
     "output_type": "stream",
     "text": [
      "Noms de colonnes de df_final :\n",
      "Index(['product_id', 'onsale_web', 'price', 'stock_quantity', 'stock_status',\n",
      "       'purchase_price', 'stock_status_2', 'id_web', 'sans_correspondance',\n",
      "       '_merge', 'sku', 'virtual', 'total_sales', 'tax_status', 'post_author',\n",
      "       'post_date', 'product_type', 'post_title', 'post_status', 'post_name',\n",
      "       'post_type', 'post_mime_type', 'respecte_la_regle', 'outliers',\n",
      "       'CA_par_article_web', 'CA_par_article'],\n",
      "      dtype='object')\n"
     ]
    }
   ],
   "source": [
    "print(\"Noms de colonnes de df_final :\")\n",
    "print(df_final.columns)"
   ]
  },
  {
   "cell_type": "code",
   "execution_count": 8723,
   "id": "d7e5e87b",
   "metadata": {},
   "outputs": [
    {
     "name": "stdout",
     "output_type": "stream",
     "text": [
      "Le nombre d'articles qui représentent 80% du CA est : 436\n",
      "La proportion d'articles qui représentent 80% du CA par rapport au catalogue est : 51.88%\n"
     ]
    }
   ],
   "source": [
    "#############################\n",
    "# Calculer le 20 / 80 en CA #\n",
    "#############################\n",
    "# Trier le DataFrame par 'ca_par_article' dans l'ordre décroissant\n",
    "df_final = df_final.sort_values('CA_par_article', ascending=False)\n",
    "\n",
    "# Calculer le chiffre d'affaires total\n",
    "CA_total = df_final['CA_par_article'].sum()\n",
    "\n",
    "# Calculer la part du CA de chaque ligne et créer une nouvelle colonne\n",
    "df_final['part_CA'] = df_final['CA_par_article'] / CA_total\n",
    "\n",
    "# Calculer la somme cumulative de la colonne 'part_CA' et créer une nouvelle colonne\n",
    "df_final['CA_par_article'] = df_final['part_CA'].cumsum()\n",
    "\n",
    "# Trouver le premier article où la somme cumulative dépasse 80%\n",
    "index_80 = df_final[df_final['CA_par_article'] > 0.8].index[0]\n",
    "\n",
    "# Calculer le nombre d'articles qui représentent 80% du CA\n",
    "nb_articles_80 = df_final.iloc[:index_80].shape[0]\n",
    "\n",
    "print(\"Le nombre d'articles qui représentent 80% du CA est :\", nb_articles_80)\n",
    "\n",
    "# Calculer le nombre total d'articles\n",
    "#nb_total_articles = df_final.shape[0]\n",
    "# Calculer le nombre total d'articles\n",
    "#nb_total_articles = len(df_final)\n",
    "# Calculer la proportion\n",
    "#proportion = nb_articles_80 / nb_total_articles*100\n",
    "\n",
    "#print(\"La proportion d'articles qui représentent 80% du CA par rapport au catalogue entier est :\", proportion)\n",
    "# Calculer le nombre total d'articles\n",
    "nb_total_articles = len(df_final)\n",
    "\n",
    "# Calculer la proportion d'articles qui représentent 80% du CA\n",
    "proportion_articles_80_CA = nb_articles_80_CA / nb_total_articles *100\n",
    "#print(f\"Le nombre d'articles qui représentent 80% du CA est : {nb_articles_80_CA}\")\n",
    "print(f\"La proportion d'articles qui représentent 80% du CA par rapport au catalogue est : {proportion_articles_80_CA:.2f}%\")\n"
   ]
  },
  {
   "cell_type": "markdown",
   "id": "8de7af87",
   "metadata": {},
   "source": [
    "<div style=\"border: 1px solid RGB(51,165,182);\" >\n",
    "<h3 style=\"margin: auto; padding: 20px; color: RGB(51,165,182); \">Etape 5.2 - Analyse des ventes en Quantités</h3>\n",
    "</div>"
   ]
  },
  {
   "cell_type": "code",
   "execution_count": 8724,
   "id": "ab222e08",
   "metadata": {},
   "outputs": [
    {
     "name": "stdout",
     "output_type": "stream",
     "text": [
      "     product_id  onsale_web  price  stock_quantity stock_status  \\\n",
      "471        4350           1   79.5             145      instock   \n",
      "469        4337           1   83.0             145      instock   \n",
      "467        4334           1   49.0             142      instock   \n",
      "914        6126           1  135.0             138      instock   \n",
      "709        5025           1  112.0             136      instock   \n",
      "473        4353           1   79.5             127      instock   \n",
      "822        5761           1   19.5             125      instock   \n",
      "470        4348           1   59.0             125      instock   \n",
      "343        4142           1   53.0             125      instock   \n",
      "342        4141           1   39.0             123      instock   \n",
      "349        4150           1   59.0             123      instock   \n",
      "638        4867           1    9.9             121      instock   \n",
      "476        4357           1   39.0             115      instock   \n",
      "478        4359           1   85.6             112      instock   \n",
      "708        5024           1   45.0             103      instock   \n",
      "710        5026           1   86.8             101      instock   \n",
      "348        4149           1   69.0             101      instock   \n",
      "687        4970           1   49.5             100      instock   \n",
      "346        4147           1   33.0             100      instock   \n",
      "859        5892           1  191.3              98      instock   \n",
      "\n",
      "     purchase_price stock_status_2 id_web  sans_correspondance _merge  \\\n",
      "471           47.30        instock  12588                False   both   \n",
      "469           48.90        instock   4679                False   both   \n",
      "467           30.01        instock   7818                False   both   \n",
      "914           80.33        instock  14923                False   both   \n",
      "709           68.60        instock  13914                False   both   \n",
      "473           45.91        instock  12587                False   both   \n",
      "822           12.07        instock  13849                False   both   \n",
      "470           34.76        instock  12586                False   both   \n",
      "343           32.15        instock  11641                False   both   \n",
      "342           24.86        instock    304                False   both   \n",
      "349           35.45        instock   1366                False   both   \n",
      "638            4.86        instock  16148                False   both   \n",
      "476           22.30        instock   9562                False   both   \n",
      "478           51.93        instock  13853                False   both   \n",
      "708           27.04        instock  11996                False   both   \n",
      "710           50.13        instock  13913                False   both   \n",
      "348           40.25        instock   7086                False   both   \n",
      "687           28.59        instock  11225                False   both   \n",
      "346           18.48        instock  15648                False   both   \n",
      "859          116.06        instock  14983                False   both   \n",
      "\n",
      "         sku  virtual  total_sales tax_status  post_author  \\\n",
      "471  12588.0        0          7.0        NaN          2.0   \n",
      "469   4679.0        0          0.0        NaN          2.0   \n",
      "467   7818.0        0          7.0    taxable          2.0   \n",
      "914  14923.0        0          5.0    taxable          2.0   \n",
      "709  13914.0        0          6.0        NaN          2.0   \n",
      "473  12587.0        0         14.0    taxable          2.0   \n",
      "822  13849.0        0         10.0    taxable          2.0   \n",
      "470  12586.0        0          5.0        NaN          2.0   \n",
      "343  11641.0        0          4.0        NaN          2.0   \n",
      "342    304.0        0          8.0        NaN          2.0   \n",
      "349   1366.0        0        116.0        NaN          2.0   \n",
      "638  16148.0        0         36.0    taxable          2.0   \n",
      "476   9562.0        0          5.0        NaN          2.0   \n",
      "478  13853.0        0          7.0        NaN          2.0   \n",
      "708  11996.0        0          6.0        NaN          2.0   \n",
      "710  13913.0        0          9.0        NaN          2.0   \n",
      "348   7086.0        0          5.0    taxable          2.0   \n",
      "687  11225.0        0          6.0    taxable          2.0   \n",
      "346  15648.0        0          8.0    taxable          2.0   \n",
      "859  14983.0        0          6.0        NaN          2.0   \n",
      "\n",
      "              post_date   product_type  \\\n",
      "471 2018-03-02 10:00:02      Champagne   \n",
      "469 2018-03-01 14:19:24      Champagne   \n",
      "467 2018-03-01 14:02:44      Champagne   \n",
      "914 2019-06-28 17:22:27      Champagne   \n",
      "709 2018-07-18 10:39:43      Champagne   \n",
      "473 2018-03-02 10:37:26      Champagne   \n",
      "822 2019-03-13 14:05:40  Huile d'olive   \n",
      "470 2018-03-02 09:22:39      Champagne   \n",
      "343 2018-02-13 13:08:44      Champagne   \n",
      "342 2018-02-13 12:57:44      Champagne   \n",
      "349 2018-02-13 13:45:31      Champagne   \n",
      "638 2018-05-03 13:20:05            Vin   \n",
      "476 2018-03-02 10:57:02      Champagne   \n",
      "478 2018-03-02 11:11:48      Champagne   \n",
      "708 2018-07-18 10:05:56      Champagne   \n",
      "710 2018-07-18 10:46:30      Champagne   \n",
      "348 2018-02-13 13:41:05      Champagne   \n",
      "687 2018-06-06 16:47:38      Champagne   \n",
      "346 2018-02-13 13:32:49      Champagne   \n",
      "859 2019-03-28 10:21:36      Champagne   \n",
      "\n",
      "                                            post_title post_status  \\\n",
      "471    Champagne Egly-Ouriet Grand Cru Extra Brut V.P.     publish   \n",
      "469      Champagne Mailly Grand Cru Les Echansons 2007     publish   \n",
      "467             Champagne Gosset Grand Blanc de Blancs     publish   \n",
      "914             Champagne Gosset Célébris Vintage 2007     publish   \n",
      "709  Champagne Agrapart &amp; Fils L'Avizoise Extra...     publish   \n",
      "473          Champagne Egly-Ouriet Grand Cru Brut Rosé     publish   \n",
      "822        Huiles d'Olive Extra Vierge Planeta 3x 10cl     publish   \n",
      "470     Champagne Egly-Ouriet Grand Cru Brut Tradition     publish   \n",
      "343              Champagne Gosset Grand Millésime 2006     publish   \n",
      "342                    Champagne Gosset Grande Réserve     publish   \n",
      "349       Champagne Mailly Grand Cru Intemporelle 2010     publish   \n",
      "638  Château De La Selve IGP Coteaux de l'Ardèche M...     publish   \n",
      "476              Champagne Larmandier-Bernier Latitude     publish   \n",
      "478  Champagne Larmandier-Bernier Grand Cru Les Che...     publish   \n",
      "708  Champagne Agrapart &amp; Fils Les 7 Crus Brut ...     publish   \n",
      "710  Champagne Agrapart &amp; Fils Minéral Extra Br...     publish   \n",
      "348  Champagne Mailly Grand Cru Intemporelle Rosé 2009     publish   \n",
      "687  Champagne Larmandier-Bernier Terre de Vertus P...     publish   \n",
      "346  Champagne Mailly Grand Cru Extra Brut Millésim...     publish   \n",
      "859  Coteaux Champenois Egly-Ouriet Ambonnay Rouge ...     publish   \n",
      "\n",
      "                                             post_name   post_type  \\\n",
      "471                champagne-egly-ouriet-extra-brut-vp  attachment   \n",
      "469      champagne-mailly-grand-cru-les-echansons-2007  attachment   \n",
      "467              champagne-gosset-grand-blanc-de-blanc     product   \n",
      "914             champagne-gosset-celebris-vintage-2007     product   \n",
      "709  champagne-agrapart-fils-lavizoise-grand-cru-20...  attachment   \n",
      "473          champagne-egly-ouriet-grand-cru-brut-rose     product   \n",
      "822          huile-dolive-extra-vierge-planeta-3x-10cl     product   \n",
      "470          champagne-egly-ouriet-tradition-grand-cru  attachment   \n",
      "343              champagne-gosset-grand-millesime-2006  attachment   \n",
      "342                    gosset-champagne-grande-reserve  attachment   \n",
      "349       champagne-mailly-grand-cru-intemporelle-2010  attachment   \n",
      "638  chateau-de-la-selve-igp-coteaux-de-lardeche-ma...     product   \n",
      "476              champagne-larmandier-bernier-latitude  attachment   \n",
      "478  champagne-larmandier-bernier-grand-cru-vieille...  attachment   \n",
      "708  champagne-agrapart-fils-les-7-crus-brut-blanc-...  attachment   \n",
      "710  champagne-agrapart-fils-mineral-extra-brut-bla...  attachment   \n",
      "348  champagne-mailly-grand-cru-intemporelle-rose-2009     product   \n",
      "687  champagne-larmandier-bernier-terre-de-vertus-p...     product   \n",
      "346         champagne-mailly-grand-cru-extra-brut-2012     product   \n",
      "859  coteaux-champenois-egly-ouriet-ambonnay-rouge-...  attachment   \n",
      "\n",
      "    post_mime_type  respecte_la_regle  outliers  CA_par_article_web  \\\n",
      "471     image/jpeg               True      True               556.5   \n",
      "469     image/jpeg               True      True                 0.0   \n",
      "467            NaN               True      True               343.0   \n",
      "914            NaN               True      True               675.0   \n",
      "709     image/jpeg               True      True               672.0   \n",
      "473            NaN               True      True              1113.0   \n",
      "822            NaN               True      True               195.0   \n",
      "470     image/jpeg               True      True               295.0   \n",
      "343     image/jpeg               True      True               212.0   \n",
      "342     image/jpeg               True      True               312.0   \n",
      "349     image/jpeg               True      True              6844.0   \n",
      "638            NaN               True      True               356.4   \n",
      "476     image/jpeg               True      True               195.0   \n",
      "478     image/jpeg               True      True               599.2   \n",
      "708     image/jpeg               True      True               270.0   \n",
      "710     image/jpeg               True      True               781.2   \n",
      "348            NaN               True      True               345.0   \n",
      "687            NaN               True      True               297.0   \n",
      "346            NaN               True      True               264.0   \n",
      "859     image/jpeg               True      True              1147.8   \n",
      "\n",
      "     CA_par_article   part_CA  \n",
      "471        0.156124  0.002982  \n",
      "469        1.002187  0.000000  \n",
      "467        0.284328  0.001838  \n",
      "914        0.113657  0.003618  \n",
      "709        0.117258  0.003601  \n",
      "473        0.084030  0.005965  \n",
      "822        0.638532  0.001045  \n",
      "470        0.374285  0.001581  \n",
      "343        0.582011  0.001136  \n",
      "342        0.350001  0.001672  \n",
      "349        0.036679  0.036679  \n",
      "638        0.260027  0.001910  \n",
      "476        0.637486  0.001045  \n",
      "478        0.140574  0.003211  \n",
      "708        0.436211  0.001447  \n",
      "710        0.102349  0.004187  \n",
      "348        0.278801  0.001849  \n",
      "687        0.372704  0.001592  \n",
      "346        0.451877  0.001415  \n",
      "859        0.078065  0.006151  \n"
     ]
    }
   ],
   "source": [
    "#####################################\n",
    "# Palmares des articles en quantité #\n",
    "#####################################\n",
    "\n",
    "#Effectuer le tri dans l'ordre décroissant de quantités vendues du dataset df_merge\n",
    "df_final_sorted = df_final.sort_values('stock_quantity', ascending=False)\n",
    "#Réinitialiser l'index du dataset par un reset_index\n",
    "df_final_reset = df_final.reset_index()  ##df_final_reset = df_final.reset_index(drop=True)\n",
    "#Afficher les 20 premier articles en quantité\n",
    "# Trier le dataframe par 'stock_quantity' en ordre décroissant\n",
    "df_sorted = df_final.sort_values('stock_quantity', ascending=False)\n",
    "\n",
    "# Afficher les 20 premiers articles\n",
    "top_20_articles = df_sorted.head(20)\n",
    "\n",
    "print(top_20_articles)\n",
    "#Graphique en barre des 20 premiers articles avec plotly express\n",
    "import plotly.express as px\n",
    "\n",
    "# Trier le dataframe par 'stock_quantity' en ordre décroissant\n",
    "df_sorted = df_final.sort_values('stock_quantity', ascending=False)\n",
    "\n",
    "# Sélectionner les 20 premiers articles\n",
    "top_20_articles = df_sorted.head(20)\n",
    "\n"
   ]
  },
  {
   "cell_type": "code",
   "execution_count": 8725,
   "id": "9815aaa1-94b9-47ac-a464-81b693579d49",
   "metadata": {},
   "outputs": [
    {
     "data": {
      "image/png": "[encoded data removed]",
      "text/plain": [
       "<Figure size 640x480 with 1 Axes>"
      ]
     },
     "metadata": {},
     "output_type": "display_data"
    }
   ],
   "source": [
    "# Convertir 'product_type' en chaîne de caractères\n",
    "top_20_product_types['product_type'] = top_20_product_types['product_type'].astype(str)\n",
    "\n",
    "# Créer un histogramme avec Matplotlib\n",
    "plt.bar(top_20_product_types['product_type'], top_20_product_types['price'])\n",
    "plt.title('Top 20 des types de produits par rapport au prix')\n",
    "plt.xlabel('Type de produit')\n",
    "plt.ylabel('Prix')\n",
    "\n",
    "# Afficher le graphique\n",
    "plt.show()"
   ]
  },
  {
   "cell_type": "code",
   "execution_count": 8726,
   "id": "76e8640f-d4e3-4125-9bcc-5b3dc69f2414",
   "metadata": {},
   "outputs": [
    {
     "data": {
      "application/vnd.plotly.v1+json": {
       "config": {
        "plotlyServerURL": "https://plot.ly"
       },
       "data": [
        {
         "alignmentgroup": "True",
         "hovertemplate": "product_id=%{x}<br>stock_quantity=%{y}<extra></extra>",
         "legendgroup": "",
         "marker": {
          "color": "#636efa",
          "pattern": {
           "shape": ""
          }
         },
         "name": "",
         "offsetgroup": "",
         "orientation": "v",
         "showlegend": false,
         "textposition": "auto",
         "type": "bar",
         "x": [
          4350,
          4337,
          4334,
          6126,
          5025,
          4353,
          5761,
          4348,
          4142,
          4141,
          4150,
          4867,
          4357,
          4359,
          5024,
          5026,
          4149,
          4970,
          4147,
          5892
         ],
         "xaxis": "x",
         "y": [
          145,
          145,
          142,
          138,
          136,
          127,
          125,
          125,
          125,
          123,
          123,
          121,
          115,
          112,
          103,
          101,
          101,
          100,
          100,
          98
         ],
         "yaxis": "y"
        }
       ],
       "layout": {
        "autosize": true,
        "barmode": "relative",
        "legend": {
         "tracegroupgap": 0
        },
        "template": {
         "data": {
          "bar": [
           {
            "error_x": {
             "color": "#2a3f5f"
            },
            "error_y": {
             "color": "#2a3f5f"
            },
            "marker": {
             "line": {
              "color": "#E5ECF6",
              "width": 0.5
             },
             "pattern": {
              "fillmode": "overlay",
              "size": 10,
              "solidity": 0.2
             }
            },
            "type": "bar"
           }
          ],
          "barpolar": [
           {
            "marker": {
             "line": {
              "color": "#E5ECF6",
              "width": 0.5
             },
             "pattern": {
              "fillmode": "overlay",
              "size": 10,
              "solidity": 0.2
             }
            },
            "type": "barpolar"
           }
          ],
          "carpet": [
           {
            "aaxis": {
             "endlinecolor": "#2a3f5f",
             "gridcolor": "white",
             "linecolor": "white",
             "minorgridcolor": "white",
             "startlinecolor": "#2a3f5f"
            },
            "baxis": {
             "endlinecolor": "#2a3f5f",
             "gridcolor": "white",
             "linecolor": "white",
             "minorgridcolor": "white",
             "startlinecolor": "#2a3f5f"
            },
            "type": "carpet"
           }
          ],
          "choropleth": [
           {
            "colorbar": {
             "outlinewidth": 0,
             "ticks": ""
            },
            "type": "choropleth"
           }
          ],
          "contour": [
           {
            "colorbar": {
             "outlinewidth": 0,
             "ticks": ""
            },
            "colorscale": [
             [
              0,
              "#0d0887"
             ],
             [
              0.1111111111111111,
              "#46039f"
             ],
             [
              0.2222222222222222,
              "#7201a8"
             ],
             [
              0.3333333333333333,
              "#9c179e"
             ],
             [
              0.4444444444444444,
              "#bd3786"
             ],
             [
              0.5555555555555556,
              "#d8576b"
             ],
             [
              0.6666666666666666,
              "#ed7953"
             ],
             [
              0.7777777777777778,
              "#fb9f3a"
             ],
             [
              0.8888888888888888,
              "#fdca26"
             ],
             [
              1,
              "#f0f921"
             ]
            ],
            "type": "contour"
           }
          ],
          "contourcarpet": [
           {
            "colorbar": {
             "outlinewidth": 0,
             "ticks": ""
            },
            "type": "contourcarpet"
           }
          ],
          "heatmap": [
           {
            "colorbar": {
             "outlinewidth": 0,
             "ticks": ""
            },
            "colorscale": [
             [
              0,
              "#0d0887"
             ],
             [
              0.1111111111111111,
              "#46039f"
             ],
             [
              0.2222222222222222,
              "#7201a8"
             ],
             [
              0.3333333333333333,
              "#9c179e"
             ],
             [
              0.4444444444444444,
              "#bd3786"
             ],
             [
              0.5555555555555556,
              "#d8576b"
             ],
             [
              0.6666666666666666,
              "#ed7953"
             ],
             [
              0.7777777777777778,
              "#fb9f3a"
             ],
             [
              0.8888888888888888,
              "#fdca26"
             ],
             [
              1,
              "#f0f921"
             ]
            ],
            "type": "heatmap"
           }
          ],
          "heatmapgl": [
           {
            "colorbar": {
             "outlinewidth": 0,
             "ticks": ""
            },
            "colorscale": [
             [
              0,
              "#0d0887"
             ],
             [
              0.1111111111111111,
              "#46039f"
             ],
             [
              0.2222222222222222,
              "#7201a8"
             ],
             [
              0.3333333333333333,
              "#9c179e"
             ],
             [
              0.4444444444444444,
              "#bd3786"
             ],
             [
              0.5555555555555556,
              "#d8576b"
             ],
             [
              0.6666666666666666,
              "#ed7953"
             ],
             [
              0.7777777777777778,
              "#fb9f3a"
             ],
             [
              0.8888888888888888,
              "#fdca26"
             ],
             [
              1,
              "#f0f921"
             ]
            ],
            "type": "heatmapgl"
           }
          ],
          "histogram": [
           {
            "marker": {
             "pattern": {
              "fillmode": "overlay",
              "size": 10,
              "solidity": 0.2
             }
            },
            "type": "histogram"
           }
          ],
          "histogram2d": [
           {
            "colorbar": {
             "outlinewidth": 0,
             "ticks": ""
            },
            "colorscale": [
             [
              0,
              "#0d0887"
             ],
             [
              0.1111111111111111,
              "#46039f"
             ],
             [
              0.2222222222222222,
              "#7201a8"
             ],
             [
              0.3333333333333333,
              "#9c179e"
             ],
             [
              0.4444444444444444,
              "#bd3786"
             ],
             [
              0.5555555555555556,
              "#d8576b"
             ],
             [
              0.6666666666666666,
              "#ed7953"
             ],
             [
              0.7777777777777778,
              "#fb9f3a"
             ],
             [
              0.8888888888888888,
              "#fdca26"
             ],
             [
              1,
              "#f0f921"
             ]
            ],
            "type": "histogram2d"
           }
          ],
          "histogram2dcontour": [
           {
            "colorbar": {
             "outlinewidth": 0,
             "ticks": ""
            },
            "colorscale": [
             [
              0,
              "#0d0887"
             ],
             [
              0.1111111111111111,
              "#46039f"
             ],
             [
              0.2222222222222222,
              "#7201a8"
             ],
             [
              0.3333333333333333,
              "#9c179e"
             ],
             [
              0.4444444444444444,
              "#bd3786"
             ],
             [
              0.5555555555555556,
              "#d8576b"
             ],
             [
              0.6666666666666666,
              "#ed7953"
             ],
             [
              0.7777777777777778,
              "#fb9f3a"
             ],
             [
              0.8888888888888888,
              "#fdca26"
             ],
             [
              1,
              "#f0f921"
             ]
            ],
            "type": "histogram2dcontour"
           }
          ],
          "mesh3d": [
           {
            "colorbar": {
             "outlinewidth": 0,
             "ticks": ""
            },
            "type": "mesh3d"
           }
          ],
          "parcoords": [
           {
            "line": {
             "colorbar": {
              "outlinewidth": 0,
              "ticks": ""
             }
            },
            "type": "parcoords"
           }
          ],
          "pie": [
           {
            "automargin": true,
            "type": "pie"
           }
          ],
          "scatter": [
           {
            "fillpattern": {
             "fillmode": "overlay",
             "size": 10,
             "solidity": 0.2
            },
            "type": "scatter"
           }
          ],
          "scatter3d": [
           {
            "line": {
             "colorbar": {
              "outlinewidth": 0,
              "ticks": ""
             }
            },
            "marker": {
             "colorbar": {
              "outlinewidth": 0,
              "ticks": ""
             }
            },
            "type": "scatter3d"
           }
          ],
          "scattercarpet": [
           {
            "marker": {
             "colorbar": {
              "outlinewidth": 0,
              "ticks": ""
             }
            },
            "type": "scattercarpet"
           }
          ],
          "scattergeo": [
           {
            "marker": {
             "colorbar": {
              "outlinewidth": 0,
              "ticks": ""
             }
            },
            "type": "scattergeo"
           }
          ],
          "scattergl": [
           {
            "marker": {
             "colorbar": {
              "outlinewidth": 0,
              "ticks": ""
             }
            },
            "type": "scattergl"
           }
          ],
          "scattermapbox": [
           {
            "marker": {
             "colorbar": {
              "outlinewidth": 0,
              "ticks": ""
             }
            },
            "type": "scattermapbox"
           }
          ],
          "scatterpolar": [
           {
            "marker": {
             "colorbar": {
              "outlinewidth": 0,
              "ticks": ""
             }
            },
            "type": "scatterpolar"
           }
          ],
          "scatterpolargl": [
           {
            "marker": {
             "colorbar": {
              "outlinewidth": 0,
              "ticks": ""
             }
            },
            "type": "scatterpolargl"
           }
          ],
          "scatterternary": [
           {
            "marker": {
             "colorbar": {
              "outlinewidth": 0,
              "ticks": ""
             }
            },
            "type": "scatterternary"
           }
          ],
          "surface": [
           {
            "colorbar": {
             "outlinewidth": 0,
             "ticks": ""
            },
            "colorscale": [
             [
              0,
              "#0d0887"
             ],
             [
              0.1111111111111111,
              "#46039f"
             ],
             [
              0.2222222222222222,
              "#7201a8"
             ],
             [
              0.3333333333333333,
              "#9c179e"
             ],
             [
              0.4444444444444444,
              "#bd3786"
             ],
             [
              0.5555555555555556,
              "#d8576b"
             ],
             [
              0.6666666666666666,
              "#ed7953"
             ],
             [
              0.7777777777777778,
              "#fb9f3a"
             ],
             [
              0.8888888888888888,
              "#fdca26"
             ],
             [
              1,
              "#f0f921"
             ]
            ],
            "type": "surface"
           }
          ],
          "table": [
           {
            "cells": {
             "fill": {
              "color": "#EBF0F8"
             },
             "line": {
              "color": "white"
             }
            },
            "header": {
             "fill": {
              "color": "#C8D4E3"
             },
             "line": {
              "color": "white"
             }
            },
            "type": "table"
           }
          ]
         },
         "layout": {
          "annotationdefaults": {
           "arrowcolor": "#2a3f5f",
           "arrowhead": 0,
           "arrowwidth": 1
          },
          "autotypenumbers": "strict",
          "coloraxis": {
           "colorbar": {
            "outlinewidth": 0,
            "ticks": ""
           }
          },
          "colorscale": {
           "diverging": [
            [
             0,
             "#8e0152"
            ],
            [
             0.1,
             "#c51b7d"
            ],
            [
             0.2,
             "#de77ae"
            ],
            [
             0.3,
             "#f1b6da"
            ],
            [
             0.4,
             "#fde0ef"
            ],
            [
             0.5,
             "#f7f7f7"
            ],
            [
             0.6,
             "#e6f5d0"
            ],
            [
             0.7,
             "#b8e186"
            ],
            [
             0.8,
             "#7fbc41"
            ],
            [
             0.9,
             "#4d9221"
            ],
            [
             1,
             "#276419"
            ]
           ],
           "sequential": [
            [
             0,
             "#0d0887"
            ],
            [
             0.1111111111111111,
             "#46039f"
            ],
            [
             0.2222222222222222,
             "#7201a8"
            ],
            [
             0.3333333333333333,
             "#9c179e"
            ],
            [
             0.4444444444444444,
             "#bd3786"
            ],
            [
             0.5555555555555556,
             "#d8576b"
            ],
            [
             0.6666666666666666,
             "#ed7953"
            ],
            [
             0.7777777777777778,
             "#fb9f3a"
            ],
            [
             0.8888888888888888,
             "#fdca26"
            ],
            [
             1,
             "#f0f921"
            ]
           ],
           "sequentialminus": [
            [
             0,
             "#0d0887"
            ],
            [
             0.1111111111111111,
             "#46039f"
            ],
            [
             0.2222222222222222,
             "#7201a8"
            ],
            [
             0.3333333333333333,
             "#9c179e"
            ],
            [
             0.4444444444444444,
             "#bd3786"
            ],
            [
             0.5555555555555556,
             "#d8576b"
            ],
            [
             0.6666666666666666,
             "#ed7953"
            ],
            [
             0.7777777777777778,
             "#fb9f3a"
            ],
            [
             0.8888888888888888,
             "#fdca26"
            ],
            [
             1,
             "#f0f921"
            ]
           ]
          },
          "colorway": [
           "#636efa",
           "#EF553B",
           "#00cc96",
           "#ab63fa",
           "#FFA15A",
           "#19d3f3",
           "#FF6692",
           "#B6E880",
           "#FF97FF",
           "#FECB52"
          ],
          "font": {
           "color": "#2a3f5f"
          },
          "geo": {
           "bgcolor": "white",
           "lakecolor": "white",
           "landcolor": "#E5ECF6",
           "showlakes": true,
           "showland": true,
           "subunitcolor": "white"
          },
          "hoverlabel": {
           "align": "left"
          },
          "hovermode": "closest",
          "mapbox": {
           "style": "light"
          },
          "paper_bgcolor": "white",
          "plot_bgcolor": "#E5ECF6",
          "polar": {
           "angularaxis": {
            "gridcolor": "white",
            "linecolor": "white",
            "ticks": ""
           },
           "bgcolor": "#E5ECF6",
           "radialaxis": {
            "gridcolor": "white",
            "linecolor": "white",
            "ticks": ""
           }
          },
          "scene": {
           "xaxis": {
            "backgroundcolor": "#E5ECF6",
            "gridcolor": "white",
            "gridwidth": 2,
            "linecolor": "white",
            "showbackground": true,
            "ticks": "",
            "zerolinecolor": "white"
           },
           "yaxis": {
            "backgroundcolor": "#E5ECF6",
            "gridcolor": "white",
            "gridwidth": 2,
            "linecolor": "white",
            "showbackground": true,
            "ticks": "",
            "zerolinecolor": "white"
           },
           "zaxis": {
            "backgroundcolor": "#E5ECF6",
            "gridcolor": "white",
            "gridwidth": 2,
            "linecolor": "white",
            "showbackground": true,
            "ticks": "",
            "zerolinecolor": "white"
           }
          },
          "shapedefaults": {
           "line": {
            "color": "#2a3f5f"
           }
          },
          "ternary": {
           "aaxis": {
            "gridcolor": "white",
            "linecolor": "white",
            "ticks": ""
           },
           "baxis": {
            "gridcolor": "white",
            "linecolor": "white",
            "ticks": ""
           },
           "bgcolor": "#E5ECF6",
           "caxis": {
            "gridcolor": "white",
            "linecolor": "white",
            "ticks": ""
           }
          },
          "title": {
           "x": 0.05
          },
          "xaxis": {
           "automargin": true,
           "gridcolor": "white",
           "linecolor": "white",
           "ticks": "",
           "title": {
            "standoff": 15
           },
           "zerolinecolor": "white",
           "zerolinewidth": 2
          },
          "yaxis": {
           "automargin": true,
           "gridcolor": "white",
           "linecolor": "white",
           "ticks": "",
           "title": {
            "standoff": 15
           },
           "zerolinecolor": "white",
           "zerolinewidth": 2
          }
         }
        },
        "title": {
         "text": "Top 20 des articles en quantités vendues"
        },
        "xaxis": {
         "anchor": "y",
         "autorange": true,
         "domain": [
          0,
          1
         ],
         "range": [
          4140.5,
          6126.5
         ],
         "title": {
          "text": "product_id"
         },
         "type": "linear"
        },
        "yaxis": {
         "anchor": "x",
         "autorange": true,
         "domain": [
          0,
          1
         ],
         "range": [
          0,
          152.6315789473684
         ],
         "title": {
          "text": "stock_quantity"
         },
         "type": "linear"
        }
       }
      },
      "image/png": "[encoded data removed]",
      "text/html": [
       "<div>                            <div id=\"446bac94-331e-4d73-8713-94aa7ca90f0e\" class=\"plotly-graph-div\" style=\"height:525px; width:100%;\"></div>            <script type=\"text/javascript\">                require([\"plotly\"], function(Plotly) {                    window.PLOTLYENV=window.PLOTLYENV || {};                                    if (document.getElementById(\"446bac94-331e-4d73-8713-94aa7ca90f0e\")) {                    Plotly.newPlot(                        \"446bac94-331e-4d73-8713-94aa7ca90f0e\",                        [{\"alignmentgroup\":\"True\",\"hovertemplate\":\"product_id=%{x}<br>stock_quantity=%{y}<extra></extra>\",\"legendgroup\":\"\",\"marker\":{\"color\":\"#636efa\",\"pattern\":{\"shape\":\"\"}},\"name\":\"\",\"offsetgroup\":\"\",\"orientation\":\"v\",\"showlegend\":false,\"textposition\":\"auto\",\"x\":[4350,4337,4334,6126,5025,4353,5761,4348,4142,4141,4150,4867,4357,4359,5024,5026,4149,4970,4147,5892],\"xaxis\":\"x\",\"y\":[145,145,142,138,136,127,125,125,125,123,123,121,115,112,103,101,101,100,100,98],\"yaxis\":\"y\",\"type\":\"bar\"}],                        {\"template\":{\"data\":{\"histogram2dcontour\":[{\"type\":\"histogram2dcontour\",\"colorbar\":{\"outlinewidth\":0,\"ticks\":\"\"},\"colorscale\":[[0.0,\"#0d0887\"],[0.1111111111111111,\"#46039f\"],[0.2222222222222222,\"#7201a8\"],[0.3333333333333333,\"#9c179e\"],[0.4444444444444444,\"#bd3786\"],[0.5555555555555556,\"#d8576b\"],[0.6666666666666666,\"#ed7953\"],[0.7777777777777778,\"#fb9f3a\"],[0.8888888888888888,\"#fdca26\"],[1.0,\"#f0f921\"]]}],\"choropleth\":[{\"type\":\"choropleth\",\"colorbar\":{\"outlinewidth\":0,\"ticks\":\"\"}}],\"histogram2d\":[{\"type\":\"histogram2d\",\"colorbar\":{\"outlinewidth\":0,\"ticks\":\"\"},\"colorscale\":[[0.0,\"#0d0887\"],[0.1111111111111111,\"#46039f\"],[0.2222222222222222,\"#7201a8\"],[0.3333333333333333,\"#9c179e\"],[0.4444444444444444,\"#bd3786\"],[0.5555555555555556,\"#d8576b\"],[0.6666666666666666,\"#ed7953\"],[0.7777777777777778,\"#fb9f3a\"],[0.8888888888888888,\"#fdca26\"],[1.0,\"#f0f921\"]]}],\"heatmap\":[{\"type\":\"heatmap\",\"colorbar\":{\"outlinewidth\":0,\"ticks\":\"\"},\"colorscale\":[[0.0,\"#0d0887\"],[0.1111111111111111,\"#46039f\"],[0.2222222222222222,\"#7201a8\"],[0.3333333333333333,\"#9c179e\"],[0.4444444444444444,\"#bd3786\"],[0.5555555555555556,\"#d8576b\"],[0.6666666666666666,\"#ed7953\"],[0.7777777777777778,\"#fb9f3a\"],[0.8888888888888888,\"#fdca26\"],[1.0,\"#f0f921\"]]}],\"heatmapgl\":[{\"type\":\"heatmapgl\",\"colorbar\":{\"outlinewidth\":0,\"ticks\":\"\"},\"colorscale\":[[0.0,\"#0d0887\"],[0.1111111111111111,\"#46039f\"],[0.2222222222222222,\"#7201a8\"],[0.3333333333333333,\"#9c179e\"],[0.4444444444444444,\"#bd3786\"],[0.5555555555555556,\"#d8576b\"],[0.6666666666666666,\"#ed7953\"],[0.7777777777777778,\"#fb9f3a\"],[0.8888888888888888,\"#fdca26\"],[1.0,\"#f0f921\"]]}],\"contourcarpet\":[{\"type\":\"contourcarpet\",\"colorbar\":{\"outlinewidth\":0,\"ticks\":\"\"}}],\"contour\":[{\"type\":\"contour\",\"colorbar\":{\"outlinewidth\":0,\"ticks\":\"\"},\"colorscale\":[[0.0,\"#0d0887\"],[0.1111111111111111,\"#46039f\"],[0.2222222222222222,\"#7201a8\"],[0.3333333333333333,\"#9c179e\"],[0.4444444444444444,\"#bd3786\"],[0.5555555555555556,\"#d8576b\"],[0.6666666666666666,\"#ed7953\"],[0.7777777777777778,\"#fb9f3a\"],[0.8888888888888888,\"#fdca26\"],[1.0,\"#f0f921\"]]}],\"surface\":[{\"type\":\"surface\",\"colorbar\":{\"outlinewidth\":0,\"ticks\":\"\"},\"colorscale\":[[0.0,\"#0d0887\"],[0.1111111111111111,\"#46039f\"],[0.2222222222222222,\"#7201a8\"],[0.3333333333333333,\"#9c179e\"],[0.4444444444444444,\"#bd3786\"],[0.5555555555555556,\"#d8576b\"],[0.6666666666666666,\"#ed7953\"],[0.7777777777777778,\"#fb9f3a\"],[0.8888888888888888,\"#fdca26\"],[1.0,\"#f0f921\"]]}],\"mesh3d\":[{\"type\":\"mesh3d\",\"colorbar\":{\"outlinewidth\":0,\"ticks\":\"\"}}],\"scatter\":[{\"fillpattern\":{\"fillmode\":\"overlay\",\"size\":10,\"solidity\":0.2},\"type\":\"scatter\"}],\"parcoords\":[{\"type\":\"parcoords\",\"line\":{\"colorbar\":{\"outlinewidth\":0,\"ticks\":\"\"}}}],\"scatterpolargl\":[{\"type\":\"scatterpolargl\",\"marker\":{\"colorbar\":{\"outlinewidth\":0,\"ticks\":\"\"}}}],\"bar\":[{\"error_x\":{\"color\":\"#2a3f5f\"},\"error_y\":{\"color\":\"#2a3f5f\"},\"marker\":{\"line\":{\"color\":\"#E5ECF6\",\"width\":0.5},\"pattern\":{\"fillmode\":\"overlay\",\"size\":10,\"solidity\":0.2}},\"type\":\"bar\"}],\"scattergeo\":[{\"type\":\"scattergeo\",\"marker\":{\"colorbar\":{\"outlinewidth\":0,\"ticks\":\"\"}}}],\"scatterpolar\":[{\"type\":\"scatterpolar\",\"marker\":{\"colorbar\":{\"outlinewidth\":0,\"ticks\":\"\"}}}],\"histogram\":[{\"marker\":{\"pattern\":{\"fillmode\":\"overlay\",\"size\":10,\"solidity\":0.2}},\"type\":\"histogram\"}],\"scattergl\":[{\"type\":\"scattergl\",\"marker\":{\"colorbar\":{\"outlinewidth\":0,\"ticks\":\"\"}}}],\"scatter3d\":[{\"type\":\"scatter3d\",\"line\":{\"colorbar\":{\"outlinewidth\":0,\"ticks\":\"\"}},\"marker\":{\"colorbar\":{\"outlinewidth\":0,\"ticks\":\"\"}}}],\"scattermapbox\":[{\"type\":\"scattermapbox\",\"marker\":{\"colorbar\":{\"outlinewidth\":0,\"ticks\":\"\"}}}],\"scatterternary\":[{\"type\":\"scatterternary\",\"marker\":{\"colorbar\":{\"outlinewidth\":0,\"ticks\":\"\"}}}],\"scattercarpet\":[{\"type\":\"scattercarpet\",\"marker\":{\"colorbar\":{\"outlinewidth\":0,\"ticks\":\"\"}}}],\"carpet\":[{\"aaxis\":{\"endlinecolor\":\"#2a3f5f\",\"gridcolor\":\"white\",\"linecolor\":\"white\",\"minorgridcolor\":\"white\",\"startlinecolor\":\"#2a3f5f\"},\"baxis\":{\"endlinecolor\":\"#2a3f5f\",\"gridcolor\":\"white\",\"linecolor\":\"white\",\"minorgridcolor\":\"white\",\"startlinecolor\":\"#2a3f5f\"},\"type\":\"carpet\"}],\"table\":[{\"cells\":{\"fill\":{\"color\":\"#EBF0F8\"},\"line\":{\"color\":\"white\"}},\"header\":{\"fill\":{\"color\":\"#C8D4E3\"},\"line\":{\"color\":\"white\"}},\"type\":\"table\"}],\"barpolar\":[{\"marker\":{\"line\":{\"color\":\"#E5ECF6\",\"width\":0.5},\"pattern\":{\"fillmode\":\"overlay\",\"size\":10,\"solidity\":0.2}},\"type\":\"barpolar\"}],\"pie\":[{\"automargin\":true,\"type\":\"pie\"}]},\"layout\":{\"autotypenumbers\":\"strict\",\"colorway\":[\"#636efa\",\"#EF553B\",\"#00cc96\",\"#ab63fa\",\"#FFA15A\",\"#19d3f3\",\"#FF6692\",\"#B6E880\",\"#FF97FF\",\"#FECB52\"],\"font\":{\"color\":\"#2a3f5f\"},\"hovermode\":\"closest\",\"hoverlabel\":{\"align\":\"left\"},\"paper_bgcolor\":\"white\",\"plot_bgcolor\":\"#E5ECF6\",\"polar\":{\"bgcolor\":\"#E5ECF6\",\"angularaxis\":{\"gridcolor\":\"white\",\"linecolor\":\"white\",\"ticks\":\"\"},\"radialaxis\":{\"gridcolor\":\"white\",\"linecolor\":\"white\",\"ticks\":\"\"}},\"ternary\":{\"bgcolor\":\"#E5ECF6\",\"aaxis\":{\"gridcolor\":\"white\",\"linecolor\":\"white\",\"ticks\":\"\"},\"baxis\":{\"gridcolor\":\"white\",\"linecolor\":\"white\",\"ticks\":\"\"},\"caxis\":{\"gridcolor\":\"white\",\"linecolor\":\"white\",\"ticks\":\"\"}},\"coloraxis\":{\"colorbar\":{\"outlinewidth\":0,\"ticks\":\"\"}},\"colorscale\":{\"sequential\":[[0.0,\"#0d0887\"],[0.1111111111111111,\"#46039f\"],[0.2222222222222222,\"#7201a8\"],[0.3333333333333333,\"#9c179e\"],[0.4444444444444444,\"#bd3786\"],[0.5555555555555556,\"#d8576b\"],[0.6666666666666666,\"#ed7953\"],[0.7777777777777778,\"#fb9f3a\"],[0.8888888888888888,\"#fdca26\"],[1.0,\"#f0f921\"]],\"sequentialminus\":[[0.0,\"#0d0887\"],[0.1111111111111111,\"#46039f\"],[0.2222222222222222,\"#7201a8\"],[0.3333333333333333,\"#9c179e\"],[0.4444444444444444,\"#bd3786\"],[0.5555555555555556,\"#d8576b\"],[0.6666666666666666,\"#ed7953\"],[0.7777777777777778,\"#fb9f3a\"],[0.8888888888888888,\"#fdca26\"],[1.0,\"#f0f921\"]],\"diverging\":[[0,\"#8e0152\"],[0.1,\"#c51b7d\"],[0.2,\"#de77ae\"],[0.3,\"#f1b6da\"],[0.4,\"#fde0ef\"],[0.5,\"#f7f7f7\"],[0.6,\"#e6f5d0\"],[0.7,\"#b8e186\"],[0.8,\"#7fbc41\"],[0.9,\"#4d9221\"],[1,\"#276419\"]]},\"xaxis\":{\"gridcolor\":\"white\",\"linecolor\":\"white\",\"ticks\":\"\",\"title\":{\"standoff\":15},\"zerolinecolor\":\"white\",\"automargin\":true,\"zerolinewidth\":2},\"yaxis\":{\"gridcolor\":\"white\",\"linecolor\":\"white\",\"ticks\":\"\",\"title\":{\"standoff\":15},\"zerolinecolor\":\"white\",\"automargin\":true,\"zerolinewidth\":2},\"scene\":{\"xaxis\":{\"backgroundcolor\":\"#E5ECF6\",\"gridcolor\":\"white\",\"linecolor\":\"white\",\"showbackground\":true,\"ticks\":\"\",\"zerolinecolor\":\"white\",\"gridwidth\":2},\"yaxis\":{\"backgroundcolor\":\"#E5ECF6\",\"gridcolor\":\"white\",\"linecolor\":\"white\",\"showbackground\":true,\"ticks\":\"\",\"zerolinecolor\":\"white\",\"gridwidth\":2},\"zaxis\":{\"backgroundcolor\":\"#E5ECF6\",\"gridcolor\":\"white\",\"linecolor\":\"white\",\"showbackground\":true,\"ticks\":\"\",\"zerolinecolor\":\"white\",\"gridwidth\":2}},\"shapedefaults\":{\"line\":{\"color\":\"#2a3f5f\"}},\"annotationdefaults\":{\"arrowcolor\":\"#2a3f5f\",\"arrowhead\":0,\"arrowwidth\":1},\"geo\":{\"bgcolor\":\"white\",\"landcolor\":\"#E5ECF6\",\"subunitcolor\":\"white\",\"showland\":true,\"showlakes\":true,\"lakecolor\":\"white\"},\"title\":{\"x\":0.05},\"mapbox\":{\"style\":\"light\"}}},\"xaxis\":{\"anchor\":\"y\",\"domain\":[0.0,1.0],\"title\":{\"text\":\"product_id\"}},\"yaxis\":{\"anchor\":\"x\",\"domain\":[0.0,1.0],\"title\":{\"text\":\"stock_quantity\"}},\"legend\":{\"tracegroupgap\":0},\"title\":{\"text\":\"Top 20 des articles en quantit\\u00e9s vendues\"},\"barmode\":\"relative\"},                        {\"responsive\": true}                    ).then(function(){\n",
       "                            \n",
       "var gd = document.getElementById('446bac94-331e-4d73-8713-94aa7ca90f0e');\n",
       "var x = new MutationObserver(function (mutations, observer) {{\n",
       "        var display = window.getComputedStyle(gd).display;\n",
       "        if (!display || display === 'none') {{\n",
       "            console.log([gd, 'removed!']);\n",
       "            Plotly.purge(gd);\n",
       "            observer.disconnect();\n",
       "        }}\n",
       "}});\n",
       "\n",
       "// Listen for the removal of the full notebook cells\n",
       "var notebookContainer = gd.closest('#notebook-container');\n",
       "if (notebookContainer) {{\n",
       "    x.observe(notebookContainer, {childList: true});\n",
       "}}\n",
       "\n",
       "// Listen for the clearing of the current output cell\n",
       "var outputEl = gd.closest('.output');\n",
       "if (outputEl) {{\n",
       "    x.observe(outputEl, {childList: true});\n",
       "}}\n",
       "\n",
       "                        })                };                });            </script>        </div>"
      ]
     },
     "metadata": {},
     "output_type": "display_data"
    }
   ],
   "source": [
    "# Créer le graphique en barres\n",
    "fig = px.bar(top_20_articles, x='product_id', y='stock_quantity', title='Top 20 des articles en quantités vendues')\n",
    "\n",
    "# Afficher le graphique\n",
    "fig.show()"
   ]
  },
  {
   "cell_type": "code",
   "execution_count": 8727,
   "id": "fdcf1791-05a3-496b-84f3-a3929e1db3e4",
   "metadata": {},
   "outputs": [
    {
     "name": "stdout",
     "output_type": "stream",
     "text": [
      "Noms de colonnes de df_final_sorted :\n",
      "Index(['product_id', 'onsale_web', 'price', 'stock_quantity', 'stock_status',\n",
      "       'purchase_price', 'stock_status_2', 'id_web', 'sans_correspondance',\n",
      "       '_merge', 'sku', 'virtual', 'total_sales', 'tax_status', 'post_author',\n",
      "       'post_date', 'product_type', 'post_title', 'post_status', 'post_name',\n",
      "       'post_type', 'post_mime_type', 'respecte_la_regle', 'outliers',\n",
      "       'CA_par_article_web', 'CA_par_article', 'part_CA'],\n",
      "      dtype='object')\n"
     ]
    }
   ],
   "source": [
    "print(\"Noms de colonnes de df_final_sorted :\")\n",
    "print(df_final_sorted.columns)"
   ]
  },
  {
   "cell_type": "code",
   "execution_count": 8728,
   "id": "1e6e81a8-68cd-487c-aab5-af9d8a560519",
   "metadata": {},
   "outputs": [
    {
     "name": "stdout",
     "output_type": "stream",
     "text": [
      "Le nombre d'articles qui représentent 80% du stock est : 471\n",
      "La proportion d'articles qui représentent 80% du stock par rapport au catalogue est : 47.82%\n"
     ]
    }
   ],
   "source": [
    "#############################\n",
    "# Calculer le 20 / 80 en stock #\n",
    "#############################\n",
    "# Trier le DataFrame par 'stock_quantity' dans l'ordre décroissant\n",
    "#df_final = df_final.sort_values('stock_quantity', ascending=False)\n",
    "\n",
    "# Calculer le stock total\n",
    "stock_total = df_final_sorted['stock_quantity'].sum()\n",
    "\n",
    "# Calculer la part du stock de chaque ligne et créer une nouvelle colonne\n",
    "df_final_sorted['part_stock'] = df_final_sorted['stock_quantity'] / stock_total\n",
    "\n",
    "# Calculer la somme cumulative de la colonne 'part_stock' et créer une nouvelle colonne\n",
    "df_final_sorted['stock_quantity'] = df_final_sorted['part_stock'].cumsum()*100\n",
    "\n",
    "# Trouver le premier article où la somme cumulative dépasse 80%\n",
    "index_80_stock = df_final_sorted[df_final['stock_quantity'] > 0.8].index[0]\n",
    "\n",
    "# Calculer le nombre d'articles qui représentent 80% du stock\n",
    "nb_articles_80_stock = df_final_sorted.iloc[:index_80_stock].shape[0]\n",
    "\n",
    "print(\"Le nombre d'articles qui représentent 80% du stock est :\", nb_articles_80_stock)\n",
    "\n",
    "nb_total_articles = len(df_final_sorted)\n",
    "\n",
    "# Calculer la proportion d'articles qui représentent 80% du stock\n",
    "proportion_articles_80_stock = nb_articles_80_stock / nb_total_articles * 100\n",
    "\n",
    "print(f\"La proportion d'articles qui représentent 80% du stock par rapport au catalogue est : {proportion_articles_80_stock:.2f}%\")\n"
   ]
  },
  {
   "cell_type": "code",
   "execution_count": null,
   "id": "93835b98-86b8-44f5-a2fa-f00bdb45d35e",
   "metadata": {},
   "outputs": [],
   "source": []
  },
  {
   "cell_type": "markdown",
   "id": "077789b1",
   "metadata": {},
   "source": [
    "<div style=\"border: 1px solid RGB(51,165,182);\" >\n",
    "<h3 style=\"margin: auto; padding: 20px; color: RGB(51,165,182); \">Etape 5.3 - Analyse des stocks</h3>\n",
    "</div>"
   ]
  },
  {
   "cell_type": "code",
   "execution_count": 8729,
   "id": "aa24620e-4172-48da-af4e-b0450262ac36",
   "metadata": {
    "scrolled": true
   },
   "outputs": [
    {
     "data": {
      "image/png": "[encoded data removed]",
      "text/plain": [
       "<Figure size 1000x600 with 1 Axes>"
      ]
     },
     "metadata": {},
     "output_type": "display_data"
    }
   ],
   "source": [
    "######################################\n",
    "# Calcule le nombre de mois de stock #\n",
    "######################################\n",
    "\n",
    "# Création de la colonne Rotation de stock\n",
    "## Calculer la moyenne des stocks\n",
    "average_stock = df_erp['stock_quantity'].mean()\n",
    "\n",
    "## Ajouter la colonne 'average_stock' au dataframe\n",
    "df_erp['average_stock'] = average_stock\n",
    "\n",
    "## Créer la colonne de rotation des stocks\n",
    "df_erp['stock_rotation'] = df_erp['purchase_price'] / df_erp['average_stock']\n",
    "\n",
    "# Remplacement des \"inf\" par 0\n",
    "df_erp = df_erp.replace([np.inf, -np.inf], 0)\n",
    "\n",
    "# Effectuer le tri dans l'ordre décroissant du nombre de mois de stock dans le dataset df_merge\n",
    "df_erp_sorted = df_erp.sort_values('stock_rotation', ascending=False)\n",
    "\n",
    "# Graphique en barre du flop 20 des produits qui ont le plus de mois de stock\n",
    "\n",
    "# Trier le dataframe dans l'ordre décroissant du nombre de mois de stock\n",
    "df_erp_sorted = df_erp.sort_values('stock_quantity', ascending=False)\n",
    "\n",
    "# Sélectionner le flop 20 des produits\n",
    "flop_20_products = df_erp_sorted.head(20)\n",
    "\n",
    "# Créer le graphique en barres\n",
    "plt.figure(figsize=(10, 6))\n",
    "plt.barh(flop_20_products['product_id'], flop_20_products['stock_quantity'], color='skyblue')\n",
    "plt.xlabel('Nombre de mois de stock')\n",
    "plt.ylabel('product_type')\n",
    "plt.title('Flop 20 des produits qui ont le plus de mois de stock')\n",
    "plt.gca().invert_yaxis()  # Inverser l'axe des y pour avoir le produit avec le plus de mois de stock en haut\n",
    "plt.show()"
   ]
  },
  {
   "cell_type": "code",
   "execution_count": 8730,
   "id": "00d4c2c8-809e-419a-acc9-1203425d6064",
   "metadata": {},
   "outputs": [
    {
     "name": "stdout",
     "output_type": "stream",
     "text": [
      "La somme de la colonne 'Valorisation_stock_euros' est : 531628.80\n"
     ]
    }
   ],
   "source": [
    "####################################\n",
    "# Valorisation des stocks en euros #\n",
    "####################################\n",
    "\n",
    "# Création de la colonne Valorisation des stocks en euros\n",
    "# Créer une colonne pour la valorisation des stocks en euros\n",
    "df_erp['valorisation_stock_euros'] = df_erp['stock_quantity'] * df_erp['price']\n",
    "\n",
    "# Calculer la somme de la colonne \"Valorisation_stock_euros\"\n",
    "somme_valorisation = df_erp['valorisation_stock_euros'].sum()\n",
    "print(\"La somme de la colonne 'Valorisation_stock_euros' est : {:.2f}\".format(somme_valorisation))\n"
   ]
  },
  {
   "cell_type": "code",
   "execution_count": 8731,
   "id": "0f6c7fa7-6105-40b4-ab84-d6bf490194e2",
   "metadata": {},
   "outputs": [
    {
     "name": "stdout",
     "output_type": "stream",
     "text": [
      "     product_id  onsale_web_x  price_x  stock_quantity_x stock_status_x  \\\n",
      "0          3847             1     24.2                16        instock   \n",
      "1          3849             1     34.3                10        instock   \n",
      "2          3850             1     20.8                 0     outofstock   \n",
      "3          4032             1     14.1                26        instock   \n",
      "4          4039             1     46.0                 3     outofstock   \n",
      "..          ...           ...      ...               ...            ...   \n",
      "980        7203             0     45.0                30        instock   \n",
      "981        7204             0     45.0                 9        instock   \n",
      "982        7204             0     45.0                 9        instock   \n",
      "983        7204             0     45.0                 9        instock   \n",
      "984        7338             1     16.3                40        instock   \n",
      "\n",
      "     purchase_price_x stock_status_2_x  z_score  average_stock  \\\n",
      "0               12.88          instock    -0.30      21.589091   \n",
      "1               17.54          instock     0.08      21.589091   \n",
      "2               10.64       outofstock    -0.43      21.589091   \n",
      "3                6.92          instock    -0.68      21.589091   \n",
      "4               23.77       outofstock     0.52      21.589091   \n",
      "..                ...              ...      ...            ...   \n",
      "980             23.48          instock     0.48      21.589091   \n",
      "981             24.18          instock     0.48      21.589091   \n",
      "982             24.18          instock     0.48      21.589091   \n",
      "983             24.18          instock     0.48      21.589091   \n",
      "984              8.00          instock    -0.59      21.589091   \n",
      "\n",
      "     stock_rotation  valorisation_stock_euros  onsale_web_y  price_y  \\\n",
      "0          0.596598                     387.2             1     24.2   \n",
      "1          0.812447                     343.0             1     34.3   \n",
      "2          0.492842                       0.0             1     20.8   \n",
      "3          0.320532                     366.6             1     14.1   \n",
      "4          1.101019                     138.0             1     46.0   \n",
      "..              ...                       ...           ...      ...   \n",
      "980        1.087586                    1350.0             0     45.0   \n",
      "981        1.120010                     405.0             0     45.0   \n",
      "982        1.120010                     405.0             0     45.0   \n",
      "983        1.120010                     405.0             0     45.0   \n",
      "984        0.370558                     652.0             1     16.3   \n",
      "\n",
      "     stock_quantity_y stock_status_y  purchase_price_y stock_status_2_y  \\\n",
      "0                  16        instock             12.88          instock   \n",
      "1                  10        instock             17.54          instock   \n",
      "2                   0     outofstock             10.64       outofstock   \n",
      "3                  26        instock              6.92          instock   \n",
      "4                   3     outofstock             23.77       outofstock   \n",
      "..                ...            ...               ...              ...   \n",
      "980                30        instock             23.48          instock   \n",
      "981                 9        instock             24.18          instock   \n",
      "982                 9        instock             24.18          instock   \n",
      "983                 9        instock             24.18          instock   \n",
      "984                40        instock              8.00          instock   \n",
      "\n",
      "    id_web  sans_correspondance _merge      sku  virtual  total_sales  \\\n",
      "0    15298                False   both  15298.0        0          6.0   \n",
      "1    15296                False   both  15296.0        0          9.0   \n",
      "2    15300                False   both  15300.0        0          NaN   \n",
      "3    19814                False   both  19814.0        0         12.0   \n",
      "4    19815                False   both  19815.0        0          3.0   \n",
      "..     ...                  ...    ...      ...      ...          ...   \n",
      "980    NaN                 True   both      NaN        0          NaN   \n",
      "981    NaN                 True   both      NaN        0          7.0   \n",
      "982    NaN                 True   both      NaN        0          4.0   \n",
      "983    NaN                 True   both      NaN        0          NaN   \n",
      "984  16230                False   both  16230.0        0         13.0   \n",
      "\n",
      "    tax_status  post_author           post_date product_type  \\\n",
      "0      taxable          2.0 2018-02-08 12:58:52          Vin   \n",
      "1      taxable          2.0 2018-02-08 13:49:41          Vin   \n",
      "2          NaN          2.0 2018-02-08 14:08:36          Vin   \n",
      "3          NaN          2.0 2018-02-09 14:01:05          Vin   \n",
      "4          NaN          2.0 2018-02-12 09:04:37          Vin   \n",
      "..         ...          ...                 ...          ...   \n",
      "980        NaN          NaN                 NaT          NaN   \n",
      "981        NaN          1.0 2018-06-01 13:53:46        Autre   \n",
      "982    taxable          2.0 2020-06-09 15:42:04          Vin   \n",
      "983        NaN          NaN                 NaT          NaN   \n",
      "984        NaN          2.0 2020-07-20 11:00:00          Vin   \n",
      "\n",
      "                                            post_title post_status  \\\n",
      "0          Pierre Jean Villa Saint-Joseph Préface 2018     publish   \n",
      "1      Pierre Jean Villa Saint-Joseph Rouge Tildé 2017     publish   \n",
      "2    Pierre Jean Villa Crozes-Hermitage Accroche Co...     publish   \n",
      "3    Pierre Jean Villa IGP Collines Rhodaniennes Ga...     publish   \n",
      "4            Pierre Jean Villa Côte Rôtie Carmina 2017     publish   \n",
      "..                                                 ...         ...   \n",
      "980                                                NaN         NaN   \n",
      "981                                  Bon cadeau de 25€     publish   \n",
      "982       Clos du Mont-Olivet Châteauneuf-du-Pape 2007     publish   \n",
      "983                                                NaN         NaN   \n",
      "984  Domaine Saint-Nicolas Vin de France Blanc Les ...     publish   \n",
      "\n",
      "                                             post_name   post_type  \\\n",
      "0          pierre-jean-villa-saint-joseph-preface-2018     product   \n",
      "1            pierre-jean-villa-saint-joseph-tilde-2017     product   \n",
      "2    pierre-jean-villa-croze-hermitage-accroche-coe...  attachment   \n",
      "3                    pierre-jean-villa-igp-gamine-2018  attachment   \n",
      "4            pierre-jean-villa-cote-rotie-carmina-2017  attachment   \n",
      "..                                                 ...         ...   \n",
      "980                                                NaN         NaN   \n",
      "981                             bon-cadeau-de-25-euros  attachment   \n",
      "982     clos-du-mont-olivet-chateauneuf-du-pape-2007-2     product   \n",
      "983                                                NaN         NaN   \n",
      "984  domaine-saint-nicolas-fiefs-vendeens-blanc-les...  attachment   \n",
      "\n",
      "    post_mime_type  respecte_la_regle  outliers  CA_par_article_web  \\\n",
      "0              NaN               True     False               145.2   \n",
      "1              NaN               True     False               308.7   \n",
      "2       image/jpeg               True     False                 0.0   \n",
      "3       image/jpeg               True      True               169.2   \n",
      "4       image/jpeg               True      True               138.0   \n",
      "..             ...                ...       ...                 ...   \n",
      "980            NaN               True     False                 NaN   \n",
      "981     image/jpeg               True      True                 NaN   \n",
      "982            NaN               True     False                 NaN   \n",
      "983            NaN               True     False                 NaN   \n",
      "984     image/jpeg               True     False               211.9   \n",
      "\n",
      "     CA_par_article   part_CA  stock_months  \n",
      "0          0.819631  0.000778      2.666667  \n",
      "1          0.356652  0.001654      1.111111  \n",
      "2          1.002187  0.000000           NaN  \n",
      "3          0.728377  0.000907      2.166667  \n",
      "4          0.846048  0.000740      1.000000  \n",
      "..              ...       ...           ...  \n",
      "980             NaN       NaN           NaN  \n",
      "981        0.321392  0.001688      6.887755  \n",
      "982        0.694458  0.000965      3.681818  \n",
      "983             NaN       NaN           NaN  \n",
      "984        0.584282  0.001136      3.076923  \n",
      "\n",
      "[985 rows x 38 columns]\n"
     ]
    }
   ],
   "source": [
    "# Fusionner df_erp et df_final sur 'product_id'\n",
    "df_merge = pd.merge(df_erp, df_final, on='product_id')\n",
    "\n",
    "# Assurez-vous que les valeurs de vente mensuelles ne sont pas nulles pour éviter la division par zéro\n",
    "df_merge['total_sales'] = df_merge['total_sales'].replace(0, np.nan)\n",
    "\n",
    "# Calculer le nombre de mois de stock en divisant la valorisation du stock en euros par le produit de la quantité de vente mensuelle et le prix\n",
    "df_merge['stock_months'] = df_merge['valorisation_stock_euros'] / (df_merge['total_sales'] * df_final['price'])\n",
    "\n",
    "# Afficher le DataFrame\n",
    "print(df_merge)\n"
   ]
  },
  {
   "cell_type": "code",
   "execution_count": 8732,
   "id": "a595e133-0cce-490e-bcee-e20f5afa8a57",
   "metadata": {},
   "outputs": [
    {
     "name": "stdout",
     "output_type": "stream",
     "text": [
      "Noms de colonnes de df_erp :\n",
      "Index(['product_id', 'onsale_web', 'price', 'stock_quantity', 'stock_status',\n",
      "       'purchase_price', 'stock_status_2', 'z_score', 'average_stock',\n",
      "       'stock_rotation', 'valorisation_stock_euros'],\n",
      "      dtype='object')\n",
      "Noms de colonnes de df_liaison :\n",
      "Index(['id_web', 'product_id', 'sans_correspondance'], dtype='object')\n"
     ]
    }
   ],
   "source": [
    "# Afficher les noms de colonnes de df_erp\n",
    "print(\"Noms de colonnes de df_erp :\")\n",
    "print(df_erp.columns)\n",
    "\n",
    "# Afficher les noms de colonnes de df_liaison\n",
    "print(\"Noms de colonnes de df_liaison :\")\n",
    "print(df_liaison.columns)"
   ]
  },
  {
   "cell_type": "code",
   "execution_count": 8733,
   "id": "92433d57-e118-40aa-a3e0-120727d048cf",
   "metadata": {},
   "outputs": [
    {
     "name": "stdout",
     "output_type": "stream",
     "text": [
      "     product_id  onsale_web_x  price_x  stock_quantity_x stock_status_x  \\\n",
      "0          3847             1     24.2                16        instock   \n",
      "1          3849             1     34.3                10        instock   \n",
      "2          3850             1     20.8                 0     outofstock   \n",
      "3          4032             1     14.1                26        instock   \n",
      "4          4039             1     46.0                 3     outofstock   \n",
      "..          ...           ...      ...               ...            ...   \n",
      "980        7203             0     45.0                30        instock   \n",
      "981        7204             0     45.0                 9        instock   \n",
      "982        7204             0     45.0                 9        instock   \n",
      "983        7204             0     45.0                 9        instock   \n",
      "984        7338             1     16.3                40        instock   \n",
      "\n",
      "     purchase_price_x stock_status_2_x  z_score  average_stock  \\\n",
      "0               12.88          instock    -0.30      21.589091   \n",
      "1               17.54          instock     0.08      21.589091   \n",
      "2               10.64       outofstock    -0.43      21.589091   \n",
      "3                6.92          instock    -0.68      21.589091   \n",
      "4               23.77       outofstock     0.52      21.589091   \n",
      "..                ...              ...      ...            ...   \n",
      "980             23.48          instock     0.48      21.589091   \n",
      "981             24.18          instock     0.48      21.589091   \n",
      "982             24.18          instock     0.48      21.589091   \n",
      "983             24.18          instock     0.48      21.589091   \n",
      "984              8.00          instock    -0.59      21.589091   \n",
      "\n",
      "     stock_rotation  valorisation_stock_euros  onsale_web_y  price_y  \\\n",
      "0          0.596598                     387.2             1     24.2   \n",
      "1          0.812447                     343.0             1     34.3   \n",
      "2          0.492842                       0.0             1     20.8   \n",
      "3          0.320532                     366.6             1     14.1   \n",
      "4          1.101019                     138.0             1     46.0   \n",
      "..              ...                       ...           ...      ...   \n",
      "980        1.087586                    1350.0             0     45.0   \n",
      "981        1.120010                     405.0             0     45.0   \n",
      "982        1.120010                     405.0             0     45.0   \n",
      "983        1.120010                     405.0             0     45.0   \n",
      "984        0.370558                     652.0             1     16.3   \n",
      "\n",
      "     stock_quantity_y stock_status_y  purchase_price_y stock_status_2_y  \\\n",
      "0                  16        instock             12.88          instock   \n",
      "1                  10        instock             17.54          instock   \n",
      "2                   0     outofstock             10.64       outofstock   \n",
      "3                  26        instock              6.92          instock   \n",
      "4                   3     outofstock             23.77       outofstock   \n",
      "..                ...            ...               ...              ...   \n",
      "980                30        instock             23.48          instock   \n",
      "981                 9        instock             24.18          instock   \n",
      "982                 9        instock             24.18          instock   \n",
      "983                 9        instock             24.18          instock   \n",
      "984                40        instock              8.00          instock   \n",
      "\n",
      "    id_web  sans_correspondance _merge      sku  virtual  total_sales  \\\n",
      "0    15298                False   both  15298.0        0          6.0   \n",
      "1    15296                False   both  15296.0        0          9.0   \n",
      "2    15300                False   both  15300.0        0          NaN   \n",
      "3    19814                False   both  19814.0        0         12.0   \n",
      "4    19815                False   both  19815.0        0          3.0   \n",
      "..     ...                  ...    ...      ...      ...          ...   \n",
      "980    NaN                 True   both      NaN        0          NaN   \n",
      "981    NaN                 True   both      NaN        0          7.0   \n",
      "982    NaN                 True   both      NaN        0          4.0   \n",
      "983    NaN                 True   both      NaN        0          NaN   \n",
      "984  16230                False   both  16230.0        0         13.0   \n",
      "\n",
      "    tax_status  post_author           post_date product_type  \\\n",
      "0      taxable          2.0 2018-02-08 12:58:52          Vin   \n",
      "1      taxable          2.0 2018-02-08 13:49:41          Vin   \n",
      "2          NaN          2.0 2018-02-08 14:08:36          Vin   \n",
      "3          NaN          2.0 2018-02-09 14:01:05          Vin   \n",
      "4          NaN          2.0 2018-02-12 09:04:37          Vin   \n",
      "..         ...          ...                 ...          ...   \n",
      "980        NaN          NaN                 NaT          NaN   \n",
      "981        NaN          1.0 2018-06-01 13:53:46        Autre   \n",
      "982    taxable          2.0 2020-06-09 15:42:04          Vin   \n",
      "983        NaN          NaN                 NaT          NaN   \n",
      "984        NaN          2.0 2020-07-20 11:00:00          Vin   \n",
      "\n",
      "                                            post_title post_status  \\\n",
      "0          Pierre Jean Villa Saint-Joseph Préface 2018     publish   \n",
      "1      Pierre Jean Villa Saint-Joseph Rouge Tildé 2017     publish   \n",
      "2    Pierre Jean Villa Crozes-Hermitage Accroche Co...     publish   \n",
      "3    Pierre Jean Villa IGP Collines Rhodaniennes Ga...     publish   \n",
      "4            Pierre Jean Villa Côte Rôtie Carmina 2017     publish   \n",
      "..                                                 ...         ...   \n",
      "980                                                NaN         NaN   \n",
      "981                                  Bon cadeau de 25€     publish   \n",
      "982       Clos du Mont-Olivet Châteauneuf-du-Pape 2007     publish   \n",
      "983                                                NaN         NaN   \n",
      "984  Domaine Saint-Nicolas Vin de France Blanc Les ...     publish   \n",
      "\n",
      "                                             post_name   post_type  \\\n",
      "0          pierre-jean-villa-saint-joseph-preface-2018     product   \n",
      "1            pierre-jean-villa-saint-joseph-tilde-2017     product   \n",
      "2    pierre-jean-villa-croze-hermitage-accroche-coe...  attachment   \n",
      "3                    pierre-jean-villa-igp-gamine-2018  attachment   \n",
      "4            pierre-jean-villa-cote-rotie-carmina-2017  attachment   \n",
      "..                                                 ...         ...   \n",
      "980                                                NaN         NaN   \n",
      "981                             bon-cadeau-de-25-euros  attachment   \n",
      "982     clos-du-mont-olivet-chateauneuf-du-pape-2007-2     product   \n",
      "983                                                NaN         NaN   \n",
      "984  domaine-saint-nicolas-fiefs-vendeens-blanc-les...  attachment   \n",
      "\n",
      "    post_mime_type  respecte_la_regle  outliers  CA_par_article_web  \\\n",
      "0              NaN               True     False               145.2   \n",
      "1              NaN               True     False               308.7   \n",
      "2       image/jpeg               True     False                 0.0   \n",
      "3       image/jpeg               True      True               169.2   \n",
      "4       image/jpeg               True      True               138.0   \n",
      "..             ...                ...       ...                 ...   \n",
      "980            NaN               True     False                 NaN   \n",
      "981     image/jpeg               True      True                 NaN   \n",
      "982            NaN               True     False                 NaN   \n",
      "983            NaN               True     False                 NaN   \n",
      "984     image/jpeg               True     False               211.9   \n",
      "\n",
      "     CA_par_article   part_CA  stock_months  monthly_sales_euros  \n",
      "0          0.819631  0.000778      2.666667                145.2  \n",
      "1          0.356652  0.001654      1.111111                308.7  \n",
      "2          1.002187  0.000000           NaN                  NaN  \n",
      "3          0.728377  0.000907      2.166667                169.2  \n",
      "4          0.846048  0.000740      1.000000                138.0  \n",
      "..              ...       ...           ...                  ...  \n",
      "980             NaN       NaN           NaN                  NaN  \n",
      "981        0.321392  0.001688           NaN                  NaN  \n",
      "982        0.694458  0.000965           NaN                  NaN  \n",
      "983             NaN       NaN           NaN                  NaN  \n",
      "984        0.584282  0.001136           NaN                  NaN  \n",
      "\n",
      "[985 rows x 39 columns]\n"
     ]
    }
   ],
   "source": [
    "# Calculer les ventes mensuelles en euros\n",
    "df_merge['monthly_sales_euros'] = df_merge['total_sales'] * df_erp['price']\n",
    "\n",
    "# Calculer le nombre de mois de stock en divisant la valorisation du stock en euros par les ventes mensuelles en euros\n",
    "df_merge['stock_months'] = df_merge['valorisation_stock_euros'] / df_merge['monthly_sales_euros']\n",
    "\n",
    "# Afficher le DataFrame\n",
    "print(df_merge)"
   ]
  },
  {
   "cell_type": "code",
   "execution_count": 8734,
   "id": "5f036e37-5cd2-4b24-a179-59cbe348f266",
   "metadata": {},
   "outputs": [],
   "source": [
    "#df_merge['stock_months'] = df_merge['valorisation_stock_euros'] / df_final['monthly_sales_euros']"
   ]
  },
  {
   "cell_type": "code",
   "execution_count": 8735,
   "id": "4a3dd99d",
   "metadata": {},
   "outputs": [
    {
     "name": "stdout",
     "output_type": "stream",
     "text": [
      "La somme de la colonne 'stock_quantity' est : 17811\n"
     ]
    }
   ],
   "source": [
    "##############################################\n",
    "# Valorisation du nombre de produit en stock #\n",
    "##############################################\n",
    "\n",
    "#Calculer la somme de la colonne stock quantity\n",
    "\n",
    "# Calculer la somme de la colonne \"stock_quantity\"\n",
    "somme_stock = df_erp['stock_quantity'].sum()\n",
    "print(\"La somme de la colonne 'stock_quantity' est :\", somme_stock)"
   ]
  },
  {
   "cell_type": "markdown",
   "id": "9e48f6dc",
   "metadata": {},
   "source": [
    "<div style=\"border: 1px solid RGB(51,165,182);\" >\n",
    "<h3 style=\"margin: auto; padding: 20px; color: RGB(51,165,182); \">Etape 5.4 - Analyse du taux de marge</h3>\n",
    "</div>"
   ]
  },
  {
   "cell_type": "code",
   "execution_count": 8736,
   "id": "7de5ca46",
   "metadata": {},
   "outputs": [
    {
     "name": "stdout",
     "output_type": "stream",
     "text": [
      "Le taux de marge minimum est : -6.3498814229249\n",
      "Le taux de marge maximum est : 1.651\n"
     ]
    }
   ],
   "source": [
    "############################\n",
    "# Analyse du taux de marge #\n",
    "############################\n",
    "\n",
    "#Création de la colonne prix HT\n",
    "# Créer une colonne pour le prix HT\n",
    "df_final['prix_HT'] = df_final['price'] / 1.20\n",
    "#Création de la colonne Taux de marge\n",
    "# Créer une colonne pour le taux de marge\n",
    "df_final['Taux_de_marge'] = (df_final['prix_HT'] - df_final['purchase_price']) / df_final['prix_HT']\n",
    "#Afficher le prix minimum de la colonne \"taux_marge\"\n",
    "min_taux_marge = df_final['Taux_de_marge'].min()\n",
    "print(\"Le taux de marge minimum est :\", min_taux_marge)\n",
    "\n",
    "#Afficher le prix maximum de la colonne \"taux_marge\"\n",
    "max_taux_marge = df_final['Taux_de_marge'].max()\n",
    "print(\"Le taux de marge maximum est :\", max_taux_marge)"
   ]
  },
  {
   "cell_type": "code",
   "execution_count": 8737,
   "id": "6082d42b",
   "metadata": {},
   "outputs": [
    {
     "name": "stdout",
     "output_type": "stream",
     "text": [
      "     product_id  onsale_web  price  stock_quantity stock_status  \\\n",
      "129        6324           0  92.00              18      instock   \n",
      "128        6324           0  92.00              18      instock   \n",
      "279        7196           0  31.00              55      instock   \n",
      "278        7196           0  31.00              55      instock   \n",
      "474        4355           1  12.65              97      instock   \n",
      "127        6324           0  92.00              18      instock   \n",
      "277        7196           0  31.00              55      instock   \n",
      "\n",
      "     purchase_price stock_status_2 id_web  sans_correspondance _merge  \\\n",
      "129           99.00        instock    NaN                 True   both   \n",
      "128           99.00        instock    NaN                 True   both   \n",
      "279           31.20        instock    NaN                 True   both   \n",
      "278           31.20        instock    NaN                 True   both   \n",
      "474           77.48        instock  12589                False   both   \n",
      "127           99.00        instock    NaN                 True   both   \n",
      "277           31.20        instock    NaN                 True   both   \n",
      "\n",
      "         sku  virtual  total_sales tax_status  post_author  \\\n",
      "129      NaN        0          7.0        NaN          1.0   \n",
      "128      NaN        0          4.0    taxable          2.0   \n",
      "279      NaN        0          7.0        NaN          1.0   \n",
      "278      NaN        0          4.0    taxable          2.0   \n",
      "474  12589.0        0          0.0    taxable          2.0   \n",
      "127      NaN        0          NaN        NaN          NaN   \n",
      "277      NaN        0          NaN        NaN          NaN   \n",
      "\n",
      "              post_date product_type  \\\n",
      "129 2018-06-01 13:53:46        Autre   \n",
      "128 2020-06-09 15:42:04          Vin   \n",
      "279 2018-06-01 13:53:46        Autre   \n",
      "278 2020-06-09 15:42:04          Vin   \n",
      "474 2018-03-02 10:46:10    Champagne   \n",
      "127                 NaT          NaN   \n",
      "277                 NaT          NaN   \n",
      "\n",
      "                                         post_title post_status  \\\n",
      "129                               Bon cadeau de 25€     publish   \n",
      "128    Clos du Mont-Olivet Châteauneuf-du-Pape 2007     publish   \n",
      "279                               Bon cadeau de 25€     publish   \n",
      "278    Clos du Mont-Olivet Châteauneuf-du-Pape 2007     publish   \n",
      "474  Champagne Egly-Ouriet Grand Cru Blanc de Noirs     publish   \n",
      "127                                             NaN         NaN   \n",
      "277                                             NaN         NaN   \n",
      "\n",
      "                                             post_name   post_type  \\\n",
      "129                             bon-cadeau-de-25-euros  attachment   \n",
      "128     clos-du-mont-olivet-chateauneuf-du-pape-2007-2     product   \n",
      "279                             bon-cadeau-de-25-euros  attachment   \n",
      "278     clos-du-mont-olivet-chateauneuf-du-pape-2007-2     product   \n",
      "474  champagne-egly-ouriet-grand-cru-brut-blanc-de-...     product   \n",
      "127                                                NaN         NaN   \n",
      "277                                                NaN         NaN   \n",
      "\n",
      "    post_mime_type  respecte_la_regle  outliers  CA_par_article_web  \\\n",
      "129     image/jpeg               True      True                 NaN   \n",
      "128            NaN               True      True                 NaN   \n",
      "279     image/jpeg               True      True                 NaN   \n",
      "278            NaN               True     False                 NaN   \n",
      "474            NaN               True      True                 0.0   \n",
      "127            NaN               True      True                 NaN   \n",
      "277            NaN               True     False                 NaN   \n",
      "\n",
      "     CA_par_article   part_CA    prix_HT  Taux_de_marge  \n",
      "129        0.120710  0.003451  76.666667      -0.291304  \n",
      "128        0.240770  0.001972  76.666667      -0.291304  \n",
      "279        0.558957  0.001163  25.833333      -0.207742  \n",
      "278        0.888045  0.000665  25.833333      -0.207742  \n",
      "474        1.002187  0.000000  10.541667      -6.349881  \n",
      "127             NaN       NaN  76.666667      -0.291304  \n",
      "277             NaN       NaN  25.833333      -0.207742  \n"
     ]
    }
   ],
   "source": [
    "#affichage de la ligne avec un taux de marge inférieur à 0\n",
    "df_negative_marge = df_final[df_final['Taux_de_marge'] < 0]\n",
    "print(df_negative_marge)"
   ]
  },
  {
   "cell_type": "code",
   "execution_count": 8738,
   "id": "05fdbb16-4e56-494f-bdd6-ae5e5faa2c40",
   "metadata": {},
   "outputs": [
    {
     "name": "stdout",
     "output_type": "stream",
     "text": [
      "Le taux de marge maximum est : 1.651\n"
     ]
    }
   ],
   "source": [
    "# Calculer le taux de marge maximum\n",
    "max_marge = df_final['Taux_de_marge'].max()\n",
    "\n",
    "print(\"Le taux de marge maximum est :\", max_marge)"
   ]
  },
  {
   "cell_type": "code",
   "execution_count": 8739,
   "id": "d756037c",
   "metadata": {},
   "outputs": [
    {
     "name": "stdout",
     "output_type": "stream",
     "text": [
      "Le taux de marge minimum est : 0.22778625954198473\n",
      "Le taux de marge maximum est : 1.651\n"
     ]
    }
   ],
   "source": [
    "#création d'un dataframe avec les taux positifs\n",
    "df_positive_marge = df_final[df_final['Taux_de_marge'] > 0]\n",
    "#Afficher le prix minimum de la colonne \"taux_marge\"\n",
    "min_taux_marge =df_positive_marge['Taux_de_marge'].min()\n",
    "print(\"Le taux de marge minimum est :\", min_taux_marge)\n",
    "\n",
    "#Afficher le prix maximum de la colonne \"taux_marge\"\n",
    "max_taux_marge = df_positive_marge['Taux_de_marge'].max()\n",
    "print(\"Le taux de marge maximum est :\", max_taux_marge)"
   ]
  },
  {
   "cell_type": "code",
   "execution_count": 8740,
   "id": "b24042f8",
   "metadata": {},
   "outputs": [
    {
     "data": {
      "image/png": "[encoded data removed]",
      "text/plain": [
       "<Figure size 1000x600 with 1 Axes>"
      ]
     },
     "metadata": {},
     "output_type": "display_data"
    }
   ],
   "source": [
    "#création d'un dataframe avec le taux de marge moyen par type de produit\n",
    "df_marge_moyenne = df_final.groupby('product_type')['Taux_de_marge'].mean().reset_index()\n",
    "#Affichage dans un graphique du taux de marge par type de produit\n",
    "import matplotlib.pyplot as plt\n",
    "\n",
    "# Création du graphique\n",
    "plt.figure(figsize=(10,6))\n",
    "plt.bar(df_marge_moyenne['product_type'], df_marge_moyenne['Taux_de_marge'])\n",
    "\n",
    "# Ajout des titres et des labels\n",
    "plt.title('Taux de marge moyen par type de produit')\n",
    "plt.xlabel('Type de produit')\n",
    "plt.ylabel('Taux de marge moyen')\n",
    "\n",
    "# Affichage du graphique\n",
    "plt.show()"
   ]
  },
  {
   "cell_type": "markdown",
   "id": "ce216060",
   "metadata": {},
   "source": [
    "<div style=\"border: 1px solid RGB(51,165,182);\" >\n",
    "<h3 style=\"margin: auto; padding: 20px; color: RGB(51,165,182); \">Etape 5.5 - Analyse des correlations entre les variables stock, sales et price</h3>\n",
    "</div>"
   ]
  },
  {
   "cell_type": "code",
   "execution_count": 8741,
   "id": "12e4a540",
   "metadata": {},
   "outputs": [
    {
     "data": {
      "image/png": "[encoded data removed]",
      "text/plain": [
       "<Figure size 1000x800 with 2 Axes>"
      ]
     },
     "metadata": {},
     "output_type": "display_data"
    }
   ],
   "source": [
    "############################\n",
    "# Analyse des correlations #\n",
    "############################\n",
    "\n",
    "#Importation de Seaborn\n",
    "import seaborn as sns\n",
    "# Sélection des colonnes pertinentes\n",
    "df_subset = df_final[['total_sales', 'stock_quantity', 'price',]]\n",
    "\n",
    "# Calcul de la matrice de corrélation\n",
    "corr_matrix = df_subset.corr()\n",
    "\n",
    "# Création de la heatmap\n",
    "plt.figure(figsize=(10,8))\n",
    "sns.heatmap(corr_matrix, annot=True, cmap='coolwarm')\n",
    "\n",
    "# Ajout des titres et des labels\n",
    "plt.title('Heatmap de corrélation entre stock_quantity, total_sales, price')\n",
    "plt.show()"
   ]
  },
  {
   "cell_type": "code",
   "execution_count": 8736,
   "id": "57aef996-47c6-4fd1-a32a-1e36594fd9c9",
   "metadata": {},
   "outputs": [
    {
     "name": "stdout",
     "output_type": "stream",
     "text": [
      "Le taux de marge minimum est : -6.3498814229249\n",
      "Le taux de marge maximum est : 1.651\n"
     ]
    }
   ],
   "source": [
    "############################\n",
    "# Analyse du taux de marge #\n",
    "############################\n",
    "\n",
    "#Création de la colonne prix HT\n",
    "# Créer une colonne pour le prix HT\n",
    "df_final['prix_HT'] = df_final['price'] / 1.20\n",
    "#Création de la colonne Taux de marge\n",
    "# Créer une colonne pour le taux de marge\n",
    "df_final['Taux_de_marge'] = (df_final['prix_HT'] - df_final['purchase_price']) / df_final['prix_HT']\n",
    "#Afficher le prix minimum de la colonne \"taux_marge\"\n",
    "min_taux_marge = df_final['Taux_de_marge'].min()\n",
    "print(\"Le taux de marge minimum est :\", min_taux_marge)\n",
    "\n",
    "#Afficher le prix maximum de la colonne \"taux_marge\"\n",
    "max_taux_marge = df_final['Taux_de_marge'].max()\n",
    "print(\"Le taux de marge maximum est :\", max_taux_marge)"
   ]
  },
  {
   "cell_type": "code",
   "execution_count": 8742,
   "id": "fdef73f5-2483-4883-8f5a-5bbcf5aedddc",
   "metadata": {},
   "outputs": [
    {
     "data": {
      "image/png": "[encoded data removed]",
      "text/plain": [
       "<Figure size 1000x800 with 2 Axes>"
      ]
     },
     "metadata": {},
     "output_type": "display_data"
    }
   ],
   "source": [
    "#on peut également créer un mask pour n'afficher qu'une demi heatmap\n",
    "# Création d'un masque pour la partie supérieure du triangle\n",
    "mask = np.triu(np.ones_like(corr_matrix, dtype=bool))\n",
    "\n",
    "# Création de la heatmap avec le masque\n",
    "plt.figure(figsize=(10,8))\n",
    "sns.heatmap(corr_matrix, mask=mask, annot=True, cmap='coolwarm')\n",
    "\n",
    "# Ajout des titres et des labels\n",
    "plt.title('Heatmap de corrélation entre stock_quantity, total_sales, price')\n",
    "plt.show()"
   ]
  },
  {
   "cell_type": "code",
   "execution_count": 8743,
   "id": "f277aeff-e18a-4dfb-bb25-ed6eb18b7036",
   "metadata": {},
   "outputs": [
    {
     "data": {
      "image/png": "[encoded data removed]",
      "text/plain": [
       "<Figure size 750x750 with 12 Axes>"
      ]
     },
     "metadata": {},
     "output_type": "display_data"
    }
   ],
   "source": [
    "# Importation de seaborn\n",
    "import seaborn as sns\n",
    "\n",
    "# Création d'un pairplot avec une ligne de régression\n",
    "sns.pairplot(df_subset, kind=\"reg\")\n",
    "\n",
    "# Affichage du graphique\n",
    "plt.show()"
   ]
  },
  {
   "cell_type": "markdown",
   "id": "f1d22f1d",
   "metadata": {},
   "source": [
    "<div style=\"border: 1px solid RGB(51,165,182);\" >\n",
    "<h3 style=\"margin: auto; padding: 20px; color: RGB(51,165,182); \">Etape 5.6 - Mettre à disposition la nouvelle table sur un fichier Excel</h3>\n",
    "</div>"
   ]
  },
  {
   "cell_type": "code",
   "execution_count": 8744,
   "id": "c49d1459",
   "metadata": {},
   "outputs": [],
   "source": [
    "#Que peut-on conclure des correlations ?"
   ]
  },
  {
   "cell_type": "code",
   "execution_count": null,
   "id": "57e1936e-2827-4644-865b-32bf2544858c",
   "metadata": {},
   "outputs": [],
   "source": []
  },
  {
   "cell_type": "code",
   "execution_count": null,
   "id": "7d8c9283-aa51-42c2-b9ed-2aec68e8f107",
   "metadata": {},
   "outputs": [],
   "source": []
  }
 ],
 "metadata": {
  "kernelspec": {
   "display_name": "Python 3 (ipykernel)",
   "language": "python",
   "name": "python3"
  },
  "language_info": {
   "codemirror_mode": {
    "name": "ipython",
    "version": 3
   },
   "file_extension": ".py",
   "mimetype": "text/x-python",
   "name": "python",
   "nbconvert_exporter": "python",
   "pygments_lexer": "ipython3",
   "version": "3.11.7"
  }
 },
 "nbformat": 4,
 "nbformat_minor": 5
}
